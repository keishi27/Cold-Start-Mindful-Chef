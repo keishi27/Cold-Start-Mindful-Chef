{
 "metadata": {
  "language_info": {
   "codemirror_mode": {
    "name": "ipython",
    "version": 3
   },
   "file_extension": ".py",
   "mimetype": "text/x-python",
   "name": "python",
   "nbconvert_exporter": "python",
   "pygments_lexer": "ipython3",
   "version": "3.8.5-final"
  },
  "orig_nbformat": 2,
  "kernelspec": {
   "name": "python_defaultSpec_1598952247136",
   "display_name": "Python 3.8.5 64-bit ('env': venv)"
  }
 },
 "nbformat": 4,
 "nbformat_minor": 2,
 "cells": [
  {
   "cell_type": "markdown",
   "metadata": {},
   "source": [
    "# 3.0 Generate clean recipe table\n",
    "\n",
    "## Update old recipe table with new image urls (faster), and remove/replace broken links"
   ]
  },
  {
   "cell_type": "code",
   "execution_count": 15,
   "metadata": {},
   "outputs": [],
   "source": [
    "import os\n",
    "import pandas as pd\n",
    "import numpy as np"
   ]
  },
  {
   "cell_type": "code",
   "execution_count": 16,
   "metadata": {},
   "outputs": [],
   "source": [
    "# Takes the OLD recipe table with images not updated\n",
    "df_old = pd.read_csv('../data/recipe_table.csv', sep=';')\n",
    "df_new = pd.read_csv('../data/recipe_table_updated_UAT.csv', sep=',')\n",
    "\n",
    "df_new = df_new.reset_index()\n",
    "df_new.columns = df_new.iloc[0].tolist()\n",
    "df_new = df_new.drop(0)\n",
    "df_new['id'] = df_new['id'].astype(int)"
   ]
  },
  {
   "cell_type": "code",
   "execution_count": 17,
   "metadata": {
    "tags": []
   },
   "outputs": [],
   "source": [
    "old_images = df_old.set_index('id').to_dict()['image_url']\n",
    "new_images = df_new.set_index('id').to_dict()['image_url']"
   ]
  },
  {
   "cell_type": "code",
   "execution_count": 18,
   "metadata": {},
   "outputs": [],
   "source": [
    "# Dictionary to match new image links with old recipe ids\n",
    "new_dict = {k: new_images.get(k, v) for k, v in old_images.items()}"
   ]
  },
  {
   "cell_type": "code",
   "execution_count": 19,
   "metadata": {},
   "outputs": [],
   "source": [
    "# Make new dataframe wtih updated images\n",
    "updated_images = pd.DataFrame.from_dict(new_dict, orient='index', columns=['image_url'])"
   ]
  },
  {
   "cell_type": "code",
   "execution_count": 20,
   "metadata": {},
   "outputs": [],
   "source": [
    "# Add image resizer to further optimize speed\n",
    "updated_images = updated_images.reset_index()\n",
    "updated_images.columns = ['id', 'image_url']\n",
    "updated_images['image_url'] = updated_images['image_url'] + '?auto=format&fit=crop&w=320&h=218'"
   ]
  },
  {
   "cell_type": "code",
   "execution_count": 21,
   "metadata": {},
   "outputs": [],
   "source": [
    "# Update old recipe table with new images\n",
    "df_updated = df_old.copy()\n",
    "df_updated['image_url'] = updated_images['image_url']\n",
    "\n",
    "# links broken on new table still. 217 was good\n",
    "broken_links = [741, 808, 824, 880, 889, 938, 945]\n",
    "for i in broken_links:\n",
    "    df_updated.drop(df_updated.loc[df_updated['id']==i].index, inplace=True)\n",
    "\n",
    "df_updated.dropna(subset=['food_group'], inplace=True)"
   ]
  },
  {
   "cell_type": "code",
   "execution_count": 22,
   "metadata": {},
   "outputs": [],
   "source": [
    "# Bad numbers in new recipe table but working in old. Change these links back to old links\n",
    "id_list = [320, 335, 349, 495, 647, 764]\n",
    "\n",
    "for elem in id_list:\n",
    "    df_updated.at[df_updated[df_updated['id']==elem].index[0], 'image_url'] = df_old.at[df_old[df_old['id']==elem].index[0],'image_url']"
   ]
  },
  {
   "cell_type": "code",
   "execution_count": 23,
   "metadata": {
    "tags": []
   },
   "outputs": [
    {
     "output_type": "stream",
     "name": "stdout",
     "text": "https://d3ce0k5v3uorqv.cloudfront.net/uploads/recipe_image/643/image/d8e83d976ac20ff159db6191e92278b5.jpg\nhttps://d3ce0k5v3uorqv.cloudfront.net/uploads/recipe_image/643/image/d8e83d976ac20ff159db6191e92278b5.jpg\n"
    }
   ],
   "source": [
    "# Checking that links have been replaced\n",
    "print(df_old.at[df_old[df_old['id']==495].index[0],'image_url'])\n",
    "print(df_updated.at[df_updated[df_updated['id']==495].index[0], 'image_url'])"
   ]
  },
  {
   "cell_type": "code",
   "execution_count": 24,
   "metadata": {},
   "outputs": [
    {
     "output_type": "execute_result",
     "data": {
      "text/plain": "                      allergens  calories  carbs cuisine  fat food_group  \\\n444  {Fish,Peanuts,Sesame,Soya}       618     48   asian   32       Fish   \n\n     protein  season specials   id  cooking_time  \\\n444       42  spring      NaN  537            15   \n\n                                             image_url  \\\n444  https://mindfulchef-uat.imgix.net/recipes/537/...   \n\n                                          instructions  \\\n444  1. Boil a kettle. Heat a frying pan with half ...   \n\n                     key_ingredient  \\\n444  Freshly caught Scottish salmon   \n\n                                              title  \\\n444  Ginger salmon with buckwheat noodles & peanuts   \n\n                                           description  price_1p_pence  \\\n444  This quick sesame and ginger stir-fry features...            1175   \n\n     price_2p_pence  price_4p_pence  \n444            1700            3000  ",
      "text/html": "<div>\n<style scoped>\n    .dataframe tbody tr th:only-of-type {\n        vertical-align: middle;\n    }\n\n    .dataframe tbody tr th {\n        vertical-align: top;\n    }\n\n    .dataframe thead th {\n        text-align: right;\n    }\n</style>\n<table border=\"1\" class=\"dataframe\">\n  <thead>\n    <tr style=\"text-align: right;\">\n      <th></th>\n      <th>allergens</th>\n      <th>calories</th>\n      <th>carbs</th>\n      <th>cuisine</th>\n      <th>fat</th>\n      <th>food_group</th>\n      <th>protein</th>\n      <th>season</th>\n      <th>specials</th>\n      <th>id</th>\n      <th>cooking_time</th>\n      <th>image_url</th>\n      <th>instructions</th>\n      <th>key_ingredient</th>\n      <th>title</th>\n      <th>description</th>\n      <th>price_1p_pence</th>\n      <th>price_2p_pence</th>\n      <th>price_4p_pence</th>\n    </tr>\n  </thead>\n  <tbody>\n    <tr>\n      <th>444</th>\n      <td>{Fish,Peanuts,Sesame,Soya}</td>\n      <td>618</td>\n      <td>48</td>\n      <td>asian</td>\n      <td>32</td>\n      <td>Fish</td>\n      <td>42</td>\n      <td>spring</td>\n      <td>NaN</td>\n      <td>537</td>\n      <td>15</td>\n      <td>https://mindfulchef-uat.imgix.net/recipes/537/...</td>\n      <td>1. Boil a kettle. Heat a frying pan with half ...</td>\n      <td>Freshly caught Scottish salmon</td>\n      <td>Ginger salmon with buckwheat noodles &amp; peanuts</td>\n      <td>This quick sesame and ginger stir-fry features...</td>\n      <td>1175</td>\n      <td>1700</td>\n      <td>3000</td>\n    </tr>\n  </tbody>\n</table>\n</div>"
     },
     "metadata": {},
     "execution_count": 24
    }
   ],
   "source": [
    "# Reassigning ginger salmon to fish instead of chicken\n",
    "df_updated.at[df_updated[df_updated['title']=='Ginger salmon with buckwheat noodles & peanuts'].index[0], 'food_group'] = 'Fish'\n",
    "df_updated[df_updated['title']=='Ginger salmon with buckwheat noodles & peanuts']"
   ]
  },
  {
   "cell_type": "code",
   "execution_count": 25,
   "metadata": {},
   "outputs": [],
   "source": [
    "# Changing 4 shellfish entries to correct food groups\n",
    "df_updated.at[df_updated[df_updated['id']==31].index[0], 'food_group'] = 'Beef'\n",
    "df_updated.at[df_updated[df_updated['id']==102].index[0], 'food_group'] = 'Chicken'\n",
    "df_updated.at[df_updated[df_updated['id']==366].index[0], 'food_group'] = 'Chicken'\n",
    "df_updated.at[df_updated[df_updated['id']==407].index[0], 'food_group'] = 'Fish'"
   ]
  },
  {
   "cell_type": "code",
   "execution_count": 26,
   "metadata": {},
   "outputs": [
    {
     "output_type": "execute_result",
     "data": {
      "text/plain": "                           allergens  calories  carbs cuisine  fat food_group  \\\n327  {Crustaceans,Mustard,Sulphites}       636     56   asian   30       Fish   \n\n     protein  season            specials   id  cooking_time  \\\n327       36  winter  {'post workout'\"}\"  407            30   \n\n                                             image_url  \\\n327  https://mindfulchef-uat.imgix.net/recipes/407/...   \n\n                                          instructions       key_ingredient  \\\n327  1. Boil a kettle. Rinse the black rice and add...  Lincolnshire prawns   \n\n                                           title  \\\n327  Sri Lankan coconut prawn curry & black rice   \n\n                                           description  price_1p_pence  \\\n327  Our Lincolnshire prawns are grown sustainably ...            1200   \n\n     price_2p_pence  price_4p_pence  \n327            2000            3800  ",
      "text/html": "<div>\n<style scoped>\n    .dataframe tbody tr th:only-of-type {\n        vertical-align: middle;\n    }\n\n    .dataframe tbody tr th {\n        vertical-align: top;\n    }\n\n    .dataframe thead th {\n        text-align: right;\n    }\n</style>\n<table border=\"1\" class=\"dataframe\">\n  <thead>\n    <tr style=\"text-align: right;\">\n      <th></th>\n      <th>allergens</th>\n      <th>calories</th>\n      <th>carbs</th>\n      <th>cuisine</th>\n      <th>fat</th>\n      <th>food_group</th>\n      <th>protein</th>\n      <th>season</th>\n      <th>specials</th>\n      <th>id</th>\n      <th>cooking_time</th>\n      <th>image_url</th>\n      <th>instructions</th>\n      <th>key_ingredient</th>\n      <th>title</th>\n      <th>description</th>\n      <th>price_1p_pence</th>\n      <th>price_2p_pence</th>\n      <th>price_4p_pence</th>\n    </tr>\n  </thead>\n  <tbody>\n    <tr>\n      <th>327</th>\n      <td>{Crustaceans,Mustard,Sulphites}</td>\n      <td>636</td>\n      <td>56</td>\n      <td>asian</td>\n      <td>30</td>\n      <td>Fish</td>\n      <td>36</td>\n      <td>winter</td>\n      <td>{'post workout'\"}\"</td>\n      <td>407</td>\n      <td>30</td>\n      <td>https://mindfulchef-uat.imgix.net/recipes/407/...</td>\n      <td>1. Boil a kettle. Rinse the black rice and add...</td>\n      <td>Lincolnshire prawns</td>\n      <td>Sri Lankan coconut prawn curry &amp; black rice</td>\n      <td>Our Lincolnshire prawns are grown sustainably ...</td>\n      <td>1200</td>\n      <td>2000</td>\n      <td>3800</td>\n    </tr>\n  </tbody>\n</table>\n</div>"
     },
     "metadata": {},
     "execution_count": 26
    }
   ],
   "source": [
    "# Check change\n",
    "df_updated[df_updated['id']==407]"
   ]
  },
  {
   "cell_type": "code",
   "execution_count": 30,
   "metadata": {},
   "outputs": [],
   "source": [
    "df_updated.to_csv('../data/recipe_table_new.csv', sep=';', index=False)"
   ]
  },
  {
   "cell_type": "code",
   "execution_count": 31,
   "metadata": {},
   "outputs": [
    {
     "output_type": "execute_result",
     "data": {
      "text/plain": "'https://d3ce0k5v3uorqv.cloudfront.net/uploads/recipe_image/643/image/d8e83d976ac20ff159db6191e92278b5.jpg'"
     },
     "metadata": {},
     "execution_count": 31
    }
   ],
   "source": [
    "df_updated[df_updated['title'].str.contains('Matcha salmon')]['image_url'].values[0]"
   ]
  }
 ]
}