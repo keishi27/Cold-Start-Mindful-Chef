{
 "metadata": {
  "language_info": {
   "codemirror_mode": {
    "name": "ipython",
    "version": 3
   },
   "file_extension": ".py",
   "mimetype": "text/x-python",
   "name": "python",
   "nbconvert_exporter": "python",
   "pygments_lexer": "ipython3",
   "version": "3.8.5-final"
  },
  "orig_nbformat": 2,
  "kernelspec": {
   "name": "python_defaultSpec_1598623318076",
   "display_name": "Python 3.8.5 64-bit ('env': venv)"
  }
 },
 "nbformat": 4,
 "nbformat_minor": 2,
 "cells": [
  {
   "source": [
    "# 3.1 Fix recipe image errors before/during A/B test deployment"
   ],
   "cell_type": "markdown",
   "metadata": {}
  },
  {
   "cell_type": "code",
   "execution_count": 1,
   "metadata": {},
   "outputs": [],
   "source": [
    "import pandas as pd\n",
    "import numpy as np"
   ]
  },
  {
   "cell_type": "code",
   "execution_count": 2,
   "metadata": {},
   "outputs": [],
   "source": [
    "df_old = pd.read_csv('../data/recipe_table_old.csv', sep=';')\n",
    "\n",
    "df_images = pd.read_csv('../data/recipe_table_updated_UAT.csv', sep=',')\n",
    "df_images = df_images.reset_index()\n",
    "df_images.columns = df_images.iloc[0].tolist()\n",
    "df_images = df_images.drop(0)\n",
    "df_images['id'] = df_images['id'].astype(int)\n",
    "\n",
    "df_new = pd.read_csv('../data/recipe_table.csv', sep=';')"
   ]
  },
  {
   "cell_type": "code",
   "execution_count": 3,
   "metadata": {},
   "outputs": [
    {
     "output_type": "execute_result",
     "data": {
      "text/plain": "    allergens  calories  carbs  cuisine  fat food_group  protein  season  \\\n158    {Nuts}       703     43  italian   39    Chicken       46  summer   \n\n           specials   id  cooking_time  \\\n158  {'low carb'\"}\"  217            30   \n\n                                             image_url  \\\n158  https://d3ce0k5v3uorqv.cloudfront.net/uploads/...   \n\n                                          instructions  \\\n158  1. Finely chop or crush the garlic. Finely cho...   \n\n                       key_ingredient  \\\n158  Free-range Norfolk chicken thigh   \n\n                                             title  \\\n158  Chicken arrabbiata with courgette tagliatelle   \n\n                                           description  price_1p_pence  \\\n158  A delicious Italian classic, we prepare ours w...             900   \n\n     price_2p_pence  price_4p_pence  \n158            1300            2400  ",
      "text/html": "<div>\n<style scoped>\n    .dataframe tbody tr th:only-of-type {\n        vertical-align: middle;\n    }\n\n    .dataframe tbody tr th {\n        vertical-align: top;\n    }\n\n    .dataframe thead th {\n        text-align: right;\n    }\n</style>\n<table border=\"1\" class=\"dataframe\">\n  <thead>\n    <tr style=\"text-align: right;\">\n      <th></th>\n      <th>allergens</th>\n      <th>calories</th>\n      <th>carbs</th>\n      <th>cuisine</th>\n      <th>fat</th>\n      <th>food_group</th>\n      <th>protein</th>\n      <th>season</th>\n      <th>specials</th>\n      <th>id</th>\n      <th>cooking_time</th>\n      <th>image_url</th>\n      <th>instructions</th>\n      <th>key_ingredient</th>\n      <th>title</th>\n      <th>description</th>\n      <th>price_1p_pence</th>\n      <th>price_2p_pence</th>\n      <th>price_4p_pence</th>\n    </tr>\n  </thead>\n  <tbody>\n    <tr>\n      <th>158</th>\n      <td>{Nuts}</td>\n      <td>703</td>\n      <td>43</td>\n      <td>italian</td>\n      <td>39</td>\n      <td>Chicken</td>\n      <td>46</td>\n      <td>summer</td>\n      <td>{'low carb'\"}\"</td>\n      <td>217</td>\n      <td>30</td>\n      <td>https://d3ce0k5v3uorqv.cloudfront.net/uploads/...</td>\n      <td>1. Finely chop or crush the garlic. Finely cho...</td>\n      <td>Free-range Norfolk chicken thigh</td>\n      <td>Chicken arrabbiata with courgette tagliatelle</td>\n      <td>A delicious Italian classic, we prepare ours w...</td>\n      <td>900</td>\n      <td>1300</td>\n      <td>2400</td>\n    </tr>\n  </tbody>\n</table>\n</div>"
     },
     "metadata": {},
     "execution_count": 3
    }
   ],
   "source": [
    "df_old[df_old['id']==217]"
   ]
  },
  {
   "cell_type": "code",
   "execution_count": 4,
   "metadata": {},
   "outputs": [
    {
     "output_type": "execute_result",
     "data": {
      "text/plain": "    allergens calories  carbs   cuisine    fat food_group protein  season  \\\n199        {}   602.69  56.89  European  18.24    Chicken   49.37  Summer   \n\n    special   id cooking_time  \\\n199     NaN  217           35   \n\n                                             image_url  \\\n199  https://mindfulchef-uat.imgix.net/recipes/217/...   \n\n                                          instructions  \\\n199  Preheat the oven to 220C / fan 200C / gas mark...   \n\n                       key_ingredient  \\\n199  FREE bottle of Nando's PERi-PERi   \n\n                                            title  \\\n199  Nando's butterfly chicken, chips & fino slaw   \n\n                                           description price_1p_pence  \\\n199  Succulent butterflied chicken breast is marina...            900   \n\n    price_2p_pence price_4p_pence  \n199           1350           2400  ",
      "text/html": "<div>\n<style scoped>\n    .dataframe tbody tr th:only-of-type {\n        vertical-align: middle;\n    }\n\n    .dataframe tbody tr th {\n        vertical-align: top;\n    }\n\n    .dataframe thead th {\n        text-align: right;\n    }\n</style>\n<table border=\"1\" class=\"dataframe\">\n  <thead>\n    <tr style=\"text-align: right;\">\n      <th></th>\n      <th>allergens</th>\n      <th>calories</th>\n      <th>carbs</th>\n      <th>cuisine</th>\n      <th>fat</th>\n      <th>food_group</th>\n      <th>protein</th>\n      <th>season</th>\n      <th>special</th>\n      <th>id</th>\n      <th>cooking_time</th>\n      <th>image_url</th>\n      <th>instructions</th>\n      <th>key_ingredient</th>\n      <th>title</th>\n      <th>description</th>\n      <th>price_1p_pence</th>\n      <th>price_2p_pence</th>\n      <th>price_4p_pence</th>\n    </tr>\n  </thead>\n  <tbody>\n    <tr>\n      <th>199</th>\n      <td>{}</td>\n      <td>602.69</td>\n      <td>56.89</td>\n      <td>European</td>\n      <td>18.24</td>\n      <td>Chicken</td>\n      <td>49.37</td>\n      <td>Summer</td>\n      <td>NaN</td>\n      <td>217</td>\n      <td>35</td>\n      <td>https://mindfulchef-uat.imgix.net/recipes/217/...</td>\n      <td>Preheat the oven to 220C / fan 200C / gas mark...</td>\n      <td>FREE bottle of Nando's PERi-PERi</td>\n      <td>Nando's butterfly chicken, chips &amp; fino slaw</td>\n      <td>Succulent butterflied chicken breast is marina...</td>\n      <td>900</td>\n      <td>1350</td>\n      <td>2400</td>\n    </tr>\n  </tbody>\n</table>\n</div>"
     },
     "metadata": {},
     "execution_count": 4
    }
   ],
   "source": [
    "df_images[df_images['id']==217]"
   ]
  },
  {
   "cell_type": "code",
   "execution_count": 5,
   "metadata": {},
   "outputs": [
    {
     "output_type": "execute_result",
     "data": {
      "text/plain": "     Unnamed: 0 allergens  calories  carbs  cuisine  fat food_group  protein  \\\n154         158    {Nuts}       703     43  italian   39    Chicken       46   \n\n     season        specials   id  cooking_time  \\\n154  summer  {'low carb'\"}\"  217            30   \n\n                                             image_url  \\\n154  https://mindfulchef-uat.imgix.net/recipes/217/...   \n\n                                          instructions  \\\n154  1. Finely chop or crush the garlic. Finely cho...   \n\n                       key_ingredient  \\\n154  Free-range Norfolk chicken thigh   \n\n                                             title  \\\n154  Chicken arrabbiata with courgette tagliatelle   \n\n                                           description  price_1p_pence  \\\n154  A delicious Italian classic, we prepare ours w...             900   \n\n     price_2p_pence  price_4p_pence  \n154            1300            2400  ",
      "text/html": "<div>\n<style scoped>\n    .dataframe tbody tr th:only-of-type {\n        vertical-align: middle;\n    }\n\n    .dataframe tbody tr th {\n        vertical-align: top;\n    }\n\n    .dataframe thead th {\n        text-align: right;\n    }\n</style>\n<table border=\"1\" class=\"dataframe\">\n  <thead>\n    <tr style=\"text-align: right;\">\n      <th></th>\n      <th>Unnamed: 0</th>\n      <th>allergens</th>\n      <th>calories</th>\n      <th>carbs</th>\n      <th>cuisine</th>\n      <th>fat</th>\n      <th>food_group</th>\n      <th>protein</th>\n      <th>season</th>\n      <th>specials</th>\n      <th>id</th>\n      <th>cooking_time</th>\n      <th>image_url</th>\n      <th>instructions</th>\n      <th>key_ingredient</th>\n      <th>title</th>\n      <th>description</th>\n      <th>price_1p_pence</th>\n      <th>price_2p_pence</th>\n      <th>price_4p_pence</th>\n    </tr>\n  </thead>\n  <tbody>\n    <tr>\n      <th>154</th>\n      <td>158</td>\n      <td>{Nuts}</td>\n      <td>703</td>\n      <td>43</td>\n      <td>italian</td>\n      <td>39</td>\n      <td>Chicken</td>\n      <td>46</td>\n      <td>summer</td>\n      <td>{'low carb'\"}\"</td>\n      <td>217</td>\n      <td>30</td>\n      <td>https://mindfulchef-uat.imgix.net/recipes/217/...</td>\n      <td>1. Finely chop or crush the garlic. Finely cho...</td>\n      <td>Free-range Norfolk chicken thigh</td>\n      <td>Chicken arrabbiata with courgette tagliatelle</td>\n      <td>A delicious Italian classic, we prepare ours w...</td>\n      <td>900</td>\n      <td>1300</td>\n      <td>2400</td>\n    </tr>\n  </tbody>\n</table>\n</div>"
     },
     "metadata": {},
     "execution_count": 5
    }
   ],
   "source": [
    "df_new[df_new['id']==217]"
   ]
  },
  {
   "cell_type": "code",
   "execution_count": 6,
   "metadata": {},
   "outputs": [
    {
     "output_type": "execute_result",
     "data": {
      "text/plain": "         allergens  calories  carbs   cuisine  fat food_group  protein  \\\n633  {Sesame,Soya}      1001    116  japanese   34    Chicken       67   \n\n     season specials   id  cooking_time  \\\n633  spring      NaN  900            30   \n\n                                             image_url  \\\n633  https://d3ce0k5v3uorqv.cloudfront.net/uploads/...   \n\n                                          instructions  \\\n633  1. Preheat the oven to 200C / gas mark 6 and b...   \n\n                        key_ingredient  \\\n633  Free-range Norfolk chicken breast   \n\n                                                title  \\\n633  Sesame chicken with Japanese-style edamame salad   \n\n                                           description  price_1p_pence  \\\n633  Our free range chicken breast is oven baked in...             900   \n\n     price_2p_pence  price_4p_pence  \n633            1400            2400  ",
      "text/html": "<div>\n<style scoped>\n    .dataframe tbody tr th:only-of-type {\n        vertical-align: middle;\n    }\n\n    .dataframe tbody tr th {\n        vertical-align: top;\n    }\n\n    .dataframe thead th {\n        text-align: right;\n    }\n</style>\n<table border=\"1\" class=\"dataframe\">\n  <thead>\n    <tr style=\"text-align: right;\">\n      <th></th>\n      <th>allergens</th>\n      <th>calories</th>\n      <th>carbs</th>\n      <th>cuisine</th>\n      <th>fat</th>\n      <th>food_group</th>\n      <th>protein</th>\n      <th>season</th>\n      <th>specials</th>\n      <th>id</th>\n      <th>cooking_time</th>\n      <th>image_url</th>\n      <th>instructions</th>\n      <th>key_ingredient</th>\n      <th>title</th>\n      <th>description</th>\n      <th>price_1p_pence</th>\n      <th>price_2p_pence</th>\n      <th>price_4p_pence</th>\n    </tr>\n  </thead>\n  <tbody>\n    <tr>\n      <th>633</th>\n      <td>{Sesame,Soya}</td>\n      <td>1001</td>\n      <td>116</td>\n      <td>japanese</td>\n      <td>34</td>\n      <td>Chicken</td>\n      <td>67</td>\n      <td>spring</td>\n      <td>NaN</td>\n      <td>900</td>\n      <td>30</td>\n      <td>https://d3ce0k5v3uorqv.cloudfront.net/uploads/...</td>\n      <td>1. Preheat the oven to 200C / gas mark 6 and b...</td>\n      <td>Free-range Norfolk chicken breast</td>\n      <td>Sesame chicken with Japanese-style edamame salad</td>\n      <td>Our free range chicken breast is oven baked in...</td>\n      <td>900</td>\n      <td>1400</td>\n      <td>2400</td>\n    </tr>\n  </tbody>\n</table>\n</div>"
     },
     "metadata": {},
     "execution_count": 6
    }
   ],
   "source": [
    "df_old[df_old['id']==900]"
   ]
  },
  {
   "cell_type": "code",
   "execution_count": 7,
   "metadata": {},
   "outputs": [
    {
     "output_type": "execute_result",
     "data": {
      "text/plain": "    allergens calories  carbs   cuisine    fat food_group protein  season  \\\n635        {}   771.66  49.55  European  33.42    Chicken   62.42  Summer   \n\n    special   id cooking_time  \\\n635     NaN  900           55   \n\n                                             image_url  \\\n635  https://mindfulchef-uat.imgix.net/recipes/900/...   \n\n                                          instructions  \\\n635  Preheat the oven to 220C / fan 200C / gas mark...   \n\n                       key_ingredient  \\\n635  FREE bottle of Nando's PERi-PERi   \n\n                                                 title  \\\n635  Nando's ¼ chicken legs, macho peas and sweet mash   \n\n                                           description price_1p_pence  \\\n635  Juicy chicken legs are marinated in Nando’s Me...           1000   \n\n    price_2p_pence price_4p_pence  \n635           1500            NaN  ",
      "text/html": "<div>\n<style scoped>\n    .dataframe tbody tr th:only-of-type {\n        vertical-align: middle;\n    }\n\n    .dataframe tbody tr th {\n        vertical-align: top;\n    }\n\n    .dataframe thead th {\n        text-align: right;\n    }\n</style>\n<table border=\"1\" class=\"dataframe\">\n  <thead>\n    <tr style=\"text-align: right;\">\n      <th></th>\n      <th>allergens</th>\n      <th>calories</th>\n      <th>carbs</th>\n      <th>cuisine</th>\n      <th>fat</th>\n      <th>food_group</th>\n      <th>protein</th>\n      <th>season</th>\n      <th>special</th>\n      <th>id</th>\n      <th>cooking_time</th>\n      <th>image_url</th>\n      <th>instructions</th>\n      <th>key_ingredient</th>\n      <th>title</th>\n      <th>description</th>\n      <th>price_1p_pence</th>\n      <th>price_2p_pence</th>\n      <th>price_4p_pence</th>\n    </tr>\n  </thead>\n  <tbody>\n    <tr>\n      <th>635</th>\n      <td>{}</td>\n      <td>771.66</td>\n      <td>49.55</td>\n      <td>European</td>\n      <td>33.42</td>\n      <td>Chicken</td>\n      <td>62.42</td>\n      <td>Summer</td>\n      <td>NaN</td>\n      <td>900</td>\n      <td>55</td>\n      <td>https://mindfulchef-uat.imgix.net/recipes/900/...</td>\n      <td>Preheat the oven to 220C / fan 200C / gas mark...</td>\n      <td>FREE bottle of Nando's PERi-PERi</td>\n      <td>Nando's ¼ chicken legs, macho peas and sweet mash</td>\n      <td>Juicy chicken legs are marinated in Nando’s Me...</td>\n      <td>1000</td>\n      <td>1500</td>\n      <td>NaN</td>\n    </tr>\n  </tbody>\n</table>\n</div>"
     },
     "metadata": {},
     "execution_count": 7
    }
   ],
   "source": [
    "df_images[df_images['id']==900]"
   ]
  },
  {
   "cell_type": "code",
   "execution_count": 8,
   "metadata": {
    "tags": []
   },
   "outputs": [
    {
     "output_type": "execute_result",
     "data": {
      "text/plain": "     Unnamed: 0      allergens  calories  carbs   cuisine  fat food_group  \\\n624         633  {Sesame,Soya}      1001    116  japanese   34    Chicken   \n\n     protein  season specials   id  cooking_time  \\\n624       67  spring      NaN  900            30   \n\n                                             image_url  \\\n624  https://mindfulchef-uat.imgix.net/recipes/900/...   \n\n                                          instructions  \\\n624  1. Preheat the oven to 200C / gas mark 6 and b...   \n\n                        key_ingredient  \\\n624  Free-range Norfolk chicken breast   \n\n                                                title  \\\n624  Sesame chicken with Japanese-style edamame salad   \n\n                                           description  price_1p_pence  \\\n624  Our free range chicken breast is oven baked in...             900   \n\n     price_2p_pence  price_4p_pence  \n624            1400            2400  ",
      "text/html": "<div>\n<style scoped>\n    .dataframe tbody tr th:only-of-type {\n        vertical-align: middle;\n    }\n\n    .dataframe tbody tr th {\n        vertical-align: top;\n    }\n\n    .dataframe thead th {\n        text-align: right;\n    }\n</style>\n<table border=\"1\" class=\"dataframe\">\n  <thead>\n    <tr style=\"text-align: right;\">\n      <th></th>\n      <th>Unnamed: 0</th>\n      <th>allergens</th>\n      <th>calories</th>\n      <th>carbs</th>\n      <th>cuisine</th>\n      <th>fat</th>\n      <th>food_group</th>\n      <th>protein</th>\n      <th>season</th>\n      <th>specials</th>\n      <th>id</th>\n      <th>cooking_time</th>\n      <th>image_url</th>\n      <th>instructions</th>\n      <th>key_ingredient</th>\n      <th>title</th>\n      <th>description</th>\n      <th>price_1p_pence</th>\n      <th>price_2p_pence</th>\n      <th>price_4p_pence</th>\n    </tr>\n  </thead>\n  <tbody>\n    <tr>\n      <th>624</th>\n      <td>633</td>\n      <td>{Sesame,Soya}</td>\n      <td>1001</td>\n      <td>116</td>\n      <td>japanese</td>\n      <td>34</td>\n      <td>Chicken</td>\n      <td>67</td>\n      <td>spring</td>\n      <td>NaN</td>\n      <td>900</td>\n      <td>30</td>\n      <td>https://mindfulchef-uat.imgix.net/recipes/900/...</td>\n      <td>1. Preheat the oven to 200C / gas mark 6 and b...</td>\n      <td>Free-range Norfolk chicken breast</td>\n      <td>Sesame chicken with Japanese-style edamame salad</td>\n      <td>Our free range chicken breast is oven baked in...</td>\n      <td>900</td>\n      <td>1400</td>\n      <td>2400</td>\n    </tr>\n  </tbody>\n</table>\n</div>"
     },
     "metadata": {},
     "execution_count": 8
    }
   ],
   "source": [
    "df_new[df_new['id']==900]"
   ]
  },
  {
   "cell_type": "code",
   "execution_count": 9,
   "metadata": {},
   "outputs": [
    {
     "output_type": "execute_result",
     "data": {
      "text/plain": "'https://mindfulchef-uat.imgix.net/recipes/674/090b8d98e62639dd76c499b6765e864a.jpg?auto=format&fit=crop&w=320&h=218'"
     },
     "metadata": {},
     "execution_count": 9
    }
   ],
   "source": [
    "df_new[df_new['id']==674]['image_url'].values[0]"
   ]
  },
  {
   "cell_type": "code",
   "execution_count": 10,
   "metadata": {},
   "outputs": [
    {
     "output_type": "execute_result",
     "data": {
      "text/plain": "'Shredded barbecue chicken lettuce boats with corn '"
     },
     "metadata": {},
     "execution_count": 10
    }
   ],
   "source": [
    "df_new[df_new['id']==674]['title'].values[0]"
   ]
  },
  {
   "cell_type": "code",
   "execution_count": 11,
   "metadata": {},
   "outputs": [
    {
     "output_type": "execute_result",
     "data": {
      "text/plain": "    allergens calories  carbs   cuisine    fat food_group protein  season  \\\n199        {}   602.69  56.89  European  18.24    Chicken   49.37  Summer   \n581        {}   771.66  49.55  European  33.42    Chicken   62.42  Summer   \n635        {}   771.66  49.55  European  33.42    Chicken   62.42  Summer   \n680        {}   602.69  56.89  European  18.24    Chicken   49.37  Summer   \n\n    special    id cooking_time  \\\n199     NaN   217           35   \n581     NaN   674           55   \n635     NaN   900           55   \n680     NaN  1039           35   \n\n                                             image_url  \\\n199  https://mindfulchef-uat.imgix.net/recipes/217/...   \n581  https://mindfulchef-uat.imgix.net/recipes/674/...   \n635  https://mindfulchef-uat.imgix.net/recipes/900/...   \n680  https://mindfulchef-uat.imgix.net/recipes/1039...   \n\n                                          instructions  \\\n199  Preheat the oven to 220C / fan 200C / gas mark...   \n581  Preheat the oven to 220C / fan 200C / gas mark...   \n635  Preheat the oven to 220C / fan 200C / gas mark...   \n680  Preheat the oven to 220C / fan 200C / gas mark...   \n\n                       key_ingredient  \\\n199  FREE bottle of Nando's PERi-PERi   \n581  FREE bottle of Nando's PERi-PERi   \n635  FREE bottle of Nando's PERi-PERi   \n680  FREE bottle of Nando's PERi-PERi   \n\n                                                 title  \\\n199       Nando's butterfly chicken, chips & fino slaw   \n581  Nando's ¼ chicken legs, macho peas and sweet mash   \n635  Nando's ¼ chicken legs, macho peas and sweet mash   \n680       Nando's butterfly chicken, chips & fino slaw   \n\n                                           description price_1p_pence  \\\n199  Succulent butterflied chicken breast is marina...            900   \n581  Juicy chicken legs are marinated in Nando’s Me...           1000   \n635  Juicy chicken legs are marinated in Nando’s Me...           1000   \n680  Succulent butterflied chicken breast is marina...           1000   \n\n    price_2p_pence price_4p_pence  \n199           1350           2400  \n581           1250           2500  \n635           1500            NaN  \n680           1500            NaN  ",
      "text/html": "<div>\n<style scoped>\n    .dataframe tbody tr th:only-of-type {\n        vertical-align: middle;\n    }\n\n    .dataframe tbody tr th {\n        vertical-align: top;\n    }\n\n    .dataframe thead th {\n        text-align: right;\n    }\n</style>\n<table border=\"1\" class=\"dataframe\">\n  <thead>\n    <tr style=\"text-align: right;\">\n      <th></th>\n      <th>allergens</th>\n      <th>calories</th>\n      <th>carbs</th>\n      <th>cuisine</th>\n      <th>fat</th>\n      <th>food_group</th>\n      <th>protein</th>\n      <th>season</th>\n      <th>special</th>\n      <th>id</th>\n      <th>cooking_time</th>\n      <th>image_url</th>\n      <th>instructions</th>\n      <th>key_ingredient</th>\n      <th>title</th>\n      <th>description</th>\n      <th>price_1p_pence</th>\n      <th>price_2p_pence</th>\n      <th>price_4p_pence</th>\n    </tr>\n  </thead>\n  <tbody>\n    <tr>\n      <th>199</th>\n      <td>{}</td>\n      <td>602.69</td>\n      <td>56.89</td>\n      <td>European</td>\n      <td>18.24</td>\n      <td>Chicken</td>\n      <td>49.37</td>\n      <td>Summer</td>\n      <td>NaN</td>\n      <td>217</td>\n      <td>35</td>\n      <td>https://mindfulchef-uat.imgix.net/recipes/217/...</td>\n      <td>Preheat the oven to 220C / fan 200C / gas mark...</td>\n      <td>FREE bottle of Nando's PERi-PERi</td>\n      <td>Nando's butterfly chicken, chips &amp; fino slaw</td>\n      <td>Succulent butterflied chicken breast is marina...</td>\n      <td>900</td>\n      <td>1350</td>\n      <td>2400</td>\n    </tr>\n    <tr>\n      <th>581</th>\n      <td>{}</td>\n      <td>771.66</td>\n      <td>49.55</td>\n      <td>European</td>\n      <td>33.42</td>\n      <td>Chicken</td>\n      <td>62.42</td>\n      <td>Summer</td>\n      <td>NaN</td>\n      <td>674</td>\n      <td>55</td>\n      <td>https://mindfulchef-uat.imgix.net/recipes/674/...</td>\n      <td>Preheat the oven to 220C / fan 200C / gas mark...</td>\n      <td>FREE bottle of Nando's PERi-PERi</td>\n      <td>Nando's ¼ chicken legs, macho peas and sweet mash</td>\n      <td>Juicy chicken legs are marinated in Nando’s Me...</td>\n      <td>1000</td>\n      <td>1250</td>\n      <td>2500</td>\n    </tr>\n    <tr>\n      <th>635</th>\n      <td>{}</td>\n      <td>771.66</td>\n      <td>49.55</td>\n      <td>European</td>\n      <td>33.42</td>\n      <td>Chicken</td>\n      <td>62.42</td>\n      <td>Summer</td>\n      <td>NaN</td>\n      <td>900</td>\n      <td>55</td>\n      <td>https://mindfulchef-uat.imgix.net/recipes/900/...</td>\n      <td>Preheat the oven to 220C / fan 200C / gas mark...</td>\n      <td>FREE bottle of Nando's PERi-PERi</td>\n      <td>Nando's ¼ chicken legs, macho peas and sweet mash</td>\n      <td>Juicy chicken legs are marinated in Nando’s Me...</td>\n      <td>1000</td>\n      <td>1500</td>\n      <td>NaN</td>\n    </tr>\n    <tr>\n      <th>680</th>\n      <td>{}</td>\n      <td>602.69</td>\n      <td>56.89</td>\n      <td>European</td>\n      <td>18.24</td>\n      <td>Chicken</td>\n      <td>49.37</td>\n      <td>Summer</td>\n      <td>NaN</td>\n      <td>1039</td>\n      <td>35</td>\n      <td>https://mindfulchef-uat.imgix.net/recipes/1039...</td>\n      <td>Preheat the oven to 220C / fan 200C / gas mark...</td>\n      <td>FREE bottle of Nando's PERi-PERi</td>\n      <td>Nando's butterfly chicken, chips &amp; fino slaw</td>\n      <td>Succulent butterflied chicken breast is marina...</td>\n      <td>1000</td>\n      <td>1500</td>\n      <td>NaN</td>\n    </tr>\n  </tbody>\n</table>\n</div>"
     },
     "metadata": {},
     "execution_count": 11
    }
   ],
   "source": [
    "df_images[df_images['title'].str.contains(\"Nando's\")]"
   ]
  },
  {
   "cell_type": "code",
   "execution_count": 12,
   "metadata": {},
   "outputs": [
    {
     "output_type": "execute_result",
     "data": {
      "text/plain": "Empty DataFrame\nColumns: [allergens, calories, carbs, cuisine, fat, food_group, protein, season, special, id, cooking_time, image_url, instructions, key_ingredient, title, description, price_1p_pence, price_2p_pence, price_4p_pence]\nIndex: []",
      "text/html": "<div>\n<style scoped>\n    .dataframe tbody tr th:only-of-type {\n        vertical-align: middle;\n    }\n\n    .dataframe tbody tr th {\n        vertical-align: top;\n    }\n\n    .dataframe thead th {\n        text-align: right;\n    }\n</style>\n<table border=\"1\" class=\"dataframe\">\n  <thead>\n    <tr style=\"text-align: right;\">\n      <th></th>\n      <th>allergens</th>\n      <th>calories</th>\n      <th>carbs</th>\n      <th>cuisine</th>\n      <th>fat</th>\n      <th>food_group</th>\n      <th>protein</th>\n      <th>season</th>\n      <th>special</th>\n      <th>id</th>\n      <th>cooking_time</th>\n      <th>image_url</th>\n      <th>instructions</th>\n      <th>key_ingredient</th>\n      <th>title</th>\n      <th>description</th>\n      <th>price_1p_pence</th>\n      <th>price_2p_pence</th>\n      <th>price_4p_pence</th>\n    </tr>\n  </thead>\n  <tbody>\n  </tbody>\n</table>\n</div>"
     },
     "metadata": {},
     "execution_count": 12
    }
   ],
   "source": [
    "df_images[df_images['title']=='Sesame chicken with Japanese-style edamame salad']"
   ]
  },
  {
   "cell_type": "code",
   "execution_count": 13,
   "metadata": {
    "tags": []
   },
   "outputs": [
    {
     "output_type": "stream",
     "name": "stdout",
     "text": "title  \\\n307  Pork meatball green Thai curry   \n\n                                             image_url  \n307  https://mindfulchef-uat.imgix.net/recipes/391/...  \nhttps://mindfulchef-uat.imgix.net/recipes/391/b41d5e810c44d2a1628d5784011c7cf1.jpg?auto=format&fit=crop&w=320&h=218\n"
    }
   ],
   "source": [
    "print(df_new[df_new['id']==391][['title', 'image_url']])\n",
    "print(df_new[df_new['id']==391][['title', 'image_url']]['image_url'].values[0])"
   ]
  },
  {
   "cell_type": "code",
   "execution_count": 14,
   "metadata": {},
   "outputs": [],
   "source": [
    "df_images['title'] = df_images['title'].str.strip()"
   ]
  },
  {
   "cell_type": "code",
   "execution_count": 15,
   "metadata": {},
   "outputs": [],
   "source": [
    "df_new['title'] = df_new['title'].str.strip()"
   ]
  },
  {
   "cell_type": "code",
   "execution_count": 16,
   "metadata": {},
   "outputs": [],
   "source": [
    "dict_images = df_images.set_index('id').to_dict()['title']\n",
    "dict_new = df_new.set_index('id').to_dict()['title']"
   ]
  },
  {
   "cell_type": "code",
   "execution_count": 17,
   "metadata": {},
   "outputs": [],
   "source": [
    "import dictdiffer"
   ]
  },
  {
   "cell_type": "code",
   "execution_count": 18,
   "metadata": {
    "tags": []
   },
   "outputs": [
    {
     "output_type": "stream",
     "name": "stdout",
     "text": "('change', [34], ('Pan-fried cod, dill quinoa & capers', 'Pan-fried haddock, dill quinoa & capers'))\n('change', [103], ('Teriyaki salmon, spinach & choi sum', 'Teriyaki salmon, crispy kale & choi sum'))\n('change', [193], ('Creamy tomato & hot smoked salmon courgetti', 'Creamy sun-dried tomato salmon courgetti'))\n('change', [208], ('Cod with salsa verde & tomato millet', 'Hake with salsa verde & tomato millet'))\n('change', [217], (\"Nando's butterfly chicken, chips & fino slaw\", 'Chicken arrabbiata with courgette tagliatelle'))\n('change', [255], ('Red pesto & bean cassoulet with crushed potatoes', 'Bean cassoulet, hazelnuts & parsnip mash'))\n('change', [309], ('Macadamia, parsley & lemon crusted cod', 'Macadamia, parsley & lemon crusted ling'))\n('change', [315], ('Swedish-style pork meatballs & creamy mash', 'Swedish-style pork meatballs & parsnip mash'))\n('change', [320], ('Honey & balsamic pork meatballs with courgetti', 'Honey & balsamic pork meatballs, courgetti'))\n('change', [328], ('Sesame-crusted salmon & brown rice noodles', 'Sesame crusted salmon & buckwheat noodles'))\n('change', [346], ('Spanish-style rice, hake & peppers', 'Spanish-style rice, haddock & peppers'))\n('change', [363], ('Sesame chicken, egg & spinach rice', 'Sesame chicken, egg & kale rice'))\n('change', [375], ('Scandi-style hot smoked salmon & dill yoghurt', 'Scandi-style smoked mackerel, dill yoghurt'))\n('change', [413], ('Mushroom & spinach risotto with basil pesto', 'Mushroom and spinach risotto with basil pesto'))\n('change', [481], ('Roasted aubergine, chickpeas & cherries with tahini', 'Roasted aubergine, chickpea & cherries with tahini'))\n('change', [497], ('Hot smoked salmon, greens & honey mustard drizzle', 'Hot smoked salmon, greens & balsamic drizzle'))\n('change', [502], ('Sweet & sour sticky tofu, rainbow chard & rice', 'Sweet & sour sticky tofu, crispy kale & rice'))\n('change', [537], ('Ginger chicken with buckwheat noodles & peanuts', 'Ginger salmon with buckwheat noodles & peanuts'))\n('change', [576], ('Walnut crusted cod, crushed potato, Tenderstem', 'Walnut crusted haddock, crushed potato, tenderstem'))\n('change', [578], ('Teriyaki chicken with Tenderstem', 'Teriyaki chicken with tenderstem'))\n('change', [650], ('Teriyaki tofu with Tenderstem & carrot noodles', 'Teriyaki tofu with tenderstem & carrot noodles'))\n('change', [674], (\"Nando's ¼ chicken legs, macho peas and sweet mash\", 'Shredded barbecue chicken lettuce boats with corn'))\n('change', [683], ('Turkey & mushroom cacciatore with buckwheat', 'Chicken & mushroom cacciatore with buckwheat'))\n('change', [692], ('Italian sun-dried tomato & beef stuffed peppers', 'Italian sundried tomato & beef stuffed peppers'))\n('change', [875], ('Cod with sunflower seed, mint & basil pesto', 'Hake with sunflower seed, mint & basil pesto'))\n('change', [900], (\"Nando's ¼ chicken legs, macho peas and sweet mash\", 'Sesame chicken with Japanese-style edamame salad'))\n('change', [928], ('Tofu, avocado & spinach salad with tahini dressing', 'Tofu, avocado & kale salad with tahini dressing'))\n('change', [932], ('Almond-coated chicken, green beans & herb yoghurt', 'Almond coated chicken, green beans & herb yoghurt'))\n('add', '', [(666, 'Cashew chicken korma & black rice'), (668, 'Harissa salmon with potato fries & sundried tomato'), (672, 'Baked salmon with pesto crumb & vine tomatoes'), (699, 'Veggie & cannellini bean lasagne'), (734, 'Mexican chilli, guacamole & sweet potato fries'), (735, 'Peanut satay chicken with brown rice noodles'), (736, 'Chickpea tagine with roasted carrot'), (737, 'Cajun chicken jambalaya'), (738, 'Salmon Nicoise salad'), (739, 'Lentil cottage pie with butternut mash'), (740, 'Roast cod with sweet & smoky red pepper stew'), (754, 'Thai red tofu curry with wild rice'), (755, 'Middle Eastern lentils & rice stuffed peppers'), (756, 'Quinoa and black bean meatballs with tomato sauce'), (757, 'Tandoori chicken with pomegranate rice salad'), (761, 'Chilli con carne with pepper & courgette rice'), (800, 'Asian sesame salmon with veggie noodles'), (801, \"Za'atar aubergine rolls stuffed with quinoa\"), (809, 'Red lentil dahl with rice'), (811, 'Spicy chipotle sunflower mince lettuce boats'), (812, 'Tempeh Singapore noodles'), (813, 'Beef burgers with paprika sweet potato wedges'), (815, 'Spanish rice with cod'), (817, 'Mushroom, butter bean bake with celeriac mash'), (818, 'Almond crusted cod, chunky chips & vine tomatoes'), (819, 'Beef bolognese with brown rice penne'), (820, 'Cajun salmon with black bean salsa'), (823, 'Thai red chicken curry, baby corn & sugar snaps'), (825, 'Sweet chilli & ginger chicken with vegetable rice'), (826, 'Chicken and miso noodle broth'), (827, 'Squash risotto with spinach & roasted tomatoes'), (830, 'Aubergine & chickpea bhuna with quinoa'), (831, 'Barbecue chicken with veggie rice & carrot slaw'), (832, 'Harissa cauliflower steaks & smoky chimichurri'), (833, 'Pesto chicken Kiev with squash & tenderstem'), (835, 'Flat iron beef steak stroganoff with tenderstem'), (837, 'Katsu chicken curry with brown rice & tenderstem'), (839, 'Lamb kofte bake, quinoa & green beans'), (840, 'Korean barbecue steak poke bowl'), (878, 'Creamy fish pie and celeriac mash'), (879, 'Teriyaki tempeh with miso broth'), (881, 'Butter bean falafel with aubergine tagine'), (883, 'Yellow Thai cod curry with brown rice'), (884, 'Mushroom and sundried tomato pizza with rocket'), (885, 'Shepherds pie with cauliflower mash & cavolo nero'), (886, 'Warming lentil stew with squash & pomegranate'), (887, 'Beetroot burgers with chipotle slaw and fries'), (888, 'Turkey with roasted root vegetables'), (890, 'Chicken pasanda with red rice and tenderstem'), (891, 'Lamb moussaka with minted green beans'), (892, 'Mexican meatball bake with pepper and tomato salsa'), (895, 'Lamb meatballs, pomegranate sauce & roasted veg'), (898, 'Beef meatball bake with roasted fennel'), (899, 'Cuban spiced beef with rice, beans & squash'), (901, 'Honey and harissa chicken skewers with quinoa'), (902, 'Chicken goujons, smoky beans & sweet potato'), (904, 'Teriyaki salmon with vegetable fried rice'), (905, 'Tempeh mushroom burgers with tomato pepper relish'), (907, 'Chimichurri steak with sweet potato fritters'), (908, 'Creamy tomato & tofu curry, rice and green beans'), (909, 'Sundried tomato chicken & Jerusalem artichokes'), (912, 'Black chickpea and spinach korma'), (913, 'Smoked tofu jungle curry'), (917, 'Sundried tomato salmon, Spanish rice & samphire'), (918, 'Sunflower mince bolognese with garden salad'), (919, 'Moroccan lentil stew & roasted aubergine'), (920, 'Chicken & leek pie with mustard cauli mash'), (921, 'Vietnamese Chicken Noodle salad'), (925, 'Baharat spiced lamb in butternut, red cabbage slaw'), (926, 'Chicken fajita baby gem boats'), (927, 'Coconut jerk spiced salmon with quinoa & beans'), (929, 'Miso salmon with Asian slaw & fried rice'), (930, 'Bobotie with turmeric rice & tenderstem'), (931, 'Creamy mushroom penne with pesto turkey'), (933, 'Tandoori tofu skewers with flatbread'), (934, 'Creamy mushroom penne & pesto sunflower mince'), (936, 'Creamy veggie moussaka with green beans'), (937, 'Italian bean stew with cavolo nero & black olives'), (940, 'Beef koftas with squash & quinoa salad'), (944, 'Greek-style beef skewers & rice salad'), (946, 'Quinoa stuffed peppers & pestorissa tofu'), (950, 'Indian beef keema curry with red rice'), (954, 'Italian sundried tomato butter bean casserole'), (956, 'Orange & fennel baked salmon with new potatoes'), (957, 'West Indian spinach & chickpea curry with rice')])\n('remove', '', [(3, 'Pork, smoked paprika & parsley meatballs with sautéed parsnips'), (4, 'Za’atar ling, pomegranate tabbouleh & harissa dip'), (19, 'Roasted basil salmon fillet with rosemary squash mash & kale'), (45, 'Chargrilled cauliflower steaks with asparagus'), (73, 'Baked aubergine with cumin spiced lamb'), (75, 'Mongolian beef & egg fried cauliflower rice'), (77, 'Pad Thai with chicken & sweet chilli sauce'), (80, 'Seared steak, egg, saut̩ed bok choi & squash'), (81, 'Asian cauliflower rice & sesame chicken'), (82, 'Sundried tomato chicken & avocado egg'), (83, 'Spiced lamb & sweet potato, broccoli rice'), (85, 'Pan-fried sea bream with chermoula & fennel'), (89, 'Roasted cauliflower & chickpea tikka masala with wild rice'), (92, 'Black bean & mushroom chilli with baked sweet potato'), (93, 'Rainbow bowl with roasted carrots, kidney beans & quinoa'), (94, 'Warm wild rice salad with squash, pomegranate & avocado'), (96, 'Mexican chicken & black beans with avocado'), (97, \"Julie Montagu's Mushroom stuffed squash with avocado\"), (98, \"Julie Montagu's Nut baked tofu with roasted vegetables\"), (99, \"Julie Montagu's Quinoa, red pepper & lentil stew\"), (101, 'Balsamic & mustard glazed beef with squash & spinach mash'), (107, \"Julie Montagu's Tofu, lentil & red cabbage stew\"), (111, 'Nasi Goreng with pork, egg, carrot ribbons & brown rice'), (112, \"Julie Montagu's Butter bean, leek, mushroom & coconut quinoa risotto\"), (113, \"Julie Montagu's Spicy kale, carrot & tofu fried rice\"), (114, \"Julie Montagu's Sweet potato & kale quinoa with avocado dressing\"), (116, 'Indian chicken curry with roasted sweet potato & wild rice'), (117, 'Hot smoked salmon fish pie with carrot mash'), (118, 'Pork with pear, walnut & broccoli'), (119, \"Julie Montagu's Curried coconut cauliflower rice\"), (120, \"Julie Montagu's Quinoa tagine with chickpeas, sweet potato & olives\"), (121, \"Julie Montagu's Spicy black bean burgers with avocado\"), (123, 'Pan-fried haddock with artichokes & beans'), (125, 'Pork loin with chilli, sautéed squash & kale'), (129, 'Chicken, fennel & leek with red quinoa'), (144, \"Aine Carlin's Miso & buckwheat noodle broth\"), (145, \"Aine Carlin's Lettuce wraps with chickpeas\"), (146, 'Middle Eastern beef koftas & cauli tabbouleh'), (148, 'Pan-fried sea bass with salsa verde & roasted tomato millet'), (154, 'Ras el Hanout chicken & shirazi salad'), (155, 'Teriyaki salmon with edamame quinoa'), (156, 'Pork tenderloin, sauce vierge & asparagus'), (169, 'Pork & parsley meatballs, sauteed parsnips'), (171, 'Roasted basil salmon fillet with squash mash'), (251, 'Pink peppercorn steak with celeriac chips'), (286, 'Polenta crusted pollack with roasted tomatoes'), (450, 'Middle Eastern chicken, cauliflower couscous & pomegranate'), (482, 'FROZEN - Beef & squash lasagne, slow roasted tomatoes'), (483, 'FROZEN - Peanut satay chicken curry & chilli roasted broccoli'), (484, 'FROZEN - Creamy coconut fish pie with sweet potato mash'), (485, 'FROZEN - Pulled BBQ jackfruit & charred corn salsa'), (591, 'Sesame tofu, veggie Pad Thai & peanut sauce'), (592, 'Starter-Roasted miso aubergine with spring onions'), (594, 'Chocolate avocado mousse'), (629, 'Chai spiced black rice pudding with mango'), (630, 'Crepes with caramelised oranges & chocolate sauce'), (631, 'Pecan chia crumble with cinnamon plums'), (639, 'Miso, ginger & sesame chicken salad'), (658, 'Lemon & almond cheesecake with blueberry compote'), (659, 'Passion fruit parfait with mango & crunchy granola'), (660, 'Chocolate & tahini brownie dessert'), (661, 'Dried apricot & pecan flapjack bites'), (667, 'Chicken Pad Thai with brown rice noodles'), (802, 'Miso noodle broth with sesame chicken**'), (922, 'Steak, celeriac fries, watercress & shallot salad'), (941, 'Indian beef kebabs with spiced rice & raisins'), (948, 'Teriyaki portobello mushroom with edamame & quinoa'), (953, 'Lamb meatballs, crushed potatoes, peas & mint'), (1000, 'Creamy chicken & sun-dried tomato pesto casserole'), (1004, 'Smoked mackerel with caponata & baby kale salad'), (1007, 'Ezme baked haddock, vegetable quinoa & asparagus'), (1009, 'Tom yum fish soup with carrot noodles & baby corn'), (1010, 'Green Thai cod curry with sugar snaps & quinoa'), (1013, 'Coronation turkey with dried apricots & quinoa'), (1014, 'Grilled turkey breast, paella-style rice & peppers'), (1015, 'Hot smoked salmon with beetroot & walnuts'), (1017, 'Mediterranean beef, courgette & tomato ratatouille'), (1020, '10 min Teriyaki smoked mackerel'), (1021, 'Cod with coconut chana dahl & spinach**'), (1024, 'Aubergine with pomegranate salsa & harissa yoghurt'), (1027, 'Red Pesto jackfruit & chickpea stuffed peppers'), (1028, '10 min Falafel & smoked humous with quinoa'), (1029, 'Hake, beluga lentils & sunflower seed salsa verde'), (1030, 'Peanut & sesame turkey Pad Thai'), (1032, 'Spicy barbecue beef bibimbap with spinach & egg'), (1034, 'Spiced tempeh with mango & sugar snaps'), (1036, 'Smoked salmon, avocado & quinoa bowl'), (1037, 'Ezme chickpeas with hot smoked trout'), (1038, 'Turkey with quinoa & creamy chipotle yoghurt slaw'), (1039, \"Nando's butterfly chicken, chips & fino slaw\"), (1041, '10 min Chicken & egg vegetable fried rice'), (1042, 'Flat iron steak with chive & gherkin potato salad'), (1043, 'Hot-smoked salmon, tomato and green beans'), (1044, 'Chicken with creamy tarragon, carrot & asparagus'), (1046, 'Chicken with tomato, garlic & mushroom courgetti'), (1049, 'Apricot harissa baked salmon with spinach quinoa'), (1053, 'Soy-glazed beef mince bowl with carrot rice'), (1055, 'Pesto-stuffed chicken with roasted butternut salad'), (1056, 'Chinese pork mince stir-fry noodles'), (1057, 'Moroccan beef & olive stew with roasted Tenderstem'), (1058, 'Lamb koftas with pickled heritage tomato salsa'), (1059, \"Chicken 'parmigiana' & red pesto roasted potatoes\"), (1128, 'John Dory with pesto new potatoes & asparagus'), (1131, 'Baked Turkish meatballs with tahini aubergine dip'), (1135, 'Tikka-marinated baked cod with pickled salad'), (1137, 'Kung pao tempeh with baby corn and broccoli'), (1139, 'Steak with harissa chickpea & rocket salad'), (1141, 'Turkey breast, roasted veg & sweet potato fries'), (1143, 'Korean turkey mince & kimchi rice bowl'), (1144, 'Speedy Thai jackfruit & edamame rice'), (1145, 'Mediterranean lentils & sweet potato hummus'), (1146, 'Mexican spiced chicken with black bean salsa'), (1150, 'Pestorissa chickpea, avocado & rice salad'), (1152, 'Sirloin steak, roasted butternut & rocket salad'), (1153, 'Sirloin steak with potato salad & mixed leaf'), (1156, 'Steak with chermoula lentil & tomato salad'), (1157, 'Tempeh & kimchi fried rice'), (1158, 'Speedy Mexican tofu, avocado & rice bowl'), (1174, 'Harissa spiced lamb burger with lentil rice salad'), (1176, 'Chicken with apple and fennel salad'), (1177, 'Hot-smoked salmon fresh pea and quinoa salad'), (1187, 'Orange harissa chicken with turmeric quinoa'), (1191, 'Grilled chicken with orange & beetroot salad'), (1193, 'Grilled pomegranate chicken salad with roasted fig'), (1195, 'Tofeta with citrus fennel & candy beetroot salad'), (1196, 'Roasted Cod with caponata & lemon drizzle'), (1197, 'Miso & peanut tempeh with lentils in lettuce boats'), (1198, 'Lemon chicken with verbena harissa chickpeas'), (1203, 'Crispy lentils with pickled kohlrabi & tomatoes'), (1204, 'Chicken Milanese with rosemary pesto potatoes'), (1206, '10 min crab & black rice Thai noodle salad'), (1209, 'Hot-smoked trout, quinoa & lemon dressing'), (1216, 'Korean steak & egg bibimbap'), (1217, 'Baked aubergine, spiced lentils & minted slaw'), (1222, 'Jackfruit Masala with coriander rava dosa'), (1255, 'West Indian red pepper & fish curry with rice'), (1258, 'Chicken fajita lettuce boats'), (1261, 'Smoked salmon kedgeree with sweet peppers'), (1265, 'Hot smoked salmon with fresh pea, pesto & quinoa'), (1266, 'Indian style tempeh with chickpea crepe & hummus'), (1269, 'Smoked salmon, dill yogurt & lemon quinoa'), (1270, 'Sesame tofu and kimchi rice bowl'), (1275, 'Thai Jackfruit with yellow pepper & peas'), (1276, 'Lamb biriyani with edamame & cucumber salad'), (1277, 'Cajun spiced cod with smoky beans & courgette'), (1280, 'Chicken shawarma stew with quinoa & broccoli'), (1283, '10 min Sweet potato falafel with harissa hummus'), (1285, 'Korean smokey beef meatballs with rice & pak choi'), (1286, 'Chickpea masala with cauli & macadamia nut hash'), (1289, 'Miso cod with crushed carrots  & pak choi'), (1291, 'Chicken & cavolo nero with sage butternut hash'), (1292, 'Massaman beef steak curry with roasted butternut'), (1296, 'Cod with girolles, samphire and butterbean stew'), (1298, 'Satay tempeh skewers with golden kimchi rice'), (1299, 'Baked romesco pollock with sweet lentil stew')])\n"
    }
   ],
   "source": [
    "for diff in list(dictdiffer.diff(dict_images, dict_new)):\n",
    "    print(diff)"
   ]
  },
  {
   "cell_type": "code",
   "execution_count": 19,
   "metadata": {},
   "outputs": [
    {
     "output_type": "execute_result",
     "data": {
      "text/plain": "        allergens calories  carbs   cuisine    fat food_group protein  season  \\\n1  {Mustard,Nuts}   505.84  26.63   British  26.52       Beef   45.71  Spring   \n2     {Sulphites}   679.78  65.16    Indian  24.40    Chicken   49.20  Spring   \n3              {}   437.35  29.29  European  18.01       Pork   38.22  Spring   \n\n        special  id cooking_time  \\\n1           NaN   1           25   \n2  Post Workout   2           30   \n3           NaN   3           25   \n\n                                           image_url  \\\n1  https://mindfulchef-uat.imgix.net/recipes/1/2e...   \n2  https://mindfulchef-uat.imgix.net/recipes/2/ed...   \n3  https://mindfulchef-uat.imgix.net/recipes/3/8e...   \n\n                                        instructions  \\\n1  Preheat the oven to 180C / gas mark 4., Trim t...   \n2  Boil a kettle. Rinse the black rice and add to...   \n3  Preheat the oven to 200C / gas mark 6., Peel a...   \n\n                            key_ingredient  \\\n1  Grass-fed heritage breed Yorkshire beef   \n2        Free-range Norfolk chicken breast   \n3           Free-range heritage breed pork   \n\n                                               title  \\\n1           Seared beef with spring vegetable medley   \n2                 Goan chicken curry with black rice   \n3  Pork, smoked paprika & parsley meatballs with ...   \n\n                                         description price_1p_pence  \\\n1  We've paired a succulent seared steak with a m...            900   \n2  This Goan inspired chicken curry is made with ...            900   \n3  These juicy smoked paprika pork meatballs are ...            900   \n\n  price_2p_pence price_4p_pence  \n1           1400           2400  \n2           1400           2400  \n3           1400           2400  ",
      "text/html": "<div>\n<style scoped>\n    .dataframe tbody tr th:only-of-type {\n        vertical-align: middle;\n    }\n\n    .dataframe tbody tr th {\n        vertical-align: top;\n    }\n\n    .dataframe thead th {\n        text-align: right;\n    }\n</style>\n<table border=\"1\" class=\"dataframe\">\n  <thead>\n    <tr style=\"text-align: right;\">\n      <th></th>\n      <th>allergens</th>\n      <th>calories</th>\n      <th>carbs</th>\n      <th>cuisine</th>\n      <th>fat</th>\n      <th>food_group</th>\n      <th>protein</th>\n      <th>season</th>\n      <th>special</th>\n      <th>id</th>\n      <th>cooking_time</th>\n      <th>image_url</th>\n      <th>instructions</th>\n      <th>key_ingredient</th>\n      <th>title</th>\n      <th>description</th>\n      <th>price_1p_pence</th>\n      <th>price_2p_pence</th>\n      <th>price_4p_pence</th>\n    </tr>\n  </thead>\n  <tbody>\n    <tr>\n      <th>1</th>\n      <td>{Mustard,Nuts}</td>\n      <td>505.84</td>\n      <td>26.63</td>\n      <td>British</td>\n      <td>26.52</td>\n      <td>Beef</td>\n      <td>45.71</td>\n      <td>Spring</td>\n      <td>NaN</td>\n      <td>1</td>\n      <td>25</td>\n      <td>https://mindfulchef-uat.imgix.net/recipes/1/2e...</td>\n      <td>Preheat the oven to 180C / gas mark 4., Trim t...</td>\n      <td>Grass-fed heritage breed Yorkshire beef</td>\n      <td>Seared beef with spring vegetable medley</td>\n      <td>We've paired a succulent seared steak with a m...</td>\n      <td>900</td>\n      <td>1400</td>\n      <td>2400</td>\n    </tr>\n    <tr>\n      <th>2</th>\n      <td>{Sulphites}</td>\n      <td>679.78</td>\n      <td>65.16</td>\n      <td>Indian</td>\n      <td>24.40</td>\n      <td>Chicken</td>\n      <td>49.20</td>\n      <td>Spring</td>\n      <td>Post Workout</td>\n      <td>2</td>\n      <td>30</td>\n      <td>https://mindfulchef-uat.imgix.net/recipes/2/ed...</td>\n      <td>Boil a kettle. Rinse the black rice and add to...</td>\n      <td>Free-range Norfolk chicken breast</td>\n      <td>Goan chicken curry with black rice</td>\n      <td>This Goan inspired chicken curry is made with ...</td>\n      <td>900</td>\n      <td>1400</td>\n      <td>2400</td>\n    </tr>\n    <tr>\n      <th>3</th>\n      <td>{}</td>\n      <td>437.35</td>\n      <td>29.29</td>\n      <td>European</td>\n      <td>18.01</td>\n      <td>Pork</td>\n      <td>38.22</td>\n      <td>Spring</td>\n      <td>NaN</td>\n      <td>3</td>\n      <td>25</td>\n      <td>https://mindfulchef-uat.imgix.net/recipes/3/8e...</td>\n      <td>Preheat the oven to 200C / gas mark 6., Peel a...</td>\n      <td>Free-range heritage breed pork</td>\n      <td>Pork, smoked paprika &amp; parsley meatballs with ...</td>\n      <td>These juicy smoked paprika pork meatballs are ...</td>\n      <td>900</td>\n      <td>1400</td>\n      <td>2400</td>\n    </tr>\n  </tbody>\n</table>\n</div>"
     },
     "metadata": {},
     "execution_count": 19
    }
   ],
   "source": [
    "df_images.head(3)"
   ]
  },
  {
   "cell_type": "code",
   "execution_count": 20,
   "metadata": {},
   "outputs": [
    {
     "output_type": "execute_result",
     "data": {
      "text/plain": "   Unnamed: 0           allergens  calories  carbs  cuisine  fat food_group  \\\n0           0      {Mustard,Nuts}       474     26  british   23       Beef   \n1           1         {Sulphites}       715     67   indian   28    Chicken   \n2           4  {Celery,Nuts,Soya}       479     36    asian   27      Vegan   \n\n   protein  season                                         specials  id  \\\n0       45  spring  {'high protein'\",'\"low calorie'\",'\"low carb'\"}\"   1   \n1       50  spring              {'high protein'\",'\"post workout'\"}\"   2   \n2       31  spring                   {'low calorie'\",'\"low carb'\"}\"   5   \n\n   cooking_time                                          image_url  \\\n0            25  https://mindfulchef-uat.imgix.net/recipes/1/2e...   \n1            30  https://mindfulchef-uat.imgix.net/recipes/2/ed...   \n2            30  https://mindfulchef-uat.imgix.net/recipes/5/33...   \n\n                                        instructions  \\\n0  1. Preheat the oven to 180C / gas mark 4.\\t\\t\\...   \n1  1. Boil a kettle. Rinse the black rice and add...   \n2  1. Boil a kettle. Dissolve the vegetable stock...   \n\n                            key_ingredient  \\\n0  Grass-fed heritage breed Yorkshire beef   \n1        Free-range Norfolk chicken breast   \n2       Dragonfly organic extra-firm tofu    \n\n                                               title  \\\n0           Seared beef with spring vegetable medley   \n1                 Goan chicken curry with black rice   \n2  Vietnamese 'noodle' broth with shiitake mushrooms   \n\n                                         description  price_1p_pence  \\\n0  We've paired a succulent seared steak with a m...             900   \n1  This Goan inspired chicken curry is made with ...             900   \n2  Historically served at sunrise and sunset, Vie...             900   \n\n   price_2p_pence  price_4p_pence  \n0            1400            2400  \n1            1400            2400  \n2            1200            2400  ",
      "text/html": "<div>\n<style scoped>\n    .dataframe tbody tr th:only-of-type {\n        vertical-align: middle;\n    }\n\n    .dataframe tbody tr th {\n        vertical-align: top;\n    }\n\n    .dataframe thead th {\n        text-align: right;\n    }\n</style>\n<table border=\"1\" class=\"dataframe\">\n  <thead>\n    <tr style=\"text-align: right;\">\n      <th></th>\n      <th>Unnamed: 0</th>\n      <th>allergens</th>\n      <th>calories</th>\n      <th>carbs</th>\n      <th>cuisine</th>\n      <th>fat</th>\n      <th>food_group</th>\n      <th>protein</th>\n      <th>season</th>\n      <th>specials</th>\n      <th>id</th>\n      <th>cooking_time</th>\n      <th>image_url</th>\n      <th>instructions</th>\n      <th>key_ingredient</th>\n      <th>title</th>\n      <th>description</th>\n      <th>price_1p_pence</th>\n      <th>price_2p_pence</th>\n      <th>price_4p_pence</th>\n    </tr>\n  </thead>\n  <tbody>\n    <tr>\n      <th>0</th>\n      <td>0</td>\n      <td>{Mustard,Nuts}</td>\n      <td>474</td>\n      <td>26</td>\n      <td>british</td>\n      <td>23</td>\n      <td>Beef</td>\n      <td>45</td>\n      <td>spring</td>\n      <td>{'high protein'\",'\"low calorie'\",'\"low carb'\"}\"</td>\n      <td>1</td>\n      <td>25</td>\n      <td>https://mindfulchef-uat.imgix.net/recipes/1/2e...</td>\n      <td>1. Preheat the oven to 180C / gas mark 4.\\t\\t\\...</td>\n      <td>Grass-fed heritage breed Yorkshire beef</td>\n      <td>Seared beef with spring vegetable medley</td>\n      <td>We've paired a succulent seared steak with a m...</td>\n      <td>900</td>\n      <td>1400</td>\n      <td>2400</td>\n    </tr>\n    <tr>\n      <th>1</th>\n      <td>1</td>\n      <td>{Sulphites}</td>\n      <td>715</td>\n      <td>67</td>\n      <td>indian</td>\n      <td>28</td>\n      <td>Chicken</td>\n      <td>50</td>\n      <td>spring</td>\n      <td>{'high protein'\",'\"post workout'\"}\"</td>\n      <td>2</td>\n      <td>30</td>\n      <td>https://mindfulchef-uat.imgix.net/recipes/2/ed...</td>\n      <td>1. Boil a kettle. Rinse the black rice and add...</td>\n      <td>Free-range Norfolk chicken breast</td>\n      <td>Goan chicken curry with black rice</td>\n      <td>This Goan inspired chicken curry is made with ...</td>\n      <td>900</td>\n      <td>1400</td>\n      <td>2400</td>\n    </tr>\n    <tr>\n      <th>2</th>\n      <td>4</td>\n      <td>{Celery,Nuts,Soya}</td>\n      <td>479</td>\n      <td>36</td>\n      <td>asian</td>\n      <td>27</td>\n      <td>Vegan</td>\n      <td>31</td>\n      <td>spring</td>\n      <td>{'low calorie'\",'\"low carb'\"}\"</td>\n      <td>5</td>\n      <td>30</td>\n      <td>https://mindfulchef-uat.imgix.net/recipes/5/33...</td>\n      <td>1. Boil a kettle. Dissolve the vegetable stock...</td>\n      <td>Dragonfly organic extra-firm tofu</td>\n      <td>Vietnamese 'noodle' broth with shiitake mushrooms</td>\n      <td>Historically served at sunrise and sunset, Vie...</td>\n      <td>900</td>\n      <td>1200</td>\n      <td>2400</td>\n    </tr>\n  </tbody>\n</table>\n</div>"
     },
     "metadata": {},
     "execution_count": 20
    }
   ],
   "source": [
    "df_new.head(3)"
   ]
  },
  {
   "cell_type": "code",
   "execution_count": 21,
   "metadata": {},
   "outputs": [
    {
     "output_type": "execute_result",
     "data": {
      "text/plain": "        allergens  calories  carbs  cuisine  fat food_group  protein  season  \\\n0  {Mustard,Nuts}       474     26  british   23       Beef       45  spring   \n1     {Sulphites}       715     67   indian   28    Chicken       50  spring   \n2             NaN       429     29      NaN   17        NaN       38     NaN   \n\n                                          specials  id  cooking_time  \\\n0  {'high protein'\",'\"low calorie'\",'\"low carb'\"}\"   1            25   \n1              {'high protein'\",'\"post workout'\"}\"   2            30   \n2                                              NaN   3            25   \n\n                                           image_url  \\\n0  https://d3ce0k5v3uorqv.cloudfront.net/uploads/...   \n1  https://d3ce0k5v3uorqv.cloudfront.net/uploads/...   \n2  https://d3ce0k5v3uorqv.cloudfront.net/uploads/...   \n\n                                        instructions  \\\n0  1. Preheat the oven to 180C / gas mark 4.\\t\\t\\...   \n1  1. Boil a kettle. Rinse the black rice and add...   \n2  1. Preheat the oven to 200C / gas mark 6.\\t\\t\\...   \n\n                            key_ingredient  \\\n0  Grass-fed heritage breed Yorkshire beef   \n1        Free-range Norfolk chicken breast   \n2           Free-range heritage breed pork   \n\n                                               title  \\\n0           Seared beef with spring vegetable medley   \n1                 Goan chicken curry with black rice   \n2  Pork, smoked paprika & parsley meatballs with ...   \n\n                                         description  price_1p_pence  \\\n0  We've paired a succulent seared steak with a m...             900   \n1  This Goan inspired chicken curry is made with ...             900   \n2  These juicy smoked paprika pork meatballs are ...             900   \n\n   price_2p_pence  price_4p_pence  \n0            1400            2400  \n1            1400            2400  \n2            1400            2400  ",
      "text/html": "<div>\n<style scoped>\n    .dataframe tbody tr th:only-of-type {\n        vertical-align: middle;\n    }\n\n    .dataframe tbody tr th {\n        vertical-align: top;\n    }\n\n    .dataframe thead th {\n        text-align: right;\n    }\n</style>\n<table border=\"1\" class=\"dataframe\">\n  <thead>\n    <tr style=\"text-align: right;\">\n      <th></th>\n      <th>allergens</th>\n      <th>calories</th>\n      <th>carbs</th>\n      <th>cuisine</th>\n      <th>fat</th>\n      <th>food_group</th>\n      <th>protein</th>\n      <th>season</th>\n      <th>specials</th>\n      <th>id</th>\n      <th>cooking_time</th>\n      <th>image_url</th>\n      <th>instructions</th>\n      <th>key_ingredient</th>\n      <th>title</th>\n      <th>description</th>\n      <th>price_1p_pence</th>\n      <th>price_2p_pence</th>\n      <th>price_4p_pence</th>\n    </tr>\n  </thead>\n  <tbody>\n    <tr>\n      <th>0</th>\n      <td>{Mustard,Nuts}</td>\n      <td>474</td>\n      <td>26</td>\n      <td>british</td>\n      <td>23</td>\n      <td>Beef</td>\n      <td>45</td>\n      <td>spring</td>\n      <td>{'high protein'\",'\"low calorie'\",'\"low carb'\"}\"</td>\n      <td>1</td>\n      <td>25</td>\n      <td>https://d3ce0k5v3uorqv.cloudfront.net/uploads/...</td>\n      <td>1. Preheat the oven to 180C / gas mark 4.\\t\\t\\...</td>\n      <td>Grass-fed heritage breed Yorkshire beef</td>\n      <td>Seared beef with spring vegetable medley</td>\n      <td>We've paired a succulent seared steak with a m...</td>\n      <td>900</td>\n      <td>1400</td>\n      <td>2400</td>\n    </tr>\n    <tr>\n      <th>1</th>\n      <td>{Sulphites}</td>\n      <td>715</td>\n      <td>67</td>\n      <td>indian</td>\n      <td>28</td>\n      <td>Chicken</td>\n      <td>50</td>\n      <td>spring</td>\n      <td>{'high protein'\",'\"post workout'\"}\"</td>\n      <td>2</td>\n      <td>30</td>\n      <td>https://d3ce0k5v3uorqv.cloudfront.net/uploads/...</td>\n      <td>1. Boil a kettle. Rinse the black rice and add...</td>\n      <td>Free-range Norfolk chicken breast</td>\n      <td>Goan chicken curry with black rice</td>\n      <td>This Goan inspired chicken curry is made with ...</td>\n      <td>900</td>\n      <td>1400</td>\n      <td>2400</td>\n    </tr>\n    <tr>\n      <th>2</th>\n      <td>NaN</td>\n      <td>429</td>\n      <td>29</td>\n      <td>NaN</td>\n      <td>17</td>\n      <td>NaN</td>\n      <td>38</td>\n      <td>NaN</td>\n      <td>NaN</td>\n      <td>3</td>\n      <td>25</td>\n      <td>https://d3ce0k5v3uorqv.cloudfront.net/uploads/...</td>\n      <td>1. Preheat the oven to 200C / gas mark 6.\\t\\t\\...</td>\n      <td>Free-range heritage breed pork</td>\n      <td>Pork, smoked paprika &amp; parsley meatballs with ...</td>\n      <td>These juicy smoked paprika pork meatballs are ...</td>\n      <td>900</td>\n      <td>1400</td>\n      <td>2400</td>\n    </tr>\n  </tbody>\n</table>\n</div>"
     },
     "metadata": {},
     "execution_count": 21
    }
   ],
   "source": [
    "df_old.head(3)"
   ]
  },
  {
   "cell_type": "code",
   "execution_count": 24,
   "metadata": {},
   "outputs": [
    {
     "output_type": "execute_result",
     "data": {
      "text/plain": "   allergens calories  carbs        cuisine    fat food_group protein  season  \\\n27    {Fish}   398.40  28.20  Mediterranean  18.15       Fish   32.90  Summer   \n\n       special  id cooking_time  \\\n27  Date Night  34           25   \n\n                                            image_url  \\\n27  https://mindfulchef-uat.imgix.net/recipes/34/e...   \n\n                                         instructions  \\\n27  Preheat the oven to 180C / fan 160C / gas mark...   \n\n                          key_ingredient                                title  \\\n27  Fresh, sustainably caught cod fillet  Pan-fried cod, dill quinoa & capers   \n\n                                          description price_1p_pence  \\\n27  Flaky, sustainably sourced cod, fibre-rich Bri...           1075   \n\n   price_2p_pence price_4p_pence  \n27           1550           2625  ",
      "text/html": "<div>\n<style scoped>\n    .dataframe tbody tr th:only-of-type {\n        vertical-align: middle;\n    }\n\n    .dataframe tbody tr th {\n        vertical-align: top;\n    }\n\n    .dataframe thead th {\n        text-align: right;\n    }\n</style>\n<table border=\"1\" class=\"dataframe\">\n  <thead>\n    <tr style=\"text-align: right;\">\n      <th></th>\n      <th>allergens</th>\n      <th>calories</th>\n      <th>carbs</th>\n      <th>cuisine</th>\n      <th>fat</th>\n      <th>food_group</th>\n      <th>protein</th>\n      <th>season</th>\n      <th>special</th>\n      <th>id</th>\n      <th>cooking_time</th>\n      <th>image_url</th>\n      <th>instructions</th>\n      <th>key_ingredient</th>\n      <th>title</th>\n      <th>description</th>\n      <th>price_1p_pence</th>\n      <th>price_2p_pence</th>\n      <th>price_4p_pence</th>\n    </tr>\n  </thead>\n  <tbody>\n    <tr>\n      <th>27</th>\n      <td>{Fish}</td>\n      <td>398.40</td>\n      <td>28.20</td>\n      <td>Mediterranean</td>\n      <td>18.15</td>\n      <td>Fish</td>\n      <td>32.90</td>\n      <td>Summer</td>\n      <td>Date Night</td>\n      <td>34</td>\n      <td>25</td>\n      <td>https://mindfulchef-uat.imgix.net/recipes/34/e...</td>\n      <td>Preheat the oven to 180C / fan 160C / gas mark...</td>\n      <td>Fresh, sustainably caught cod fillet</td>\n      <td>Pan-fried cod, dill quinoa &amp; capers</td>\n      <td>Flaky, sustainably sourced cod, fibre-rich Bri...</td>\n      <td>1075</td>\n      <td>1550</td>\n      <td>2625</td>\n    </tr>\n  </tbody>\n</table>\n</div>"
     },
     "metadata": {},
     "execution_count": 24
    }
   ],
   "source": [
    "df_images[df_images['id']==34]"
   ]
  },
  {
   "cell_type": "code",
   "execution_count": 25,
   "metadata": {},
   "outputs": [
    {
     "output_type": "execute_result",
     "data": {
      "text/plain": "    Unnamed: 0 allergens  calories  carbs        cuisine  fat food_group  \\\n23          26    {Fish}       382     28  mediterranean   17       Fish   \n\n    protein  season          specials  id  cooking_time  \\\n23       33  summer  {'date night'\"}\"  34            25   \n\n                                            image_url  \\\n23  https://mindfulchef-uat.imgix.net/recipes/34/e...   \n\n                                         instructions  \\\n23  1. Preheat the oven to 180C / gas mark 4 and b...   \n\n                              key_ingredient  \\\n23  Fresh, sustainably caught haddock fillet   \n\n                                      title  \\\n23  Pan-fried haddock, dill quinoa & capers   \n\n                                          description  price_1p_pence  \\\n23  Capers are pickled flower buds with a unique f...            1075   \n\n    price_2p_pence  price_4p_pence  \n23            1550            2625  ",
      "text/html": "<div>\n<style scoped>\n    .dataframe tbody tr th:only-of-type {\n        vertical-align: middle;\n    }\n\n    .dataframe tbody tr th {\n        vertical-align: top;\n    }\n\n    .dataframe thead th {\n        text-align: right;\n    }\n</style>\n<table border=\"1\" class=\"dataframe\">\n  <thead>\n    <tr style=\"text-align: right;\">\n      <th></th>\n      <th>Unnamed: 0</th>\n      <th>allergens</th>\n      <th>calories</th>\n      <th>carbs</th>\n      <th>cuisine</th>\n      <th>fat</th>\n      <th>food_group</th>\n      <th>protein</th>\n      <th>season</th>\n      <th>specials</th>\n      <th>id</th>\n      <th>cooking_time</th>\n      <th>image_url</th>\n      <th>instructions</th>\n      <th>key_ingredient</th>\n      <th>title</th>\n      <th>description</th>\n      <th>price_1p_pence</th>\n      <th>price_2p_pence</th>\n      <th>price_4p_pence</th>\n    </tr>\n  </thead>\n  <tbody>\n    <tr>\n      <th>23</th>\n      <td>26</td>\n      <td>{Fish}</td>\n      <td>382</td>\n      <td>28</td>\n      <td>mediterranean</td>\n      <td>17</td>\n      <td>Fish</td>\n      <td>33</td>\n      <td>summer</td>\n      <td>{'date night'\"}\"</td>\n      <td>34</td>\n      <td>25</td>\n      <td>https://mindfulchef-uat.imgix.net/recipes/34/e...</td>\n      <td>1. Preheat the oven to 180C / gas mark 4 and b...</td>\n      <td>Fresh, sustainably caught haddock fillet</td>\n      <td>Pan-fried haddock, dill quinoa &amp; capers</td>\n      <td>Capers are pickled flower buds with a unique f...</td>\n      <td>1075</td>\n      <td>1550</td>\n      <td>2625</td>\n    </tr>\n  </tbody>\n</table>\n</div>"
     },
     "metadata": {},
     "execution_count": 25
    }
   ],
   "source": [
    "df_new[df_new['id']==34]"
   ]
  },
  {
   "cell_type": "code",
   "execution_count": 26,
   "metadata": {},
   "outputs": [
    {
     "output_type": "execute_result",
     "data": {
      "text/plain": "     Unnamed: 0                allergens  calories  carbs  cuisine  fat  \\\n0             0           {Mustard,Nuts}       474     26  british   23   \n1             1              {Sulphites}       715     67   indian   28   \n2             4       {Celery,Nuts,Soya}       479     36    asian   27   \n3             5         {Celery,Peanuts}       555     65  mexican   26   \n4             6                   {Nuts}       629     71   indian   28   \n..          ...                      ...       ...    ...      ...  ...   \n670         681       {Celery,Nuts,Soya}       707     38  italian   46   \n671         682                   {Fish}       856     89  mexican   34   \n672         683  {Sesame,Soya,Sulphites}       809    101    asian   24   \n673         684            {Sesame,Soya}       889    114    asian   29   \n674         685            {Sesame,Soya}       987    117    asian   35   \n\n    food_group  protein  season  \\\n0         Beef       45  spring   \n1      Chicken       50  spring   \n2        Vegan       31  spring   \n3        Vegan       23  summer   \n4        Vegan       23  winter   \n..         ...      ...     ...   \n670      Vegan       28  spring   \n671       Fish       54  spring   \n672       Beef       50  summer   \n673    Chicken       51  summer   \n674       Beef       57  summer   \n\n                                            specials    id  cooking_time  \\\n0    {'high protein'\",'\"low calorie'\",'\"low carb'\"}\"     1            25   \n1                {'high protein'\",'\"post workout'\"}\"     2            30   \n2                     {'low calorie'\",'\"low carb'\"}\"     5            30   \n3                                             {easy}     6            25   \n4                                 {'post workout'\"}\"     7            30   \n..                                               ...   ...           ...   \n670                                   {'low carb'\"}\"   960            30   \n671                                              NaN   999            15   \n672                                              NaN  1002            15   \n673                                              NaN  1005            15   \n674                                              NaN  1019            15   \n\n                                             image_url  \\\n0    https://mindfulchef-uat.imgix.net/recipes/1/2e...   \n1    https://mindfulchef-uat.imgix.net/recipes/2/ed...   \n2    https://mindfulchef-uat.imgix.net/recipes/5/33...   \n3    https://mindfulchef-uat.imgix.net/recipes/6/9c...   \n4    https://mindfulchef-uat.imgix.net/recipes/7/ba...   \n..                                                 ...   \n670  https://mindfulchef-uat.imgix.net/recipes/960/...   \n671  https://mindfulchef-uat.imgix.net/recipes/999/...   \n672  https://mindfulchef-uat.imgix.net/recipes/1002...   \n673  https://mindfulchef-uat.imgix.net/recipes/1005...   \n674  https://mindfulchef-uat.imgix.net/recipes/1019...   \n\n                                          instructions  \\\n0    1. Preheat the oven to 180C / gas mark 4.\\t\\t\\...   \n1    1. Boil a kettle. Rinse the black rice and add...   \n2    1. Boil a kettle. Dissolve the vegetable stock...   \n3    1. Boil a kettle. Dissolve the half vegetable ...   \n4    1. Peel and finely chop the garlic and onion. ...   \n..                                                 ...   \n670  1. Boil a kettle. Dissolve the half vegetable ...   \n671  1. Heat a medium-sized frying pan with 1/2 tbs...   \n672  1. Make the Korean-style sauce; in a small bow...   \n673  1. Preheat the oven to 180C / gas mark 5 and b...   \n674  1. Boil a kettle. \\r\\n\\r\\n2. Heat a frying pan...   \n\n                              key_ingredient  \\\n0    Grass-fed heritage breed Yorkshire beef   \n1          Free-range Norfolk chicken breast   \n2         Dragonfly organic extra-firm tofu    \n3                                Black beans   \n4                                    Lentils   \n..                                       ...   \n670              Plant Power organic tempeh    \n671     Fresh, sustainably caught cod fillet   \n672  Grass-fed heritage breed Yorkshire beef   \n673                       Duck breast fillet   \n674  Grass-fed heritage breed Yorkshire beef   \n\n                                                 title  \\\n0             Seared beef with spring vegetable medley   \n1                   Goan chicken curry with black rice   \n2    Vietnamese 'noodle' broth with shiitake mushrooms   \n3              Chipotle veggie kebabs with black beans   \n4          Lentil & sweet potato dahl with cauli rice*   \n..                                                 ...   \n670   Creamy sun-dried tomato pesto & tempeh casserole   \n671      Mexican cod with black bean salad & guacamole   \n672     Beef steak rice bowl, spicy Korean-style sauce   \n673  Sliced duck, Asian-style nectarine & noodle salad   \n674      Flat iron steak with sesame noodles & edamame   \n\n                                           description  price_1p_pence  \\\n0    We've paired a succulent seared steak with a m...             900   \n1    This Goan inspired chicken curry is made with ...             900   \n2    Historically served at sunrise and sunset, Vie...             900   \n3    Our vibrant chargrilled vegetable kebabs are m...             900   \n4    Our spiced red split lentil dahl is packed wit...             850   \n..                                                 ...             ...   \n670  A creamy mushroom, leek and cherry tomato cass...             900   \n671  Our sustainable cod fillet with crispy skin is...             900   \n672  Our grass-fed flat iron steak is pan-fried and...             900   \n673  Slices of succulent duck beast over a brown ri...             900   \n674  This hearty steak & sesame noodle salad makes ...             900   \n\n     price_2p_pence  price_4p_pence  \n0              1400            2400  \n1              1400            2400  \n2              1200            2400  \n3              1400            2400  \n4              1150            1975  \n..              ...             ...  \n670            1400            2400  \n671            1400            2400  \n672            1400            2400  \n673            1400            2400  \n674            1400            2400  \n\n[675 rows x 20 columns]",
      "text/html": "<div>\n<style scoped>\n    .dataframe tbody tr th:only-of-type {\n        vertical-align: middle;\n    }\n\n    .dataframe tbody tr th {\n        vertical-align: top;\n    }\n\n    .dataframe thead th {\n        text-align: right;\n    }\n</style>\n<table border=\"1\" class=\"dataframe\">\n  <thead>\n    <tr style=\"text-align: right;\">\n      <th></th>\n      <th>Unnamed: 0</th>\n      <th>allergens</th>\n      <th>calories</th>\n      <th>carbs</th>\n      <th>cuisine</th>\n      <th>fat</th>\n      <th>food_group</th>\n      <th>protein</th>\n      <th>season</th>\n      <th>specials</th>\n      <th>id</th>\n      <th>cooking_time</th>\n      <th>image_url</th>\n      <th>instructions</th>\n      <th>key_ingredient</th>\n      <th>title</th>\n      <th>description</th>\n      <th>price_1p_pence</th>\n      <th>price_2p_pence</th>\n      <th>price_4p_pence</th>\n    </tr>\n  </thead>\n  <tbody>\n    <tr>\n      <th>0</th>\n      <td>0</td>\n      <td>{Mustard,Nuts}</td>\n      <td>474</td>\n      <td>26</td>\n      <td>british</td>\n      <td>23</td>\n      <td>Beef</td>\n      <td>45</td>\n      <td>spring</td>\n      <td>{'high protein'\",'\"low calorie'\",'\"low carb'\"}\"</td>\n      <td>1</td>\n      <td>25</td>\n      <td>https://mindfulchef-uat.imgix.net/recipes/1/2e...</td>\n      <td>1. Preheat the oven to 180C / gas mark 4.\\t\\t\\...</td>\n      <td>Grass-fed heritage breed Yorkshire beef</td>\n      <td>Seared beef with spring vegetable medley</td>\n      <td>We've paired a succulent seared steak with a m...</td>\n      <td>900</td>\n      <td>1400</td>\n      <td>2400</td>\n    </tr>\n    <tr>\n      <th>1</th>\n      <td>1</td>\n      <td>{Sulphites}</td>\n      <td>715</td>\n      <td>67</td>\n      <td>indian</td>\n      <td>28</td>\n      <td>Chicken</td>\n      <td>50</td>\n      <td>spring</td>\n      <td>{'high protein'\",'\"post workout'\"}\"</td>\n      <td>2</td>\n      <td>30</td>\n      <td>https://mindfulchef-uat.imgix.net/recipes/2/ed...</td>\n      <td>1. Boil a kettle. Rinse the black rice and add...</td>\n      <td>Free-range Norfolk chicken breast</td>\n      <td>Goan chicken curry with black rice</td>\n      <td>This Goan inspired chicken curry is made with ...</td>\n      <td>900</td>\n      <td>1400</td>\n      <td>2400</td>\n    </tr>\n    <tr>\n      <th>2</th>\n      <td>4</td>\n      <td>{Celery,Nuts,Soya}</td>\n      <td>479</td>\n      <td>36</td>\n      <td>asian</td>\n      <td>27</td>\n      <td>Vegan</td>\n      <td>31</td>\n      <td>spring</td>\n      <td>{'low calorie'\",'\"low carb'\"}\"</td>\n      <td>5</td>\n      <td>30</td>\n      <td>https://mindfulchef-uat.imgix.net/recipes/5/33...</td>\n      <td>1. Boil a kettle. Dissolve the vegetable stock...</td>\n      <td>Dragonfly organic extra-firm tofu</td>\n      <td>Vietnamese 'noodle' broth with shiitake mushrooms</td>\n      <td>Historically served at sunrise and sunset, Vie...</td>\n      <td>900</td>\n      <td>1200</td>\n      <td>2400</td>\n    </tr>\n    <tr>\n      <th>3</th>\n      <td>5</td>\n      <td>{Celery,Peanuts}</td>\n      <td>555</td>\n      <td>65</td>\n      <td>mexican</td>\n      <td>26</td>\n      <td>Vegan</td>\n      <td>23</td>\n      <td>summer</td>\n      <td>{easy}</td>\n      <td>6</td>\n      <td>25</td>\n      <td>https://mindfulchef-uat.imgix.net/recipes/6/9c...</td>\n      <td>1. Boil a kettle. Dissolve the half vegetable ...</td>\n      <td>Black beans</td>\n      <td>Chipotle veggie kebabs with black beans</td>\n      <td>Our vibrant chargrilled vegetable kebabs are m...</td>\n      <td>900</td>\n      <td>1400</td>\n      <td>2400</td>\n    </tr>\n    <tr>\n      <th>4</th>\n      <td>6</td>\n      <td>{Nuts}</td>\n      <td>629</td>\n      <td>71</td>\n      <td>indian</td>\n      <td>28</td>\n      <td>Vegan</td>\n      <td>23</td>\n      <td>winter</td>\n      <td>{'post workout'\"}\"</td>\n      <td>7</td>\n      <td>30</td>\n      <td>https://mindfulchef-uat.imgix.net/recipes/7/ba...</td>\n      <td>1. Peel and finely chop the garlic and onion. ...</td>\n      <td>Lentils</td>\n      <td>Lentil &amp; sweet potato dahl with cauli rice*</td>\n      <td>Our spiced red split lentil dahl is packed wit...</td>\n      <td>850</td>\n      <td>1150</td>\n      <td>1975</td>\n    </tr>\n    <tr>\n      <th>...</th>\n      <td>...</td>\n      <td>...</td>\n      <td>...</td>\n      <td>...</td>\n      <td>...</td>\n      <td>...</td>\n      <td>...</td>\n      <td>...</td>\n      <td>...</td>\n      <td>...</td>\n      <td>...</td>\n      <td>...</td>\n      <td>...</td>\n      <td>...</td>\n      <td>...</td>\n      <td>...</td>\n      <td>...</td>\n      <td>...</td>\n      <td>...</td>\n      <td>...</td>\n    </tr>\n    <tr>\n      <th>670</th>\n      <td>681</td>\n      <td>{Celery,Nuts,Soya}</td>\n      <td>707</td>\n      <td>38</td>\n      <td>italian</td>\n      <td>46</td>\n      <td>Vegan</td>\n      <td>28</td>\n      <td>spring</td>\n      <td>{'low carb'\"}\"</td>\n      <td>960</td>\n      <td>30</td>\n      <td>https://mindfulchef-uat.imgix.net/recipes/960/...</td>\n      <td>1. Boil a kettle. Dissolve the half vegetable ...</td>\n      <td>Plant Power organic tempeh</td>\n      <td>Creamy sun-dried tomato pesto &amp; tempeh casserole</td>\n      <td>A creamy mushroom, leek and cherry tomato cass...</td>\n      <td>900</td>\n      <td>1400</td>\n      <td>2400</td>\n    </tr>\n    <tr>\n      <th>671</th>\n      <td>682</td>\n      <td>{Fish}</td>\n      <td>856</td>\n      <td>89</td>\n      <td>mexican</td>\n      <td>34</td>\n      <td>Fish</td>\n      <td>54</td>\n      <td>spring</td>\n      <td>NaN</td>\n      <td>999</td>\n      <td>15</td>\n      <td>https://mindfulchef-uat.imgix.net/recipes/999/...</td>\n      <td>1. Heat a medium-sized frying pan with 1/2 tbs...</td>\n      <td>Fresh, sustainably caught cod fillet</td>\n      <td>Mexican cod with black bean salad &amp; guacamole</td>\n      <td>Our sustainable cod fillet with crispy skin is...</td>\n      <td>900</td>\n      <td>1400</td>\n      <td>2400</td>\n    </tr>\n    <tr>\n      <th>672</th>\n      <td>683</td>\n      <td>{Sesame,Soya,Sulphites}</td>\n      <td>809</td>\n      <td>101</td>\n      <td>asian</td>\n      <td>24</td>\n      <td>Beef</td>\n      <td>50</td>\n      <td>summer</td>\n      <td>NaN</td>\n      <td>1002</td>\n      <td>15</td>\n      <td>https://mindfulchef-uat.imgix.net/recipes/1002...</td>\n      <td>1. Make the Korean-style sauce; in a small bow...</td>\n      <td>Grass-fed heritage breed Yorkshire beef</td>\n      <td>Beef steak rice bowl, spicy Korean-style sauce</td>\n      <td>Our grass-fed flat iron steak is pan-fried and...</td>\n      <td>900</td>\n      <td>1400</td>\n      <td>2400</td>\n    </tr>\n    <tr>\n      <th>673</th>\n      <td>684</td>\n      <td>{Sesame,Soya}</td>\n      <td>889</td>\n      <td>114</td>\n      <td>asian</td>\n      <td>29</td>\n      <td>Chicken</td>\n      <td>51</td>\n      <td>summer</td>\n      <td>NaN</td>\n      <td>1005</td>\n      <td>15</td>\n      <td>https://mindfulchef-uat.imgix.net/recipes/1005...</td>\n      <td>1. Preheat the oven to 180C / gas mark 5 and b...</td>\n      <td>Duck breast fillet</td>\n      <td>Sliced duck, Asian-style nectarine &amp; noodle salad</td>\n      <td>Slices of succulent duck beast over a brown ri...</td>\n      <td>900</td>\n      <td>1400</td>\n      <td>2400</td>\n    </tr>\n    <tr>\n      <th>674</th>\n      <td>685</td>\n      <td>{Sesame,Soya}</td>\n      <td>987</td>\n      <td>117</td>\n      <td>asian</td>\n      <td>35</td>\n      <td>Beef</td>\n      <td>57</td>\n      <td>summer</td>\n      <td>NaN</td>\n      <td>1019</td>\n      <td>15</td>\n      <td>https://mindfulchef-uat.imgix.net/recipes/1019...</td>\n      <td>1. Boil a kettle. \\r\\n\\r\\n2. Heat a frying pan...</td>\n      <td>Grass-fed heritage breed Yorkshire beef</td>\n      <td>Flat iron steak with sesame noodles &amp; edamame</td>\n      <td>This hearty steak &amp; sesame noodle salad makes ...</td>\n      <td>900</td>\n      <td>1400</td>\n      <td>2400</td>\n    </tr>\n  </tbody>\n</table>\n<p>675 rows × 20 columns</p>\n</div>"
     },
     "metadata": {},
     "execution_count": 26
    }
   ],
   "source": [
    "df_new"
   ]
  }
 ]
}