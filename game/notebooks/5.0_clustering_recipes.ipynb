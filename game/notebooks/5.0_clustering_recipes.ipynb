{
 "cells": [
  {
   "cell_type": "code",
   "execution_count": 1,
   "metadata": {
    "scrolled": true
   },
   "outputs": [],
   "source": [
    "#! jupyter kernelspec list ## to list path to kernel environments"
   ]
  },
  {
   "cell_type": "code",
   "execution_count": 1,
   "metadata": {
    "scrolled": true
   },
   "outputs": [
    {
     "name": "stderr",
     "output_type": "stream",
     "text": [
      "/opt/anaconda3/lib/python3.7/site-packages/past/types/oldstr.py:5: DeprecationWarning: Using or importing the ABCs from 'collections' instead of from 'collections.abc' is deprecated, and in 3.8 it will stop working\n",
      "  from collections import Iterable\n",
      "/opt/anaconda3/lib/python3.7/site-packages/past/builtins/misc.py:4: DeprecationWarning: Using or importing the ABCs from 'collections' instead of from 'collections.abc' is deprecated, and in 3.8 it will stop working\n",
      "  from collections import Mapping\n",
      "/opt/anaconda3/lib/python3.7/site-packages/nltk/decorators.py:68: DeprecationWarning: `formatargspec` is deprecated since Python 3.5. Use `signature` and the `Signature` object directly\n",
      "  regargs, varargs, varkwargs, defaults, formatvalue=lambda value: \"\"\n",
      "/opt/anaconda3/lib/python3.7/site-packages/nltk/lm/counter.py:15: DeprecationWarning: Using or importing the ABCs from 'collections' instead of from 'collections.abc' is deprecated, and in 3.8 it will stop working\n",
      "  from collections import Sequence, defaultdict\n",
      "/opt/anaconda3/lib/python3.7/site-packages/statsmodels/tools/_testing.py:19: FutureWarning: pandas.util.testing is deprecated. Use the functions in the public API at pandas.testing instead.\n",
      "  import pandas.util.testing as tm\n",
      "[nltk_data] Downloading package stopwords to\n",
      "[nltk_data]     /Users/valentinanotararigo/nltk_data...\n",
      "[nltk_data]   Package stopwords is already up-to-date!\n"
     ]
    }
   ],
   "source": [
    "import pandas as pd\n",
    "import numpy as np\n",
    "import matplotlib.pyplot as plt\n",
    "from loguru import logger\n",
    "from pprint import pprint\n",
    "import re\n",
    "\n",
    "from sklearn.preprocessing import MinMaxScaler\n",
    "from sklearn import decomposition\n",
    "from sklearn.cluster import KMeans\n",
    "from scipy.spatial.distance import cdist\n",
    "\n",
    "# Gensim\n",
    "import gensim\n",
    "import gensim.corpora as corpora\n",
    "from gensim.models import CoherenceModel\n",
    "\n",
    "import pyLDAvis\n",
    "import pyLDAvis.gensim \n",
    "\n",
    "from nltk.corpus import stopwords\n",
    "\n",
    "from game import clustering_utils\n",
    "%matplotlib inline"
   ]
  },
  {
   "cell_type": "code",
   "execution_count": 2,
   "metadata": {},
   "outputs": [
    {
     "name": "stderr",
     "output_type": "stream",
     "text": [
      "/Users/valentinanotararigo/.local/lib/python3.7/site-packages/ipykernel/ipkernel.py:287: DeprecationWarning: `should_run_async` will not call `transform_cell` automatically in the future. Please pass the result to `transformed_cell` argument and any exception that happen during thetransform in `preprocessing_exc_tuple` in IPython 7.17 and above.\n",
      "  and should_run_async(code)\n"
     ]
    }
   ],
   "source": [
    "#! pip install -U spacy\n",
    "#! pip install --upgrade gensim\n",
    "#! pip install pyldavis"
   ]
  },
  {
   "cell_type": "code",
   "execution_count": 3,
   "metadata": {
    "scrolled": true
   },
   "outputs": [
    {
     "name": "stderr",
     "output_type": "stream",
     "text": [
      "/Users/valentinanotararigo/.local/lib/python3.7/site-packages/ipykernel/ipkernel.py:287: DeprecationWarning: `should_run_async` will not call `transform_cell` automatically in the future. Please pass the result to `transformed_cell` argument and any exception that happen during thetransform in `preprocessing_exc_tuple` in IPython 7.17 and above.\n",
      "  and should_run_async(code)\n"
     ]
    }
   ],
   "source": [
    "data = pd.read_csv('../data/recipe_table.csv', sep=';')"
   ]
  },
  {
   "cell_type": "code",
   "execution_count": 4,
   "metadata": {
    "scrolled": false
   },
   "outputs": [
    {
     "name": "stderr",
     "output_type": "stream",
     "text": [
      "/Users/valentinanotararigo/.local/lib/python3.7/site-packages/ipykernel/ipkernel.py:287: DeprecationWarning: `should_run_async` will not call `transform_cell` automatically in the future. Please pass the result to `transformed_cell` argument and any exception that happen during thetransform in `preprocessing_exc_tuple` in IPython 7.17 and above.\n",
      "  and should_run_async(code)\n"
     ]
    },
    {
     "data": {
      "text/html": [
       "<div>\n",
       "<style scoped>\n",
       "    .dataframe tbody tr th:only-of-type {\n",
       "        vertical-align: middle;\n",
       "    }\n",
       "\n",
       "    .dataframe tbody tr th {\n",
       "        vertical-align: top;\n",
       "    }\n",
       "\n",
       "    .dataframe thead th {\n",
       "        text-align: right;\n",
       "    }\n",
       "</style>\n",
       "<table border=\"1\" class=\"dataframe\">\n",
       "  <thead>\n",
       "    <tr style=\"text-align: right;\">\n",
       "      <th></th>\n",
       "      <th>Unnamed: 0</th>\n",
       "      <th>allergens</th>\n",
       "      <th>calories</th>\n",
       "      <th>carbs</th>\n",
       "      <th>cuisine</th>\n",
       "      <th>fat</th>\n",
       "      <th>food_group</th>\n",
       "      <th>protein</th>\n",
       "      <th>season</th>\n",
       "      <th>specials</th>\n",
       "      <th>id</th>\n",
       "      <th>cooking_time</th>\n",
       "      <th>image_url</th>\n",
       "      <th>instructions</th>\n",
       "      <th>key_ingredient</th>\n",
       "      <th>title</th>\n",
       "      <th>description</th>\n",
       "      <th>price_1p_pence</th>\n",
       "      <th>price_2p_pence</th>\n",
       "      <th>price_4p_pence</th>\n",
       "    </tr>\n",
       "  </thead>\n",
       "  <tbody>\n",
       "    <tr>\n",
       "      <th>0</th>\n",
       "      <td>0</td>\n",
       "      <td>{Mustard,Nuts}</td>\n",
       "      <td>474</td>\n",
       "      <td>26</td>\n",
       "      <td>british</td>\n",
       "      <td>23</td>\n",
       "      <td>Beef</td>\n",
       "      <td>45</td>\n",
       "      <td>spring</td>\n",
       "      <td>{'high protein'\",'\"low calorie'\",'\"low carb'\"}\"</td>\n",
       "      <td>1</td>\n",
       "      <td>25</td>\n",
       "      <td>https://mindfulchef-uat.imgix.net/recipes/1/2e...</td>\n",
       "      <td>1. Preheat the oven to 180C / gas mark 4.\\t\\t\\...</td>\n",
       "      <td>Grass-fed heritage breed Yorkshire beef</td>\n",
       "      <td>Seared beef with spring vegetable medley</td>\n",
       "      <td>We've paired a succulent seared steak with a m...</td>\n",
       "      <td>900</td>\n",
       "      <td>1400</td>\n",
       "      <td>2400</td>\n",
       "    </tr>\n",
       "    <tr>\n",
       "      <th>1</th>\n",
       "      <td>1</td>\n",
       "      <td>{Sulphites}</td>\n",
       "      <td>715</td>\n",
       "      <td>67</td>\n",
       "      <td>indian</td>\n",
       "      <td>28</td>\n",
       "      <td>Chicken</td>\n",
       "      <td>50</td>\n",
       "      <td>spring</td>\n",
       "      <td>{'high protein'\",'\"post workout'\"}\"</td>\n",
       "      <td>2</td>\n",
       "      <td>30</td>\n",
       "      <td>https://mindfulchef-uat.imgix.net/recipes/2/ed...</td>\n",
       "      <td>1. Boil a kettle. Rinse the black rice and add...</td>\n",
       "      <td>Free-range Norfolk chicken breast</td>\n",
       "      <td>Goan chicken curry with black rice</td>\n",
       "      <td>This Goan inspired chicken curry is made with ...</td>\n",
       "      <td>900</td>\n",
       "      <td>1400</td>\n",
       "      <td>2400</td>\n",
       "    </tr>\n",
       "    <tr>\n",
       "      <th>2</th>\n",
       "      <td>4</td>\n",
       "      <td>{Celery,Nuts,Soya}</td>\n",
       "      <td>479</td>\n",
       "      <td>36</td>\n",
       "      <td>asian</td>\n",
       "      <td>27</td>\n",
       "      <td>Vegan</td>\n",
       "      <td>31</td>\n",
       "      <td>spring</td>\n",
       "      <td>{'low calorie'\",'\"low carb'\"}\"</td>\n",
       "      <td>5</td>\n",
       "      <td>30</td>\n",
       "      <td>https://mindfulchef-uat.imgix.net/recipes/5/33...</td>\n",
       "      <td>1. Boil a kettle. Dissolve the vegetable stock...</td>\n",
       "      <td>Dragonfly organic extra-firm tofu</td>\n",
       "      <td>Vietnamese 'noodle' broth with shiitake mushrooms</td>\n",
       "      <td>Historically served at sunrise and sunset, Vie...</td>\n",
       "      <td>900</td>\n",
       "      <td>1200</td>\n",
       "      <td>2400</td>\n",
       "    </tr>\n",
       "    <tr>\n",
       "      <th>3</th>\n",
       "      <td>5</td>\n",
       "      <td>{Celery,Peanuts}</td>\n",
       "      <td>555</td>\n",
       "      <td>65</td>\n",
       "      <td>mexican</td>\n",
       "      <td>26</td>\n",
       "      <td>Vegan</td>\n",
       "      <td>23</td>\n",
       "      <td>summer</td>\n",
       "      <td>{easy}</td>\n",
       "      <td>6</td>\n",
       "      <td>25</td>\n",
       "      <td>https://mindfulchef-uat.imgix.net/recipes/6/9c...</td>\n",
       "      <td>1. Boil a kettle. Dissolve the half vegetable ...</td>\n",
       "      <td>Black beans</td>\n",
       "      <td>Chipotle veggie kebabs with black beans</td>\n",
       "      <td>Our vibrant chargrilled vegetable kebabs are m...</td>\n",
       "      <td>900</td>\n",
       "      <td>1400</td>\n",
       "      <td>2400</td>\n",
       "    </tr>\n",
       "    <tr>\n",
       "      <th>4</th>\n",
       "      <td>6</td>\n",
       "      <td>{Nuts}</td>\n",
       "      <td>629</td>\n",
       "      <td>71</td>\n",
       "      <td>indian</td>\n",
       "      <td>28</td>\n",
       "      <td>Vegan</td>\n",
       "      <td>23</td>\n",
       "      <td>winter</td>\n",
       "      <td>{'post workout'\"}\"</td>\n",
       "      <td>7</td>\n",
       "      <td>30</td>\n",
       "      <td>https://mindfulchef-uat.imgix.net/recipes/7/ba...</td>\n",
       "      <td>1. Peel and finely chop the garlic and onion. ...</td>\n",
       "      <td>Lentils</td>\n",
       "      <td>Lentil &amp; sweet potato dahl with cauli rice*</td>\n",
       "      <td>Our spiced red split lentil dahl is packed wit...</td>\n",
       "      <td>850</td>\n",
       "      <td>1150</td>\n",
       "      <td>1975</td>\n",
       "    </tr>\n",
       "  </tbody>\n",
       "</table>\n",
       "</div>"
      ],
      "text/plain": [
       "   Unnamed: 0           allergens  calories  carbs  cuisine  fat food_group  \\\n",
       "0           0      {Mustard,Nuts}       474     26  british   23       Beef   \n",
       "1           1         {Sulphites}       715     67   indian   28    Chicken   \n",
       "2           4  {Celery,Nuts,Soya}       479     36    asian   27      Vegan   \n",
       "3           5    {Celery,Peanuts}       555     65  mexican   26      Vegan   \n",
       "4           6              {Nuts}       629     71   indian   28      Vegan   \n",
       "\n",
       "   protein  season                                         specials  id  \\\n",
       "0       45  spring  {'high protein'\",'\"low calorie'\",'\"low carb'\"}\"   1   \n",
       "1       50  spring              {'high protein'\",'\"post workout'\"}\"   2   \n",
       "2       31  spring                   {'low calorie'\",'\"low carb'\"}\"   5   \n",
       "3       23  summer                                           {easy}   6   \n",
       "4       23  winter                               {'post workout'\"}\"   7   \n",
       "\n",
       "   cooking_time                                          image_url  \\\n",
       "0            25  https://mindfulchef-uat.imgix.net/recipes/1/2e...   \n",
       "1            30  https://mindfulchef-uat.imgix.net/recipes/2/ed...   \n",
       "2            30  https://mindfulchef-uat.imgix.net/recipes/5/33...   \n",
       "3            25  https://mindfulchef-uat.imgix.net/recipes/6/9c...   \n",
       "4            30  https://mindfulchef-uat.imgix.net/recipes/7/ba...   \n",
       "\n",
       "                                        instructions  \\\n",
       "0  1. Preheat the oven to 180C / gas mark 4.\\t\\t\\...   \n",
       "1  1. Boil a kettle. Rinse the black rice and add...   \n",
       "2  1. Boil a kettle. Dissolve the vegetable stock...   \n",
       "3  1. Boil a kettle. Dissolve the half vegetable ...   \n",
       "4  1. Peel and finely chop the garlic and onion. ...   \n",
       "\n",
       "                            key_ingredient  \\\n",
       "0  Grass-fed heritage breed Yorkshire beef   \n",
       "1        Free-range Norfolk chicken breast   \n",
       "2       Dragonfly organic extra-firm tofu    \n",
       "3                              Black beans   \n",
       "4                                  Lentils   \n",
       "\n",
       "                                               title  \\\n",
       "0           Seared beef with spring vegetable medley   \n",
       "1                 Goan chicken curry with black rice   \n",
       "2  Vietnamese 'noodle' broth with shiitake mushrooms   \n",
       "3            Chipotle veggie kebabs with black beans   \n",
       "4        Lentil & sweet potato dahl with cauli rice*   \n",
       "\n",
       "                                         description  price_1p_pence  \\\n",
       "0  We've paired a succulent seared steak with a m...             900   \n",
       "1  This Goan inspired chicken curry is made with ...             900   \n",
       "2  Historically served at sunrise and sunset, Vie...             900   \n",
       "3  Our vibrant chargrilled vegetable kebabs are m...             900   \n",
       "4  Our spiced red split lentil dahl is packed wit...             850   \n",
       "\n",
       "   price_2p_pence  price_4p_pence  \n",
       "0            1400            2400  \n",
       "1            1400            2400  \n",
       "2            1200            2400  \n",
       "3            1400            2400  \n",
       "4            1150            1975  "
      ]
     },
     "execution_count": 4,
     "metadata": {},
     "output_type": "execute_result"
    }
   ],
   "source": [
    "data.head()"
   ]
  },
  {
   "cell_type": "code",
   "execution_count": 5,
   "metadata": {
    "scrolled": true
   },
   "outputs": [
    {
     "name": "stderr",
     "output_type": "stream",
     "text": [
      "/Users/valentinanotararigo/.local/lib/python3.7/site-packages/ipykernel/ipkernel.py:287: DeprecationWarning: `should_run_async` will not call `transform_cell` automatically in the future. Please pass the result to `transformed_cell` argument and any exception that happen during thetransform in `preprocessing_exc_tuple` in IPython 7.17 and above.\n",
      "  and should_run_async(code)\n"
     ]
    },
    {
     "data": {
      "text/plain": [
       "Unnamed: 0          0\n",
       "allergens          67\n",
       "calories            0\n",
       "carbs               0\n",
       "cuisine             1\n",
       "fat                 0\n",
       "food_group          0\n",
       "protein             0\n",
       "season              1\n",
       "specials          306\n",
       "id                  0\n",
       "cooking_time        0\n",
       "image_url           0\n",
       "instructions        0\n",
       "key_ingredient      0\n",
       "title               0\n",
       "description         0\n",
       "price_1p_pence      0\n",
       "price_2p_pence      0\n",
       "price_4p_pence      0\n",
       "dtype: int64"
      ]
     },
     "execution_count": 5,
     "metadata": {},
     "output_type": "execute_result"
    }
   ],
   "source": [
    "data.isna().sum()"
   ]
  },
  {
   "cell_type": "markdown",
   "metadata": {},
   "source": [
    "### Drop columns:"
   ]
  },
  {
   "cell_type": "code",
   "execution_count": 6,
   "metadata": {},
   "outputs": [
    {
     "name": "stderr",
     "output_type": "stream",
     "text": [
      "/Users/valentinanotararigo/.local/lib/python3.7/site-packages/ipykernel/ipkernel.py:287: DeprecationWarning: `should_run_async` will not call `transform_cell` automatically in the future. Please pass the result to `transformed_cell` argument and any exception that happen during thetransform in `preprocessing_exc_tuple` in IPython 7.17 and above.\n",
      "  and should_run_async(code)\n",
      "2020-09-21 09:28:39.545 | INFO     | game.clustering_utils:drop_columns:181 - Dropping columns: ['Unnamed: 0', 'specials', 'image_url', 'instructions']\n"
     ]
    }
   ],
   "source": [
    "data = clustering_utils.drop_columns(df=data, columns=[\n",
    "    \"Unnamed: 0\",\n",
    "    \"specials\", \n",
    "    \"image_url\",\n",
    "    \"instructions\"\n",
    "    ])"
   ]
  },
  {
   "cell_type": "code",
   "execution_count": 7,
   "metadata": {},
   "outputs": [
    {
     "name": "stderr",
     "output_type": "stream",
     "text": [
      "/Users/valentinanotararigo/.local/lib/python3.7/site-packages/ipykernel/ipkernel.py:287: DeprecationWarning: `should_run_async` will not call `transform_cell` automatically in the future. Please pass the result to `transformed_cell` argument and any exception that happen during thetransform in `preprocessing_exc_tuple` in IPython 7.17 and above.\n",
      "  and should_run_async(code)\n"
     ]
    },
    {
     "data": {
      "text/html": [
       "<div>\n",
       "<style scoped>\n",
       "    .dataframe tbody tr th:only-of-type {\n",
       "        vertical-align: middle;\n",
       "    }\n",
       "\n",
       "    .dataframe tbody tr th {\n",
       "        vertical-align: top;\n",
       "    }\n",
       "\n",
       "    .dataframe thead th {\n",
       "        text-align: right;\n",
       "    }\n",
       "</style>\n",
       "<table border=\"1\" class=\"dataframe\">\n",
       "  <thead>\n",
       "    <tr style=\"text-align: right;\">\n",
       "      <th></th>\n",
       "      <th>allergens</th>\n",
       "      <th>calories</th>\n",
       "      <th>carbs</th>\n",
       "      <th>cuisine</th>\n",
       "      <th>fat</th>\n",
       "      <th>food_group</th>\n",
       "      <th>protein</th>\n",
       "      <th>season</th>\n",
       "      <th>id</th>\n",
       "      <th>cooking_time</th>\n",
       "      <th>key_ingredient</th>\n",
       "      <th>title</th>\n",
       "      <th>description</th>\n",
       "      <th>price_1p_pence</th>\n",
       "      <th>price_2p_pence</th>\n",
       "      <th>price_4p_pence</th>\n",
       "    </tr>\n",
       "  </thead>\n",
       "  <tbody>\n",
       "    <tr>\n",
       "      <th>0</th>\n",
       "      <td>{Mustard,Nuts}</td>\n",
       "      <td>474</td>\n",
       "      <td>26</td>\n",
       "      <td>british</td>\n",
       "      <td>23</td>\n",
       "      <td>Beef</td>\n",
       "      <td>45</td>\n",
       "      <td>spring</td>\n",
       "      <td>1</td>\n",
       "      <td>25</td>\n",
       "      <td>Grass-fed heritage breed Yorkshire beef</td>\n",
       "      <td>Seared beef with spring vegetable medley</td>\n",
       "      <td>We've paired a succulent seared steak with a m...</td>\n",
       "      <td>900</td>\n",
       "      <td>1400</td>\n",
       "      <td>2400</td>\n",
       "    </tr>\n",
       "    <tr>\n",
       "      <th>1</th>\n",
       "      <td>{Sulphites}</td>\n",
       "      <td>715</td>\n",
       "      <td>67</td>\n",
       "      <td>indian</td>\n",
       "      <td>28</td>\n",
       "      <td>Chicken</td>\n",
       "      <td>50</td>\n",
       "      <td>spring</td>\n",
       "      <td>2</td>\n",
       "      <td>30</td>\n",
       "      <td>Free-range Norfolk chicken breast</td>\n",
       "      <td>Goan chicken curry with black rice</td>\n",
       "      <td>This Goan inspired chicken curry is made with ...</td>\n",
       "      <td>900</td>\n",
       "      <td>1400</td>\n",
       "      <td>2400</td>\n",
       "    </tr>\n",
       "    <tr>\n",
       "      <th>2</th>\n",
       "      <td>{Celery,Nuts,Soya}</td>\n",
       "      <td>479</td>\n",
       "      <td>36</td>\n",
       "      <td>asian</td>\n",
       "      <td>27</td>\n",
       "      <td>Vegan</td>\n",
       "      <td>31</td>\n",
       "      <td>spring</td>\n",
       "      <td>5</td>\n",
       "      <td>30</td>\n",
       "      <td>Dragonfly organic extra-firm tofu</td>\n",
       "      <td>Vietnamese 'noodle' broth with shiitake mushrooms</td>\n",
       "      <td>Historically served at sunrise and sunset, Vie...</td>\n",
       "      <td>900</td>\n",
       "      <td>1200</td>\n",
       "      <td>2400</td>\n",
       "    </tr>\n",
       "    <tr>\n",
       "      <th>3</th>\n",
       "      <td>{Celery,Peanuts}</td>\n",
       "      <td>555</td>\n",
       "      <td>65</td>\n",
       "      <td>mexican</td>\n",
       "      <td>26</td>\n",
       "      <td>Vegan</td>\n",
       "      <td>23</td>\n",
       "      <td>summer</td>\n",
       "      <td>6</td>\n",
       "      <td>25</td>\n",
       "      <td>Black beans</td>\n",
       "      <td>Chipotle veggie kebabs with black beans</td>\n",
       "      <td>Our vibrant chargrilled vegetable kebabs are m...</td>\n",
       "      <td>900</td>\n",
       "      <td>1400</td>\n",
       "      <td>2400</td>\n",
       "    </tr>\n",
       "    <tr>\n",
       "      <th>4</th>\n",
       "      <td>{Nuts}</td>\n",
       "      <td>629</td>\n",
       "      <td>71</td>\n",
       "      <td>indian</td>\n",
       "      <td>28</td>\n",
       "      <td>Vegan</td>\n",
       "      <td>23</td>\n",
       "      <td>winter</td>\n",
       "      <td>7</td>\n",
       "      <td>30</td>\n",
       "      <td>Lentils</td>\n",
       "      <td>Lentil &amp; sweet potato dahl with cauli rice*</td>\n",
       "      <td>Our spiced red split lentil dahl is packed wit...</td>\n",
       "      <td>850</td>\n",
       "      <td>1150</td>\n",
       "      <td>1975</td>\n",
       "    </tr>\n",
       "  </tbody>\n",
       "</table>\n",
       "</div>"
      ],
      "text/plain": [
       "            allergens  calories  carbs  cuisine  fat food_group  protein  \\\n",
       "0      {Mustard,Nuts}       474     26  british   23       Beef       45   \n",
       "1         {Sulphites}       715     67   indian   28    Chicken       50   \n",
       "2  {Celery,Nuts,Soya}       479     36    asian   27      Vegan       31   \n",
       "3    {Celery,Peanuts}       555     65  mexican   26      Vegan       23   \n",
       "4              {Nuts}       629     71   indian   28      Vegan       23   \n",
       "\n",
       "   season  id  cooking_time                           key_ingredient  \\\n",
       "0  spring   1            25  Grass-fed heritage breed Yorkshire beef   \n",
       "1  spring   2            30        Free-range Norfolk chicken breast   \n",
       "2  spring   5            30       Dragonfly organic extra-firm tofu    \n",
       "3  summer   6            25                              Black beans   \n",
       "4  winter   7            30                                  Lentils   \n",
       "\n",
       "                                               title  \\\n",
       "0           Seared beef with spring vegetable medley   \n",
       "1                 Goan chicken curry with black rice   \n",
       "2  Vietnamese 'noodle' broth with shiitake mushrooms   \n",
       "3            Chipotle veggie kebabs with black beans   \n",
       "4        Lentil & sweet potato dahl with cauli rice*   \n",
       "\n",
       "                                         description  price_1p_pence  \\\n",
       "0  We've paired a succulent seared steak with a m...             900   \n",
       "1  This Goan inspired chicken curry is made with ...             900   \n",
       "2  Historically served at sunrise and sunset, Vie...             900   \n",
       "3  Our vibrant chargrilled vegetable kebabs are m...             900   \n",
       "4  Our spiced red split lentil dahl is packed wit...             850   \n",
       "\n",
       "   price_2p_pence  price_4p_pence  \n",
       "0            1400            2400  \n",
       "1            1400            2400  \n",
       "2            1200            2400  \n",
       "3            1400            2400  \n",
       "4            1150            1975  "
      ]
     },
     "execution_count": 7,
     "metadata": {},
     "output_type": "execute_result"
    }
   ],
   "source": [
    "data.head()"
   ]
  },
  {
   "cell_type": "code",
   "execution_count": 8,
   "metadata": {},
   "outputs": [
    {
     "name": "stderr",
     "output_type": "stream",
     "text": [
      "/Users/valentinanotararigo/.local/lib/python3.7/site-packages/ipykernel/ipkernel.py:287: DeprecationWarning: `should_run_async` will not call `transform_cell` automatically in the future. Please pass the result to `transformed_cell` argument and any exception that happen during thetransform in `preprocessing_exc_tuple` in IPython 7.17 and above.\n",
      "  and should_run_async(code)\n"
     ]
    },
    {
     "data": {
      "text/plain": [
       "allergens         67\n",
       "calories           0\n",
       "carbs              0\n",
       "cuisine            1\n",
       "fat                0\n",
       "food_group         0\n",
       "protein            0\n",
       "season             1\n",
       "id                 0\n",
       "cooking_time       0\n",
       "key_ingredient     0\n",
       "title              0\n",
       "description        0\n",
       "price_1p_pence     0\n",
       "price_2p_pence     0\n",
       "price_4p_pence     0\n",
       "dtype: int64"
      ]
     },
     "execution_count": 8,
     "metadata": {},
     "output_type": "execute_result"
    }
   ],
   "source": [
    "data.isna().sum()"
   ]
  },
  {
   "cell_type": "code",
   "execution_count": 9,
   "metadata": {},
   "outputs": [
    {
     "name": "stderr",
     "output_type": "stream",
     "text": [
      "/Users/valentinanotararigo/.local/lib/python3.7/site-packages/ipykernel/ipkernel.py:287: DeprecationWarning: `should_run_async` will not call `transform_cell` automatically in the future. Please pass the result to `transformed_cell` argument and any exception that happen during thetransform in `preprocessing_exc_tuple` in IPython 7.17 and above.\n",
      "  and should_run_async(code)\n"
     ]
    }
   ],
   "source": [
    "#data = data.dropna()\n",
    "#data.isna().sum()"
   ]
  },
  {
   "cell_type": "code",
   "execution_count": 10,
   "metadata": {},
   "outputs": [
    {
     "name": "stderr",
     "output_type": "stream",
     "text": [
      "/Users/valentinanotararigo/.local/lib/python3.7/site-packages/ipykernel/ipkernel.py:287: DeprecationWarning: `should_run_async` will not call `transform_cell` automatically in the future. Please pass the result to `transformed_cell` argument and any exception that happen during thetransform in `preprocessing_exc_tuple` in IPython 7.17 and above.\n",
      "  and should_run_async(code)\n"
     ]
    },
    {
     "data": {
      "text/plain": [
       "675"
      ]
     },
     "execution_count": 10,
     "metadata": {},
     "output_type": "execute_result"
    }
   ],
   "source": [
    "len(data)"
   ]
  },
  {
   "cell_type": "markdown",
   "metadata": {},
   "source": [
    "### Fill nan values:"
   ]
  },
  {
   "cell_type": "code",
   "execution_count": 11,
   "metadata": {},
   "outputs": [
    {
     "name": "stderr",
     "output_type": "stream",
     "text": [
      "/Users/valentinanotararigo/.local/lib/python3.7/site-packages/ipykernel/ipkernel.py:287: DeprecationWarning: `should_run_async` will not call `transform_cell` automatically in the future. Please pass the result to `transformed_cell` argument and any exception that happen during thetransform in `preprocessing_exc_tuple` in IPython 7.17 and above.\n",
      "  and should_run_async(code)\n",
      "2020-09-21 09:28:46.237 | INFO     | game.clustering_utils:fill_missing_values:187 - Filling nan values of column cuisine with other\n",
      "2020-09-21 09:28:46.241 | INFO     | game.clustering_utils:fill_missing_values:187 - Filling nan values of column season with other\n"
     ]
    }
   ],
   "source": [
    "#data = clustering_utils.fill_missing_values(df=data, column= \"food_group\", name='other')\n",
    "data = clustering_utils.fill_missing_values(df=data, column= \"cuisine\", name='other')\n",
    "data = clustering_utils.fill_missing_values(df=data, column=\"season\", name='other')"
   ]
  },
  {
   "cell_type": "code",
   "execution_count": 12,
   "metadata": {},
   "outputs": [
    {
     "name": "stderr",
     "output_type": "stream",
     "text": [
      "/Users/valentinanotararigo/.local/lib/python3.7/site-packages/ipykernel/ipkernel.py:287: DeprecationWarning: `should_run_async` will not call `transform_cell` automatically in the future. Please pass the result to `transformed_cell` argument and any exception that happen during thetransform in `preprocessing_exc_tuple` in IPython 7.17 and above.\n",
      "  and should_run_async(code)\n"
     ]
    },
    {
     "data": {
      "text/plain": [
       "allergens         67\n",
       "calories           0\n",
       "carbs              0\n",
       "cuisine            0\n",
       "fat                0\n",
       "food_group         0\n",
       "protein            0\n",
       "season             0\n",
       "id                 0\n",
       "cooking_time       0\n",
       "key_ingredient     0\n",
       "title              0\n",
       "description        0\n",
       "price_1p_pence     0\n",
       "price_2p_pence     0\n",
       "price_4p_pence     0\n",
       "dtype: int64"
      ]
     },
     "execution_count": 12,
     "metadata": {},
     "output_type": "execute_result"
    }
   ],
   "source": [
    "data.isna().sum()"
   ]
  },
  {
   "cell_type": "markdown",
   "metadata": {},
   "source": [
    "### Encoding allergens"
   ]
  },
  {
   "cell_type": "code",
   "execution_count": 13,
   "metadata": {},
   "outputs": [
    {
     "name": "stderr",
     "output_type": "stream",
     "text": [
      "/Users/valentinanotararigo/.local/lib/python3.7/site-packages/ipykernel/ipkernel.py:287: DeprecationWarning: `should_run_async` will not call `transform_cell` automatically in the future. Please pass the result to `transformed_cell` argument and any exception that happen during thetransform in `preprocessing_exc_tuple` in IPython 7.17 and above.\n",
      "  and should_run_async(code)\n",
      "2020-09-21 09:28:49.122 | INFO     | game.clustering_utils:count_allergens:133 - Replacing allergens with count\n"
     ]
    }
   ],
   "source": [
    "data = clustering_utils.count_allergens(df=data, column=\"allergens\")"
   ]
  },
  {
   "cell_type": "code",
   "execution_count": 14,
   "metadata": {},
   "outputs": [
    {
     "name": "stderr",
     "output_type": "stream",
     "text": [
      "/Users/valentinanotararigo/.local/lib/python3.7/site-packages/ipykernel/ipkernel.py:287: DeprecationWarning: `should_run_async` will not call `transform_cell` automatically in the future. Please pass the result to `transformed_cell` argument and any exception that happen during thetransform in `preprocessing_exc_tuple` in IPython 7.17 and above.\n",
      "  and should_run_async(code)\n"
     ]
    },
    {
     "data": {
      "text/html": [
       "<div>\n",
       "<style scoped>\n",
       "    .dataframe tbody tr th:only-of-type {\n",
       "        vertical-align: middle;\n",
       "    }\n",
       "\n",
       "    .dataframe tbody tr th {\n",
       "        vertical-align: top;\n",
       "    }\n",
       "\n",
       "    .dataframe thead th {\n",
       "        text-align: right;\n",
       "    }\n",
       "</style>\n",
       "<table border=\"1\" class=\"dataframe\">\n",
       "  <thead>\n",
       "    <tr style=\"text-align: right;\">\n",
       "      <th></th>\n",
       "      <th>allergens</th>\n",
       "      <th>calories</th>\n",
       "      <th>carbs</th>\n",
       "      <th>cuisine</th>\n",
       "      <th>fat</th>\n",
       "      <th>food_group</th>\n",
       "      <th>protein</th>\n",
       "      <th>season</th>\n",
       "      <th>id</th>\n",
       "      <th>cooking_time</th>\n",
       "      <th>key_ingredient</th>\n",
       "      <th>title</th>\n",
       "      <th>description</th>\n",
       "      <th>price_1p_pence</th>\n",
       "      <th>price_2p_pence</th>\n",
       "      <th>price_4p_pence</th>\n",
       "    </tr>\n",
       "  </thead>\n",
       "  <tbody>\n",
       "    <tr>\n",
       "      <th>0</th>\n",
       "      <td>2</td>\n",
       "      <td>474</td>\n",
       "      <td>26</td>\n",
       "      <td>british</td>\n",
       "      <td>23</td>\n",
       "      <td>Beef</td>\n",
       "      <td>45</td>\n",
       "      <td>spring</td>\n",
       "      <td>1</td>\n",
       "      <td>25</td>\n",
       "      <td>Grass-fed heritage breed Yorkshire beef</td>\n",
       "      <td>Seared beef with spring vegetable medley</td>\n",
       "      <td>We've paired a succulent seared steak with a m...</td>\n",
       "      <td>900</td>\n",
       "      <td>1400</td>\n",
       "      <td>2400</td>\n",
       "    </tr>\n",
       "    <tr>\n",
       "      <th>1</th>\n",
       "      <td>1</td>\n",
       "      <td>715</td>\n",
       "      <td>67</td>\n",
       "      <td>indian</td>\n",
       "      <td>28</td>\n",
       "      <td>Chicken</td>\n",
       "      <td>50</td>\n",
       "      <td>spring</td>\n",
       "      <td>2</td>\n",
       "      <td>30</td>\n",
       "      <td>Free-range Norfolk chicken breast</td>\n",
       "      <td>Goan chicken curry with black rice</td>\n",
       "      <td>This Goan inspired chicken curry is made with ...</td>\n",
       "      <td>900</td>\n",
       "      <td>1400</td>\n",
       "      <td>2400</td>\n",
       "    </tr>\n",
       "    <tr>\n",
       "      <th>2</th>\n",
       "      <td>3</td>\n",
       "      <td>479</td>\n",
       "      <td>36</td>\n",
       "      <td>asian</td>\n",
       "      <td>27</td>\n",
       "      <td>Vegan</td>\n",
       "      <td>31</td>\n",
       "      <td>spring</td>\n",
       "      <td>5</td>\n",
       "      <td>30</td>\n",
       "      <td>Dragonfly organic extra-firm tofu</td>\n",
       "      <td>Vietnamese 'noodle' broth with shiitake mushrooms</td>\n",
       "      <td>Historically served at sunrise and sunset, Vie...</td>\n",
       "      <td>900</td>\n",
       "      <td>1200</td>\n",
       "      <td>2400</td>\n",
       "    </tr>\n",
       "    <tr>\n",
       "      <th>3</th>\n",
       "      <td>2</td>\n",
       "      <td>555</td>\n",
       "      <td>65</td>\n",
       "      <td>mexican</td>\n",
       "      <td>26</td>\n",
       "      <td>Vegan</td>\n",
       "      <td>23</td>\n",
       "      <td>summer</td>\n",
       "      <td>6</td>\n",
       "      <td>25</td>\n",
       "      <td>Black beans</td>\n",
       "      <td>Chipotle veggie kebabs with black beans</td>\n",
       "      <td>Our vibrant chargrilled vegetable kebabs are m...</td>\n",
       "      <td>900</td>\n",
       "      <td>1400</td>\n",
       "      <td>2400</td>\n",
       "    </tr>\n",
       "    <tr>\n",
       "      <th>4</th>\n",
       "      <td>1</td>\n",
       "      <td>629</td>\n",
       "      <td>71</td>\n",
       "      <td>indian</td>\n",
       "      <td>28</td>\n",
       "      <td>Vegan</td>\n",
       "      <td>23</td>\n",
       "      <td>winter</td>\n",
       "      <td>7</td>\n",
       "      <td>30</td>\n",
       "      <td>Lentils</td>\n",
       "      <td>Lentil &amp; sweet potato dahl with cauli rice*</td>\n",
       "      <td>Our spiced red split lentil dahl is packed wit...</td>\n",
       "      <td>850</td>\n",
       "      <td>1150</td>\n",
       "      <td>1975</td>\n",
       "    </tr>\n",
       "  </tbody>\n",
       "</table>\n",
       "</div>"
      ],
      "text/plain": [
       "   allergens  calories  carbs  cuisine  fat food_group  protein  season  id  \\\n",
       "0          2       474     26  british   23       Beef       45  spring   1   \n",
       "1          1       715     67   indian   28    Chicken       50  spring   2   \n",
       "2          3       479     36    asian   27      Vegan       31  spring   5   \n",
       "3          2       555     65  mexican   26      Vegan       23  summer   6   \n",
       "4          1       629     71   indian   28      Vegan       23  winter   7   \n",
       "\n",
       "   cooking_time                           key_ingredient  \\\n",
       "0            25  Grass-fed heritage breed Yorkshire beef   \n",
       "1            30        Free-range Norfolk chicken breast   \n",
       "2            30       Dragonfly organic extra-firm tofu    \n",
       "3            25                              Black beans   \n",
       "4            30                                  Lentils   \n",
       "\n",
       "                                               title  \\\n",
       "0           Seared beef with spring vegetable medley   \n",
       "1                 Goan chicken curry with black rice   \n",
       "2  Vietnamese 'noodle' broth with shiitake mushrooms   \n",
       "3            Chipotle veggie kebabs with black beans   \n",
       "4        Lentil & sweet potato dahl with cauli rice*   \n",
       "\n",
       "                                         description  price_1p_pence  \\\n",
       "0  We've paired a succulent seared steak with a m...             900   \n",
       "1  This Goan inspired chicken curry is made with ...             900   \n",
       "2  Historically served at sunrise and sunset, Vie...             900   \n",
       "3  Our vibrant chargrilled vegetable kebabs are m...             900   \n",
       "4  Our spiced red split lentil dahl is packed wit...             850   \n",
       "\n",
       "   price_2p_pence  price_4p_pence  \n",
       "0            1400            2400  \n",
       "1            1400            2400  \n",
       "2            1200            2400  \n",
       "3            1400            2400  \n",
       "4            1150            1975  "
      ]
     },
     "execution_count": 14,
     "metadata": {},
     "output_type": "execute_result"
    }
   ],
   "source": [
    "data.head()"
   ]
  },
  {
   "cell_type": "markdown",
   "metadata": {},
   "source": [
    "### Label encoding: cuisine"
   ]
  },
  {
   "cell_type": "code",
   "execution_count": 15,
   "metadata": {},
   "outputs": [
    {
     "name": "stderr",
     "output_type": "stream",
     "text": [
      "/Users/valentinanotararigo/.local/lib/python3.7/site-packages/ipykernel/ipkernel.py:287: DeprecationWarning: `should_run_async` will not call `transform_cell` automatically in the future. Please pass the result to `transformed_cell` argument and any exception that happen during thetransform in `preprocessing_exc_tuple` in IPython 7.17 and above.\n",
      "  and should_run_async(code)\n",
      "2020-09-21 09:28:52.235 | INFO     | game.clustering_utils:label_encoding:194 - Label encoding for column: cuisine\n",
      "2020-09-21 09:28:52.238 | INFO     | game.clustering_utils:label_encoding:198 - unique classes: ['asian' 'australian' 'british' 'caribbean' 'chinese' 'european' 'french'\n",
      " 'indian' 'italian' 'japanese' 'mediterranean' 'mexican' 'middle eastern'\n",
      " 'north african' 'other' 'south american' 'west african']\n"
     ]
    }
   ],
   "source": [
    "data = clustering_utils.label_encoding(df=data, column=\"cuisine\")"
   ]
  },
  {
   "cell_type": "code",
   "execution_count": 16,
   "metadata": {},
   "outputs": [
    {
     "name": "stderr",
     "output_type": "stream",
     "text": [
      "/Users/valentinanotararigo/.local/lib/python3.7/site-packages/ipykernel/ipkernel.py:287: DeprecationWarning: `should_run_async` will not call `transform_cell` automatically in the future. Please pass the result to `transformed_cell` argument and any exception that happen during thetransform in `preprocessing_exc_tuple` in IPython 7.17 and above.\n",
      "  and should_run_async(code)\n"
     ]
    },
    {
     "data": {
      "text/html": [
       "<div>\n",
       "<style scoped>\n",
       "    .dataframe tbody tr th:only-of-type {\n",
       "        vertical-align: middle;\n",
       "    }\n",
       "\n",
       "    .dataframe tbody tr th {\n",
       "        vertical-align: top;\n",
       "    }\n",
       "\n",
       "    .dataframe thead th {\n",
       "        text-align: right;\n",
       "    }\n",
       "</style>\n",
       "<table border=\"1\" class=\"dataframe\">\n",
       "  <thead>\n",
       "    <tr style=\"text-align: right;\">\n",
       "      <th></th>\n",
       "      <th>allergens</th>\n",
       "      <th>calories</th>\n",
       "      <th>carbs</th>\n",
       "      <th>cuisine</th>\n",
       "      <th>fat</th>\n",
       "      <th>food_group</th>\n",
       "      <th>protein</th>\n",
       "      <th>season</th>\n",
       "      <th>id</th>\n",
       "      <th>cooking_time</th>\n",
       "      <th>key_ingredient</th>\n",
       "      <th>title</th>\n",
       "      <th>description</th>\n",
       "      <th>price_1p_pence</th>\n",
       "      <th>price_2p_pence</th>\n",
       "      <th>price_4p_pence</th>\n",
       "    </tr>\n",
       "  </thead>\n",
       "  <tbody>\n",
       "    <tr>\n",
       "      <th>0</th>\n",
       "      <td>2</td>\n",
       "      <td>474</td>\n",
       "      <td>26</td>\n",
       "      <td>2</td>\n",
       "      <td>23</td>\n",
       "      <td>Beef</td>\n",
       "      <td>45</td>\n",
       "      <td>spring</td>\n",
       "      <td>1</td>\n",
       "      <td>25</td>\n",
       "      <td>Grass-fed heritage breed Yorkshire beef</td>\n",
       "      <td>Seared beef with spring vegetable medley</td>\n",
       "      <td>We've paired a succulent seared steak with a m...</td>\n",
       "      <td>900</td>\n",
       "      <td>1400</td>\n",
       "      <td>2400</td>\n",
       "    </tr>\n",
       "    <tr>\n",
       "      <th>1</th>\n",
       "      <td>1</td>\n",
       "      <td>715</td>\n",
       "      <td>67</td>\n",
       "      <td>7</td>\n",
       "      <td>28</td>\n",
       "      <td>Chicken</td>\n",
       "      <td>50</td>\n",
       "      <td>spring</td>\n",
       "      <td>2</td>\n",
       "      <td>30</td>\n",
       "      <td>Free-range Norfolk chicken breast</td>\n",
       "      <td>Goan chicken curry with black rice</td>\n",
       "      <td>This Goan inspired chicken curry is made with ...</td>\n",
       "      <td>900</td>\n",
       "      <td>1400</td>\n",
       "      <td>2400</td>\n",
       "    </tr>\n",
       "    <tr>\n",
       "      <th>2</th>\n",
       "      <td>3</td>\n",
       "      <td>479</td>\n",
       "      <td>36</td>\n",
       "      <td>0</td>\n",
       "      <td>27</td>\n",
       "      <td>Vegan</td>\n",
       "      <td>31</td>\n",
       "      <td>spring</td>\n",
       "      <td>5</td>\n",
       "      <td>30</td>\n",
       "      <td>Dragonfly organic extra-firm tofu</td>\n",
       "      <td>Vietnamese 'noodle' broth with shiitake mushrooms</td>\n",
       "      <td>Historically served at sunrise and sunset, Vie...</td>\n",
       "      <td>900</td>\n",
       "      <td>1200</td>\n",
       "      <td>2400</td>\n",
       "    </tr>\n",
       "    <tr>\n",
       "      <th>3</th>\n",
       "      <td>2</td>\n",
       "      <td>555</td>\n",
       "      <td>65</td>\n",
       "      <td>11</td>\n",
       "      <td>26</td>\n",
       "      <td>Vegan</td>\n",
       "      <td>23</td>\n",
       "      <td>summer</td>\n",
       "      <td>6</td>\n",
       "      <td>25</td>\n",
       "      <td>Black beans</td>\n",
       "      <td>Chipotle veggie kebabs with black beans</td>\n",
       "      <td>Our vibrant chargrilled vegetable kebabs are m...</td>\n",
       "      <td>900</td>\n",
       "      <td>1400</td>\n",
       "      <td>2400</td>\n",
       "    </tr>\n",
       "    <tr>\n",
       "      <th>4</th>\n",
       "      <td>1</td>\n",
       "      <td>629</td>\n",
       "      <td>71</td>\n",
       "      <td>7</td>\n",
       "      <td>28</td>\n",
       "      <td>Vegan</td>\n",
       "      <td>23</td>\n",
       "      <td>winter</td>\n",
       "      <td>7</td>\n",
       "      <td>30</td>\n",
       "      <td>Lentils</td>\n",
       "      <td>Lentil &amp; sweet potato dahl with cauli rice*</td>\n",
       "      <td>Our spiced red split lentil dahl is packed wit...</td>\n",
       "      <td>850</td>\n",
       "      <td>1150</td>\n",
       "      <td>1975</td>\n",
       "    </tr>\n",
       "  </tbody>\n",
       "</table>\n",
       "</div>"
      ],
      "text/plain": [
       "   allergens  calories  carbs  cuisine  fat food_group  protein  season  id  \\\n",
       "0          2       474     26        2   23       Beef       45  spring   1   \n",
       "1          1       715     67        7   28    Chicken       50  spring   2   \n",
       "2          3       479     36        0   27      Vegan       31  spring   5   \n",
       "3          2       555     65       11   26      Vegan       23  summer   6   \n",
       "4          1       629     71        7   28      Vegan       23  winter   7   \n",
       "\n",
       "   cooking_time                           key_ingredient  \\\n",
       "0            25  Grass-fed heritage breed Yorkshire beef   \n",
       "1            30        Free-range Norfolk chicken breast   \n",
       "2            30       Dragonfly organic extra-firm tofu    \n",
       "3            25                              Black beans   \n",
       "4            30                                  Lentils   \n",
       "\n",
       "                                               title  \\\n",
       "0           Seared beef with spring vegetable medley   \n",
       "1                 Goan chicken curry with black rice   \n",
       "2  Vietnamese 'noodle' broth with shiitake mushrooms   \n",
       "3            Chipotle veggie kebabs with black beans   \n",
       "4        Lentil & sweet potato dahl with cauli rice*   \n",
       "\n",
       "                                         description  price_1p_pence  \\\n",
       "0  We've paired a succulent seared steak with a m...             900   \n",
       "1  This Goan inspired chicken curry is made with ...             900   \n",
       "2  Historically served at sunrise and sunset, Vie...             900   \n",
       "3  Our vibrant chargrilled vegetable kebabs are m...             900   \n",
       "4  Our spiced red split lentil dahl is packed wit...             850   \n",
       "\n",
       "   price_2p_pence  price_4p_pence  \n",
       "0            1400            2400  \n",
       "1            1400            2400  \n",
       "2            1200            2400  \n",
       "3            1400            2400  \n",
       "4            1150            1975  "
      ]
     },
     "execution_count": 16,
     "metadata": {},
     "output_type": "execute_result"
    }
   ],
   "source": [
    "data.head()"
   ]
  },
  {
   "cell_type": "code",
   "execution_count": 17,
   "metadata": {},
   "outputs": [
    {
     "name": "stderr",
     "output_type": "stream",
     "text": [
      "/Users/valentinanotararigo/.local/lib/python3.7/site-packages/ipykernel/ipkernel.py:287: DeprecationWarning: `should_run_async` will not call `transform_cell` automatically in the future. Please pass the result to `transformed_cell` argument and any exception that happen during thetransform in `preprocessing_exc_tuple` in IPython 7.17 and above.\n",
      "  and should_run_async(code)\n",
      "2020-09-21 09:28:54.062 | INFO     | game.clustering_utils:get_unique_values:74 - Getting unique values\n"
     ]
    },
    {
     "name": "stdout",
     "output_type": "stream",
     "text": [
      "  food_group   id\n",
      "0       Beef   88\n",
      "1    Chicken  127\n",
      "2       Fish  115\n",
      "3       Lamb   28\n",
      "4       Pork   55\n",
      "5      Vegan  262\n"
     ]
    }
   ],
   "source": [
    "print(clustering_utils.get_unique_values(df=data, column=\"food_group\"))"
   ]
  },
  {
   "cell_type": "code",
   "execution_count": 27,
   "metadata": {},
   "outputs": [
    {
     "name": "stderr",
     "output_type": "stream",
     "text": [
      "/Users/valentinanotararigo/.local/lib/python3.7/site-packages/ipykernel/ipkernel.py:287: DeprecationWarning: `should_run_async` will not call `transform_cell` automatically in the future. Please pass the result to `transformed_cell` argument and any exception that happen during thetransform in `preprocessing_exc_tuple` in IPython 7.17 and above.\n",
      "  and should_run_async(code)\n",
      "2020-09-21 09:39:00.337 | INFO     | game.clustering_utils:get_unique_values:74 - Getting unique values\n"
     ]
    },
    {
     "name": "stdout",
     "output_type": "stream",
     "text": [
      "{88: 'Beef', 127: 'Chicken', 115: 'Fish', 28: 'Lamb', 55: 'Pork', 262: 'Vegan'}\n"
     ]
    }
   ],
   "source": [
    "food_mapping = clustering_utils.get_unique_values(df=data, column=\"food_group\")\n",
    "food_mapping.reset_index\n",
    "dict_food_group = food_mapping.set_index('id')['food_group'].to_dict()\n",
    "print(dict_food_group)"
   ]
  },
  {
   "cell_type": "markdown",
   "metadata": {},
   "source": [
    "### Hot encoding: season"
   ]
  },
  {
   "cell_type": "code",
   "execution_count": 28,
   "metadata": {},
   "outputs": [
    {
     "name": "stderr",
     "output_type": "stream",
     "text": [
      "/Users/valentinanotararigo/.local/lib/python3.7/site-packages/ipykernel/ipkernel.py:287: DeprecationWarning: `should_run_async` will not call `transform_cell` automatically in the future. Please pass the result to `transformed_cell` argument and any exception that happen during thetransform in `preprocessing_exc_tuple` in IPython 7.17 and above.\n",
      "  and should_run_async(code)\n",
      "2020-09-21 09:39:01.170 | INFO     | game.clustering_utils:hot_encoding:204 - Hot encoding for columns: ['season']\n"
     ]
    }
   ],
   "source": [
    "data = clustering_utils.hot_encoding(df=data, columns=[\"season\"])"
   ]
  },
  {
   "cell_type": "markdown",
   "metadata": {},
   "source": [
    "### Count encoding: food group"
   ]
  },
  {
   "cell_type": "code",
   "execution_count": 29,
   "metadata": {},
   "outputs": [
    {
     "name": "stderr",
     "output_type": "stream",
     "text": [
      "/Users/valentinanotararigo/.local/lib/python3.7/site-packages/ipykernel/ipkernel.py:287: DeprecationWarning: `should_run_async` will not call `transform_cell` automatically in the future. Please pass the result to `transformed_cell` argument and any exception that happen during thetransform in `preprocessing_exc_tuple` in IPython 7.17 and above.\n",
      "  and should_run_async(code)\n",
      "2020-09-21 09:39:02.164 | INFO     | game.clustering_utils:count_encoding:210 - Count encoding for column: food_group\n"
     ]
    }
   ],
   "source": [
    "data = clustering_utils.count_encoding(df=data, column=\"food_group\")"
   ]
  },
  {
   "cell_type": "code",
   "execution_count": 30,
   "metadata": {},
   "outputs": [
    {
     "name": "stderr",
     "output_type": "stream",
     "text": [
      "/Users/valentinanotararigo/.local/lib/python3.7/site-packages/ipykernel/ipkernel.py:287: DeprecationWarning: `should_run_async` will not call `transform_cell` automatically in the future. Please pass the result to `transformed_cell` argument and any exception that happen during thetransform in `preprocessing_exc_tuple` in IPython 7.17 and above.\n",
      "  and should_run_async(code)\n"
     ]
    },
    {
     "data": {
      "text/html": [
       "<div>\n",
       "<style scoped>\n",
       "    .dataframe tbody tr th:only-of-type {\n",
       "        vertical-align: middle;\n",
       "    }\n",
       "\n",
       "    .dataframe tbody tr th {\n",
       "        vertical-align: top;\n",
       "    }\n",
       "\n",
       "    .dataframe thead th {\n",
       "        text-align: right;\n",
       "    }\n",
       "</style>\n",
       "<table border=\"1\" class=\"dataframe\">\n",
       "  <thead>\n",
       "    <tr style=\"text-align: right;\">\n",
       "      <th></th>\n",
       "      <th>allergens</th>\n",
       "      <th>calories</th>\n",
       "      <th>carbs</th>\n",
       "      <th>cuisine</th>\n",
       "      <th>fat</th>\n",
       "      <th>food_group</th>\n",
       "      <th>protein</th>\n",
       "      <th>id</th>\n",
       "      <th>cooking_time</th>\n",
       "      <th>key_ingredient</th>\n",
       "      <th>title</th>\n",
       "      <th>description</th>\n",
       "      <th>price_1p_pence</th>\n",
       "      <th>price_2p_pence</th>\n",
       "      <th>price_4p_pence</th>\n",
       "      <th>season_autumn</th>\n",
       "      <th>season_other</th>\n",
       "      <th>season_spring</th>\n",
       "      <th>season_summer</th>\n",
       "      <th>season_winter</th>\n",
       "    </tr>\n",
       "  </thead>\n",
       "  <tbody>\n",
       "    <tr>\n",
       "      <th>0</th>\n",
       "      <td>2</td>\n",
       "      <td>474</td>\n",
       "      <td>26</td>\n",
       "      <td>2</td>\n",
       "      <td>23</td>\n",
       "      <td>88</td>\n",
       "      <td>45</td>\n",
       "      <td>1</td>\n",
       "      <td>25</td>\n",
       "      <td>Grass-fed heritage breed Yorkshire beef</td>\n",
       "      <td>Seared beef with spring vegetable medley</td>\n",
       "      <td>We've paired a succulent seared steak with a m...</td>\n",
       "      <td>900</td>\n",
       "      <td>1400</td>\n",
       "      <td>2400</td>\n",
       "      <td>0</td>\n",
       "      <td>0</td>\n",
       "      <td>1</td>\n",
       "      <td>0</td>\n",
       "      <td>0</td>\n",
       "    </tr>\n",
       "    <tr>\n",
       "      <th>1</th>\n",
       "      <td>1</td>\n",
       "      <td>715</td>\n",
       "      <td>67</td>\n",
       "      <td>7</td>\n",
       "      <td>28</td>\n",
       "      <td>127</td>\n",
       "      <td>50</td>\n",
       "      <td>2</td>\n",
       "      <td>30</td>\n",
       "      <td>Free-range Norfolk chicken breast</td>\n",
       "      <td>Goan chicken curry with black rice</td>\n",
       "      <td>This Goan inspired chicken curry is made with ...</td>\n",
       "      <td>900</td>\n",
       "      <td>1400</td>\n",
       "      <td>2400</td>\n",
       "      <td>0</td>\n",
       "      <td>0</td>\n",
       "      <td>1</td>\n",
       "      <td>0</td>\n",
       "      <td>0</td>\n",
       "    </tr>\n",
       "    <tr>\n",
       "      <th>2</th>\n",
       "      <td>3</td>\n",
       "      <td>479</td>\n",
       "      <td>36</td>\n",
       "      <td>0</td>\n",
       "      <td>27</td>\n",
       "      <td>262</td>\n",
       "      <td>31</td>\n",
       "      <td>5</td>\n",
       "      <td>30</td>\n",
       "      <td>Dragonfly organic extra-firm tofu</td>\n",
       "      <td>Vietnamese 'noodle' broth with shiitake mushrooms</td>\n",
       "      <td>Historically served at sunrise and sunset, Vie...</td>\n",
       "      <td>900</td>\n",
       "      <td>1200</td>\n",
       "      <td>2400</td>\n",
       "      <td>0</td>\n",
       "      <td>0</td>\n",
       "      <td>1</td>\n",
       "      <td>0</td>\n",
       "      <td>0</td>\n",
       "    </tr>\n",
       "    <tr>\n",
       "      <th>3</th>\n",
       "      <td>2</td>\n",
       "      <td>555</td>\n",
       "      <td>65</td>\n",
       "      <td>11</td>\n",
       "      <td>26</td>\n",
       "      <td>262</td>\n",
       "      <td>23</td>\n",
       "      <td>6</td>\n",
       "      <td>25</td>\n",
       "      <td>Black beans</td>\n",
       "      <td>Chipotle veggie kebabs with black beans</td>\n",
       "      <td>Our vibrant chargrilled vegetable kebabs are m...</td>\n",
       "      <td>900</td>\n",
       "      <td>1400</td>\n",
       "      <td>2400</td>\n",
       "      <td>0</td>\n",
       "      <td>0</td>\n",
       "      <td>0</td>\n",
       "      <td>1</td>\n",
       "      <td>0</td>\n",
       "    </tr>\n",
       "    <tr>\n",
       "      <th>4</th>\n",
       "      <td>1</td>\n",
       "      <td>629</td>\n",
       "      <td>71</td>\n",
       "      <td>7</td>\n",
       "      <td>28</td>\n",
       "      <td>262</td>\n",
       "      <td>23</td>\n",
       "      <td>7</td>\n",
       "      <td>30</td>\n",
       "      <td>Lentils</td>\n",
       "      <td>Lentil &amp; sweet potato dahl with cauli rice*</td>\n",
       "      <td>Our spiced red split lentil dahl is packed wit...</td>\n",
       "      <td>850</td>\n",
       "      <td>1150</td>\n",
       "      <td>1975</td>\n",
       "      <td>0</td>\n",
       "      <td>0</td>\n",
       "      <td>0</td>\n",
       "      <td>0</td>\n",
       "      <td>1</td>\n",
       "    </tr>\n",
       "  </tbody>\n",
       "</table>\n",
       "</div>"
      ],
      "text/plain": [
       "   allergens  calories  carbs  cuisine  fat  food_group  protein  id  \\\n",
       "0          2       474     26        2   23          88       45   1   \n",
       "1          1       715     67        7   28         127       50   2   \n",
       "2          3       479     36        0   27         262       31   5   \n",
       "3          2       555     65       11   26         262       23   6   \n",
       "4          1       629     71        7   28         262       23   7   \n",
       "\n",
       "   cooking_time                           key_ingredient  \\\n",
       "0            25  Grass-fed heritage breed Yorkshire beef   \n",
       "1            30        Free-range Norfolk chicken breast   \n",
       "2            30       Dragonfly organic extra-firm tofu    \n",
       "3            25                              Black beans   \n",
       "4            30                                  Lentils   \n",
       "\n",
       "                                               title  \\\n",
       "0           Seared beef with spring vegetable medley   \n",
       "1                 Goan chicken curry with black rice   \n",
       "2  Vietnamese 'noodle' broth with shiitake mushrooms   \n",
       "3            Chipotle veggie kebabs with black beans   \n",
       "4        Lentil & sweet potato dahl with cauli rice*   \n",
       "\n",
       "                                         description  price_1p_pence  \\\n",
       "0  We've paired a succulent seared steak with a m...             900   \n",
       "1  This Goan inspired chicken curry is made with ...             900   \n",
       "2  Historically served at sunrise and sunset, Vie...             900   \n",
       "3  Our vibrant chargrilled vegetable kebabs are m...             900   \n",
       "4  Our spiced red split lentil dahl is packed wit...             850   \n",
       "\n",
       "   price_2p_pence  price_4p_pence  season_autumn  season_other  season_spring  \\\n",
       "0            1400            2400              0             0              1   \n",
       "1            1400            2400              0             0              1   \n",
       "2            1200            2400              0             0              1   \n",
       "3            1400            2400              0             0              0   \n",
       "4            1150            1975              0             0              0   \n",
       "\n",
       "   season_summer  season_winter  \n",
       "0              0              0  \n",
       "1              0              0  \n",
       "2              0              0  \n",
       "3              1              0  \n",
       "4              0              1  "
      ]
     },
     "execution_count": 30,
     "metadata": {},
     "output_type": "execute_result"
    }
   ],
   "source": [
    "data.head()"
   ]
  },
  {
   "cell_type": "markdown",
   "metadata": {},
   "source": [
    "### Apply topic modelling to: title, key_ingredient, description"
   ]
  },
  {
   "cell_type": "code",
   "execution_count": 31,
   "metadata": {
    "scrolled": true
   },
   "outputs": [
    {
     "name": "stderr",
     "output_type": "stream",
     "text": [
      "/Users/valentinanotararigo/.local/lib/python3.7/site-packages/ipykernel/ipkernel.py:287: DeprecationWarning: `should_run_async` will not call `transform_cell` automatically in the future. Please pass the result to `transformed_cell` argument and any exception that happen during thetransform in `preprocessing_exc_tuple` in IPython 7.17 and above.\n",
      "  and should_run_async(code)\n",
      "2020-09-21 09:39:03.546 | INFO     | game.clustering_utils:preprocess_text_columns:110 - Preprocessing text columns\n",
      "2020-09-21 09:39:03.549 | INFO     | game.clustering_utils:preprocess_text_columns:114 - Stripping punctuation and symbol for title\n",
      "2020-09-21 09:39:03.558 | INFO     | game.clustering_utils:preprocess_text_columns:117 - Stripping digits and stopwords for title\n",
      "2020-09-21 09:39:03.590 | INFO     | game.clustering_utils:preprocess_text_columns:114 - Stripping punctuation and symbol for key_ingredient\n",
      "2020-09-21 09:39:03.600 | INFO     | game.clustering_utils:preprocess_text_columns:117 - Stripping digits and stopwords for key_ingredient\n",
      "2020-09-21 09:39:03.625 | INFO     | game.clustering_utils:preprocess_text_columns:114 - Stripping punctuation and symbol for description\n",
      "2020-09-21 09:39:03.647 | INFO     | game.clustering_utils:preprocess_text_columns:117 - Stripping digits and stopwords for description\n"
     ]
    }
   ],
   "source": [
    "data = clustering_utils.preprocess_text_columns(df=data, columns=[\"title\",\"key_ingredient\",\"description\"])"
   ]
  },
  {
   "cell_type": "code",
   "execution_count": 32,
   "metadata": {},
   "outputs": [
    {
     "name": "stderr",
     "output_type": "stream",
     "text": [
      "/Users/valentinanotararigo/.local/lib/python3.7/site-packages/ipykernel/ipkernel.py:287: DeprecationWarning: `should_run_async` will not call `transform_cell` automatically in the future. Please pass the result to `transformed_cell` argument and any exception that happen during thetransform in `preprocessing_exc_tuple` in IPython 7.17 and above.\n",
      "  and should_run_async(code)\n"
     ]
    },
    {
     "data": {
      "text/html": [
       "<div>\n",
       "<style scoped>\n",
       "    .dataframe tbody tr th:only-of-type {\n",
       "        vertical-align: middle;\n",
       "    }\n",
       "\n",
       "    .dataframe tbody tr th {\n",
       "        vertical-align: top;\n",
       "    }\n",
       "\n",
       "    .dataframe thead th {\n",
       "        text-align: right;\n",
       "    }\n",
       "</style>\n",
       "<table border=\"1\" class=\"dataframe\">\n",
       "  <thead>\n",
       "    <tr style=\"text-align: right;\">\n",
       "      <th></th>\n",
       "      <th>allergens</th>\n",
       "      <th>calories</th>\n",
       "      <th>carbs</th>\n",
       "      <th>cuisine</th>\n",
       "      <th>fat</th>\n",
       "      <th>food_group</th>\n",
       "      <th>protein</th>\n",
       "      <th>id</th>\n",
       "      <th>cooking_time</th>\n",
       "      <th>key_ingredient</th>\n",
       "      <th>title</th>\n",
       "      <th>description</th>\n",
       "      <th>price_1p_pence</th>\n",
       "      <th>price_2p_pence</th>\n",
       "      <th>price_4p_pence</th>\n",
       "      <th>season_autumn</th>\n",
       "      <th>season_other</th>\n",
       "      <th>season_spring</th>\n",
       "      <th>season_summer</th>\n",
       "      <th>season_winter</th>\n",
       "    </tr>\n",
       "  </thead>\n",
       "  <tbody>\n",
       "    <tr>\n",
       "      <th>0</th>\n",
       "      <td>2</td>\n",
       "      <td>474</td>\n",
       "      <td>26</td>\n",
       "      <td>2</td>\n",
       "      <td>23</td>\n",
       "      <td>88</td>\n",
       "      <td>45</td>\n",
       "      <td>1</td>\n",
       "      <td>25</td>\n",
       "      <td>grassfed heritage breed yorkshire beef</td>\n",
       "      <td>seared beef spring vegetable medley</td>\n",
       "      <td>weve paired succulent seared steak medley spri...</td>\n",
       "      <td>900</td>\n",
       "      <td>1400</td>\n",
       "      <td>2400</td>\n",
       "      <td>0</td>\n",
       "      <td>0</td>\n",
       "      <td>1</td>\n",
       "      <td>0</td>\n",
       "      <td>0</td>\n",
       "    </tr>\n",
       "    <tr>\n",
       "      <th>1</th>\n",
       "      <td>1</td>\n",
       "      <td>715</td>\n",
       "      <td>67</td>\n",
       "      <td>7</td>\n",
       "      <td>28</td>\n",
       "      <td>127</td>\n",
       "      <td>50</td>\n",
       "      <td>2</td>\n",
       "      <td>30</td>\n",
       "      <td>freerange norfolk chicken breast</td>\n",
       "      <td>goan chicken curry black rice</td>\n",
       "      <td>goan inspired chicken curry creamy coconut mil...</td>\n",
       "      <td>900</td>\n",
       "      <td>1400</td>\n",
       "      <td>2400</td>\n",
       "      <td>0</td>\n",
       "      <td>0</td>\n",
       "      <td>1</td>\n",
       "      <td>0</td>\n",
       "      <td>0</td>\n",
       "    </tr>\n",
       "    <tr>\n",
       "      <th>2</th>\n",
       "      <td>3</td>\n",
       "      <td>479</td>\n",
       "      <td>36</td>\n",
       "      <td>0</td>\n",
       "      <td>27</td>\n",
       "      <td>262</td>\n",
       "      <td>31</td>\n",
       "      <td>5</td>\n",
       "      <td>30</td>\n",
       "      <td>extrafirm tofu</td>\n",
       "      <td>vietnamese noodle broth shiitake mushrooms</td>\n",
       "      <td>historically sunrise sunset vietnamese pho lot...</td>\n",
       "      <td>900</td>\n",
       "      <td>1200</td>\n",
       "      <td>2400</td>\n",
       "      <td>0</td>\n",
       "      <td>0</td>\n",
       "      <td>1</td>\n",
       "      <td>0</td>\n",
       "      <td>0</td>\n",
       "    </tr>\n",
       "    <tr>\n",
       "      <th>3</th>\n",
       "      <td>2</td>\n",
       "      <td>555</td>\n",
       "      <td>65</td>\n",
       "      <td>11</td>\n",
       "      <td>26</td>\n",
       "      <td>262</td>\n",
       "      <td>23</td>\n",
       "      <td>6</td>\n",
       "      <td>25</td>\n",
       "      <td>black beans</td>\n",
       "      <td>chipotle veggie kebabs black beans</td>\n",
       "      <td>vibrant chargrilled vegetable kebabs marinated...</td>\n",
       "      <td>900</td>\n",
       "      <td>1400</td>\n",
       "      <td>2400</td>\n",
       "      <td>0</td>\n",
       "      <td>0</td>\n",
       "      <td>0</td>\n",
       "      <td>1</td>\n",
       "      <td>0</td>\n",
       "    </tr>\n",
       "    <tr>\n",
       "      <th>4</th>\n",
       "      <td>1</td>\n",
       "      <td>629</td>\n",
       "      <td>71</td>\n",
       "      <td>7</td>\n",
       "      <td>28</td>\n",
       "      <td>262</td>\n",
       "      <td>23</td>\n",
       "      <td>7</td>\n",
       "      <td>30</td>\n",
       "      <td>lentils</td>\n",
       "      <td>lentil sweet potato dahl cauli rice</td>\n",
       "      <td>spiced split lentil dahl packed sweet potato t...</td>\n",
       "      <td>850</td>\n",
       "      <td>1150</td>\n",
       "      <td>1975</td>\n",
       "      <td>0</td>\n",
       "      <td>0</td>\n",
       "      <td>0</td>\n",
       "      <td>0</td>\n",
       "      <td>1</td>\n",
       "    </tr>\n",
       "  </tbody>\n",
       "</table>\n",
       "</div>"
      ],
      "text/plain": [
       "   allergens  calories  carbs  cuisine  fat  food_group  protein  id  \\\n",
       "0          2       474     26        2   23          88       45   1   \n",
       "1          1       715     67        7   28         127       50   2   \n",
       "2          3       479     36        0   27         262       31   5   \n",
       "3          2       555     65       11   26         262       23   6   \n",
       "4          1       629     71        7   28         262       23   7   \n",
       "\n",
       "   cooking_time                          key_ingredient  \\\n",
       "0            25  grassfed heritage breed yorkshire beef   \n",
       "1            30        freerange norfolk chicken breast   \n",
       "2            30                          extrafirm tofu   \n",
       "3            25                             black beans   \n",
       "4            30                                 lentils   \n",
       "\n",
       "                                        title  \\\n",
       "0         seared beef spring vegetable medley   \n",
       "1               goan chicken curry black rice   \n",
       "2  vietnamese noodle broth shiitake mushrooms   \n",
       "3          chipotle veggie kebabs black beans   \n",
       "4         lentil sweet potato dahl cauli rice   \n",
       "\n",
       "                                         description  price_1p_pence  \\\n",
       "0  weve paired succulent seared steak medley spri...             900   \n",
       "1  goan inspired chicken curry creamy coconut mil...             900   \n",
       "2  historically sunrise sunset vietnamese pho lot...             900   \n",
       "3  vibrant chargrilled vegetable kebabs marinated...             900   \n",
       "4  spiced split lentil dahl packed sweet potato t...             850   \n",
       "\n",
       "   price_2p_pence  price_4p_pence  season_autumn  season_other  season_spring  \\\n",
       "0            1400            2400              0             0              1   \n",
       "1            1400            2400              0             0              1   \n",
       "2            1200            2400              0             0              1   \n",
       "3            1400            2400              0             0              0   \n",
       "4            1150            1975              0             0              0   \n",
       "\n",
       "   season_summer  season_winter  \n",
       "0              0              0  \n",
       "1              0              0  \n",
       "2              0              0  \n",
       "3              1              0  \n",
       "4              0              1  "
      ]
     },
     "execution_count": 32,
     "metadata": {},
     "output_type": "execute_result"
    }
   ],
   "source": [
    "data.head()"
   ]
  },
  {
   "cell_type": "code",
   "execution_count": 33,
   "metadata": {},
   "outputs": [
    {
     "name": "stderr",
     "output_type": "stream",
     "text": [
      "/Users/valentinanotararigo/.local/lib/python3.7/site-packages/ipykernel/ipkernel.py:287: DeprecationWarning: `should_run_async` will not call `transform_cell` automatically in the future. Please pass the result to `transformed_cell` argument and any exception that happen during thetransform in `preprocessing_exc_tuple` in IPython 7.17 and above.\n",
      "  and should_run_async(code)\n"
     ]
    }
   ],
   "source": [
    "data['text_union'] = (data[\"key_ingredient\"]+str(' ')\n",
    "                      +data[\"title\"]+str(' ')\n",
    "                      +data[\"description\"])\n",
    "\n",
    "X_text = data['text_union']"
   ]
  },
  {
   "cell_type": "code",
   "execution_count": 34,
   "metadata": {},
   "outputs": [
    {
     "name": "stderr",
     "output_type": "stream",
     "text": [
      "/Users/valentinanotararigo/.local/lib/python3.7/site-packages/ipykernel/ipkernel.py:287: DeprecationWarning: `should_run_async` will not call `transform_cell` automatically in the future. Please pass the result to `transformed_cell` argument and any exception that happen during thetransform in `preprocessing_exc_tuple` in IPython 7.17 and above.\n",
      "  and should_run_async(code)\n"
     ]
    }
   ],
   "source": [
    "data_words = list(clustering_utils.sent_to_words(X_text))"
   ]
  },
  {
   "cell_type": "code",
   "execution_count": 35,
   "metadata": {},
   "outputs": [
    {
     "name": "stderr",
     "output_type": "stream",
     "text": [
      "/Users/valentinanotararigo/.local/lib/python3.7/site-packages/ipykernel/ipkernel.py:287: DeprecationWarning: `should_run_async` will not call `transform_cell` automatically in the future. Please pass the result to `transformed_cell` argument and any exception that happen during thetransform in `preprocessing_exc_tuple` in IPython 7.17 and above.\n",
      "  and should_run_async(code)\n"
     ]
    },
    {
     "data": {
      "text/plain": [
       "['grassfed',\n",
       " 'heritage',\n",
       " 'breed',\n",
       " 'yorkshire',\n",
       " 'beef',\n",
       " 'seared',\n",
       " 'beef',\n",
       " 'spring',\n",
       " 'vegetable',\n",
       " 'medley',\n",
       " 'weve',\n",
       " 'paired',\n",
       " 'succulent',\n",
       " 'seared',\n",
       " 'steak',\n",
       " 'medley',\n",
       " 'spring',\n",
       " 'vegetables',\n",
       " 'including',\n",
       " 'sweet',\n",
       " 'carrots',\n",
       " 'crisp',\n",
       " 'sugar',\n",
       " 'snap',\n",
       " 'peas',\n",
       " 'bright',\n",
       " 'radishes']"
      ]
     },
     "execution_count": 35,
     "metadata": {},
     "output_type": "execute_result"
    }
   ],
   "source": [
    "data_words[0]"
   ]
  },
  {
   "cell_type": "code",
   "execution_count": 36,
   "metadata": {},
   "outputs": [
    {
     "name": "stderr",
     "output_type": "stream",
     "text": [
      "/Users/valentinanotararigo/.local/lib/python3.7/site-packages/ipykernel/ipkernel.py:287: DeprecationWarning: `should_run_async` will not call `transform_cell` automatically in the future. Please pass the result to `transformed_cell` argument and any exception that happen during thetransform in `preprocessing_exc_tuple` in IPython 7.17 and above.\n",
      "  and should_run_async(code)\n"
     ]
    },
    {
     "name": "stdout",
     "output_type": "stream",
     "text": [
      "['grassfed', 'heritage', 'breed', 'yorkshire', 'beef', 'seared', 'beef', 'spring', 'vegetable', 'medley', 'weve', 'paired', 'succulent', 'seared', 'steak', 'medley', 'spring', 'vegetables', 'including', 'sweet', 'carrots', 'crisp', 'sugar_snap_peas', 'bright', 'radishes']\n"
     ]
    }
   ],
   "source": [
    "# Build the bigram and trigram models\n",
    "bigram = gensim.models.Phrases(data_words, min_count=5, threshold=100) # higher threshold fewer phrases.\n",
    "trigram = gensim.models.Phrases(bigram[data_words], threshold=100)  \n",
    "\n",
    "# Faster way to get a sentence clubbed as a trigram/bigram\n",
    "bigram_mod = gensim.models.phrases.Phraser(bigram)\n",
    "trigram_mod = gensim.models.phrases.Phraser(trigram)\n",
    "\n",
    "# See trigram example\n",
    "print(trigram_mod[bigram_mod[data_words[0]]])"
   ]
  },
  {
   "cell_type": "code",
   "execution_count": 37,
   "metadata": {},
   "outputs": [
    {
     "name": "stderr",
     "output_type": "stream",
     "text": [
      "/Users/valentinanotararigo/.local/lib/python3.7/site-packages/ipykernel/ipkernel.py:287: DeprecationWarning: `should_run_async` will not call `transform_cell` automatically in the future. Please pass the result to `transformed_cell` argument and any exception that happen during thetransform in `preprocessing_exc_tuple` in IPython 7.17 and above.\n",
      "  and should_run_async(code)\n"
     ]
    },
    {
     "name": "stdout",
     "output_type": "stream",
     "text": [
      "['bree', 'yorkshire', 'beef', 'sear', 'beef', 'spring', 'vegetable', 'medley', 'have', 'pair', 'succulent', 'seared', 'spring', 'vegetable', 'include', 'sweet', 'carrot', 'crisp', 'sugar_snap', 'pea', 'bright', 'radish']\n"
     ]
    }
   ],
   "source": [
    "# Remove Stop Words\n",
    "data_words_nostops = clustering_utils.remove_stopwords(data_words)\n",
    "\n",
    "# Form Bigrams\n",
    "data_words_bigrams = clustering_utils.make_bigrams(data_words_nostops, bigram_mod)\n",
    "\n",
    "# Do lemmatization keeping only noun, adj, vb, adv\n",
    "data_lemmatized = clustering_utils.lemmatization(data_words_bigrams, allowed_postags=['NOUN', 'ADJ', 'VERB', 'ADV'])\n",
    "\n",
    "print(data_lemmatized[0])"
   ]
  },
  {
   "cell_type": "code",
   "execution_count": 38,
   "metadata": {},
   "outputs": [
    {
     "name": "stdout",
     "output_type": "stream",
     "text": [
      "[(0, 2), (1, 1), (2, 1), (3, 1), (4, 1), (5, 1), (6, 1), (7, 1), (8, 1), (9, 1), (10, 1), (11, 1), (12, 1), (13, 2), (14, 1), (15, 1), (16, 1), (17, 2), (18, 1)]\n"
     ]
    },
    {
     "name": "stderr",
     "output_type": "stream",
     "text": [
      "/Users/valentinanotararigo/.local/lib/python3.7/site-packages/ipykernel/ipkernel.py:287: DeprecationWarning: `should_run_async` will not call `transform_cell` automatically in the future. Please pass the result to `transformed_cell` argument and any exception that happen during thetransform in `preprocessing_exc_tuple` in IPython 7.17 and above.\n",
      "  and should_run_async(code)\n"
     ]
    }
   ],
   "source": [
    "# Create Dictionary\n",
    "id2word = corpora.Dictionary(data_lemmatized)\n",
    "\n",
    "# Create Corpus\n",
    "texts = data_lemmatized\n",
    "\n",
    "# Term Document Frequency\n",
    "corpus = [id2word.doc2bow(text) for text in texts]\n",
    "\n",
    "# View\n",
    "print(corpus[0])"
   ]
  },
  {
   "cell_type": "code",
   "execution_count": 39,
   "metadata": {},
   "outputs": [
    {
     "name": "stderr",
     "output_type": "stream",
     "text": [
      "/Users/valentinanotararigo/.local/lib/python3.7/site-packages/ipykernel/ipkernel.py:287: DeprecationWarning: `should_run_async` will not call `transform_cell` automatically in the future. Please pass the result to `transformed_cell` argument and any exception that happen during thetransform in `preprocessing_exc_tuple` in IPython 7.17 and above.\n",
      "  and should_run_async(code)\n"
     ]
    },
    {
     "data": {
      "text/plain": [
       "'beef'"
      ]
     },
     "execution_count": 39,
     "metadata": {},
     "output_type": "execute_result"
    }
   ],
   "source": [
    "id2word[0]"
   ]
  },
  {
   "cell_type": "code",
   "execution_count": 40,
   "metadata": {},
   "outputs": [
    {
     "name": "stderr",
     "output_type": "stream",
     "text": [
      "/Users/valentinanotararigo/.local/lib/python3.7/site-packages/ipykernel/ipkernel.py:287: DeprecationWarning: `should_run_async` will not call `transform_cell` automatically in the future. Please pass the result to `transformed_cell` argument and any exception that happen during thetransform in `preprocessing_exc_tuple` in IPython 7.17 and above.\n",
      "  and should_run_async(code)\n"
     ]
    },
    {
     "data": {
      "text/plain": [
       "[[('beef', 2),\n",
       "  ('bree', 1),\n",
       "  ('bright', 1),\n",
       "  ('carrot', 1),\n",
       "  ('crisp', 1),\n",
       "  ('have', 1),\n",
       "  ('include', 1),\n",
       "  ('medley', 1),\n",
       "  ('pair', 1),\n",
       "  ('pea', 1),\n",
       "  ('radish', 1),\n",
       "  ('sear', 1),\n",
       "  ('seared', 1),\n",
       "  ('spring', 2),\n",
       "  ('succulent', 1),\n",
       "  ('sugar_snap', 1),\n",
       "  ('sweet', 1),\n",
       "  ('vegetable', 2),\n",
       "  ('yorkshire', 1)]]"
      ]
     },
     "execution_count": 40,
     "metadata": {},
     "output_type": "execute_result"
    }
   ],
   "source": [
    "# Human readable format of corpus (term-frequency)\n",
    "[[(id2word[id], freq) for id, freq in cp] for cp in corpus[:1]]"
   ]
  },
  {
   "cell_type": "code",
   "execution_count": 41,
   "metadata": {},
   "outputs": [
    {
     "name": "stderr",
     "output_type": "stream",
     "text": [
      "/Users/valentinanotararigo/.local/lib/python3.7/site-packages/ipykernel/ipkernel.py:287: DeprecationWarning: `should_run_async` will not call `transform_cell` automatically in the future. Please pass the result to `transformed_cell` argument and any exception that happen during thetransform in `preprocessing_exc_tuple` in IPython 7.17 and above.\n",
      "  and should_run_async(code)\n"
     ]
    }
   ],
   "source": [
    "# Build LDA model\n",
    "lda_model = gensim.models.ldamodel.LdaModel(corpus=corpus,\n",
    "                                           id2word=id2word,\n",
    "                                           num_topics=4, \n",
    "                                           random_state=100,\n",
    "                                           update_every=2,\n",
    "                                           chunksize=10,\n",
    "                                           passes=10,\n",
    "                                           alpha='auto',\n",
    "                                           per_word_topics=True)"
   ]
  },
  {
   "cell_type": "code",
   "execution_count": 42,
   "metadata": {},
   "outputs": [
    {
     "name": "stderr",
     "output_type": "stream",
     "text": [
      "/Users/valentinanotararigo/.local/lib/python3.7/site-packages/ipykernel/ipkernel.py:287: DeprecationWarning: `should_run_async` will not call `transform_cell` automatically in the future. Please pass the result to `transformed_cell` argument and any exception that happen during thetransform in `preprocessing_exc_tuple` in IPython 7.17 and above.\n",
      "  and should_run_async(code)\n"
     ]
    },
    {
     "data": {
      "text/plain": [
       "675"
      ]
     },
     "execution_count": 42,
     "metadata": {},
     "output_type": "execute_result"
    }
   ],
   "source": [
    "len(corpus)"
   ]
  },
  {
   "cell_type": "code",
   "execution_count": 43,
   "metadata": {},
   "outputs": [
    {
     "name": "stdout",
     "output_type": "stream",
     "text": [
      "[(0,\n",
      "  '0.045*\"sweet\" + 0.041*\"roast\" + 0.034*\"bean\" + 0.032*\"spice\" + '\n",
      "  '0.031*\"potato\" + 0.027*\"salad\" + 0.027*\"flavour\" + 0.026*\"rice\" + '\n",
      "  '0.025*\"rich\" + 0.020*\"beef\"'),\n",
      " (1,\n",
      "  '0.080*\"creamy\" + 0.042*\"dress\" + 0.042*\"curry\" + 0.039*\"vegetable\" + '\n",
      "  '0.036*\"cherry\" + 0.029*\"coconut\" + 0.025*\"bed\" + 0.020*\"marinate\" + '\n",
      "  '0.017*\"mint\" + 0.016*\"duck\"'),\n",
      " (2,\n",
      "  '0.052*\"chicken\" + 0.046*\"smoke\" + 0.045*\"salmon\" + 0.043*\"green\" + '\n",
      "  '0.024*\"dressing\" + 0.023*\"cod\" + 0.022*\"tofu\" + 0.019*\"freerange\" + '\n",
      "  '0.018*\"buckwheat\" + 0.017*\"panfrie\"'),\n",
      " (3,\n",
      "  '0.064*\"sauce\" + 0.049*\"pepper\" + 0.037*\"rice\" + 0.030*\"breast\" + '\n",
      "  '0.028*\"pork\" + 0.028*\"mushroom\" + 0.027*\"onion\" + 0.025*\"noodle\" + '\n",
      "  '0.025*\"fry\" + 0.022*\"sweetcorn\"')]\n"
     ]
    },
    {
     "name": "stderr",
     "output_type": "stream",
     "text": [
      "/Users/valentinanotararigo/.local/lib/python3.7/site-packages/ipykernel/ipkernel.py:287: DeprecationWarning: `should_run_async` will not call `transform_cell` automatically in the future. Please pass the result to `transformed_cell` argument and any exception that happen during thetransform in `preprocessing_exc_tuple` in IPython 7.17 and above.\n",
      "  and should_run_async(code)\n"
     ]
    }
   ],
   "source": [
    "# Print the Keyword in the 4 topics\n",
    "pprint(lda_model.print_topics())\n",
    "doc_lda = lda_model[corpus]"
   ]
  },
  {
   "cell_type": "code",
   "execution_count": 44,
   "metadata": {},
   "outputs": [
    {
     "name": "stderr",
     "output_type": "stream",
     "text": [
      "/Users/valentinanotararigo/.local/lib/python3.7/site-packages/ipykernel/ipkernel.py:287: DeprecationWarning: `should_run_async` will not call `transform_cell` automatically in the future. Please pass the result to `transformed_cell` argument and any exception that happen during thetransform in `preprocessing_exc_tuple` in IPython 7.17 and above.\n",
      "  and should_run_async(code)\n"
     ]
    },
    {
     "name": "stdout",
     "output_type": "stream",
     "text": [
      "\n",
      "Perplexity:  -6.560253631047993\n",
      "\n",
      "Coherence Score:  0.3479641990767737\n"
     ]
    }
   ],
   "source": [
    "# Compute Perplexity\n",
    "print('\\nPerplexity: ', lda_model.log_perplexity(corpus))  # a measure of how good the model is. lower the better.\n",
    "\n",
    "# Compute Coherence Score\n",
    "coherence_model_lda = CoherenceModel(model=lda_model, texts=data_lemmatized, dictionary=id2word, coherence='c_v')\n",
    "coherence_lda = coherence_model_lda.get_coherence()\n",
    "print('\\nCoherence Score: ', coherence_lda)"
   ]
  },
  {
   "cell_type": "code",
   "execution_count": 45,
   "metadata": {},
   "outputs": [
    {
     "name": "stderr",
     "output_type": "stream",
     "text": [
      "/Users/valentinanotararigo/.local/lib/python3.7/site-packages/ipykernel/ipkernel.py:287: DeprecationWarning: `should_run_async` will not call `transform_cell` automatically in the future. Please pass the result to `transformed_cell` argument and any exception that happen during thetransform in `preprocessing_exc_tuple` in IPython 7.17 and above.\n",
      "  and should_run_async(code)\n"
     ]
    },
    {
     "data": {
      "text/html": [
       "\n",
       "<link rel=\"stylesheet\" type=\"text/css\" href=\"https://cdn.rawgit.com/bmabey/pyLDAvis/files/ldavis.v1.0.0.css\">\n",
       "\n",
       "\n",
       "<div id=\"ldavis_el106041124658713126040863790\"></div>\n",
       "<script type=\"text/javascript\">\n",
       "\n",
       "var ldavis_el106041124658713126040863790_data = {\"mdsDat\": {\"x\": [-0.3098403392854614, 0.025913261065512515, 0.18931842393721876, 0.0946086542827301], \"y\": [-0.08794491013265207, 0.2954796268984698, -0.1612414568300604, -0.04629325993575718], \"topics\": [1, 2, 3, 4], \"cluster\": [1, 1, 1, 1], \"Freq\": [47.514719703168296, 24.877160314911446, 17.545758656559787, 10.062361325360468]}, \"tinfo\": {\"Term\": [\"sauce\", \"creamy\", \"pepper\", \"chicken\", \"sweet\", \"smoke\", \"salmon\", \"roast\", \"green\", \"bean\", \"spice\", \"breast\", \"potato\", \"dress\", \"curry\", \"pork\", \"mushroom\", \"vegetable\", \"onion\", \"salad\", \"flavour\", \"noodle\", \"cherry\", \"fry\", \"rich\", \"dressing\", \"sweetcorn\", \"rice\", \"bake\", \"cod\", \"roast\", \"bean\", \"spice\", \"potato\", \"sweet\", \"flavour\", \"salad\", \"rich\", \"beef\", \"tomato\", \"spinach\", \"sundrie\", \"slice\", \"breed\", \"bree\", \"butter\", \"mash\", \"ginger\", \"take\", \"lentil\", \"stuff\", \"chickpea\", \"seed\", \"aubergine\", \"tempeh\", \"italian\", \"olive\", \"delicious\", \"sprinkle\", \"coriander\", \"rice\", \"black\", \"pepper\", \"breast\", \"pork\", \"mushroom\", \"onion\", \"fry\", \"noodle\", \"sweetcorn\", \"bake\", \"smoky\", \"cook\", \"meatball\", \"lime\", \"mince\", \"peanut\", \"side\", \"infuse\", \"herb\", \"light\", \"slaw\", \"fish\", \"cabbage\", \"family\", \"burger\", \"make\", \"spoon\", \"wedge\", \"leek\", \"lettuce\", \"smother\", \"sauce\", \"root\", \"rice\", \"crunchy\", \"black\", \"chicken\", \"smoke\", \"salmon\", \"green\", \"cod\", \"dressing\", \"tofu\", \"freerange\", \"buckwheat\", \"panfrie\", \"skewer\", \"roasted\", \"glaze\", \"salty\", \"courgette\", \"rise\", \"thyme\", \"fillet\", \"crust\", \"toast\", \"tenderstem\", \"thigh\", \"delicate\", \"source\", \"rocket\", \"tender\", \"pea\", \"cashew\", \"skin\", \"lemon\", \"artichoke\", \"cube\", \"creamy\", \"curry\", \"dress\", \"vegetable\", \"cherry\", \"coconut\", \"bed\", \"marinate\", \"mint\", \"duck\", \"milk\", \"aromatic\", \"yellow\", \"nutty\", \"bring\", \"sour\", \"wild\", \"tomatoe\", \"feature\", \"shepherd\", \"fearne\", \"chef\", \"colourful\", \"sticky\", \"inspire\", \"hit\", \"lend\", \"fritter\", \"popular\", \"chipotle\", \"pour\", \"add\"], \"Freq\": [147.0, 71.0, 107.0, 79.0, 185.0, 70.0, 69.0, 170.0, 65.0, 143.0, 134.0, 66.0, 127.0, 37.0, 37.0, 61.0, 61.0, 34.0, 59.0, 113.0, 110.0, 55.0, 32.0, 54.0, 105.0, 37.0, 47.0, 189.0, 45.0, 35.0, 169.960882260472, 142.9196485387326, 134.31302054215232, 127.1465305269031, 184.5073183821437, 110.32832494902766, 112.63695651742631, 104.63460634037062, 81.57060701151647, 70.43131192144772, 68.84861780432256, 69.63123355035667, 57.57021974890296, 54.420411293702564, 51.38965426553643, 51.15868153323222, 47.52936467280051, 49.04877895926749, 42.44187617891308, 37.29750875913313, 37.600623816517924, 36.34532112373697, 35.573435284968305, 34.622027024353734, 36.47679624778478, 33.11300311554437, 31.83197719667976, 31.631581420534694, 30.942635334204507, 31.406008366482183, 106.32901341505185, 43.825876026223284, 106.58450303599173, 66.14956779797957, 61.12502983386837, 60.94998624701556, 58.48259324337864, 54.262542288104896, 54.9283066685396, 47.220712434711, 44.976275169902316, 37.375227801061996, 37.12399908478844, 31.575645429304075, 29.296695173665633, 31.366870620860674, 25.49394536598563, 25.982545080236456, 25.350168508548276, 23.913555417391258, 20.7708551964054, 21.206858203472468, 20.882569414659265, 19.14203191634282, 16.87357494316649, 16.21404956607845, 16.04557627496306, 14.502766801926278, 12.673155082120644, 12.548294212165283, 11.080048757917648, 12.813984649325597, 138.39308135728226, 12.924465611454115, 79.81481733569481, 26.66694869780233, 14.756827664125696, 79.05223312291704, 69.6193901178562, 68.86474512451947, 65.09569182865691, 34.8242132712462, 36.97907501649447, 33.74149657254747, 28.555468603940657, 27.117809396708264, 25.45487141662869, 23.604739681707343, 23.95800810785889, 22.741030002114446, 20.77078321246401, 17.94341764117784, 16.497118744102764, 16.063847701848594, 14.563144689232152, 13.85670187049265, 14.220445065727871, 14.276992006718343, 11.947004859664649, 11.937674165604667, 11.59078719901865, 11.444765897520185, 10.718765522304677, 10.456241622145086, 10.010150670721314, 9.868060969506637, 9.012508701555277, 9.106936921163369, 9.492047106598244, 70.34239711222436, 36.74443173564374, 36.88942819725788, 34.20128060593779, 31.48381604002841, 25.205737909361293, 21.966802151907178, 17.36189964959722, 15.027500413312895, 14.01969917969766, 12.94074381848604, 13.19912376103263, 11.852487589890085, 11.018686849299133, 10.044852615423336, 8.64228214069986, 8.076486592395234, 8.945120441785397, 8.107178719387909, 7.8032635015657865, 8.803782065322764, 6.396800438577446, 5.703031965645309, 5.4340957061197255, 5.3251109970016985, 5.39756142839368, 4.668853625739908, 5.361031236087727, 4.381216355737397, 6.51798216938392, 4.467019574162211, 5.391133428418934], \"Total\": [147.0, 71.0, 107.0, 79.0, 185.0, 70.0, 69.0, 170.0, 65.0, 143.0, 134.0, 66.0, 127.0, 37.0, 37.0, 61.0, 61.0, 34.0, 59.0, 113.0, 110.0, 55.0, 32.0, 54.0, 105.0, 37.0, 47.0, 189.0, 45.0, 35.0, 170.61062038991705, 143.57005140548424, 134.9628394130644, 127.78647131834207, 185.57904883272013, 110.97321326665072, 113.29705677757786, 105.2792311731478, 82.2036224669213, 71.08759519027268, 69.49179704108381, 70.29787390181278, 58.214749007148086, 55.056578954345845, 52.03393515834847, 51.80261933780706, 48.167669731121705, 49.71936646206414, 43.097381316129635, 37.932572179092425, 38.24828432090571, 36.97821290569615, 36.208534744990565, 35.25712846621653, 37.164713849047494, 33.77357992564258, 32.47127028601388, 32.26906148939777, 31.592955120672176, 32.0703000172737, 189.8274754392655, 58.98904556561969, 107.27046904414718, 66.82947403741562, 61.763750034171714, 61.63147595851178, 59.163254749189846, 54.92528616490301, 55.60896855881245, 47.89624974987333, 45.66636225445194, 38.053521612905264, 37.801381787560445, 32.2351503374212, 29.982817030635967, 32.1081597498841, 26.14419630294219, 26.6740895446781, 26.040074094086087, 24.591580102480393, 21.44752870349211, 21.900866107999065, 21.580855967668587, 19.82847535449439, 17.555000532097193, 16.869690102352386, 16.77281346041924, 15.224354471034001, 13.377387850308189, 13.306424047461563, 11.758395706639268, 13.599915430832715, 147.77748611522534, 13.87605007368442, 189.8274754392655, 46.59653452333205, 58.98904556561969, 79.75215449577465, 70.29466341794588, 69.5348974430401, 65.78669889013597, 35.48893511782946, 37.6923831633289, 34.46363241440483, 29.245644652054885, 27.7903742553872, 26.16807846154748, 24.266826774873238, 24.666848871093073, 23.43600038174691, 21.49962026439619, 18.63984297274913, 17.225973260759194, 16.795150629574078, 15.22788371723479, 14.521774011337667, 14.90556339513042, 15.015955995549636, 12.614369039850594, 12.607305070034057, 12.26516225425976, 12.142165652578553, 11.389871066707826, 11.133612851708081, 10.685769540341438, 10.544965891116691, 9.665468077179627, 9.767530268408501, 10.192744089446952, 71.08991728116723, 37.459223175688734, 37.62974798032324, 34.914734613471445, 32.247349832337854, 25.89438838688167, 22.73185988107354, 18.17638521997967, 15.752215515303766, 14.76431275620512, 13.630305944593447, 13.94909188471585, 12.554506712180572, 11.735857797587478, 10.734674824702692, 9.345641478610831, 8.772296558447524, 9.717214409316817, 8.827051249699387, 8.543391082421191, 9.736298239364796, 7.141907075340439, 6.389549542442678, 6.1262807764061655, 6.036292040058736, 6.186902290105432, 5.379090375015572, 6.186851934725127, 5.092520352699596, 7.604920632993267, 5.320793818129293, 13.96303364843704], \"Category\": [\"Default\", \"Default\", \"Default\", \"Default\", \"Default\", \"Default\", \"Default\", \"Default\", \"Default\", \"Default\", \"Default\", \"Default\", \"Default\", \"Default\", \"Default\", \"Default\", \"Default\", \"Default\", \"Default\", \"Default\", \"Default\", \"Default\", \"Default\", \"Default\", \"Default\", \"Default\", \"Default\", \"Default\", \"Default\", \"Default\", \"Topic1\", \"Topic1\", \"Topic1\", \"Topic1\", \"Topic1\", \"Topic1\", \"Topic1\", \"Topic1\", \"Topic1\", \"Topic1\", \"Topic1\", \"Topic1\", \"Topic1\", \"Topic1\", \"Topic1\", \"Topic1\", \"Topic1\", \"Topic1\", \"Topic1\", \"Topic1\", \"Topic1\", \"Topic1\", \"Topic1\", \"Topic1\", \"Topic1\", \"Topic1\", \"Topic1\", \"Topic1\", \"Topic1\", \"Topic1\", \"Topic1\", \"Topic1\", \"Topic2\", \"Topic2\", \"Topic2\", \"Topic2\", \"Topic2\", \"Topic2\", \"Topic2\", \"Topic2\", \"Topic2\", \"Topic2\", \"Topic2\", \"Topic2\", \"Topic2\", \"Topic2\", \"Topic2\", \"Topic2\", \"Topic2\", \"Topic2\", \"Topic2\", \"Topic2\", \"Topic2\", \"Topic2\", \"Topic2\", \"Topic2\", \"Topic2\", \"Topic2\", \"Topic2\", \"Topic2\", \"Topic2\", \"Topic2\", \"Topic2\", \"Topic2\", \"Topic2\", \"Topic2\", \"Topic2\", \"Topic3\", \"Topic3\", \"Topic3\", \"Topic3\", \"Topic3\", \"Topic3\", \"Topic3\", \"Topic3\", \"Topic3\", \"Topic3\", \"Topic3\", \"Topic3\", \"Topic3\", \"Topic3\", \"Topic3\", \"Topic3\", \"Topic3\", \"Topic3\", \"Topic3\", \"Topic3\", \"Topic3\", \"Topic3\", \"Topic3\", \"Topic3\", \"Topic3\", \"Topic3\", \"Topic3\", \"Topic3\", \"Topic3\", \"Topic3\", \"Topic3\", \"Topic3\", \"Topic4\", \"Topic4\", \"Topic4\", \"Topic4\", \"Topic4\", \"Topic4\", \"Topic4\", \"Topic4\", \"Topic4\", \"Topic4\", \"Topic4\", \"Topic4\", \"Topic4\", \"Topic4\", \"Topic4\", \"Topic4\", \"Topic4\", \"Topic4\", \"Topic4\", \"Topic4\", \"Topic4\", \"Topic4\", \"Topic4\", \"Topic4\", \"Topic4\", \"Topic4\", \"Topic4\", \"Topic4\", \"Topic4\", \"Topic4\", \"Topic4\", \"Topic4\"], \"logprob\": [30.0, 29.0, 28.0, 27.0, 26.0, 25.0, 24.0, 23.0, 22.0, 21.0, 20.0, 19.0, 18.0, 17.0, 16.0, 15.0, 14.0, 13.0, 12.0, 11.0, 10.0, 9.0, 8.0, 7.0, 6.0, 5.0, 4.0, 3.0, 2.0, 1.0, -3.1935999393463135, -3.36680006980896, -3.428999900817871, -3.483799934387207, -3.1113998889923096, -3.625699996948242, -3.6050000190734863, -3.6786999702453613, -3.9277000427246094, -4.07450008392334, -4.0971999168396, -4.085899829864502, -4.276100158691406, -4.332399845123291, -4.389699935913086, -4.394199848175049, -4.467800140380859, -4.436299800872803, -4.580999851226807, -4.71019983291626, -4.702099800109863, -4.736100196838379, -4.757500171661377, -4.784599781036377, -4.732500076293945, -4.82919979095459, -4.86870002746582, -4.875, -4.896999835968018, -4.8821001052856445, -3.662600040435791, -4.548900127410889, -3.0130999088287354, -3.4900999069213867, -3.5690999031066895, -3.572000026702881, -3.613300085067749, -3.688199996948242, -3.6760001182556152, -3.827199935913086, -3.8759000301361084, -4.060999870300293, -4.067800045013428, -4.229700088500977, -4.304599761962891, -4.236299991607666, -4.443600177764893, -4.424600124359131, -4.4492998123168945, -4.507599830627441, -4.648499965667725, -4.627699851989746, -4.643099784851074, -4.730199813842773, -4.856299877166748, -4.896200180053711, -4.906599998474121, -5.007699966430664, -5.142600059509277, -5.152500152587891, -5.276899814605713, -5.131499767303467, -2.7518999576568604, -5.122900009155273, -3.302299976348877, -4.398600101470947, -4.990300178527832, -2.9628000259399414, -3.089900016784668, -3.100800037384033, -3.1570000648498535, -3.782599925994873, -3.7225000858306885, -3.814199924468994, -3.981100082397461, -4.032700061798096, -4.0960001945495605, -4.171500205993652, -4.156599998474121, -4.208700180053711, -4.2993998527526855, -4.445700168609619, -4.529699802398682, -4.556300163269043, -4.654399871826172, -4.704100131988525, -4.678199768066406, -4.674300193786621, -4.852399826049805, -4.8531999588012695, -4.882699966430664, -4.895400047302246, -4.960899829864502, -4.9857001304626465, -5.029300212860107, -5.043600082397461, -5.134300231933594, -5.123899936676025, -5.082399845123291, -2.5234999656677246, -3.1728999614715576, -3.1689999103546143, -3.2446000576019287, -3.327399969100952, -3.549799919128418, -3.6874001026153564, -3.922600030899048, -4.066999912261963, -4.13640022277832, -4.2164998054504395, -4.196700096130371, -4.3043999671936035, -4.377299785614014, -4.469799995422363, -4.620200157165527, -4.687900066375732, -4.5858001708984375, -4.684100151062012, -4.722300052642822, -4.6016998291015625, -4.92110013961792, -5.035900115966797, -5.084199905395508, -5.104499816894531, -5.09089994430542, -5.236000061035156, -5.097700119018555, -5.299600124359131, -4.902299880981445, -5.280200004577637, -5.092100143432617], \"loglift\": [30.0, 29.0, 28.0, 27.0, 26.0, 25.0, 24.0, 23.0, 22.0, 21.0, 20.0, 19.0, 18.0, 17.0, 16.0, 15.0, 14.0, 13.0, 12.0, 11.0, 10.0, 9.0, 8.0, 7.0, 6.0, 5.0, 4.0, 3.0, 2.0, 1.0, 0.7403, 0.7396, 0.7393, 0.7391, 0.7383, 0.7383, 0.7383, 0.738, 0.7364, 0.7349, 0.7348, 0.7346, 0.733, 0.7325, 0.7317, 0.7316, 0.7308, 0.7306, 0.7288, 0.7272, 0.7271, 0.7269, 0.7264, 0.726, 0.7254, 0.7244, 0.7242, 0.7242, 0.7233, 0.7232, 0.1646, 0.447, 1.3848, 1.381, 1.3808, 1.3801, 1.3796, 1.3791, 1.3789, 1.377, 1.376, 1.3732, 1.3731, 1.3705, 1.3681, 1.3679, 1.366, 1.365, 1.3644, 1.3633, 1.3592, 1.359, 1.3583, 1.356, 1.3516, 1.3516, 1.3469, 1.3427, 1.3371, 1.3326, 1.3318, 1.3317, 1.3256, 1.3202, 0.5248, 0.8331, 0.0056, 1.7315, 1.7307, 1.7307, 1.7298, 1.7214, 1.7213, 1.7192, 1.7165, 1.7159, 1.7127, 1.7127, 1.7112, 1.7103, 1.7059, 1.7023, 1.6971, 1.6958, 1.6957, 1.6935, 1.6933, 1.6899, 1.686, 1.6858, 1.6838, 1.6812, 1.6796, 1.6776, 1.675, 1.674, 1.6704, 1.6703, 1.6691, 2.2858, 2.2771, 2.2765, 2.2757, 2.2724, 2.2694, 2.2621, 2.2505, 2.2493, 2.2446, 2.2445, 2.2411, 2.2388, 2.2333, 2.2299, 2.2181, 2.2137, 2.2136, 2.2113, 2.2058, 2.1957, 2.1862, 2.1827, 2.1765, 2.171, 2.1599, 2.1548, 2.1531, 2.1459, 2.1421, 2.1215, 1.3447]}, \"token.table\": {\"Topic\": [3, 4, 4, 3, 1, 2, 1, 4, 1, 1, 2, 2, 1, 1, 4, 3, 2, 1, 2, 3, 4, 4, 3, 1, 2, 4, 4, 3, 4, 2, 1, 3, 4, 1, 2, 3, 3, 4, 3, 1, 4, 3, 4, 2, 4, 4, 3, 2, 1, 3, 4, 2, 1, 3, 3, 2, 4, 2, 4, 1, 2, 3, 4, 1, 2, 2, 2, 2, 4, 1, 2, 4, 2, 4, 2, 2, 4, 1, 2, 3, 3, 2, 2, 4, 2, 1, 4, 1, 2, 4, 1, 3, 1, 3, 3, 2, 1, 3, 3, 1, 2, 1, 4, 2, 3, 3, 2, 1, 3, 2, 2, 4, 3, 1, 1, 2, 1, 4, 1, 1, 1, 2, 2, 1, 1, 3, 3, 3, 3, 3, 3, 1, 4, 4, 2, 4, 4], \"Freq\": [0.5729413966495371, 0.3580883729059607, 0.9319603102080231, 0.9214202313873596, 0.9927070502504789, 0.9854080285454098, 0.9960294546118519, 0.9678046633710389, 0.9975229501959815, 0.7459012021317448, 0.2542845007267312, 0.9875882004255903, 0.9801295989780127, 0.9808092152761256, 0.9315605887742352, 0.9715594238449673, 0.9484465869215278, 0.9845062016541453, 0.9582178992745095, 0.9358240379644641, 0.8401117428028134, 0.9613193072043705, 0.9905688504526295, 0.9735462363151286, 0.1314938114753742, 0.9204566803276194, 0.9654601462865686, 0.9862228856344629, 0.9390333324978405, 0.9788001985730542, 0.9666264420134137, 0.9656733710855526, 0.984668468851124, 0.42921646866218127, 0.5794422326939447, 0.9640695406132681, 0.8829810619220924, 0.987740718126083, 0.9518291128309774, 0.9916619363260325, 0.9832646240242551, 0.9816306875495598, 0.9482324190210685, 0.9683850461250376, 0.9243759567277972, 0.9063049226402131, 0.9850351026139718, 0.9730846650133435, 0.9912301965672361, 0.9916006415663802, 0.8081654535703936, 0.9831537306492131, 0.9855314636276991, 0.9813961267005914, 0.98804167250511, 0.9759437945827351, 0.8081588758879193, 0.9600587121861417, 0.8283230776142745, 0.9770951161426853, 0.9769717208493728, 0.9311499379165288, 0.929525189467657, 0.9754150028453268, 0.935501770346864, 0.9791337869421177, 0.9672206574308297, 0.9539246374948999, 0.9352794735728545, 0.9965190400104954, 0.9927051577250372, 0.9537570215110643, 0.9654866626266831, 0.9522470020440639, 0.9897540023390505, 0.9890490945148821, 0.9372983372601237, 0.9854865460493897, 0.9803382225315153, 0.9553624671653325, 0.8981810426851544, 0.9562351701431562, 0.997478625323845, 0.7854656875115992, 0.9876343318896739, 0.9938454258089434, 0.7517675250581946, 0.5584017790612943, 0.4214353049519202, 0.015803823935697008, 0.9973477088497297, 0.9288299568215421, 0.9964209708134141, 0.9729657859997453, 0.905933942489411, 0.9368660339914868, 0.9973780715401898, 0.9923074964843622, 0.9767614377253179, 0.06090237583945976, 0.933836429538383, 0.9942407295280178, 0.9363963235231888, 0.9747286765477402, 0.989004463692405, 0.9483198052280299, 0.9588661880513468, 0.996311089357755, 0.9958081680227427, 0.9723147407059435, 0.9558882969615656, 0.9630157566602685, 0.9783808604596594, 0.9928658924393436, 0.9929229482899534, 0.9852634493330499, 0.9812314131929941, 0.8161558672361617, 0.9935086154761195, 0.9957626897475046, 0.9968797726016901, 0.005388539311360487, 0.9812876842225899, 0.9745371694841485, 0.9686607610170703, 0.9657703704963435, 0.9323415708030351, 0.9512960943262628, 0.9526559393772914, 0.9392466174457879, 0.9865471982514809, 0.9847006332488583, 0.9261913569974173, 0.973800900290432, 0.9717891224706103, 0.9119618730053284, 0.9558320589655203], \"Term\": [\"add\", \"add\", \"aromatic\", \"artichoke\", \"aubergine\", \"bake\", \"bean\", \"bed\", \"beef\", \"black\", \"black\", \"breast\", \"bree\", \"breed\", \"bring\", \"buckwheat\", \"burger\", \"butter\", \"cabbage\", \"cashew\", \"chef\", \"cherry\", \"chicken\", \"chickpea\", \"chipotle\", \"chipotle\", \"coconut\", \"cod\", \"colourful\", \"cook\", \"coriander\", \"courgette\", \"creamy\", \"crunchy\", \"crunchy\", \"crust\", \"cube\", \"curry\", \"delicate\", \"delicious\", \"dress\", \"dressing\", \"duck\", \"family\", \"fearne\", \"feature\", \"fillet\", \"fish\", \"flavour\", \"freerange\", \"fritter\", \"fry\", \"ginger\", \"glaze\", \"green\", \"herb\", \"hit\", \"infuse\", \"inspire\", \"italian\", \"leek\", \"lemon\", \"lend\", \"lentil\", \"lettuce\", \"light\", \"lime\", \"make\", \"marinate\", \"mash\", \"meatball\", \"milk\", \"mince\", \"mint\", \"mushroom\", \"noodle\", \"nutty\", \"olive\", \"onion\", \"panfrie\", \"pea\", \"peanut\", \"pepper\", \"popular\", \"pork\", \"potato\", \"pour\", \"rice\", \"rice\", \"rice\", \"rich\", \"rise\", \"roast\", \"roasted\", \"rocket\", \"root\", \"salad\", \"salmon\", \"salty\", \"sauce\", \"sauce\", \"seed\", \"shepherd\", \"side\", \"skewer\", \"skin\", \"slaw\", \"slice\", \"smoke\", \"smoky\", \"smother\", \"sour\", \"source\", \"spice\", \"spinach\", \"spoon\", \"sprinkle\", \"sticky\", \"stuff\", \"sundrie\", \"sweet\", \"sweet\", \"sweetcorn\", \"take\", \"tempeh\", \"tender\", \"tenderstem\", \"thigh\", \"thyme\", \"toast\", \"tofu\", \"tomato\", \"tomatoe\", \"vegetable\", \"wedge\", \"wild\", \"yellow\"]}, \"R\": 30, \"lambda.step\": 0.01, \"plot.opts\": {\"xlab\": \"PC1\", \"ylab\": \"PC2\"}, \"topic.order\": [1, 4, 3, 2]};\n",
       "\n",
       "function LDAvis_load_lib(url, callback){\n",
       "  var s = document.createElement('script');\n",
       "  s.src = url;\n",
       "  s.async = true;\n",
       "  s.onreadystatechange = s.onload = callback;\n",
       "  s.onerror = function(){console.warn(\"failed to load library \" + url);};\n",
       "  document.getElementsByTagName(\"head\")[0].appendChild(s);\n",
       "}\n",
       "\n",
       "if(typeof(LDAvis) !== \"undefined\"){\n",
       "   // already loaded: just create the visualization\n",
       "   !function(LDAvis){\n",
       "       new LDAvis(\"#\" + \"ldavis_el106041124658713126040863790\", ldavis_el106041124658713126040863790_data);\n",
       "   }(LDAvis);\n",
       "}else if(typeof define === \"function\" && define.amd){\n",
       "   // require.js is available: use it to load d3/LDAvis\n",
       "   require.config({paths: {d3: \"https://cdnjs.cloudflare.com/ajax/libs/d3/3.5.5/d3.min\"}});\n",
       "   require([\"d3\"], function(d3){\n",
       "      window.d3 = d3;\n",
       "      LDAvis_load_lib(\"https://cdn.rawgit.com/bmabey/pyLDAvis/files/ldavis.v1.0.0.js\", function(){\n",
       "        new LDAvis(\"#\" + \"ldavis_el106041124658713126040863790\", ldavis_el106041124658713126040863790_data);\n",
       "      });\n",
       "    });\n",
       "}else{\n",
       "    // require.js not available: dynamically load d3 & LDAvis\n",
       "    LDAvis_load_lib(\"https://cdnjs.cloudflare.com/ajax/libs/d3/3.5.5/d3.min.js\", function(){\n",
       "         LDAvis_load_lib(\"https://cdn.rawgit.com/bmabey/pyLDAvis/files/ldavis.v1.0.0.js\", function(){\n",
       "                 new LDAvis(\"#\" + \"ldavis_el106041124658713126040863790\", ldavis_el106041124658713126040863790_data);\n",
       "            })\n",
       "         });\n",
       "}\n",
       "</script>"
      ],
      "text/plain": [
       "PreparedData(topic_coordinates=              x         y  topics  cluster       Freq\n",
       "topic                                                \n",
       "0     -0.309840 -0.087945       1        1  47.514720\n",
       "3      0.025913  0.295480       2        1  24.877160\n",
       "2      0.189318 -0.161241       3        1  17.545759\n",
       "1      0.094609 -0.046293       4        1  10.062361, topic_info=         Term        Freq       Total Category  logprob  loglift\n",
       "65      sauce  147.000000  147.000000  Default  30.0000  30.0000\n",
       "23     creamy   71.000000   71.000000  Default  29.0000  29.0000\n",
       "184    pepper  107.000000  107.000000  Default  28.0000  28.0000\n",
       "21    chicken   79.000000   79.000000  Default  27.0000  27.0000\n",
       "16      sweet  185.000000  185.000000  Default  26.0000  26.0000\n",
       "..        ...         ...         ...      ...      ...      ...\n",
       "278   fritter    5.361031    6.186852   Topic4  -5.0977   2.1531\n",
       "780   popular    4.381216    5.092520   Topic4  -5.2996   2.1459\n",
       "45   chipotle    6.517982    7.604921   Topic4  -4.9023   2.1421\n",
       "454      pour    4.467020    5.320794   Topic4  -5.2802   2.1215\n",
       "214       add    5.391133   13.963034   Topic4  -5.0921   1.3447\n",
       "\n",
       "[161 rows x 6 columns], token_table=      Topic      Freq       Term\n",
       "term                            \n",
       "214       3  0.572941        add\n",
       "214       4  0.358088        add\n",
       "340       4  0.931960   aromatic\n",
       "493       3  0.921420  artichoke\n",
       "262       1  0.992707  aubergine\n",
       "...     ...       ...        ...\n",
       "30        4  0.926191    tomatoe\n",
       "17        4  0.973801  vegetable\n",
       "173       2  0.971789      wedge\n",
       "109       4  0.911962       wild\n",
       "206       4  0.955832     yellow\n",
       "\n",
       "[137 rows x 3 columns], R=30, lambda_step=0.01, plot_opts={'xlab': 'PC1', 'ylab': 'PC2'}, topic_order=[1, 4, 3, 2])"
      ]
     },
     "execution_count": 45,
     "metadata": {},
     "output_type": "execute_result"
    }
   ],
   "source": [
    "# Visualize the topics\n",
    "pyLDAvis.enable_notebook()\n",
    "vis = pyLDAvis.gensim.prepare(lda_model, corpus, id2word)\n",
    "vis"
   ]
  },
  {
   "cell_type": "code",
   "execution_count": 46,
   "metadata": {},
   "outputs": [
    {
     "name": "stderr",
     "output_type": "stream",
     "text": [
      "/Users/valentinanotararigo/.local/lib/python3.7/site-packages/ipykernel/ipkernel.py:287: DeprecationWarning: `should_run_async` will not call `transform_cell` automatically in the future. Please pass the result to `transformed_cell` argument and any exception that happen during thetransform in `preprocessing_exc_tuple` in IPython 7.17 and above.\n",
      "  and should_run_async(code)\n"
     ]
    },
    {
     "data": {
      "text/plain": [
       "[(0, 2),\n",
       " (1, 1),\n",
       " (2, 1),\n",
       " (3, 1),\n",
       " (4, 1),\n",
       " (5, 1),\n",
       " (6, 1),\n",
       " (7, 1),\n",
       " (8, 1),\n",
       " (9, 1),\n",
       " (10, 1),\n",
       " (11, 1),\n",
       " (12, 1),\n",
       " (13, 2),\n",
       " (14, 1),\n",
       " (15, 1),\n",
       " (16, 1),\n",
       " (17, 2),\n",
       " (18, 1)]"
      ]
     },
     "execution_count": 46,
     "metadata": {},
     "output_type": "execute_result"
    }
   ],
   "source": [
    "corpus[0]"
   ]
  },
  {
   "cell_type": "code",
   "execution_count": 47,
   "metadata": {},
   "outputs": [
    {
     "name": "stderr",
     "output_type": "stream",
     "text": [
      "/Users/valentinanotararigo/.local/lib/python3.7/site-packages/ipykernel/ipkernel.py:287: DeprecationWarning: `should_run_async` will not call `transform_cell` automatically in the future. Please pass the result to `transformed_cell` argument and any exception that happen during thetransform in `preprocessing_exc_tuple` in IPython 7.17 and above.\n",
      "  and should_run_async(code)\n"
     ]
    },
    {
     "data": {
      "text/plain": [
       "([(0, 0.70690894), (1, 0.13665657), (2, 0.084344156), (3, 0.07209035)],\n",
       " [(0, [0]),\n",
       "  (1, [0]),\n",
       "  (2, [1, 0]),\n",
       "  (3, [0]),\n",
       "  (4, [0]),\n",
       "  (5, [0, 2]),\n",
       "  (6, [0, 3]),\n",
       "  (7, [0, 1, 2, 3]),\n",
       "  (8, [0]),\n",
       "  (9, [2]),\n",
       "  (10, [0]),\n",
       "  (11, [0]),\n",
       "  (12, [0, 1, 2]),\n",
       "  (13, [0]),\n",
       "  (14, [0]),\n",
       "  (15, [0]),\n",
       "  (16, [0]),\n",
       "  (17, [1]),\n",
       "  (18, [0])],\n",
       " [(0, [(0, 1.9995852)]),\n",
       "  (1, [(0, 0.99965274)]),\n",
       "  (2, [(0, 0.012143518), (1, 0.9832173)]),\n",
       "  (3, [(0, 0.9984377)]),\n",
       "  (4, [(0, 0.997944)]),\n",
       "  (5, [(0, 0.9597111), (2, 0.0392989)]),\n",
       "  (6, [(0, 0.9769082), (3, 0.018723888)]),\n",
       "  (7, [(0, 0.577481), (1, 0.278593), (2, 0.08138035), (3, 0.046751987)]),\n",
       "  (8, [(0, 0.9984387)]),\n",
       "  (9, [(2, 0.9879848)]),\n",
       "  (10, [(0, 0.99753493)]),\n",
       "  (11, [(0, 0.9962255)]),\n",
       "  (12, [(0, 0.93200284), (1, 0.035440948), (2, 0.02097956)]),\n",
       "  (13, [(0, 1.998121)]),\n",
       "  (14, [(0, 0.9992335)]),\n",
       "  (15, [(0, 0.99301636)]),\n",
       "  (16, [(0, 0.9996626)]),\n",
       "  (17, [(1, 1.9980757)]),\n",
       "  (18, [(0, 0.9990603)])])"
      ]
     },
     "execution_count": 47,
     "metadata": {},
     "output_type": "execute_result"
    }
   ],
   "source": [
    "lda_model[corpus[0]]"
   ]
  },
  {
   "cell_type": "code",
   "execution_count": 48,
   "metadata": {},
   "outputs": [
    {
     "name": "stderr",
     "output_type": "stream",
     "text": [
      "/Users/valentinanotararigo/.local/lib/python3.7/site-packages/ipykernel/ipkernel.py:287: DeprecationWarning: `should_run_async` will not call `transform_cell` automatically in the future. Please pass the result to `transformed_cell` argument and any exception that happen during thetransform in `preprocessing_exc_tuple` in IPython 7.17 and above.\n",
      "  and should_run_async(code)\n"
     ]
    }
   ],
   "source": [
    "# a= ([(0, 0.58809257), (1, 0.106163174), (2, 0.27311474), (3, 0.032629542)], 3)"
   ]
  },
  {
   "cell_type": "code",
   "execution_count": 49,
   "metadata": {},
   "outputs": [
    {
     "name": "stderr",
     "output_type": "stream",
     "text": [
      "/Users/valentinanotararigo/.local/lib/python3.7/site-packages/ipykernel/ipkernel.py:287: DeprecationWarning: `should_run_async` will not call `transform_cell` automatically in the future. Please pass the result to `transformed_cell` argument and any exception that happen during thetransform in `preprocessing_exc_tuple` in IPython 7.17 and above.\n",
      "  and should_run_async(code)\n"
     ]
    }
   ],
   "source": [
    "#a[0]"
   ]
  },
  {
   "cell_type": "code",
   "execution_count": 50,
   "metadata": {},
   "outputs": [
    {
     "name": "stderr",
     "output_type": "stream",
     "text": [
      "/Users/valentinanotararigo/.local/lib/python3.7/site-packages/ipykernel/ipkernel.py:287: DeprecationWarning: `should_run_async` will not call `transform_cell` automatically in the future. Please pass the result to `transformed_cell` argument and any exception that happen during thetransform in `preprocessing_exc_tuple` in IPython 7.17 and above.\n",
      "  and should_run_async(code)\n"
     ]
    }
   ],
   "source": [
    "#sorted([(0, 0.58809257), (1, 0.106163174), (2, 0.27311474), (3, 0.032629542)], key=lambda x: (x[1]), reverse=True)"
   ]
  },
  {
   "cell_type": "code",
   "execution_count": 51,
   "metadata": {},
   "outputs": [
    {
     "name": "stderr",
     "output_type": "stream",
     "text": [
      "/Users/valentinanotararigo/.local/lib/python3.7/site-packages/ipykernel/ipkernel.py:287: DeprecationWarning: `should_run_async` will not call `transform_cell` automatically in the future. Please pass the result to `transformed_cell` argument and any exception that happen during thetransform in `preprocessing_exc_tuple` in IPython 7.17 and above.\n",
      "  and should_run_async(code)\n"
     ]
    }
   ],
   "source": [
    "#b = [(0, 0.58809257), (2, 0.27311474), (1, 0.106163174), (3, 0.032629542)]"
   ]
  },
  {
   "cell_type": "code",
   "execution_count": 52,
   "metadata": {},
   "outputs": [
    {
     "name": "stderr",
     "output_type": "stream",
     "text": [
      "/Users/valentinanotararigo/.local/lib/python3.7/site-packages/ipykernel/ipkernel.py:287: DeprecationWarning: `should_run_async` will not call `transform_cell` automatically in the future. Please pass the result to `transformed_cell` argument and any exception that happen during thetransform in `preprocessing_exc_tuple` in IPython 7.17 and above.\n",
      "  and should_run_async(code)\n"
     ]
    }
   ],
   "source": [
    "#b[0][0]"
   ]
  },
  {
   "cell_type": "code",
   "execution_count": 53,
   "metadata": {},
   "outputs": [
    {
     "name": "stderr",
     "output_type": "stream",
     "text": [
      "/Users/valentinanotararigo/.local/lib/python3.7/site-packages/ipykernel/ipkernel.py:287: DeprecationWarning: `should_run_async` will not call `transform_cell` automatically in the future. Please pass the result to `transformed_cell` argument and any exception that happen during thetransform in `preprocessing_exc_tuple` in IPython 7.17 and above.\n",
      "  and should_run_async(code)\n"
     ]
    }
   ],
   "source": [
    "array_topics = []\n",
    "# Get main topic in each document\n",
    "for i, row in enumerate(lda_model[corpus]):\n",
    "    topic_importance = sorted(row[0], key=lambda x: (x[1]), reverse=True)\n",
    "    array_topics.append(topic_importance[0][0])"
   ]
  },
  {
   "cell_type": "code",
   "execution_count": 54,
   "metadata": {},
   "outputs": [
    {
     "name": "stderr",
     "output_type": "stream",
     "text": [
      "/Users/valentinanotararigo/.local/lib/python3.7/site-packages/ipykernel/ipkernel.py:287: DeprecationWarning: `should_run_async` will not call `transform_cell` automatically in the future. Please pass the result to `transformed_cell` argument and any exception that happen during thetransform in `preprocessing_exc_tuple` in IPython 7.17 and above.\n",
      "  and should_run_async(code)\n"
     ]
    },
    {
     "data": {
      "text/plain": [
       "675"
      ]
     },
     "execution_count": 54,
     "metadata": {},
     "output_type": "execute_result"
    }
   ],
   "source": [
    "len(array_topics)"
   ]
  },
  {
   "cell_type": "code",
   "execution_count": 55,
   "metadata": {},
   "outputs": [
    {
     "name": "stderr",
     "output_type": "stream",
     "text": [
      "/Users/valentinanotararigo/.local/lib/python3.7/site-packages/ipykernel/ipkernel.py:287: DeprecationWarning: `should_run_async` will not call `transform_cell` automatically in the future. Please pass the result to `transformed_cell` argument and any exception that happen during thetransform in `preprocessing_exc_tuple` in IPython 7.17 and above.\n",
      "  and should_run_async(code)\n"
     ]
    }
   ],
   "source": [
    "data[\"topic\"] = array_topics"
   ]
  },
  {
   "cell_type": "code",
   "execution_count": 56,
   "metadata": {},
   "outputs": [
    {
     "name": "stderr",
     "output_type": "stream",
     "text": [
      "/Users/valentinanotararigo/.local/lib/python3.7/site-packages/ipykernel/ipkernel.py:287: DeprecationWarning: `should_run_async` will not call `transform_cell` automatically in the future. Please pass the result to `transformed_cell` argument and any exception that happen during thetransform in `preprocessing_exc_tuple` in IPython 7.17 and above.\n",
      "  and should_run_async(code)\n",
      "2020-09-21 09:39:21.469 | INFO     | game.clustering_utils:drop_columns:181 - Dropping columns: ['key_ingredient', 'title', 'description', 'text_union']\n"
     ]
    },
    {
     "data": {
      "text/html": [
       "<div>\n",
       "<style scoped>\n",
       "    .dataframe tbody tr th:only-of-type {\n",
       "        vertical-align: middle;\n",
       "    }\n",
       "\n",
       "    .dataframe tbody tr th {\n",
       "        vertical-align: top;\n",
       "    }\n",
       "\n",
       "    .dataframe thead th {\n",
       "        text-align: right;\n",
       "    }\n",
       "</style>\n",
       "<table border=\"1\" class=\"dataframe\">\n",
       "  <thead>\n",
       "    <tr style=\"text-align: right;\">\n",
       "      <th></th>\n",
       "      <th>allergens</th>\n",
       "      <th>calories</th>\n",
       "      <th>carbs</th>\n",
       "      <th>cuisine</th>\n",
       "      <th>fat</th>\n",
       "      <th>food_group</th>\n",
       "      <th>protein</th>\n",
       "      <th>id</th>\n",
       "      <th>cooking_time</th>\n",
       "      <th>price_1p_pence</th>\n",
       "      <th>price_2p_pence</th>\n",
       "      <th>price_4p_pence</th>\n",
       "      <th>season_autumn</th>\n",
       "      <th>season_other</th>\n",
       "      <th>season_spring</th>\n",
       "      <th>season_summer</th>\n",
       "      <th>season_winter</th>\n",
       "      <th>topic</th>\n",
       "    </tr>\n",
       "  </thead>\n",
       "  <tbody>\n",
       "    <tr>\n",
       "      <th>0</th>\n",
       "      <td>2</td>\n",
       "      <td>474</td>\n",
       "      <td>26</td>\n",
       "      <td>2</td>\n",
       "      <td>23</td>\n",
       "      <td>88</td>\n",
       "      <td>45</td>\n",
       "      <td>1</td>\n",
       "      <td>25</td>\n",
       "      <td>900</td>\n",
       "      <td>1400</td>\n",
       "      <td>2400</td>\n",
       "      <td>0</td>\n",
       "      <td>0</td>\n",
       "      <td>1</td>\n",
       "      <td>0</td>\n",
       "      <td>0</td>\n",
       "      <td>0</td>\n",
       "    </tr>\n",
       "    <tr>\n",
       "      <th>1</th>\n",
       "      <td>1</td>\n",
       "      <td>715</td>\n",
       "      <td>67</td>\n",
       "      <td>7</td>\n",
       "      <td>28</td>\n",
       "      <td>127</td>\n",
       "      <td>50</td>\n",
       "      <td>2</td>\n",
       "      <td>30</td>\n",
       "      <td>900</td>\n",
       "      <td>1400</td>\n",
       "      <td>2400</td>\n",
       "      <td>0</td>\n",
       "      <td>0</td>\n",
       "      <td>1</td>\n",
       "      <td>0</td>\n",
       "      <td>0</td>\n",
       "      <td>1</td>\n",
       "    </tr>\n",
       "    <tr>\n",
       "      <th>2</th>\n",
       "      <td>3</td>\n",
       "      <td>479</td>\n",
       "      <td>36</td>\n",
       "      <td>0</td>\n",
       "      <td>27</td>\n",
       "      <td>262</td>\n",
       "      <td>31</td>\n",
       "      <td>5</td>\n",
       "      <td>30</td>\n",
       "      <td>900</td>\n",
       "      <td>1200</td>\n",
       "      <td>2400</td>\n",
       "      <td>0</td>\n",
       "      <td>0</td>\n",
       "      <td>1</td>\n",
       "      <td>0</td>\n",
       "      <td>0</td>\n",
       "      <td>3</td>\n",
       "    </tr>\n",
       "    <tr>\n",
       "      <th>3</th>\n",
       "      <td>2</td>\n",
       "      <td>555</td>\n",
       "      <td>65</td>\n",
       "      <td>11</td>\n",
       "      <td>26</td>\n",
       "      <td>262</td>\n",
       "      <td>23</td>\n",
       "      <td>6</td>\n",
       "      <td>25</td>\n",
       "      <td>900</td>\n",
       "      <td>1400</td>\n",
       "      <td>2400</td>\n",
       "      <td>0</td>\n",
       "      <td>0</td>\n",
       "      <td>0</td>\n",
       "      <td>1</td>\n",
       "      <td>0</td>\n",
       "      <td>0</td>\n",
       "    </tr>\n",
       "    <tr>\n",
       "      <th>4</th>\n",
       "      <td>1</td>\n",
       "      <td>629</td>\n",
       "      <td>71</td>\n",
       "      <td>7</td>\n",
       "      <td>28</td>\n",
       "      <td>262</td>\n",
       "      <td>23</td>\n",
       "      <td>7</td>\n",
       "      <td>30</td>\n",
       "      <td>850</td>\n",
       "      <td>1150</td>\n",
       "      <td>1975</td>\n",
       "      <td>0</td>\n",
       "      <td>0</td>\n",
       "      <td>0</td>\n",
       "      <td>0</td>\n",
       "      <td>1</td>\n",
       "      <td>0</td>\n",
       "    </tr>\n",
       "  </tbody>\n",
       "</table>\n",
       "</div>"
      ],
      "text/plain": [
       "   allergens  calories  carbs  cuisine  fat  food_group  protein  id  \\\n",
       "0          2       474     26        2   23          88       45   1   \n",
       "1          1       715     67        7   28         127       50   2   \n",
       "2          3       479     36        0   27         262       31   5   \n",
       "3          2       555     65       11   26         262       23   6   \n",
       "4          1       629     71        7   28         262       23   7   \n",
       "\n",
       "   cooking_time  price_1p_pence  price_2p_pence  price_4p_pence  \\\n",
       "0            25             900            1400            2400   \n",
       "1            30             900            1400            2400   \n",
       "2            30             900            1200            2400   \n",
       "3            25             900            1400            2400   \n",
       "4            30             850            1150            1975   \n",
       "\n",
       "   season_autumn  season_other  season_spring  season_summer  season_winter  \\\n",
       "0              0             0              1              0              0   \n",
       "1              0             0              1              0              0   \n",
       "2              0             0              1              0              0   \n",
       "3              0             0              0              1              0   \n",
       "4              0             0              0              0              1   \n",
       "\n",
       "   topic  \n",
       "0      0  \n",
       "1      1  \n",
       "2      3  \n",
       "3      0  \n",
       "4      0  "
      ]
     },
     "execution_count": 56,
     "metadata": {},
     "output_type": "execute_result"
    }
   ],
   "source": [
    "data = clustering_utils.drop_columns(df=data, columns=[\n",
    "    \"key_ingredient\", \n",
    "    \"title\",\n",
    "    \"description\",\n",
    "    \"text_union\"\n",
    "    ])\n",
    "\n",
    "data.head()"
   ]
  },
  {
   "cell_type": "markdown",
   "metadata": {},
   "source": [
    "## Clustering "
   ]
  },
  {
   "cell_type": "code",
   "execution_count": 57,
   "metadata": {},
   "outputs": [
    {
     "name": "stderr",
     "output_type": "stream",
     "text": [
      "/Users/valentinanotararigo/.local/lib/python3.7/site-packages/ipykernel/ipkernel.py:287: DeprecationWarning: `should_run_async` will not call `transform_cell` automatically in the future. Please pass the result to `transformed_cell` argument and any exception that happen during thetransform in `preprocessing_exc_tuple` in IPython 7.17 and above.\n",
      "  and should_run_async(code)\n"
     ]
    }
   ],
   "source": [
    "X = data.drop(columns=[\"id\"], axis=1).copy()"
   ]
  },
  {
   "cell_type": "code",
   "execution_count": 58,
   "metadata": {},
   "outputs": [
    {
     "name": "stderr",
     "output_type": "stream",
     "text": [
      "/Users/valentinanotararigo/.local/lib/python3.7/site-packages/ipykernel/ipkernel.py:287: DeprecationWarning: `should_run_async` will not call `transform_cell` automatically in the future. Please pass the result to `transformed_cell` argument and any exception that happen during thetransform in `preprocessing_exc_tuple` in IPython 7.17 and above.\n",
      "  and should_run_async(code)\n"
     ]
    },
    {
     "data": {
      "text/html": [
       "<div>\n",
       "<style scoped>\n",
       "    .dataframe tbody tr th:only-of-type {\n",
       "        vertical-align: middle;\n",
       "    }\n",
       "\n",
       "    .dataframe tbody tr th {\n",
       "        vertical-align: top;\n",
       "    }\n",
       "\n",
       "    .dataframe thead th {\n",
       "        text-align: right;\n",
       "    }\n",
       "</style>\n",
       "<table border=\"1\" class=\"dataframe\">\n",
       "  <thead>\n",
       "    <tr style=\"text-align: right;\">\n",
       "      <th></th>\n",
       "      <th>allergens</th>\n",
       "      <th>calories</th>\n",
       "      <th>carbs</th>\n",
       "      <th>cuisine</th>\n",
       "      <th>fat</th>\n",
       "      <th>food_group</th>\n",
       "      <th>protein</th>\n",
       "      <th>cooking_time</th>\n",
       "      <th>price_1p_pence</th>\n",
       "      <th>price_2p_pence</th>\n",
       "      <th>price_4p_pence</th>\n",
       "      <th>season_autumn</th>\n",
       "      <th>season_other</th>\n",
       "      <th>season_spring</th>\n",
       "      <th>season_summer</th>\n",
       "      <th>season_winter</th>\n",
       "      <th>topic</th>\n",
       "    </tr>\n",
       "  </thead>\n",
       "  <tbody>\n",
       "    <tr>\n",
       "      <th>0</th>\n",
       "      <td>2</td>\n",
       "      <td>474</td>\n",
       "      <td>26</td>\n",
       "      <td>2</td>\n",
       "      <td>23</td>\n",
       "      <td>88</td>\n",
       "      <td>45</td>\n",
       "      <td>25</td>\n",
       "      <td>900</td>\n",
       "      <td>1400</td>\n",
       "      <td>2400</td>\n",
       "      <td>0</td>\n",
       "      <td>0</td>\n",
       "      <td>1</td>\n",
       "      <td>0</td>\n",
       "      <td>0</td>\n",
       "      <td>0</td>\n",
       "    </tr>\n",
       "    <tr>\n",
       "      <th>1</th>\n",
       "      <td>1</td>\n",
       "      <td>715</td>\n",
       "      <td>67</td>\n",
       "      <td>7</td>\n",
       "      <td>28</td>\n",
       "      <td>127</td>\n",
       "      <td>50</td>\n",
       "      <td>30</td>\n",
       "      <td>900</td>\n",
       "      <td>1400</td>\n",
       "      <td>2400</td>\n",
       "      <td>0</td>\n",
       "      <td>0</td>\n",
       "      <td>1</td>\n",
       "      <td>0</td>\n",
       "      <td>0</td>\n",
       "      <td>1</td>\n",
       "    </tr>\n",
       "    <tr>\n",
       "      <th>2</th>\n",
       "      <td>3</td>\n",
       "      <td>479</td>\n",
       "      <td>36</td>\n",
       "      <td>0</td>\n",
       "      <td>27</td>\n",
       "      <td>262</td>\n",
       "      <td>31</td>\n",
       "      <td>30</td>\n",
       "      <td>900</td>\n",
       "      <td>1200</td>\n",
       "      <td>2400</td>\n",
       "      <td>0</td>\n",
       "      <td>0</td>\n",
       "      <td>1</td>\n",
       "      <td>0</td>\n",
       "      <td>0</td>\n",
       "      <td>3</td>\n",
       "    </tr>\n",
       "    <tr>\n",
       "      <th>3</th>\n",
       "      <td>2</td>\n",
       "      <td>555</td>\n",
       "      <td>65</td>\n",
       "      <td>11</td>\n",
       "      <td>26</td>\n",
       "      <td>262</td>\n",
       "      <td>23</td>\n",
       "      <td>25</td>\n",
       "      <td>900</td>\n",
       "      <td>1400</td>\n",
       "      <td>2400</td>\n",
       "      <td>0</td>\n",
       "      <td>0</td>\n",
       "      <td>0</td>\n",
       "      <td>1</td>\n",
       "      <td>0</td>\n",
       "      <td>0</td>\n",
       "    </tr>\n",
       "    <tr>\n",
       "      <th>4</th>\n",
       "      <td>1</td>\n",
       "      <td>629</td>\n",
       "      <td>71</td>\n",
       "      <td>7</td>\n",
       "      <td>28</td>\n",
       "      <td>262</td>\n",
       "      <td>23</td>\n",
       "      <td>30</td>\n",
       "      <td>850</td>\n",
       "      <td>1150</td>\n",
       "      <td>1975</td>\n",
       "      <td>0</td>\n",
       "      <td>0</td>\n",
       "      <td>0</td>\n",
       "      <td>0</td>\n",
       "      <td>1</td>\n",
       "      <td>0</td>\n",
       "    </tr>\n",
       "  </tbody>\n",
       "</table>\n",
       "</div>"
      ],
      "text/plain": [
       "   allergens  calories  carbs  cuisine  fat  food_group  protein  \\\n",
       "0          2       474     26        2   23          88       45   \n",
       "1          1       715     67        7   28         127       50   \n",
       "2          3       479     36        0   27         262       31   \n",
       "3          2       555     65       11   26         262       23   \n",
       "4          1       629     71        7   28         262       23   \n",
       "\n",
       "   cooking_time  price_1p_pence  price_2p_pence  price_4p_pence  \\\n",
       "0            25             900            1400            2400   \n",
       "1            30             900            1400            2400   \n",
       "2            30             900            1200            2400   \n",
       "3            25             900            1400            2400   \n",
       "4            30             850            1150            1975   \n",
       "\n",
       "   season_autumn  season_other  season_spring  season_summer  season_winter  \\\n",
       "0              0             0              1              0              0   \n",
       "1              0             0              1              0              0   \n",
       "2              0             0              1              0              0   \n",
       "3              0             0              0              1              0   \n",
       "4              0             0              0              0              1   \n",
       "\n",
       "   topic  \n",
       "0      0  \n",
       "1      1  \n",
       "2      3  \n",
       "3      0  \n",
       "4      0  "
      ]
     },
     "execution_count": 58,
     "metadata": {},
     "output_type": "execute_result"
    }
   ],
   "source": [
    "X.head()"
   ]
  },
  {
   "cell_type": "code",
   "execution_count": 59,
   "metadata": {},
   "outputs": [
    {
     "name": "stderr",
     "output_type": "stream",
     "text": [
      "/Users/valentinanotararigo/.local/lib/python3.7/site-packages/ipykernel/ipkernel.py:287: DeprecationWarning: `should_run_async` will not call `transform_cell` automatically in the future. Please pass the result to `transformed_cell` argument and any exception that happen during thetransform in `preprocessing_exc_tuple` in IPython 7.17 and above.\n",
      "  and should_run_async(code)\n"
     ]
    }
   ],
   "source": [
    "#scaler = MinMaxScaler()\n",
    "#X = scaler.fit_transform(X)"
   ]
  },
  {
   "cell_type": "code",
   "execution_count": 60,
   "metadata": {},
   "outputs": [
    {
     "name": "stderr",
     "output_type": "stream",
     "text": [
      "/Users/valentinanotararigo/.local/lib/python3.7/site-packages/ipykernel/ipkernel.py:287: DeprecationWarning: `should_run_async` will not call `transform_cell` automatically in the future. Please pass the result to `transformed_cell` argument and any exception that happen during thetransform in `preprocessing_exc_tuple` in IPython 7.17 and above.\n",
      "  and should_run_async(code)\n"
     ]
    },
    {
     "data": {
      "image/png": "[encoded data removed]",
      "text/plain": [
       "<Figure size 432x288 with 1 Axes>"
      ]
     },
     "metadata": {
      "needs_background": "light"
     },
     "output_type": "display_data"
    }
   ],
   "source": [
    "# Using the elbow method to find the optimal number of clusters\n",
    "k = 10\n",
    "distortions = []\n",
    "for i in range(1, k):\n",
    "    kmean_model = KMeans(n_clusters = i, init = 'k-means++', random_state = 42)\n",
    "    kmean_model.fit(X)\n",
    "    distortions.append(sum(np.min(cdist(X, kmean_model.cluster_centers_, 'euclidean'), axis=1)) / X.shape[0])\n",
    "    \n",
    "plt.plot(range(1, k), distortions)\n",
    "plt.title('Elbow plot')\n",
    "plt.xlabel('Number of clusters')\n",
    "plt.ylabel('Distortions')\n",
    "plt.show()"
   ]
  },
  {
   "cell_type": "code",
   "execution_count": 61,
   "metadata": {},
   "outputs": [
    {
     "name": "stderr",
     "output_type": "stream",
     "text": [
      "/Users/valentinanotararigo/.local/lib/python3.7/site-packages/ipykernel/ipkernel.py:287: DeprecationWarning: `should_run_async` will not call `transform_cell` automatically in the future. Please pass the result to `transformed_cell` argument and any exception that happen during thetransform in `preprocessing_exc_tuple` in IPython 7.17 and above.\n",
      "  and should_run_async(code)\n"
     ]
    }
   ],
   "source": [
    "#According to the Elbow graph we deterrmine the clusters number as 4. \n",
    "#Applying k-means algorithm to the X dataset.\n",
    "kmeans = KMeans(n_clusters=4, init ='k-means++', random_state=42)\n",
    "\n",
    "y_kmeans = kmeans.fit_predict(X)"
   ]
  },
  {
   "cell_type": "code",
   "execution_count": 62,
   "metadata": {},
   "outputs": [
    {
     "name": "stderr",
     "output_type": "stream",
     "text": [
      "/Users/valentinanotararigo/.local/lib/python3.7/site-packages/ipykernel/ipkernel.py:287: DeprecationWarning: `should_run_async` will not call `transform_cell` automatically in the future. Please pass the result to `transformed_cell` argument and any exception that happen during thetransform in `preprocessing_exc_tuple` in IPython 7.17 and above.\n",
      "  and should_run_async(code)\n"
     ]
    }
   ],
   "source": [
    "#PCA\n",
    "X_pca = X.copy()\n",
    "pca = decomposition.PCA(n_components  = 2)\n",
    "pca.fit(X_pca)\n",
    "X_pca = pca.transform(X_pca)"
   ]
  },
  {
   "cell_type": "code",
   "execution_count": 63,
   "metadata": {},
   "outputs": [
    {
     "name": "stderr",
     "output_type": "stream",
     "text": [
      "/Users/valentinanotararigo/.local/lib/python3.7/site-packages/ipykernel/ipkernel.py:287: DeprecationWarning: `should_run_async` will not call `transform_cell` automatically in the future. Please pass the result to `transformed_cell` argument and any exception that happen during thetransform in `preprocessing_exc_tuple` in IPython 7.17 and above.\n",
      "  and should_run_async(code)\n"
     ]
    },
    {
     "data": {
      "image/png": "[encoded data removed]",
      "text/plain": [
       "<Figure size 432x288 with 1 Axes>"
      ]
     },
     "metadata": {
      "needs_background": "light"
     },
     "output_type": "display_data"
    }
   ],
   "source": [
    "# Visualising the clusters\n",
    "x = X_pca[0]\n",
    "y = X_pca[1]\n",
    "\n",
    "plt.scatter(X_pca[y_kmeans == 0, 0], X_pca[y_kmeans == 0, 1])\n",
    "plt.scatter(X_pca[y_kmeans == 1, 0], X_pca[y_kmeans == 1, 1])          \n",
    "plt.scatter(X_pca[y_kmeans == 2, 0], X_pca[y_kmeans == 2, 1])\n",
    "plt.scatter(X_pca[y_kmeans == 3, 0], X_pca[y_kmeans == 3, 1])\n",
    "\n",
    "#Plot the centroid, that is the cluster centres\n",
    "#plt.scatter(kmeans.cluster_centers_[:, 1], kmeans.cluster_centers_[:, 8], s=200, c='yellow', label = 'Centroids')\n",
    "plt.title('Clusters of Recipes')\n",
    "plt.xlabel(\"X_pca1\")\n",
    "plt.ylabel(\"X_pca2\")\n",
    "plt.show()"
   ]
  },
  {
   "cell_type": "code",
   "execution_count": 64,
   "metadata": {},
   "outputs": [
    {
     "name": "stderr",
     "output_type": "stream",
     "text": [
      "/Users/valentinanotararigo/.local/lib/python3.7/site-packages/ipykernel/ipkernel.py:287: DeprecationWarning: `should_run_async` will not call `transform_cell` automatically in the future. Please pass the result to `transformed_cell` argument and any exception that happen during thetransform in `preprocessing_exc_tuple` in IPython 7.17 and above.\n",
      "  and should_run_async(code)\n"
     ]
    }
   ],
   "source": [
    "#X = pd.DataFrame(X, columns = data.columns, index = data.index)"
   ]
  },
  {
   "cell_type": "code",
   "execution_count": 65,
   "metadata": {},
   "outputs": [
    {
     "name": "stderr",
     "output_type": "stream",
     "text": [
      "/Users/valentinanotararigo/.local/lib/python3.7/site-packages/ipykernel/ipkernel.py:287: DeprecationWarning: `should_run_async` will not call `transform_cell` automatically in the future. Please pass the result to `transformed_cell` argument and any exception that happen during thetransform in `preprocessing_exc_tuple` in IPython 7.17 and above.\n",
      "  and should_run_async(code)\n"
     ]
    }
   ],
   "source": [
    "X[\"cluster\"] = y_kmeans"
   ]
  },
  {
   "cell_type": "code",
   "execution_count": 66,
   "metadata": {},
   "outputs": [
    {
     "name": "stderr",
     "output_type": "stream",
     "text": [
      "/Users/valentinanotararigo/.local/lib/python3.7/site-packages/ipykernel/ipkernel.py:287: DeprecationWarning: `should_run_async` will not call `transform_cell` automatically in the future. Please pass the result to `transformed_cell` argument and any exception that happen during thetransform in `preprocessing_exc_tuple` in IPython 7.17 and above.\n",
      "  and should_run_async(code)\n"
     ]
    },
    {
     "data": {
      "text/plain": [
       "array([ 568.73714286,  612.63076923, 1006.59210526,  594.35294118])"
      ]
     },
     "execution_count": 66,
     "metadata": {},
     "output_type": "execute_result"
    }
   ],
   "source": [
    "kmeans.cluster_centers_[:, 1]"
   ]
  },
  {
   "cell_type": "markdown",
   "metadata": {},
   "source": [
    "### Statistical analysis of clusters"
   ]
  },
  {
   "cell_type": "code",
   "execution_count": 67,
   "metadata": {},
   "outputs": [
    {
     "name": "stderr",
     "output_type": "stream",
     "text": [
      "/Users/valentinanotararigo/.local/lib/python3.7/site-packages/ipykernel/ipkernel.py:287: DeprecationWarning: `should_run_async` will not call `transform_cell` automatically in the future. Please pass the result to `transformed_cell` argument and any exception that happen during thetransform in `preprocessing_exc_tuple` in IPython 7.17 and above.\n",
      "  and should_run_async(code)\n"
     ]
    },
    {
     "data": {
      "text/html": [
       "<div>\n",
       "<style scoped>\n",
       "    .dataframe tbody tr th:only-of-type {\n",
       "        vertical-align: middle;\n",
       "    }\n",
       "\n",
       "    .dataframe tbody tr th {\n",
       "        vertical-align: top;\n",
       "    }\n",
       "\n",
       "    .dataframe thead th {\n",
       "        text-align: right;\n",
       "    }\n",
       "</style>\n",
       "<table border=\"1\" class=\"dataframe\">\n",
       "  <thead>\n",
       "    <tr style=\"text-align: right;\">\n",
       "      <th></th>\n",
       "      <th>allergens</th>\n",
       "      <th>calories</th>\n",
       "      <th>carbs</th>\n",
       "      <th>cuisine</th>\n",
       "      <th>fat</th>\n",
       "      <th>food_group</th>\n",
       "      <th>protein</th>\n",
       "      <th>cooking_time</th>\n",
       "      <th>price_1p_pence</th>\n",
       "      <th>price_2p_pence</th>\n",
       "      <th>price_4p_pence</th>\n",
       "      <th>season_autumn</th>\n",
       "      <th>season_other</th>\n",
       "      <th>season_spring</th>\n",
       "      <th>season_summer</th>\n",
       "      <th>season_winter</th>\n",
       "      <th>topic</th>\n",
       "      <th>cluster</th>\n",
       "    </tr>\n",
       "  </thead>\n",
       "  <tbody>\n",
       "    <tr>\n",
       "      <th>0</th>\n",
       "      <td>2</td>\n",
       "      <td>474</td>\n",
       "      <td>26</td>\n",
       "      <td>2</td>\n",
       "      <td>23</td>\n",
       "      <td>88</td>\n",
       "      <td>45</td>\n",
       "      <td>25</td>\n",
       "      <td>900</td>\n",
       "      <td>1400</td>\n",
       "      <td>2400</td>\n",
       "      <td>0</td>\n",
       "      <td>0</td>\n",
       "      <td>1</td>\n",
       "      <td>0</td>\n",
       "      <td>0</td>\n",
       "      <td>0</td>\n",
       "      <td>0</td>\n",
       "    </tr>\n",
       "    <tr>\n",
       "      <th>1</th>\n",
       "      <td>1</td>\n",
       "      <td>715</td>\n",
       "      <td>67</td>\n",
       "      <td>7</td>\n",
       "      <td>28</td>\n",
       "      <td>127</td>\n",
       "      <td>50</td>\n",
       "      <td>30</td>\n",
       "      <td>900</td>\n",
       "      <td>1400</td>\n",
       "      <td>2400</td>\n",
       "      <td>0</td>\n",
       "      <td>0</td>\n",
       "      <td>1</td>\n",
       "      <td>0</td>\n",
       "      <td>0</td>\n",
       "      <td>1</td>\n",
       "      <td>0</td>\n",
       "    </tr>\n",
       "    <tr>\n",
       "      <th>2</th>\n",
       "      <td>3</td>\n",
       "      <td>479</td>\n",
       "      <td>36</td>\n",
       "      <td>0</td>\n",
       "      <td>27</td>\n",
       "      <td>262</td>\n",
       "      <td>31</td>\n",
       "      <td>30</td>\n",
       "      <td>900</td>\n",
       "      <td>1200</td>\n",
       "      <td>2400</td>\n",
       "      <td>0</td>\n",
       "      <td>0</td>\n",
       "      <td>1</td>\n",
       "      <td>0</td>\n",
       "      <td>0</td>\n",
       "      <td>3</td>\n",
       "      <td>0</td>\n",
       "    </tr>\n",
       "    <tr>\n",
       "      <th>3</th>\n",
       "      <td>2</td>\n",
       "      <td>555</td>\n",
       "      <td>65</td>\n",
       "      <td>11</td>\n",
       "      <td>26</td>\n",
       "      <td>262</td>\n",
       "      <td>23</td>\n",
       "      <td>25</td>\n",
       "      <td>900</td>\n",
       "      <td>1400</td>\n",
       "      <td>2400</td>\n",
       "      <td>0</td>\n",
       "      <td>0</td>\n",
       "      <td>0</td>\n",
       "      <td>1</td>\n",
       "      <td>0</td>\n",
       "      <td>0</td>\n",
       "      <td>0</td>\n",
       "    </tr>\n",
       "    <tr>\n",
       "      <th>4</th>\n",
       "      <td>1</td>\n",
       "      <td>629</td>\n",
       "      <td>71</td>\n",
       "      <td>7</td>\n",
       "      <td>28</td>\n",
       "      <td>262</td>\n",
       "      <td>23</td>\n",
       "      <td>30</td>\n",
       "      <td>850</td>\n",
       "      <td>1150</td>\n",
       "      <td>1975</td>\n",
       "      <td>0</td>\n",
       "      <td>0</td>\n",
       "      <td>0</td>\n",
       "      <td>0</td>\n",
       "      <td>1</td>\n",
       "      <td>0</td>\n",
       "      <td>3</td>\n",
       "    </tr>\n",
       "  </tbody>\n",
       "</table>\n",
       "</div>"
      ],
      "text/plain": [
       "   allergens  calories  carbs  cuisine  fat  food_group  protein  \\\n",
       "0          2       474     26        2   23          88       45   \n",
       "1          1       715     67        7   28         127       50   \n",
       "2          3       479     36        0   27         262       31   \n",
       "3          2       555     65       11   26         262       23   \n",
       "4          1       629     71        7   28         262       23   \n",
       "\n",
       "   cooking_time  price_1p_pence  price_2p_pence  price_4p_pence  \\\n",
       "0            25             900            1400            2400   \n",
       "1            30             900            1400            2400   \n",
       "2            30             900            1200            2400   \n",
       "3            25             900            1400            2400   \n",
       "4            30             850            1150            1975   \n",
       "\n",
       "   season_autumn  season_other  season_spring  season_summer  season_winter  \\\n",
       "0              0             0              1              0              0   \n",
       "1              0             0              1              0              0   \n",
       "2              0             0              1              0              0   \n",
       "3              0             0              0              1              0   \n",
       "4              0             0              0              0              1   \n",
       "\n",
       "   topic  cluster  \n",
       "0      0        0  \n",
       "1      1        0  \n",
       "2      3        0  \n",
       "3      0        0  \n",
       "4      0        3  "
      ]
     },
     "execution_count": 67,
     "metadata": {},
     "output_type": "execute_result"
    }
   ],
   "source": [
    "X.head()"
   ]
  },
  {
   "cell_type": "code",
   "execution_count": 68,
   "metadata": {},
   "outputs": [
    {
     "name": "stderr",
     "output_type": "stream",
     "text": [
      "/Users/valentinanotararigo/.local/lib/python3.7/site-packages/ipykernel/ipkernel.py:287: DeprecationWarning: `should_run_async` will not call `transform_cell` automatically in the future. Please pass the result to `transformed_cell` argument and any exception that happen during thetransform in `preprocessing_exc_tuple` in IPython 7.17 and above.\n",
      "  and should_run_async(code)\n"
     ]
    }
   ],
   "source": [
    "#data['cluster'] = X.cluster\n",
    "#data.head()"
   ]
  },
  {
   "cell_type": "code",
   "execution_count": 69,
   "metadata": {
    "scrolled": true
   },
   "outputs": [
    {
     "name": "stderr",
     "output_type": "stream",
     "text": [
      "/Users/valentinanotararigo/.local/lib/python3.7/site-packages/ipykernel/ipkernel.py:287: DeprecationWarning: `should_run_async` will not call `transform_cell` automatically in the future. Please pass the result to `transformed_cell` argument and any exception that happen during thetransform in `preprocessing_exc_tuple` in IPython 7.17 and above.\n",
      "  and should_run_async(code)\n",
      "2020-09-21 09:39:25.242 | INFO     | game.clustering_utils:get_statistics_clusters:285 - cluster: 0\n",
      "2020-09-21 09:39:25.279 | INFO     | game.clustering_utils:get_statistics_clusters:287 - \n",
      "             carbs    calories     protein         fat       topic\n",
      "count  350.000000  350.000000  350.000000  350.000000  350.000000\n",
      "mean    53.500000  568.737143   37.028571   23.474286    0.731429\n",
      "std     17.778605   90.523720   12.223763    7.029057    1.230876\n",
      "min     12.000000  335.000000    7.000000    7.000000    0.000000\n",
      "25%     41.000000  506.000000   26.250000   19.000000    0.000000\n",
      "50%     52.000000  563.000000   40.000000   23.000000    0.000000\n",
      "75%     63.000000  614.750000   47.000000   27.000000    2.000000\n",
      "max    114.000000  898.000000   70.000000   55.000000    3.000000\n",
      "2020-09-21 09:39:25.279 | INFO     | game.clustering_utils:get_statistics_clusters:285 - cluster: 1\n",
      "2020-09-21 09:39:25.319 | INFO     | game.clustering_utils:get_statistics_clusters:287 - \n",
      "             carbs     calories     protein         fat       topic\n",
      "count  130.000000   130.000000  130.000000  130.000000  130.000000\n",
      "mean    54.453846   612.630769   41.900000   26.469231    0.438462\n",
      "std     22.172723   140.850635    7.165648    7.836694    0.906513\n",
      "min     11.000000   412.000000   29.000000   14.000000    0.000000\n",
      "25%     42.250000   525.500000   37.000000   21.000000    0.000000\n",
      "50%     49.000000   567.000000   40.000000   25.000000    0.000000\n",
      "75%     62.750000   650.500000   46.000000   30.000000    0.000000\n",
      "max    117.000000  1069.000000   69.000000   54.000000    3.000000\n",
      "2020-09-21 09:39:25.321 | INFO     | game.clustering_utils:get_statistics_clusters:285 - cluster: 2\n",
      "2020-09-21 09:39:25.376 | INFO     | game.clustering_utils:get_statistics_clusters:287 - \n",
      "             carbs     calories     protein        fat      topic\n",
      "count   76.000000    76.000000   76.000000  76.000000  76.000000\n",
      "mean   120.184211  1006.592105   46.421053  40.526316   0.605263\n",
      "std     37.160090   113.437228   13.274801   9.057555   1.120464\n",
      "min     42.000000   807.000000   21.000000  13.000000   0.000000\n",
      "25%     96.750000   915.000000   38.000000  34.000000   0.000000\n",
      "50%    112.500000   987.500000   45.000000  41.000000   0.000000\n",
      "75%    142.250000  1105.500000   51.250000  47.000000   0.250000\n",
      "max    207.000000  1318.000000  107.000000  60.000000   3.000000\n",
      "2020-09-21 09:39:25.380 | INFO     | game.clustering_utils:get_statistics_clusters:285 - cluster: 3\n",
      "2020-09-21 09:39:25.420 | INFO     | game.clustering_utils:get_statistics_clusters:287 - \n",
      "             carbs    calories     protein         fat       topic\n",
      "count  119.000000  119.000000  119.000000  119.000000  119.000000\n",
      "mean    70.781513  594.352941   23.722689   25.882353    0.495798\n",
      "std     26.382827  129.031371    8.459199    7.409541    0.964400\n",
      "min     12.000000  412.000000    8.000000    8.000000    0.000000\n",
      "25%     52.000000  515.000000   19.000000   21.000000    0.000000\n",
      "50%     67.000000  562.000000   21.000000   26.000000    0.000000\n",
      "75%     82.000000  626.500000   28.000000   29.000000    0.000000\n",
      "max    176.000000  978.000000   57.000000   52.000000    3.000000\n"
     ]
    }
   ],
   "source": [
    "clustering_utils.get_statistics_clusters(X, columns=[\"carbs\", \"calories\", \"protein\", \"fat\", \"topic\"]) "
   ]
  },
  {
   "cell_type": "code",
   "execution_count": 70,
   "metadata": {},
   "outputs": [
    {
     "name": "stderr",
     "output_type": "stream",
     "text": [
      "/Users/valentinanotararigo/.local/lib/python3.7/site-packages/ipykernel/ipkernel.py:287: DeprecationWarning: `should_run_async` will not call `transform_cell` automatically in the future. Please pass the result to `transformed_cell` argument and any exception that happen during thetransform in `preprocessing_exc_tuple` in IPython 7.17 and above.\n",
      "  and should_run_async(code)\n"
     ]
    }
   ],
   "source": [
    "X['food_group'] = data.food_group"
   ]
  },
  {
   "cell_type": "code",
   "execution_count": 71,
   "metadata": {},
   "outputs": [
    {
     "name": "stderr",
     "output_type": "stream",
     "text": [
      "/Users/valentinanotararigo/.local/lib/python3.7/site-packages/ipykernel/ipkernel.py:287: DeprecationWarning: `should_run_async` will not call `transform_cell` automatically in the future. Please pass the result to `transformed_cell` argument and any exception that happen during thetransform in `preprocessing_exc_tuple` in IPython 7.17 and above.\n",
      "  and should_run_async(code)\n",
      "2020-09-21 09:39:26.638 | INFO     | __main__:<module>:6 - elements in cluster 0: 350\n",
      "2020-09-21 09:39:26.643 | INFO     | __main__:<module>:6 - elements in cluster 1: 130\n",
      "2020-09-21 09:39:26.648 | INFO     | __main__:<module>:6 - elements in cluster 2: 76\n",
      "2020-09-21 09:39:26.656 | INFO     | __main__:<module>:6 - elements in cluster 3: 119\n"
     ]
    }
   ],
   "source": [
    "number_of_clusters = 4\n",
    "\n",
    "dfs = []\n",
    "for k in range(0, number_of_clusters):\n",
    "    df = X.loc[X.cluster==k, :]\n",
    "    logger.info(f\"elements in cluster {k}: {len(df)}\")\n",
    "    dfs.append(X.loc[X.cluster==k, :])"
   ]
  },
  {
   "cell_type": "code",
   "execution_count": 72,
   "metadata": {},
   "outputs": [
    {
     "name": "stderr",
     "output_type": "stream",
     "text": [
      "/Users/valentinanotararigo/.local/lib/python3.7/site-packages/ipykernel/ipkernel.py:287: DeprecationWarning: `should_run_async` will not call `transform_cell` automatically in the future. Please pass the result to `transformed_cell` argument and any exception that happen during thetransform in `preprocessing_exc_tuple` in IPython 7.17 and above.\n",
      "  and should_run_async(code)\n"
     ]
    },
    {
     "data": {
      "text/html": [
       "<div>\n",
       "<style scoped>\n",
       "    .dataframe tbody tr th:only-of-type {\n",
       "        vertical-align: middle;\n",
       "    }\n",
       "\n",
       "    .dataframe tbody tr th {\n",
       "        vertical-align: top;\n",
       "    }\n",
       "\n",
       "    .dataframe thead th {\n",
       "        text-align: right;\n",
       "    }\n",
       "</style>\n",
       "<table border=\"1\" class=\"dataframe\">\n",
       "  <thead>\n",
       "    <tr style=\"text-align: right;\">\n",
       "      <th></th>\n",
       "      <th>allergens</th>\n",
       "      <th>calories</th>\n",
       "      <th>carbs</th>\n",
       "      <th>cuisine</th>\n",
       "      <th>fat</th>\n",
       "      <th>food_group</th>\n",
       "      <th>protein</th>\n",
       "      <th>cooking_time</th>\n",
       "      <th>price_1p_pence</th>\n",
       "      <th>price_2p_pence</th>\n",
       "      <th>price_4p_pence</th>\n",
       "      <th>season_autumn</th>\n",
       "      <th>season_other</th>\n",
       "      <th>season_spring</th>\n",
       "      <th>season_summer</th>\n",
       "      <th>season_winter</th>\n",
       "      <th>topic</th>\n",
       "      <th>cluster</th>\n",
       "    </tr>\n",
       "  </thead>\n",
       "  <tbody>\n",
       "    <tr>\n",
       "      <th>0</th>\n",
       "      <td>2</td>\n",
       "      <td>474</td>\n",
       "      <td>26</td>\n",
       "      <td>2</td>\n",
       "      <td>23</td>\n",
       "      <td>88</td>\n",
       "      <td>45</td>\n",
       "      <td>25</td>\n",
       "      <td>900</td>\n",
       "      <td>1400</td>\n",
       "      <td>2400</td>\n",
       "      <td>0</td>\n",
       "      <td>0</td>\n",
       "      <td>1</td>\n",
       "      <td>0</td>\n",
       "      <td>0</td>\n",
       "      <td>0</td>\n",
       "      <td>0</td>\n",
       "    </tr>\n",
       "    <tr>\n",
       "      <th>1</th>\n",
       "      <td>1</td>\n",
       "      <td>715</td>\n",
       "      <td>67</td>\n",
       "      <td>7</td>\n",
       "      <td>28</td>\n",
       "      <td>127</td>\n",
       "      <td>50</td>\n",
       "      <td>30</td>\n",
       "      <td>900</td>\n",
       "      <td>1400</td>\n",
       "      <td>2400</td>\n",
       "      <td>0</td>\n",
       "      <td>0</td>\n",
       "      <td>1</td>\n",
       "      <td>0</td>\n",
       "      <td>0</td>\n",
       "      <td>1</td>\n",
       "      <td>0</td>\n",
       "    </tr>\n",
       "    <tr>\n",
       "      <th>2</th>\n",
       "      <td>3</td>\n",
       "      <td>479</td>\n",
       "      <td>36</td>\n",
       "      <td>0</td>\n",
       "      <td>27</td>\n",
       "      <td>262</td>\n",
       "      <td>31</td>\n",
       "      <td>30</td>\n",
       "      <td>900</td>\n",
       "      <td>1200</td>\n",
       "      <td>2400</td>\n",
       "      <td>0</td>\n",
       "      <td>0</td>\n",
       "      <td>1</td>\n",
       "      <td>0</td>\n",
       "      <td>0</td>\n",
       "      <td>3</td>\n",
       "      <td>0</td>\n",
       "    </tr>\n",
       "    <tr>\n",
       "      <th>3</th>\n",
       "      <td>2</td>\n",
       "      <td>555</td>\n",
       "      <td>65</td>\n",
       "      <td>11</td>\n",
       "      <td>26</td>\n",
       "      <td>262</td>\n",
       "      <td>23</td>\n",
       "      <td>25</td>\n",
       "      <td>900</td>\n",
       "      <td>1400</td>\n",
       "      <td>2400</td>\n",
       "      <td>0</td>\n",
       "      <td>0</td>\n",
       "      <td>0</td>\n",
       "      <td>1</td>\n",
       "      <td>0</td>\n",
       "      <td>0</td>\n",
       "      <td>0</td>\n",
       "    </tr>\n",
       "    <tr>\n",
       "      <th>8</th>\n",
       "      <td>1</td>\n",
       "      <td>530</td>\n",
       "      <td>61</td>\n",
       "      <td>0</td>\n",
       "      <td>22</td>\n",
       "      <td>262</td>\n",
       "      <td>26</td>\n",
       "      <td>25</td>\n",
       "      <td>900</td>\n",
       "      <td>1400</td>\n",
       "      <td>2400</td>\n",
       "      <td>1</td>\n",
       "      <td>0</td>\n",
       "      <td>0</td>\n",
       "      <td>0</td>\n",
       "      <td>0</td>\n",
       "      <td>0</td>\n",
       "      <td>0</td>\n",
       "    </tr>\n",
       "    <tr>\n",
       "      <th>...</th>\n",
       "      <td>...</td>\n",
       "      <td>...</td>\n",
       "      <td>...</td>\n",
       "      <td>...</td>\n",
       "      <td>...</td>\n",
       "      <td>...</td>\n",
       "      <td>...</td>\n",
       "      <td>...</td>\n",
       "      <td>...</td>\n",
       "      <td>...</td>\n",
       "      <td>...</td>\n",
       "      <td>...</td>\n",
       "      <td>...</td>\n",
       "      <td>...</td>\n",
       "      <td>...</td>\n",
       "      <td>...</td>\n",
       "      <td>...</td>\n",
       "      <td>...</td>\n",
       "    </tr>\n",
       "    <tr>\n",
       "      <th>667</th>\n",
       "      <td>2</td>\n",
       "      <td>482</td>\n",
       "      <td>51</td>\n",
       "      <td>5</td>\n",
       "      <td>18</td>\n",
       "      <td>115</td>\n",
       "      <td>32</td>\n",
       "      <td>40</td>\n",
       "      <td>900</td>\n",
       "      <td>1400</td>\n",
       "      <td>2400</td>\n",
       "      <td>0</td>\n",
       "      <td>0</td>\n",
       "      <td>0</td>\n",
       "      <td>1</td>\n",
       "      <td>0</td>\n",
       "      <td>0</td>\n",
       "      <td>0</td>\n",
       "    </tr>\n",
       "    <tr>\n",
       "      <th>668</th>\n",
       "      <td>1</td>\n",
       "      <td>632</td>\n",
       "      <td>83</td>\n",
       "      <td>3</td>\n",
       "      <td>29</td>\n",
       "      <td>262</td>\n",
       "      <td>19</td>\n",
       "      <td>30</td>\n",
       "      <td>900</td>\n",
       "      <td>1400</td>\n",
       "      <td>2400</td>\n",
       "      <td>1</td>\n",
       "      <td>0</td>\n",
       "      <td>0</td>\n",
       "      <td>0</td>\n",
       "      <td>0</td>\n",
       "      <td>0</td>\n",
       "      <td>0</td>\n",
       "    </tr>\n",
       "    <tr>\n",
       "      <th>669</th>\n",
       "      <td>1</td>\n",
       "      <td>781</td>\n",
       "      <td>114</td>\n",
       "      <td>4</td>\n",
       "      <td>15</td>\n",
       "      <td>127</td>\n",
       "      <td>55</td>\n",
       "      <td>30</td>\n",
       "      <td>900</td>\n",
       "      <td>1400</td>\n",
       "      <td>2400</td>\n",
       "      <td>0</td>\n",
       "      <td>0</td>\n",
       "      <td>1</td>\n",
       "      <td>0</td>\n",
       "      <td>0</td>\n",
       "      <td>3</td>\n",
       "      <td>0</td>\n",
       "    </tr>\n",
       "    <tr>\n",
       "      <th>670</th>\n",
       "      <td>3</td>\n",
       "      <td>707</td>\n",
       "      <td>38</td>\n",
       "      <td>8</td>\n",
       "      <td>46</td>\n",
       "      <td>262</td>\n",
       "      <td>28</td>\n",
       "      <td>30</td>\n",
       "      <td>900</td>\n",
       "      <td>1400</td>\n",
       "      <td>2400</td>\n",
       "      <td>0</td>\n",
       "      <td>0</td>\n",
       "      <td>1</td>\n",
       "      <td>0</td>\n",
       "      <td>0</td>\n",
       "      <td>0</td>\n",
       "      <td>0</td>\n",
       "    </tr>\n",
       "    <tr>\n",
       "      <th>672</th>\n",
       "      <td>3</td>\n",
       "      <td>809</td>\n",
       "      <td>101</td>\n",
       "      <td>0</td>\n",
       "      <td>24</td>\n",
       "      <td>88</td>\n",
       "      <td>50</td>\n",
       "      <td>15</td>\n",
       "      <td>900</td>\n",
       "      <td>1400</td>\n",
       "      <td>2400</td>\n",
       "      <td>0</td>\n",
       "      <td>0</td>\n",
       "      <td>0</td>\n",
       "      <td>1</td>\n",
       "      <td>0</td>\n",
       "      <td>0</td>\n",
       "      <td>0</td>\n",
       "    </tr>\n",
       "  </tbody>\n",
       "</table>\n",
       "<p>350 rows × 18 columns</p>\n",
       "</div>"
      ],
      "text/plain": [
       "     allergens  calories  carbs  cuisine  fat  food_group  protein  \\\n",
       "0            2       474     26        2   23          88       45   \n",
       "1            1       715     67        7   28         127       50   \n",
       "2            3       479     36        0   27         262       31   \n",
       "3            2       555     65       11   26         262       23   \n",
       "8            1       530     61        0   22         262       26   \n",
       "..         ...       ...    ...      ...  ...         ...      ...   \n",
       "667          2       482     51        5   18         115       32   \n",
       "668          1       632     83        3   29         262       19   \n",
       "669          1       781    114        4   15         127       55   \n",
       "670          3       707     38        8   46         262       28   \n",
       "672          3       809    101        0   24          88       50   \n",
       "\n",
       "     cooking_time  price_1p_pence  price_2p_pence  price_4p_pence  \\\n",
       "0              25             900            1400            2400   \n",
       "1              30             900            1400            2400   \n",
       "2              30             900            1200            2400   \n",
       "3              25             900            1400            2400   \n",
       "8              25             900            1400            2400   \n",
       "..            ...             ...             ...             ...   \n",
       "667            40             900            1400            2400   \n",
       "668            30             900            1400            2400   \n",
       "669            30             900            1400            2400   \n",
       "670            30             900            1400            2400   \n",
       "672            15             900            1400            2400   \n",
       "\n",
       "     season_autumn  season_other  season_spring  season_summer  season_winter  \\\n",
       "0                0             0              1              0              0   \n",
       "1                0             0              1              0              0   \n",
       "2                0             0              1              0              0   \n",
       "3                0             0              0              1              0   \n",
       "8                1             0              0              0              0   \n",
       "..             ...           ...            ...            ...            ...   \n",
       "667              0             0              0              1              0   \n",
       "668              1             0              0              0              0   \n",
       "669              0             0              1              0              0   \n",
       "670              0             0              1              0              0   \n",
       "672              0             0              0              1              0   \n",
       "\n",
       "     topic  cluster  \n",
       "0        0        0  \n",
       "1        1        0  \n",
       "2        3        0  \n",
       "3        0        0  \n",
       "8        0        0  \n",
       "..     ...      ...  \n",
       "667      0        0  \n",
       "668      0        0  \n",
       "669      3        0  \n",
       "670      0        0  \n",
       "672      0        0  \n",
       "\n",
       "[350 rows x 18 columns]"
      ]
     },
     "execution_count": 72,
     "metadata": {},
     "output_type": "execute_result"
    }
   ],
   "source": [
    "dfs[0]"
   ]
  },
  {
   "cell_type": "code",
   "execution_count": 73,
   "metadata": {},
   "outputs": [
    {
     "name": "stderr",
     "output_type": "stream",
     "text": [
      "/Users/valentinanotararigo/.local/lib/python3.7/site-packages/ipykernel/ipkernel.py:287: DeprecationWarning: `should_run_async` will not call `transform_cell` automatically in the future. Please pass the result to `transformed_cell` argument and any exception that happen during thetransform in `preprocessing_exc_tuple` in IPython 7.17 and above.\n",
      "  and should_run_async(code)\n"
     ]
    },
    {
     "data": {
      "text/plain": [
       "505"
      ]
     },
     "execution_count": 73,
     "metadata": {},
     "output_type": "execute_result"
    }
   ],
   "source": [
    "len(data[data.topic==0])"
   ]
  },
  {
   "cell_type": "code",
   "execution_count": 74,
   "metadata": {},
   "outputs": [
    {
     "name": "stderr",
     "output_type": "stream",
     "text": [
      "/Users/valentinanotararigo/.local/lib/python3.7/site-packages/ipykernel/ipkernel.py:287: DeprecationWarning: `should_run_async` will not call `transform_cell` automatically in the future. Please pass the result to `transformed_cell` argument and any exception that happen during thetransform in `preprocessing_exc_tuple` in IPython 7.17 and above.\n",
      "  and should_run_async(code)\n"
     ]
    },
    {
     "data": {
      "text/plain": [
       "19"
      ]
     },
     "execution_count": 74,
     "metadata": {},
     "output_type": "execute_result"
    }
   ],
   "source": [
    "len(data[data.topic==1])"
   ]
  },
  {
   "cell_type": "code",
   "execution_count": 75,
   "metadata": {},
   "outputs": [
    {
     "name": "stderr",
     "output_type": "stream",
     "text": [
      "/Users/valentinanotararigo/.local/lib/python3.7/site-packages/ipykernel/ipkernel.py:287: DeprecationWarning: `should_run_async` will not call `transform_cell` automatically in the future. Please pass the result to `transformed_cell` argument and any exception that happen during thetransform in `preprocessing_exc_tuple` in IPython 7.17 and above.\n",
      "  and should_run_async(code)\n"
     ]
    },
    {
     "data": {
      "text/plain": [
       "54"
      ]
     },
     "execution_count": 75,
     "metadata": {},
     "output_type": "execute_result"
    }
   ],
   "source": [
    "len(data[data.topic==2])"
   ]
  },
  {
   "cell_type": "markdown",
   "metadata": {},
   "source": [
    "### Topic statistics"
   ]
  },
  {
   "cell_type": "code",
   "execution_count": 76,
   "metadata": {},
   "outputs": [
    {
     "name": "stderr",
     "output_type": "stream",
     "text": [
      "/Users/valentinanotararigo/.local/lib/python3.7/site-packages/ipykernel/ipkernel.py:287: DeprecationWarning: `should_run_async` will not call `transform_cell` automatically in the future. Please pass the result to `transformed_cell` argument and any exception that happen during thetransform in `preprocessing_exc_tuple` in IPython 7.17 and above.\n",
      "  and should_run_async(code)\n",
      "2020-09-21 09:39:31.508 | INFO     | game.clustering_utils:get_distribution_numerical_variable:305 - Distribution of topic\n"
     ]
    },
    {
     "data": {
      "image/png": "[encoded data removed]",
      "text/plain": [
       "<Figure size 936x360 with 1 Axes>"
      ]
     },
     "metadata": {
      "needs_background": "light"
     },
     "output_type": "display_data"
    }
   ],
   "source": [
    "clustering_utils.get_distribution_numerical_variable(dataframe=dfs[0], cluster=0, column=\"topic\", origin=\"notebook\")"
   ]
  },
  {
   "cell_type": "code",
   "execution_count": 77,
   "metadata": {},
   "outputs": [
    {
     "name": "stderr",
     "output_type": "stream",
     "text": [
      "/Users/valentinanotararigo/.local/lib/python3.7/site-packages/ipykernel/ipkernel.py:287: DeprecationWarning: `should_run_async` will not call `transform_cell` automatically in the future. Please pass the result to `transformed_cell` argument and any exception that happen during thetransform in `preprocessing_exc_tuple` in IPython 7.17 and above.\n",
      "  and should_run_async(code)\n",
      "2020-09-21 09:39:32.273 | INFO     | game.clustering_utils:get_hist_per_feature:321 - topic\n",
      "0    255\n",
      "1      3\n",
      "2     23\n",
      "3     69\n",
      "Name: topic, dtype: int64\n"
     ]
    },
    {
     "data": {
      "image/png": "[encoded data removed]",
      "text/plain": [
       "<Figure size 1080x432 with 1 Axes>"
      ]
     },
     "metadata": {
      "needs_background": "light"
     },
     "output_type": "display_data"
    }
   ],
   "source": [
    "#dfs[0].groupby(by=[\"topic\"])[\"topic\"].agg(['count']).plot(kind=\"bar\")\n",
    "clustering_utils.get_hist_per_feature(dataframe=dfs[0], cluster=0, by_feature=\"topic\", feature_to_count=\"topic\", origin=\"notebook\")"
   ]
  },
  {
   "cell_type": "code",
   "execution_count": 78,
   "metadata": {},
   "outputs": [
    {
     "name": "stderr",
     "output_type": "stream",
     "text": [
      "/Users/valentinanotararigo/.local/lib/python3.7/site-packages/ipykernel/ipkernel.py:287: DeprecationWarning: `should_run_async` will not call `transform_cell` automatically in the future. Please pass the result to `transformed_cell` argument and any exception that happen during thetransform in `preprocessing_exc_tuple` in IPython 7.17 and above.\n",
      "  and should_run_async(code)\n",
      "2020-09-21 09:39:32.984 | INFO     | game.clustering_utils:get_distribution_numerical_variable:305 - Distribution of topic\n"
     ]
    },
    {
     "data": {
      "image/png": "[encoded data removed]",
      "text/plain": [
       "<Figure size 936x360 with 1 Axes>"
      ]
     },
     "metadata": {
      "needs_background": "light"
     },
     "output_type": "display_data"
    }
   ],
   "source": [
    "clustering_utils.get_distribution_numerical_variable(dataframe=dfs[1], cluster=1, column=\"topic\", origin=\"notebook\")"
   ]
  },
  {
   "cell_type": "code",
   "execution_count": 79,
   "metadata": {},
   "outputs": [
    {
     "name": "stderr",
     "output_type": "stream",
     "text": [
      "/Users/valentinanotararigo/.local/lib/python3.7/site-packages/ipykernel/ipkernel.py:287: DeprecationWarning: `should_run_async` will not call `transform_cell` automatically in the future. Please pass the result to `transformed_cell` argument and any exception that happen during thetransform in `preprocessing_exc_tuple` in IPython 7.17 and above.\n",
      "  and should_run_async(code)\n",
      "2020-09-21 09:39:33.564 | INFO     | game.clustering_utils:get_hist_per_feature:321 - topic\n",
      "0    103\n",
      "1      4\n",
      "2     16\n",
      "3      7\n",
      "Name: topic, dtype: int64\n"
     ]
    },
    {
     "data": {
      "image/png": "[encoded data removed]",
      "text/plain": [
       "<Figure size 1080x432 with 1 Axes>"
      ]
     },
     "metadata": {
      "needs_background": "light"
     },
     "output_type": "display_data"
    }
   ],
   "source": [
    "clustering_utils.get_hist_per_feature(dataframe=dfs[1], cluster=1, by_feature=\"topic\", feature_to_count=\"topic\", origin=\"notebook\")"
   ]
  },
  {
   "cell_type": "code",
   "execution_count": 80,
   "metadata": {},
   "outputs": [
    {
     "name": "stderr",
     "output_type": "stream",
     "text": [
      "/Users/valentinanotararigo/.local/lib/python3.7/site-packages/ipykernel/ipkernel.py:287: DeprecationWarning: `should_run_async` will not call `transform_cell` automatically in the future. Please pass the result to `transformed_cell` argument and any exception that happen during thetransform in `preprocessing_exc_tuple` in IPython 7.17 and above.\n",
      "  and should_run_async(code)\n",
      "2020-09-21 09:39:34.308 | INFO     | game.clustering_utils:get_distribution_numerical_variable:305 - Distribution of topic\n"
     ]
    },
    {
     "data": {
      "image/png": "[encoded data removed]",
      "text/plain": [
       "<Figure size 936x360 with 1 Axes>"
      ]
     },
     "metadata": {
      "needs_background": "light"
     },
     "output_type": "display_data"
    }
   ],
   "source": [
    "clustering_utils.get_distribution_numerical_variable(dataframe=dfs[2], cluster=2, column=\"topic\", origin=\"notebook\")"
   ]
  },
  {
   "cell_type": "code",
   "execution_count": 81,
   "metadata": {},
   "outputs": [
    {
     "name": "stderr",
     "output_type": "stream",
     "text": [
      "/Users/valentinanotararigo/.local/lib/python3.7/site-packages/ipykernel/ipkernel.py:287: DeprecationWarning: `should_run_async` will not call `transform_cell` automatically in the future. Please pass the result to `transformed_cell` argument and any exception that happen during thetransform in `preprocessing_exc_tuple` in IPython 7.17 and above.\n",
      "  and should_run_async(code)\n",
      "2020-09-21 09:39:34.716 | INFO     | game.clustering_utils:get_hist_per_feature:321 - topic\n",
      "0    57\n",
      "1     3\n",
      "2     5\n",
      "3    11\n",
      "Name: topic, dtype: int64\n"
     ]
    },
    {
     "data": {
      "image/png": "[encoded data removed]",
      "text/plain": [
       "<Figure size 1080x432 with 1 Axes>"
      ]
     },
     "metadata": {
      "needs_background": "light"
     },
     "output_type": "display_data"
    }
   ],
   "source": [
    "clustering_utils.get_hist_per_feature(dataframe=dfs[2], cluster=2, by_feature=\"topic\", feature_to_count=\"topic\", origin=\"notebook\")"
   ]
  },
  {
   "cell_type": "code",
   "execution_count": 82,
   "metadata": {},
   "outputs": [
    {
     "name": "stderr",
     "output_type": "stream",
     "text": [
      "/Users/valentinanotararigo/.local/lib/python3.7/site-packages/ipykernel/ipkernel.py:287: DeprecationWarning: `should_run_async` will not call `transform_cell` automatically in the future. Please pass the result to `transformed_cell` argument and any exception that happen during thetransform in `preprocessing_exc_tuple` in IPython 7.17 and above.\n",
      "  and should_run_async(code)\n",
      "2020-09-21 09:39:35.487 | INFO     | game.clustering_utils:get_distribution_numerical_variable:305 - Distribution of topic\n"
     ]
    },
    {
     "data": {
      "image/png": "[encoded data removed]",
      "text/plain": [
       "<Figure size 936x360 with 1 Axes>"
      ]
     },
     "metadata": {
      "needs_background": "light"
     },
     "output_type": "display_data"
    }
   ],
   "source": [
    "clustering_utils.get_distribution_numerical_variable(dataframe=dfs[3], cluster=3, column=\"topic\", origin=\"notebook\")"
   ]
  },
  {
   "cell_type": "code",
   "execution_count": 84,
   "metadata": {},
   "outputs": [
    {
     "name": "stderr",
     "output_type": "stream",
     "text": [
      "/Users/valentinanotararigo/.local/lib/python3.7/site-packages/ipykernel/ipkernel.py:287: DeprecationWarning: `should_run_async` will not call `transform_cell` automatically in the future. Please pass the result to `transformed_cell` argument and any exception that happen during thetransform in `preprocessing_exc_tuple` in IPython 7.17 and above.\n",
      "  and should_run_async(code)\n",
      "2020-09-21 09:41:22.096 | INFO     | game.clustering_utils:get_hist_per_feature:321 - topic\n",
      "0    90\n",
      "1     9\n",
      "2    10\n",
      "3    10\n",
      "Name: topic, dtype: int64\n"
     ]
    },
    {
     "data": {
      "image/png": "[encoded data removed]",
      "text/plain": [
       "<Figure size 1080x432 with 1 Axes>"
      ]
     },
     "metadata": {
      "needs_background": "light"
     },
     "output_type": "display_data"
    }
   ],
   "source": [
    "clustering_utils.get_hist_per_feature(dataframe=dfs[3], cluster=3, by_feature=\"topic\", feature_to_count=\"topic\", origin=\"notebook\")"
   ]
  },
  {
   "cell_type": "markdown",
   "metadata": {},
   "source": [
    "### Food group statistics"
   ]
  },
  {
   "cell_type": "code",
   "execution_count": 85,
   "metadata": {},
   "outputs": [
    {
     "name": "stderr",
     "output_type": "stream",
     "text": [
      "/Users/valentinanotararigo/.local/lib/python3.7/site-packages/ipykernel/ipkernel.py:287: DeprecationWarning: `should_run_async` will not call `transform_cell` automatically in the future. Please pass the result to `transformed_cell` argument and any exception that happen during thetransform in `preprocessing_exc_tuple` in IPython 7.17 and above.\n",
      "  and should_run_async(code)\n"
     ]
    },
    {
     "data": {
      "text/html": [
       "<div>\n",
       "<style scoped>\n",
       "    .dataframe tbody tr th:only-of-type {\n",
       "        vertical-align: middle;\n",
       "    }\n",
       "\n",
       "    .dataframe tbody tr th {\n",
       "        vertical-align: top;\n",
       "    }\n",
       "\n",
       "    .dataframe thead th {\n",
       "        text-align: right;\n",
       "    }\n",
       "</style>\n",
       "<table border=\"1\" class=\"dataframe\">\n",
       "  <thead>\n",
       "    <tr style=\"text-align: right;\">\n",
       "      <th></th>\n",
       "      <th>allergens</th>\n",
       "      <th>calories</th>\n",
       "      <th>carbs</th>\n",
       "      <th>cuisine</th>\n",
       "      <th>fat</th>\n",
       "      <th>food_group</th>\n",
       "      <th>protein</th>\n",
       "      <th>cooking_time</th>\n",
       "      <th>price_1p_pence</th>\n",
       "      <th>price_2p_pence</th>\n",
       "      <th>price_4p_pence</th>\n",
       "      <th>season_autumn</th>\n",
       "      <th>season_other</th>\n",
       "      <th>season_spring</th>\n",
       "      <th>season_summer</th>\n",
       "      <th>season_winter</th>\n",
       "      <th>topic</th>\n",
       "      <th>cluster</th>\n",
       "    </tr>\n",
       "  </thead>\n",
       "  <tbody>\n",
       "    <tr>\n",
       "      <th>0</th>\n",
       "      <td>2</td>\n",
       "      <td>474</td>\n",
       "      <td>26</td>\n",
       "      <td>2</td>\n",
       "      <td>23</td>\n",
       "      <td>88</td>\n",
       "      <td>45</td>\n",
       "      <td>25</td>\n",
       "      <td>900</td>\n",
       "      <td>1400</td>\n",
       "      <td>2400</td>\n",
       "      <td>0</td>\n",
       "      <td>0</td>\n",
       "      <td>1</td>\n",
       "      <td>0</td>\n",
       "      <td>0</td>\n",
       "      <td>0</td>\n",
       "      <td>0</td>\n",
       "    </tr>\n",
       "    <tr>\n",
       "      <th>1</th>\n",
       "      <td>1</td>\n",
       "      <td>715</td>\n",
       "      <td>67</td>\n",
       "      <td>7</td>\n",
       "      <td>28</td>\n",
       "      <td>127</td>\n",
       "      <td>50</td>\n",
       "      <td>30</td>\n",
       "      <td>900</td>\n",
       "      <td>1400</td>\n",
       "      <td>2400</td>\n",
       "      <td>0</td>\n",
       "      <td>0</td>\n",
       "      <td>1</td>\n",
       "      <td>0</td>\n",
       "      <td>0</td>\n",
       "      <td>1</td>\n",
       "      <td>0</td>\n",
       "    </tr>\n",
       "    <tr>\n",
       "      <th>2</th>\n",
       "      <td>3</td>\n",
       "      <td>479</td>\n",
       "      <td>36</td>\n",
       "      <td>0</td>\n",
       "      <td>27</td>\n",
       "      <td>262</td>\n",
       "      <td>31</td>\n",
       "      <td>30</td>\n",
       "      <td>900</td>\n",
       "      <td>1200</td>\n",
       "      <td>2400</td>\n",
       "      <td>0</td>\n",
       "      <td>0</td>\n",
       "      <td>1</td>\n",
       "      <td>0</td>\n",
       "      <td>0</td>\n",
       "      <td>3</td>\n",
       "      <td>0</td>\n",
       "    </tr>\n",
       "    <tr>\n",
       "      <th>3</th>\n",
       "      <td>2</td>\n",
       "      <td>555</td>\n",
       "      <td>65</td>\n",
       "      <td>11</td>\n",
       "      <td>26</td>\n",
       "      <td>262</td>\n",
       "      <td>23</td>\n",
       "      <td>25</td>\n",
       "      <td>900</td>\n",
       "      <td>1400</td>\n",
       "      <td>2400</td>\n",
       "      <td>0</td>\n",
       "      <td>0</td>\n",
       "      <td>0</td>\n",
       "      <td>1</td>\n",
       "      <td>0</td>\n",
       "      <td>0</td>\n",
       "      <td>0</td>\n",
       "    </tr>\n",
       "    <tr>\n",
       "      <th>8</th>\n",
       "      <td>1</td>\n",
       "      <td>530</td>\n",
       "      <td>61</td>\n",
       "      <td>0</td>\n",
       "      <td>22</td>\n",
       "      <td>262</td>\n",
       "      <td>26</td>\n",
       "      <td>25</td>\n",
       "      <td>900</td>\n",
       "      <td>1400</td>\n",
       "      <td>2400</td>\n",
       "      <td>1</td>\n",
       "      <td>0</td>\n",
       "      <td>0</td>\n",
       "      <td>0</td>\n",
       "      <td>0</td>\n",
       "      <td>0</td>\n",
       "      <td>0</td>\n",
       "    </tr>\n",
       "  </tbody>\n",
       "</table>\n",
       "</div>"
      ],
      "text/plain": [
       "   allergens  calories  carbs  cuisine  fat  food_group  protein  \\\n",
       "0          2       474     26        2   23          88       45   \n",
       "1          1       715     67        7   28         127       50   \n",
       "2          3       479     36        0   27         262       31   \n",
       "3          2       555     65       11   26         262       23   \n",
       "8          1       530     61        0   22         262       26   \n",
       "\n",
       "   cooking_time  price_1p_pence  price_2p_pence  price_4p_pence  \\\n",
       "0            25             900            1400            2400   \n",
       "1            30             900            1400            2400   \n",
       "2            30             900            1200            2400   \n",
       "3            25             900            1400            2400   \n",
       "8            25             900            1400            2400   \n",
       "\n",
       "   season_autumn  season_other  season_spring  season_summer  season_winter  \\\n",
       "0              0             0              1              0              0   \n",
       "1              0             0              1              0              0   \n",
       "2              0             0              1              0              0   \n",
       "3              0             0              0              1              0   \n",
       "8              1             0              0              0              0   \n",
       "\n",
       "   topic  cluster  \n",
       "0      0        0  \n",
       "1      1        0  \n",
       "2      3        0  \n",
       "3      0        0  \n",
       "8      0        0  "
      ]
     },
     "execution_count": 85,
     "metadata": {},
     "output_type": "execute_result"
    }
   ],
   "source": [
    "dfs[0].head()"
   ]
  },
  {
   "cell_type": "code",
   "execution_count": 86,
   "metadata": {},
   "outputs": [
    {
     "name": "stderr",
     "output_type": "stream",
     "text": [
      "/Users/valentinanotararigo/.local/lib/python3.7/site-packages/ipykernel/ipkernel.py:287: DeprecationWarning: `should_run_async` will not call `transform_cell` automatically in the future. Please pass the result to `transformed_cell` argument and any exception that happen during thetransform in `preprocessing_exc_tuple` in IPython 7.17 and above.\n",
      "  and should_run_async(code)\n",
      "2020-09-21 09:41:28.008 | INFO     | game.clustering_utils:get_distribution_numerical_variable:305 - Distribution of food_group\n"
     ]
    },
    {
     "data": {
      "image/png": "[encoded data removed]",
      "text/plain": [
       "<Figure size 936x360 with 1 Axes>"
      ]
     },
     "metadata": {
      "needs_background": "light"
     },
     "output_type": "display_data"
    }
   ],
   "source": [
    "clustering_utils.get_distribution_numerical_variable(dataframe=dfs[0], cluster=0, column=\"food_group\", origin=\"notebook\")"
   ]
  },
  {
   "cell_type": "code",
   "execution_count": 88,
   "metadata": {},
   "outputs": [
    {
     "name": "stderr",
     "output_type": "stream",
     "text": [
      "/Users/valentinanotararigo/.local/lib/python3.7/site-packages/ipykernel/ipkernel.py:287: DeprecationWarning: `should_run_async` will not call `transform_cell` automatically in the future. Please pass the result to `transformed_cell` argument and any exception that happen during thetransform in `preprocessing_exc_tuple` in IPython 7.17 and above.\n",
      "  and should_run_async(code)\n",
      "2020-09-21 09:41:51.405 | INFO     | game.clustering_utils:get_hist_per_feature:321 - food_group\n",
      "Beef        48\n",
      "Chicken     98\n",
      "Fish        38\n",
      "Lamb        16\n",
      "Pork        45\n",
      "Vegan      105\n",
      "Name: food_group, dtype: int64\n"
     ]
    },
    {
     "data": {
      "image/png": "[encoded data removed]",
      "text/plain": [
       "<Figure size 1080x432 with 1 Axes>"
      ]
     },
     "metadata": {
      "needs_background": "light"
     },
     "output_type": "display_data"
    }
   ],
   "source": [
    "clustering_utils.get_hist_per_feature(dataframe=dfs[0].replace({\"food_group\": dict_food_group}), \n",
    "                                     cluster=0, by_feature=\"food_group\", feature_to_count=\"food_group\", origin=\"notebook\")"
   ]
  },
  {
   "cell_type": "code",
   "execution_count": 89,
   "metadata": {},
   "outputs": [
    {
     "name": "stderr",
     "output_type": "stream",
     "text": [
      "/Users/valentinanotararigo/.local/lib/python3.7/site-packages/ipykernel/ipkernel.py:287: DeprecationWarning: `should_run_async` will not call `transform_cell` automatically in the future. Please pass the result to `transformed_cell` argument and any exception that happen during thetransform in `preprocessing_exc_tuple` in IPython 7.17 and above.\n",
      "  and should_run_async(code)\n",
      "2020-09-21 09:41:54.475 | INFO     | game.clustering_utils:get_distribution_numerical_variable:305 - Distribution of food_group\n"
     ]
    },
    {
     "data": {
      "image/png": "[encoded data removed]",
      "text/plain": [
       "<Figure size 936x360 with 1 Axes>"
      ]
     },
     "metadata": {
      "needs_background": "light"
     },
     "output_type": "display_data"
    }
   ],
   "source": [
    "clustering_utils.get_distribution_numerical_variable(dataframe=dfs[1], cluster=1, column=\"food_group\", origin=\"notebook\")"
   ]
  },
  {
   "cell_type": "code",
   "execution_count": 91,
   "metadata": {},
   "outputs": [
    {
     "name": "stderr",
     "output_type": "stream",
     "text": [
      "/Users/valentinanotararigo/.local/lib/python3.7/site-packages/ipykernel/ipkernel.py:287: DeprecationWarning: `should_run_async` will not call `transform_cell` automatically in the future. Please pass the result to `transformed_cell` argument and any exception that happen during thetransform in `preprocessing_exc_tuple` in IPython 7.17 and above.\n",
      "  and should_run_async(code)\n",
      "2020-09-21 09:42:05.420 | INFO     | game.clustering_utils:get_hist_per_feature:321 - food_group\n",
      "Beef       34\n",
      "Chicken    12\n",
      "Fish       71\n",
      "Lamb       12\n",
      "Pork        1\n",
      "Name: food_group, dtype: int64\n"
     ]
    },
    {
     "data": {
      "image/png": "[encoded data removed]",
      "text/plain": [
       "<Figure size 1080x432 with 1 Axes>"
      ]
     },
     "metadata": {
      "needs_background": "light"
     },
     "output_type": "display_data"
    }
   ],
   "source": [
    "clustering_utils.get_hist_per_feature(dataframe=dfs[1].replace({\"food_group\": dict_food_group}), \n",
    "                                     cluster=1, by_feature=\"food_group\", feature_to_count=\"food_group\", origin=\"notebook\")"
   ]
  },
  {
   "cell_type": "code",
   "execution_count": 92,
   "metadata": {},
   "outputs": [
    {
     "name": "stderr",
     "output_type": "stream",
     "text": [
      "/Users/valentinanotararigo/.local/lib/python3.7/site-packages/ipykernel/ipkernel.py:287: DeprecationWarning: `should_run_async` will not call `transform_cell` automatically in the future. Please pass the result to `transformed_cell` argument and any exception that happen during thetransform in `preprocessing_exc_tuple` in IPython 7.17 and above.\n",
      "  and should_run_async(code)\n",
      "2020-09-21 09:42:06.358 | INFO     | game.clustering_utils:get_distribution_numerical_variable:305 - Distribution of food_group\n"
     ]
    },
    {
     "data": {
      "image/png": "[encoded data removed]",
      "text/plain": [
       "<Figure size 936x360 with 1 Axes>"
      ]
     },
     "metadata": {
      "needs_background": "light"
     },
     "output_type": "display_data"
    }
   ],
   "source": [
    "clustering_utils.get_distribution_numerical_variable(dataframe=dfs[2], cluster=2, column=\"food_group\", origin=\"notebook\")"
   ]
  },
  {
   "cell_type": "code",
   "execution_count": 93,
   "metadata": {},
   "outputs": [
    {
     "name": "stderr",
     "output_type": "stream",
     "text": [
      "/Users/valentinanotararigo/.local/lib/python3.7/site-packages/ipykernel/ipkernel.py:287: DeprecationWarning: `should_run_async` will not call `transform_cell` automatically in the future. Please pass the result to `transformed_cell` argument and any exception that happen during thetransform in `preprocessing_exc_tuple` in IPython 7.17 and above.\n",
      "  and should_run_async(code)\n",
      "2020-09-21 09:42:13.681 | INFO     | game.clustering_utils:get_hist_per_feature:321 - food_group\n",
      "Beef        6\n",
      "Chicken    14\n",
      "Fish        5\n",
      "Pork        8\n",
      "Vegan      43\n",
      "Name: food_group, dtype: int64\n"
     ]
    },
    {
     "data": {
      "image/png": "[encoded data removed]",
      "text/plain": [
       "<Figure size 1080x432 with 1 Axes>"
      ]
     },
     "metadata": {
      "needs_background": "light"
     },
     "output_type": "display_data"
    }
   ],
   "source": [
    "clustering_utils.get_hist_per_feature(dataframe=dfs[2].replace({\"food_group\": dict_food_group}), \n",
    "                                     cluster=2, by_feature=\"food_group\", feature_to_count=\"food_group\", origin=\"notebook\")"
   ]
  },
  {
   "cell_type": "code",
   "execution_count": 94,
   "metadata": {},
   "outputs": [
    {
     "name": "stderr",
     "output_type": "stream",
     "text": [
      "/Users/valentinanotararigo/.local/lib/python3.7/site-packages/ipykernel/ipkernel.py:287: DeprecationWarning: `should_run_async` will not call `transform_cell` automatically in the future. Please pass the result to `transformed_cell` argument and any exception that happen during thetransform in `preprocessing_exc_tuple` in IPython 7.17 and above.\n",
      "  and should_run_async(code)\n",
      "2020-09-21 09:42:16.548 | INFO     | game.clustering_utils:get_distribution_numerical_variable:305 - Distribution of food_group\n"
     ]
    },
    {
     "data": {
      "image/png": "[encoded data removed]",
      "text/plain": [
       "<Figure size 936x360 with 1 Axes>"
      ]
     },
     "metadata": {
      "needs_background": "light"
     },
     "output_type": "display_data"
    }
   ],
   "source": [
    "clustering_utils.get_distribution_numerical_variable(dataframe=dfs[3], cluster=3, column=\"food_group\", origin=\"notebook\")"
   ]
  },
  {
   "cell_type": "code",
   "execution_count": 95,
   "metadata": {},
   "outputs": [
    {
     "name": "stderr",
     "output_type": "stream",
     "text": [
      "/Users/valentinanotararigo/.local/lib/python3.7/site-packages/ipykernel/ipkernel.py:287: DeprecationWarning: `should_run_async` will not call `transform_cell` automatically in the future. Please pass the result to `transformed_cell` argument and any exception that happen during thetransform in `preprocessing_exc_tuple` in IPython 7.17 and above.\n",
      "  and should_run_async(code)\n",
      "2020-09-21 09:42:26.243 | INFO     | game.clustering_utils:get_hist_per_feature:321 - food_group\n",
      "Chicken      3\n",
      "Fish         1\n",
      "Pork         1\n",
      "Vegan      114\n",
      "Name: food_group, dtype: int64\n"
     ]
    },
    {
     "data": {
      "image/png": "[encoded data removed]",
      "text/plain": [
       "<Figure size 1080x432 with 1 Axes>"
      ]
     },
     "metadata": {
      "needs_background": "light"
     },
     "output_type": "display_data"
    }
   ],
   "source": [
    "clustering_utils.get_hist_per_feature(dataframe=dfs[3].replace({\"food_group\": dict_food_group}), \n",
    "                                     cluster=3, by_feature=\"food_group\", feature_to_count=\"food_group\", origin=\"notebook\")"
   ]
  },
  {
   "cell_type": "markdown",
   "metadata": {},
   "source": [
    "### Data frame for game: recipe_ids per cluster"
   ]
  },
  {
   "cell_type": "code",
   "execution_count": 96,
   "metadata": {},
   "outputs": [
    {
     "name": "stderr",
     "output_type": "stream",
     "text": [
      "/Users/valentinanotararigo/.local/lib/python3.7/site-packages/ipykernel/ipkernel.py:287: DeprecationWarning: `should_run_async` will not call `transform_cell` automatically in the future. Please pass the result to `transformed_cell` argument and any exception that happen during thetransform in `preprocessing_exc_tuple` in IPython 7.17 and above.\n",
      "  and should_run_async(code)\n"
     ]
    },
    {
     "data": {
      "text/html": [
       "<div>\n",
       "<style scoped>\n",
       "    .dataframe tbody tr th:only-of-type {\n",
       "        vertical-align: middle;\n",
       "    }\n",
       "\n",
       "    .dataframe tbody tr th {\n",
       "        vertical-align: top;\n",
       "    }\n",
       "\n",
       "    .dataframe thead th {\n",
       "        text-align: right;\n",
       "    }\n",
       "</style>\n",
       "<table border=\"1\" class=\"dataframe\">\n",
       "  <thead>\n",
       "    <tr style=\"text-align: right;\">\n",
       "      <th></th>\n",
       "      <th>food_group</th>\n",
       "      <th>topic</th>\n",
       "      <th>cluster</th>\n",
       "      <th>id</th>\n",
       "    </tr>\n",
       "  </thead>\n",
       "  <tbody>\n",
       "    <tr>\n",
       "      <th>5</th>\n",
       "      <td>55</td>\n",
       "      <td>3</td>\n",
       "      <td>2</td>\n",
       "      <td>15</td>\n",
       "    </tr>\n",
       "    <tr>\n",
       "      <th>6</th>\n",
       "      <td>127</td>\n",
       "      <td>2</td>\n",
       "      <td>3</td>\n",
       "      <td>16</td>\n",
       "    </tr>\n",
       "    <tr>\n",
       "      <th>7</th>\n",
       "      <td>88</td>\n",
       "      <td>0</td>\n",
       "      <td>1</td>\n",
       "      <td>17</td>\n",
       "    </tr>\n",
       "    <tr>\n",
       "      <th>8</th>\n",
       "      <td>262</td>\n",
       "      <td>0</td>\n",
       "      <td>0</td>\n",
       "      <td>18</td>\n",
       "    </tr>\n",
       "    <tr>\n",
       "      <th>9</th>\n",
       "      <td>262</td>\n",
       "      <td>3</td>\n",
       "      <td>3</td>\n",
       "      <td>20</td>\n",
       "    </tr>\n",
       "    <tr>\n",
       "      <th>10</th>\n",
       "      <td>262</td>\n",
       "      <td>0</td>\n",
       "      <td>3</td>\n",
       "      <td>21</td>\n",
       "    </tr>\n",
       "  </tbody>\n",
       "</table>\n",
       "</div>"
      ],
      "text/plain": [
       "    food_group  topic  cluster  id\n",
       "5           55      3        2  15\n",
       "6          127      2        3  16\n",
       "7           88      0        1  17\n",
       "8          262      0        0  18\n",
       "9          262      3        3  20\n",
       "10         262      0        3  21"
      ]
     },
     "execution_count": 96,
     "metadata": {},
     "output_type": "execute_result"
    }
   ],
   "source": [
    "X['id'] = data.id\n",
    "X.loc[5:10,['food_group','topic','cluster', 'id']]"
   ]
  },
  {
   "cell_type": "code",
   "execution_count": 97,
   "metadata": {},
   "outputs": [
    {
     "name": "stderr",
     "output_type": "stream",
     "text": [
      "/Users/valentinanotararigo/.local/lib/python3.7/site-packages/ipykernel/ipkernel.py:287: DeprecationWarning: `should_run_async` will not call `transform_cell` automatically in the future. Please pass the result to `transformed_cell` argument and any exception that happen during thetransform in `preprocessing_exc_tuple` in IPython 7.17 and above.\n",
      "  and should_run_async(code)\n"
     ]
    },
    {
     "data": {
      "text/html": [
       "<div>\n",
       "<style scoped>\n",
       "    .dataframe tbody tr th:only-of-type {\n",
       "        vertical-align: middle;\n",
       "    }\n",
       "\n",
       "    .dataframe tbody tr th {\n",
       "        vertical-align: top;\n",
       "    }\n",
       "\n",
       "    .dataframe thead th {\n",
       "        text-align: right;\n",
       "    }\n",
       "</style>\n",
       "<table border=\"1\" class=\"dataframe\">\n",
       "  <thead>\n",
       "    <tr style=\"text-align: right;\">\n",
       "      <th></th>\n",
       "      <th>cluster</th>\n",
       "      <th>recipe_id_count</th>\n",
       "    </tr>\n",
       "  </thead>\n",
       "  <tbody>\n",
       "    <tr>\n",
       "      <th>0</th>\n",
       "      <td>0</td>\n",
       "      <td>350</td>\n",
       "    </tr>\n",
       "    <tr>\n",
       "      <th>1</th>\n",
       "      <td>1</td>\n",
       "      <td>130</td>\n",
       "    </tr>\n",
       "    <tr>\n",
       "      <th>2</th>\n",
       "      <td>2</td>\n",
       "      <td>76</td>\n",
       "    </tr>\n",
       "    <tr>\n",
       "      <th>3</th>\n",
       "      <td>3</td>\n",
       "      <td>119</td>\n",
       "    </tr>\n",
       "  </tbody>\n",
       "</table>\n",
       "</div>"
      ],
      "text/plain": [
       "   cluster  recipe_id_count\n",
       "0        0              350\n",
       "1        1              130\n",
       "2        2               76\n",
       "3        3              119"
      ]
     },
     "execution_count": 97,
     "metadata": {},
     "output_type": "execute_result"
    }
   ],
   "source": [
    "X_game = X.groupby(['cluster'])[\"id\"].agg(['count']).rename(columns={\"count\":\"recipe_id_count\"}).reset_index()\n",
    "X_game.head()"
   ]
  },
  {
   "cell_type": "code",
   "execution_count": 98,
   "metadata": {},
   "outputs": [
    {
     "name": "stderr",
     "output_type": "stream",
     "text": [
      "/Users/valentinanotararigo/.local/lib/python3.7/site-packages/ipykernel/ipkernel.py:287: DeprecationWarning: `should_run_async` will not call `transform_cell` automatically in the future. Please pass the result to `transformed_cell` argument and any exception that happen during thetransform in `preprocessing_exc_tuple` in IPython 7.17 and above.\n",
      "  and should_run_async(code)\n"
     ]
    },
    {
     "data": {
      "text/html": [
       "<div>\n",
       "<style scoped>\n",
       "    .dataframe tbody tr th:only-of-type {\n",
       "        vertical-align: middle;\n",
       "    }\n",
       "\n",
       "    .dataframe tbody tr th {\n",
       "        vertical-align: top;\n",
       "    }\n",
       "\n",
       "    .dataframe thead th {\n",
       "        text-align: right;\n",
       "    }\n",
       "</style>\n",
       "<table border=\"1\" class=\"dataframe\">\n",
       "  <thead>\n",
       "    <tr style=\"text-align: right;\">\n",
       "      <th></th>\n",
       "      <th>cluster</th>\n",
       "      <th>id</th>\n",
       "    </tr>\n",
       "  </thead>\n",
       "  <tbody>\n",
       "  </tbody>\n",
       "</table>\n",
       "</div>"
      ],
      "text/plain": [
       "Empty DataFrame\n",
       "Columns: [cluster, id]\n",
       "Index: []"
      ]
     },
     "execution_count": 98,
     "metadata": {},
     "output_type": "execute_result"
    }
   ],
   "source": [
    "X_game = X.loc[:,['cluster', 'id']]\n",
    "X_game.loc[680:685]"
   ]
  },
  {
   "cell_type": "code",
   "execution_count": 99,
   "metadata": {},
   "outputs": [
    {
     "name": "stderr",
     "output_type": "stream",
     "text": [
      "/Users/valentinanotararigo/.local/lib/python3.7/site-packages/ipykernel/ipkernel.py:287: DeprecationWarning: `should_run_async` will not call `transform_cell` automatically in the future. Please pass the result to `transformed_cell` argument and any exception that happen during thetransform in `preprocessing_exc_tuple` in IPython 7.17 and above.\n",
      "  and should_run_async(code)\n"
     ]
    },
    {
     "data": {
      "text/html": [
       "<div>\n",
       "<style scoped>\n",
       "    .dataframe tbody tr th:only-of-type {\n",
       "        vertical-align: middle;\n",
       "    }\n",
       "\n",
       "    .dataframe tbody tr th {\n",
       "        vertical-align: top;\n",
       "    }\n",
       "\n",
       "    .dataframe thead th {\n",
       "        text-align: right;\n",
       "    }\n",
       "</style>\n",
       "<table border=\"1\" class=\"dataframe\">\n",
       "  <thead>\n",
       "    <tr style=\"text-align: right;\">\n",
       "      <th></th>\n",
       "      <th>cluster</th>\n",
       "      <th>id</th>\n",
       "    </tr>\n",
       "  </thead>\n",
       "  <tbody>\n",
       "    <tr>\n",
       "      <th>0</th>\n",
       "      <td>0</td>\n",
       "      <td>1</td>\n",
       "    </tr>\n",
       "    <tr>\n",
       "      <th>470</th>\n",
       "      <td>0</td>\n",
       "      <td>572</td>\n",
       "    </tr>\n",
       "    <tr>\n",
       "      <th>463</th>\n",
       "      <td>0</td>\n",
       "      <td>562</td>\n",
       "    </tr>\n",
       "    <tr>\n",
       "      <th>460</th>\n",
       "      <td>0</td>\n",
       "      <td>558</td>\n",
       "    </tr>\n",
       "    <tr>\n",
       "      <th>458</th>\n",
       "      <td>0</td>\n",
       "      <td>556</td>\n",
       "    </tr>\n",
       "    <tr>\n",
       "      <th>...</th>\n",
       "      <td>...</td>\n",
       "      <td>...</td>\n",
       "    </tr>\n",
       "    <tr>\n",
       "      <th>331</th>\n",
       "      <td>3</td>\n",
       "      <td>415</td>\n",
       "    </tr>\n",
       "    <tr>\n",
       "      <th>329</th>\n",
       "      <td>3</td>\n",
       "      <td>413</td>\n",
       "    </tr>\n",
       "    <tr>\n",
       "      <th>112</th>\n",
       "      <td>3</td>\n",
       "      <td>173</td>\n",
       "    </tr>\n",
       "    <tr>\n",
       "      <th>513</th>\n",
       "      <td>3</td>\n",
       "      <td>665</td>\n",
       "    </tr>\n",
       "    <tr>\n",
       "      <th>330</th>\n",
       "      <td>3</td>\n",
       "      <td>414</td>\n",
       "    </tr>\n",
       "  </tbody>\n",
       "</table>\n",
       "<p>675 rows × 2 columns</p>\n",
       "</div>"
      ],
      "text/plain": [
       "     cluster   id\n",
       "0          0    1\n",
       "470        0  572\n",
       "463        0  562\n",
       "460        0  558\n",
       "458        0  556\n",
       "..       ...  ...\n",
       "331        3  415\n",
       "329        3  413\n",
       "112        3  173\n",
       "513        3  665\n",
       "330        3  414\n",
       "\n",
       "[675 rows x 2 columns]"
      ]
     },
     "execution_count": 99,
     "metadata": {},
     "output_type": "execute_result"
    }
   ],
   "source": [
    "X_game.sort_values(\"cluster\", axis = 0, ascending = True, inplace = True)\n",
    "X_game"
   ]
  },
  {
   "cell_type": "code",
   "execution_count": 100,
   "metadata": {},
   "outputs": [
    {
     "name": "stderr",
     "output_type": "stream",
     "text": [
      "/Users/valentinanotararigo/.local/lib/python3.7/site-packages/ipykernel/ipkernel.py:287: DeprecationWarning: `should_run_async` will not call `transform_cell` automatically in the future. Please pass the result to `transformed_cell` argument and any exception that happen during thetransform in `preprocessing_exc_tuple` in IPython 7.17 and above.\n",
      "  and should_run_async(code)\n"
     ]
    }
   ],
   "source": [
    "#X_game.to_csv(r'df_game.csv', index = False)"
   ]
  },
  {
   "cell_type": "code",
   "execution_count": null,
   "metadata": {},
   "outputs": [],
   "source": []
  }
 ],
 "metadata": {
  "kernelspec": {
   "display_name": "venv",
   "language": "python",
   "name": "venv"
  },
  "language_info": {
   "codemirror_mode": {
    "name": "ipython",
    "version": 3
   },
   "file_extension": ".py",
   "mimetype": "text/x-python",
   "name": "python",
   "nbconvert_exporter": "python",
   "pygments_lexer": "ipython3",
   "version": "3.7.4"
  }
 },
 "nbformat": 4,
 "nbformat_minor": 4
}
