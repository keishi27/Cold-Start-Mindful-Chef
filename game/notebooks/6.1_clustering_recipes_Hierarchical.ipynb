{
 "cells": [
  {
   "cell_type": "markdown",
   "metadata": {},
   "source": [
    "# Clustering recipes using \"Hierarchical clustering\" method"
   ]
  },
  {
   "cell_type": "code",
   "execution_count": 1,
   "metadata": {
    "scrolled": true
   },
   "outputs": [
    {
     "name": "stderr",
     "output_type": "stream",
     "text": [
      "[nltk_data] Downloading package stopwords to C:\\Users\\g.decillis.SS-\n",
      "[nltk_data]     GDC\\AppData\\Roaming\\nltk_data...\n",
      "[nltk_data]   Package stopwords is already up-to-date!\n"
     ]
    }
   ],
   "source": [
    "import pandas as pd\n",
    "import numpy as np\n",
    "from loguru import logger\n",
    "import re\n",
    "\n",
    "from sklearn.preprocessing import MinMaxScaler\n",
    "from sklearn import decomposition\n",
    "from sklearn.cluster import AgglomerativeClustering, KMeans\n",
    "from sklearn.decomposition import TruncatedSVD\n",
    "import scipy.cluster.hierarchy as sch\n",
    "\n",
    "import matplotlib.pyplot as plt\n",
    "import seaborn as sns\n",
    "\n",
    "from game import clustering_utils"
   ]
  },
  {
   "cell_type": "code",
   "execution_count": 2,
   "metadata": {},
   "outputs": [],
   "source": [
    "#preparing data\n",
    "data = pd.read_csv('../data/recipe_table.csv', sep=';')\n",
    "#embedding is calculated using the recipe2vecfunction found in game/flaskapp_andrius/api/preprocesser.py \n",
    "emb = pd.read_csv('../data/embedding.csv')\n",
    "data = data.merge(emb)"
   ]
  },
  {
   "cell_type": "markdown",
   "metadata": {},
   "source": [
    "### Drop columns:"
   ]
  },
  {
   "cell_type": "code",
   "execution_count": 3,
   "metadata": {},
   "outputs": [
    {
     "name": "stderr",
     "output_type": "stream",
     "text": [
      "2020-09-20 10:22:38.133 | INFO     | game.clustering_utils:drop_columns:187 - Dropping columns: ['specials', 'image_url', 'instructions', 'key_ingredient', 'title', 'description']\n"
     ]
    }
   ],
   "source": [
    "#The following columns are droppped because we will use the embedding produced by the rec2vec function.\n",
    "#This function take in only \"tile\", \"key_ingredient\" and \"description\".\n",
    "#Specials has got too many missing values so it will be dropped too. Instructions will have the same fate.\n",
    "data = clustering_utils.drop_columns(df=data, columns=[\n",
    "    \"specials\", \n",
    "    \"image_url\",  \n",
    "    \"instructions\", \n",
    "    \"key_ingredient\",\n",
    "    \"title\",\n",
    "    \"description\",])"
   ]
  },
  {
   "cell_type": "markdown",
   "metadata": {},
   "source": [
    "### Fill nan values:"
   ]
  },
  {
   "cell_type": "code",
   "execution_count": 4,
   "metadata": {
    "scrolled": false
   },
   "outputs": [
    {
     "data": {
      "text/plain": [
       "<matplotlib.axes._subplots.AxesSubplot at 0x1d12a120d90>"
      ]
     },
     "execution_count": 4,
     "metadata": {},
     "output_type": "execute_result"
    },
    {
     "data": {
      "image/png": "[encoded data removed]",
      "text/plain": [
       "<Figure size 432x288 with 2 Axes>"
      ]
     },
     "metadata": {
      "needs_background": "light"
     },
     "output_type": "display_data"
    }
   ],
   "source": [
    "sns.heatmap(data.isna())"
   ]
  },
  {
   "cell_type": "code",
   "execution_count": 5,
   "metadata": {},
   "outputs": [
    {
     "name": "stderr",
     "output_type": "stream",
     "text": [
      "2020-09-20 10:22:38.933 | INFO     | game.clustering_utils:fill_missing_values:193 - Filling nan values of column food_group with other\n",
      "2020-09-20 10:22:38.941 | INFO     | game.clustering_utils:fill_missing_values:193 - Filling nan values of column cuisine with other\n",
      "2020-09-20 10:22:38.941 | INFO     | game.clustering_utils:fill_missing_values:193 - Filling nan values of column season with other\n"
     ]
    }
   ],
   "source": [
    "data = clustering_utils.fill_missing_values(df=data, column= \"food_group\", name='other')\n",
    "data = clustering_utils.fill_missing_values(df=data, column= \"cuisine\", name='other')\n",
    "data = clustering_utils.fill_missing_values(df=data, column=\"season\", name='other')"
   ]
  },
  {
   "cell_type": "markdown",
   "metadata": {},
   "source": [
    "### Encoding allergens"
   ]
  },
  {
   "cell_type": "code",
   "execution_count": 6,
   "metadata": {},
   "outputs": [
    {
     "name": "stderr",
     "output_type": "stream",
     "text": [
      "2020-09-20 10:22:39.133 | INFO     | game.clustering_utils:count_allergens:141 - Replacing allergens with count\n"
     ]
    }
   ],
   "source": [
    "data = clustering_utils.count_allergens(df=data, column=\"allergens\")"
   ]
  },
  {
   "cell_type": "markdown",
   "metadata": {},
   "source": [
    "### Label encoding: cuisine"
   ]
  },
  {
   "cell_type": "code",
   "execution_count": 7,
   "metadata": {},
   "outputs": [
    {
     "name": "stderr",
     "output_type": "stream",
     "text": [
      "2020-09-20 10:22:39.261 | INFO     | game.clustering_utils:label_encoding:200 - Label encoding for column: cuisine\n",
      "2020-09-20 10:22:39.269 | INFO     | game.clustering_utils:label_encoding:204 - unique classes: ['asian' 'australian' 'british' 'caribbean' 'chinese' 'european' 'french'\n",
      " 'indian' 'italian' 'japanese' 'mediterranean' 'mexican' 'middle eastern'\n",
      " 'north african' 'other' 'south american' 'west african']\n"
     ]
    }
   ],
   "source": [
    "data = clustering_utils.label_encoding(df=data, column=\"cuisine\")"
   ]
  },
  {
   "cell_type": "markdown",
   "metadata": {},
   "source": [
    "### Hot encoding: season"
   ]
  },
  {
   "cell_type": "code",
   "execution_count": 8,
   "metadata": {},
   "outputs": [
    {
     "name": "stderr",
     "output_type": "stream",
     "text": [
      "2020-09-20 10:22:39.365 | INFO     | game.clustering_utils:hot_encoding:210 - Hot encoding for columns: ['season']\n"
     ]
    }
   ],
   "source": [
    "data = clustering_utils.hot_encoding(df=data, columns=[\"season\"])"
   ]
  },
  {
   "cell_type": "markdown",
   "metadata": {},
   "source": [
    "### Count encoding: food group"
   ]
  },
  {
   "cell_type": "code",
   "execution_count": 9,
   "metadata": {},
   "outputs": [
    {
     "name": "stderr",
     "output_type": "stream",
     "text": [
      "2020-09-20 10:22:39.477 | INFO     | game.clustering_utils:count_encoding:216 - Count encoding for column: food_group\n"
     ]
    }
   ],
   "source": [
    "data = clustering_utils.count_encoding(df=data, column=\"food_group\")"
   ]
  },
  {
   "cell_type": "code",
   "execution_count": 10,
   "metadata": {},
   "outputs": [],
   "source": [
    "data = data.set_index(\"id\")"
   ]
  },
  {
   "cell_type": "markdown",
   "metadata": {},
   "source": [
    "## Features scaling"
   ]
  },
  {
   "cell_type": "code",
   "execution_count": 11,
   "metadata": {},
   "outputs": [],
   "source": [
    "X = data.copy()"
   ]
  },
  {
   "cell_type": "code",
   "execution_count": 12,
   "metadata": {},
   "outputs": [],
   "source": [
    "scaler = MinMaxScaler()\n",
    "X = scaler.fit_transform(X)"
   ]
  },
  {
   "cell_type": "code",
   "execution_count": 13,
   "metadata": {},
   "outputs": [],
   "source": [
    "#PCA\n",
    "n_components = 2\n",
    "pca = decomposition.PCA(n_components  = n_components)\n",
    "pca.fit(X)\n",
    "X = pca.transform(X)"
   ]
  },
  {
   "cell_type": "markdown",
   "metadata": {},
   "source": [
    "## Clustering "
   ]
  },
  {
   "cell_type": "code",
   "execution_count": 14,
   "metadata": {
    "scrolled": true
   },
   "outputs": [
    {
     "data": {
      "image/png": "[encoded data removed]",
      "text/plain": [
       "<Figure size 432x288 with 1 Axes>"
      ]
     },
     "metadata": {
      "needs_background": "light"
     },
     "output_type": "display_data"
    }
   ],
   "source": [
    "dendrogram = sch.dendrogram(sch.linkage(X, method='ward'))"
   ]
  },
  {
   "cell_type": "code",
   "execution_count": 15,
   "metadata": {},
   "outputs": [],
   "source": [
    "#according to dendogram,the number of cluster is 3\n",
    "model = AgglomerativeClustering(n_clusters=3, affinity='euclidean', linkage='ward')\n",
    "model.fit(X)\n",
    "labels = model.labels_"
   ]
  },
  {
   "cell_type": "code",
   "execution_count": 16,
   "metadata": {},
   "outputs": [
    {
     "data": {
      "image/png": "[encoded data removed]",
      "text/plain": [
       "<Figure size 432x288 with 1 Axes>"
      ]
     },
     "metadata": {
      "needs_background": "light"
     },
     "output_type": "display_data"
    }
   ],
   "source": [
    "plt.scatter(X[labels==0, 0], X[labels==0, 1], s=50, marker='o', color='red')\n",
    "plt.scatter(X[labels==1, 0], X[labels==1, 1], s=50, marker='o', color='blue')\n",
    "plt.scatter(X[labels==2, 0], X[labels==2, 1], s=50, marker='o', color='green')\n",
    "plt.show()"
   ]
  },
  {
   "cell_type": "code",
   "execution_count": null,
   "metadata": {},
   "outputs": [],
   "source": []
  }
 ],
 "metadata": {
  "kernelspec": {
   "display_name": "Python 3",
   "language": "python",
   "name": "python3"
  },
  "language_info": {
   "codemirror_mode": {
    "name": "ipython",
    "version": 3
   },
   "file_extension": ".py",
   "mimetype": "text/x-python",
   "name": "python",
   "nbconvert_exporter": "python",
   "pygments_lexer": "ipython3",
   "version": "3.8.5"
  }
 },
 "nbformat": 4,
 "nbformat_minor": 4
}
