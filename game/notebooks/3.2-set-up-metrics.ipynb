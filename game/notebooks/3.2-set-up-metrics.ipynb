{
 "metadata": {
  "language_info": {
   "codemirror_mode": {
    "name": "ipython",
    "version": 3
   },
   "file_extension": ".py",
   "mimetype": "text/x-python",
   "name": "python",
   "nbconvert_exporter": "python",
   "pygments_lexer": "ipython3",
   "version": "3.8.5-final"
  },
  "orig_nbformat": 2,
  "kernelspec": {
   "name": "python_defaultSpec_1600435373513",
   "display_name": "Python 3.8.5 64-bit ('env': venv)"
  }
 },
 "nbformat": 4,
 "nbformat_minor": 2,
 "cells": [
  {
   "cell_type": "markdown",
   "metadata": {},
   "source": [
    "# 3.2 Set up delta12 and magnitude metrics"
   ]
  },
  {
   "cell_type": "code",
   "execution_count": 1,
   "metadata": {},
   "outputs": [],
   "source": [
    "from game.flaskapp_andrius.api import preprocesser\n",
    "from game.utils import run_query\n",
    "import numpy as np\n",
    "import pandas as pd\n",
    "from sklearn.metrics.pairwise import euclidean_distances\n",
    "\n",
    "from game.src.feature_generator import get_embedding, get_vector_list\n",
    "from game.src.ab_test_preprocessor import calc_new_delta\n",
    "from game.src.delta12_calculator import get_delta12"
   ]
  },
  {
   "cell_type": "markdown",
   "metadata": {},
   "source": [
    "# Demonstration of original calculate delta12 function"
   ]
  },
  {
   "cell_type": "code",
   "execution_count": 2,
   "metadata": {},
   "outputs": [],
   "source": [
    "# Test order: Last order: (238, 419), last order 2: (419, 532)\n",
    "order_hist_1 = {\"lastorder\": [\n",
    "        {\n",
    "\t\t\t\"recipe_id\": \"238\",\n",
    "\t\t\t\"food_group\": \"Lamb\",\n",
    "\t\t\t\"calories\": \"289.1\",\n",
    "\t\t\t\"carbs\": \"18.72\",\n",
    "\t\t\t\"fat\": \"12.95\",\n",
    "\t\t\t\"protein\": \"22.75\",\n",
    "\t\t\t\"cooking_time\": 30,\n",
    "\t\t\t\"title\": \"Creamy lamb korma & broccoli rice\",\n",
    "\t\t\t\"description\": \"Broccoli rice is a delicious accompaniment to this creamy lamb spiced korma with cherry tomatoes and mushrooms.\",\n",
    "\t\t\t\"key_ingredient\": \"Free-range heritage breed Yorkshire lamb\",\n",
    "\t\t\t\"price\": \"No price\"\n",
    "\t\t},\n",
    "\t\t{\n",
    "\t\t\t\"recipe_id\": \"419\",\n",
    "\t\t\t\"food_group\": \"Vegan\",\n",
    "\t\t\t\"calories\": \"672.93\",\n",
    "\t\t\t\"carbs\": \"97.52\",\n",
    "\t\t\t\"fat\": \"14.71\",\n",
    "\t\t\t\"protein\": \"39.09\",\n",
    "\t\t\t\"cooking_time\": 30,\n",
    "\t\t\t\"title\": \"Sticky tamarind & ginger tofu with mangetout\",\n",
    "\t\t\t\"description\": \"Shiitake mushrooms are absolutely brimming with umami and make this tangy tofu dish completely irresistible. The tamarind and fresh aromatics add even more flavour.\",\n",
    "\t\t\t\"key_ingredient\": \"Dragonfly organic extra-firm tofu \",\n",
    "\t\t\t\"price\": \"No price\"\n",
    "\t\t}\n",
    "\t],\n",
    "\t\"lastorder2\": [\n",
    "\t\t{\n",
    "\t\t\t\"recipe_id\": \"419\",\n",
    "\t\t\t\"food_group\": \"Vegan\",\n",
    "\t\t\t\"calories\": \"672.93\",\n",
    "\t\t\t\"carbs\": \"97.52\",\n",
    "\t\t\t\"fat\": \"14.71\",\n",
    "\t\t\t\"protein\": \"39.09\",\n",
    "\t\t\t\"cooking_time\": 30,\n",
    "\t\t\t\"title\": \"Sticky tamarind & ginger tofu with mangetout\",\n",
    "\t\t\t\"description\": \"Shiitake mushrooms are absolutely brimming with umami and make this tangy tofu dish completely irresistible. The tamarind and fresh aromatics add even more flavour.\",\n",
    "\t\t\t\"key_ingredient\": \"Dragonfly organic extra-firm tofu \",\n",
    "\t\t\t\"price\": \"No price\"\n",
    "\t\t},\n",
    "\t\t{\n",
    "\t\t\t\"recipe_id\": \"532\",\n",
    "\t\t\t\"food_group\": \"Fish\",\n",
    "\t\t\t\"calories\": \"818.8\",\n",
    "\t\t\t\"carbs\": \"86.64\",\n",
    "\t\t\t\"fat\": \"39.61\",\n",
    "\t\t\t\"protein\": \"29.09\",\n",
    "\t\t\t\"cooking_time\": 0,\n",
    "\t\t\t\"title\": \"Haddock, Asian veg & coconut black rice \",\n",
    "\t\t\t\"description\": \"Coconut black rice infused with ginger, garlic and chilli contrasts with delicate white haddock and a selection of crisp Asian vegetables. As always, our fish is responsibly sourced. The perfect meal for date night? \\n\",\n",
    "\t\t\t\"key_ingredient\": \"Fresh, sustainably caught haddock fillet\",\n",
    "\t\t\t\"price\": \"No price\"\n",
    "\t\t}\n",
    "\t]}"
   ]
  },
  {
   "cell_type": "code",
   "execution_count": 3,
   "metadata": {},
   "outputs": [
    {
     "output_type": "execute_result",
     "data": {
      "text/plain": "0.01698"
     },
     "metadata": {},
     "execution_count": 3
    }
   ],
   "source": [
    "round(get_delta12(order_hist_1), 5)"
   ]
  },
  {
   "cell_type": "markdown",
   "metadata": {},
   "source": [
    "# Looking closer at functions"
   ]
  },
  {
   "cell_type": "code",
   "execution_count": 4,
   "metadata": {},
   "outputs": [
    {
     "output_type": "execute_result",
     "data": {
      "text/plain": "'\\ndef get_delta12(order_hist):\\n    \\n    if \"lastorder\" in order_hist.keys():\\n        lastorder_embedding = np.mean(\\n            [preprocesser.recipe2vec(recipe) for recipe in order_hist[\"lastorder\"]]\\n        )\\n    else:\\n        lastorder_embedding = np.nan\\n\\n    if \"lastorder2\" in order_hist.keys():\\n        lastorder2_embedding = np.mean(\\n            [preprocesser.recipe2vec(recipe) for recipe in order_hist[\"lastorder2\"]]\\n        )\\n    else:\\n        lastorder2_embedding = np.nan\\n\\n    delta12 = preprocesser.calc_delta(lastorder_embedding, lastorder2_embedding)\\n\\n    return delta12\\n'"
     },
     "metadata": {},
     "execution_count": 4
    }
   ],
   "source": [
    "\"\"\"\n",
    "def get_delta12(order_hist):\n",
    "    \n",
    "    if \"lastorder\" in order_hist.keys():\n",
    "        lastorder_embedding = np.mean(\n",
    "            [preprocesser.recipe2vec(recipe) for recipe in order_hist[\"lastorder\"]]\n",
    "        )\n",
    "    else:\n",
    "        lastorder_embedding = np.nan\n",
    "\n",
    "    if \"lastorder2\" in order_hist.keys():\n",
    "        lastorder2_embedding = np.mean(\n",
    "            [preprocesser.recipe2vec(recipe) for recipe in order_hist[\"lastorder2\"]]\n",
    "        )\n",
    "    else:\n",
    "        lastorder2_embedding = np.nan\n",
    "\n",
    "    delta12 = preprocesser.calc_delta(lastorder_embedding, lastorder2_embedding)\n",
    "\n",
    "    return delta12\n",
    "\"\"\""
   ]
  },
  {
   "cell_type": "code",
   "execution_count": 5,
   "metadata": {},
   "outputs": [
    {
     "output_type": "execute_result",
     "data": {
      "text/plain": "0.0472033754085259"
     },
     "metadata": {},
     "execution_count": 5
    }
   ],
   "source": [
    "lastorder_embedding = np.mean([preprocesser.recipe2vec(recipe) for recipe in order_hist_1[\"lastorder\"]])\n",
    "lastorder_embedding"
   ]
  },
  {
   "cell_type": "code",
   "execution_count": 6,
   "metadata": {},
   "outputs": [
    {
     "output_type": "execute_result",
     "data": {
      "text/plain": "0.030227354547122078"
     },
     "metadata": {},
     "execution_count": 6
    }
   ],
   "source": [
    "lastorder2_embedding = np.mean([preprocesser.recipe2vec(recipe) for recipe in order_hist_1[\"lastorder2\"]])\n",
    "lastorder2_embedding"
   ]
  },
  {
   "cell_type": "code",
   "execution_count": 7,
   "metadata": {},
   "outputs": [
    {
     "output_type": "execute_result",
     "data": {
      "text/plain": "'\\ndef calc_delta(embedding1, embedding2):\\n\\t\\n\\t\\'\\'\\'\\n\\n\\tCalculates the Euclidean distance between any two embeddings.\\n\\n\\t(float) <- list of floats, list of floats\\n\\n\\t\\'\\'\\'    \\n\\tlogger.debug(\"Calculate deltas, embedding1 = {}, embedding2 = {}\".format(embedding1, embedding2))\\n\\tif (embedding1 is np.nan)|(embedding2 is np.nan):\\n\\t\\t\\n\\t\\treturn np.nan\\n\\t\\n\\telse:\\n\\t\\tdelta = np.sqrt(np.sum((embedding1 - embedding2)**2))\\n\\t\\tlogger.debug(\"Delta calculated, delta = {}\".format(delta))\\n\\t\\treturn delta\\n'"
     },
     "metadata": {},
     "execution_count": 7
    }
   ],
   "source": [
    "\"\"\"\n",
    "def calc_delta(embedding1, embedding2):\n",
    "\t\n",
    "\t'''\n",
    "\n",
    "\tCalculates the Euclidean distance between any two embeddings.\n",
    "\n",
    "\t(float) <- list of floats, list of floats\n",
    "\n",
    "\t'''    \n",
    "\tlogger.debug(\"Calculate deltas, embedding1 = {}, embedding2 = {}\".format(embedding1, embedding2))\n",
    "\tif (embedding1 is np.nan)|(embedding2 is np.nan):\n",
    "\t\t\n",
    "\t\treturn np.nan\n",
    "\t\n",
    "\telse:\n",
    "\t\tdelta = np.sqrt(np.sum((embedding1 - embedding2)**2))\n",
    "\t\tlogger.debug(\"Delta calculated, delta = {}\".format(delta))\n",
    "\t\treturn delta\n",
    "\"\"\""
   ]
  },
  {
   "cell_type": "code",
   "execution_count": 8,
   "metadata": {},
   "outputs": [
    {
     "output_type": "execute_result",
     "data": {
      "text/plain": "0.01698"
     },
     "metadata": {},
     "execution_count": 8
    }
   ],
   "source": [
    "delta = np.sqrt(np.sum((lastorder_embedding - lastorder2_embedding)**2))\n",
    "round(delta, 5)"
   ]
  },
  {
   "cell_type": "code",
   "execution_count": 9,
   "metadata": {},
   "outputs": [
    {
     "output_type": "execute_result",
     "data": {
      "text/plain": "0.01698"
     },
     "metadata": {},
     "execution_count": 9
    }
   ],
   "source": [
    "round((lastorder_embedding - lastorder2_embedding), 5)"
   ]
  },
  {
   "cell_type": "markdown",
   "metadata": {},
   "source": [
    "# Alternative adventurousness calculation using magnitudes of recipe journeys"
   ]
  },
  {
   "cell_type": "code",
   "execution_count": 10,
   "metadata": {},
   "outputs": [],
   "source": [
    "df_pc = pd.read_csv('../data/df_3_pc.csv')"
   ]
  },
  {
   "cell_type": "code",
   "execution_count": 11,
   "metadata": {},
   "outputs": [],
   "source": [
    "# Take new recipe table\n",
    "df_recipes = pd.read_csv('../data/recipe_table.csv', sep=';')"
   ]
  },
  {
   "cell_type": "code",
   "execution_count": 12,
   "metadata": {
    "tags": []
   },
   "outputs": [
    {
     "output_type": "execute_result",
     "data": {
      "text/plain": "   id food_group  calories  carbs  fat  protein  cooking_time  \\\n0   1       Beef       474     26   23       45            25   \n\n                                      title  \\\n0  Seared beef with spring vegetable medley   \n\n                                         description  \\\n0  We've paired a succulent seared steak with a m...   \n\n                            key_ingredient  price  embedding  \n0  Grass-fed heritage breed Yorkshire beef   1400   0.039164  ",
      "text/html": "<div>\n<style scoped>\n    .dataframe tbody tr th:only-of-type {\n        vertical-align: middle;\n    }\n\n    .dataframe tbody tr th {\n        vertical-align: top;\n    }\n\n    .dataframe thead th {\n        text-align: right;\n    }\n</style>\n<table border=\"1\" class=\"dataframe\">\n  <thead>\n    <tr style=\"text-align: right;\">\n      <th></th>\n      <th>id</th>\n      <th>food_group</th>\n      <th>calories</th>\n      <th>carbs</th>\n      <th>fat</th>\n      <th>protein</th>\n      <th>cooking_time</th>\n      <th>title</th>\n      <th>description</th>\n      <th>key_ingredient</th>\n      <th>price</th>\n      <th>embedding</th>\n    </tr>\n  </thead>\n  <tbody>\n    <tr>\n      <th>0</th>\n      <td>1</td>\n      <td>Beef</td>\n      <td>474</td>\n      <td>26</td>\n      <td>23</td>\n      <td>45</td>\n      <td>25</td>\n      <td>Seared beef with spring vegetable medley</td>\n      <td>We've paired a succulent seared steak with a m...</td>\n      <td>Grass-fed heritage breed Yorkshire beef</td>\n      <td>1400</td>\n      <td>0.039164</td>\n    </tr>\n  </tbody>\n</table>\n</div>"
     },
     "metadata": {},
     "execution_count": 12
    }
   ],
   "source": [
    "df_recipes['price'] = df_recipes['price_2p_pence']\n",
    "\n",
    "df_clean = df_recipes[['id', 'food_group', 'calories', 'carbs', 'fat',\n",
    "                      'protein', 'cooking_time', 'title', 'description',\n",
    "                      'key_ingredient', 'price']]\n",
    "recipe_dict = df_clean.to_dict(orient='records')\n",
    "list_of_embeddings = get_embedding(recipe_dict)\n",
    "df_clean['embedding'] = list_of_embeddings\n",
    "df_clean.head(1)"
   ]
  },
  {
   "cell_type": "code",
   "execution_count": 13,
   "metadata": {},
   "outputs": [
    {
     "output_type": "execute_result",
     "data": {
      "text/plain": "0    [0.0647217469599511, -0.003410175382256585, -0...\nName: vector, dtype: object"
     },
     "metadata": {},
     "execution_count": 13
    }
   ],
   "source": [
    "list_of_vectors = get_vector_list(recipe_dict)\n",
    "df_clean['vector'] = list_of_vectors\n",
    "df_clean['vector'].head(1)"
   ]
  },
  {
   "cell_type": "code",
   "execution_count": 14,
   "metadata": {},
   "outputs": [],
   "source": [
    "df_vectors = pd.DataFrame(df_clean[['id', 'vector']])\n",
    "df_vectors.head(1)\n",
    "df_vectors.to_csv('../data/df_vectors.csv', index=False)"
   ]
  },
  {
   "cell_type": "code",
   "execution_count": 15,
   "metadata": {},
   "outputs": [
    {
     "output_type": "execute_result",
     "data": {
      "text/plain": "numpy.ndarray"
     },
     "metadata": {},
     "execution_count": 15
    }
   ],
   "source": [
    "type(df_vectors['vector'][0])"
   ]
  },
  {
   "cell_type": "markdown",
   "metadata": {},
   "source": [
    "# Testing"
   ]
  },
  {
   "cell_type": "code",
   "execution_count": 16,
   "metadata": {},
   "outputs": [
    {
     "output_type": "execute_result",
     "data": {
      "text/plain": "[481, 381, 314, 126, 30, 158]"
     },
     "metadata": {},
     "execution_count": 16
    }
   ],
   "source": [
    "df_pc[df_pc['food_group']=='Vegan'].sort_values('PC_1').head(6)['id'].values.tolist()"
   ]
  },
  {
   "cell_type": "code",
   "execution_count": 17,
   "metadata": {},
   "outputs": [
    {
     "output_type": "execute_result",
     "data": {
      "text/plain": "0.4176128656425803"
     },
     "metadata": {},
     "execution_count": 17
    }
   ],
   "source": [
    "# Just vegan, lowest PC_1\n",
    "vegan_boring = [481, 381, 314, 126, 30, 158]\n",
    "calc_new_delta(vegan_boring, df_vectors)"
   ]
  },
  {
   "cell_type": "code",
   "execution_count": 18,
   "metadata": {},
   "outputs": [
    {
     "output_type": "execute_result",
     "data": {
      "text/plain": "[52, 7, 874, 817, 540, 499]"
     },
     "metadata": {},
     "execution_count": 18
    }
   ],
   "source": [
    "df_pc[df_pc['food_group']=='Vegan'].sort_values('PC_1', ascending=False).head(6)['id'].values.tolist()"
   ]
  },
  {
   "cell_type": "code",
   "execution_count": 19,
   "metadata": {},
   "outputs": [
    {
     "output_type": "execute_result",
     "data": {
      "text/plain": "1.1137429708778517"
     },
     "metadata": {},
     "execution_count": 19
    }
   ],
   "source": [
    "# Just vegan, 3xlowest PC_1, 3x highest PC_1\n",
    "vegan_adv = [481, 381, 314, 52, 7, 874]\n",
    "calc_new_delta(vegan_adv, df_vectors)"
   ]
  },
  {
   "cell_type": "code",
   "execution_count": 20,
   "metadata": {},
   "outputs": [
    {
     "output_type": "execute_result",
     "data": {
      "text/plain": "[678, 418, 76, 694, 64, 259]"
     },
     "metadata": {},
     "execution_count": 20
    }
   ],
   "source": [
    "df_pc[df_pc['food_group']=='Beef'].sort_values('PC_1').head(6)['id'].values.tolist()"
   ]
  },
  {
   "cell_type": "code",
   "execution_count": 21,
   "metadata": {},
   "outputs": [
    {
     "output_type": "execute_result",
     "data": {
      "text/plain": "0.9120781742444433"
     },
     "metadata": {},
     "execution_count": 21
    }
   ],
   "source": [
    "# 3x lowest PC_1 vegan, 3x lowest PC_1 beef\n",
    "vegan_beef = [481, 381, 314, 678, 418, 76]\n",
    "calc_new_delta(vegan_beef, df_vectors)"
   ]
  },
  {
   "cell_type": "code",
   "execution_count": 22,
   "metadata": {},
   "outputs": [
    {
     "output_type": "execute_result",
     "data": {
      "text/plain": "[244, 635, 270, 275, 669, 560]"
     },
     "metadata": {},
     "execution_count": 22
    }
   ],
   "source": [
    "df_pc[df_pc['food_group']=='Beef'].sort_values('PC_1', ascending=False).head(6)['id'].values.tolist()"
   ]
  },
  {
   "cell_type": "code",
   "execution_count": 23,
   "metadata": {},
   "outputs": [
    {
     "output_type": "execute_result",
     "data": {
      "text/plain": "1.3969966813581436"
     },
     "metadata": {},
     "execution_count": 23
    }
   ],
   "source": [
    "# 3x lowest PC_1 vegan, 3x highest PC_1 beef\n",
    "vegan_beef = [481, 381, 314, 244, 635, 270]\n",
    "calc_new_delta(vegan_beef, df_vectors)"
   ]
  },
  {
   "cell_type": "code",
   "execution_count": 24,
   "metadata": {},
   "outputs": [
    {
     "output_type": "execute_result",
     "data": {
      "text/plain": "290"
     },
     "metadata": {},
     "execution_count": 24
    }
   ],
   "source": [
    "df_pc[df_pc['food_group']=='Beef']['id'].sample().values[0]"
   ]
  },
  {
   "cell_type": "code",
   "execution_count": 25,
   "metadata": {},
   "outputs": [
    {
     "output_type": "execute_result",
     "data": {
      "text/plain": "[35, 47, 297, 644, 543, 273]"
     },
     "metadata": {},
     "execution_count": 25
    }
   ],
   "source": [
    "# random from all food groups\n",
    "fg_list = ['Vegan', 'Beef', 'Chicken', 'Fish', 'Pork', 'Lamb']\n",
    "random_list = []\n",
    "\n",
    "for i in fg_list:\n",
    "    random_list.append(df_pc[df_pc['food_group']==i]['id'].sample().values[0])\n",
    "\n",
    "random_list"
   ]
  },
  {
   "cell_type": "code",
   "execution_count": 26,
   "metadata": {},
   "outputs": [
    {
     "output_type": "execute_result",
     "data": {
      "text/plain": "1.2419476545956956"
     },
     "metadata": {},
     "execution_count": 26
    }
   ],
   "source": [
    "calc_new_delta(random_list, df_vectors)"
   ]
  }
 ]
}