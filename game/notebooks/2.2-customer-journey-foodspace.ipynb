{
 "metadata": {
  "language_info": {
   "codemirror_mode": {
    "name": "ipython",
    "version": 3
   },
   "file_extension": ".py",
   "mimetype": "text/x-python",
   "name": "python",
   "nbconvert_exporter": "python",
   "pygments_lexer": "ipython3",
   "version": "3.8.5-final"
  },
  "orig_nbformat": 2,
  "kernelspec": {
   "name": "python_defaultSpec_1600448086969",
   "display_name": "Python 3.8.5 64-bit ('env': venv)"
  }
 },
 "nbformat": 4,
 "nbformat_minor": 2,
 "cells": [
  {
   "cell_type": "markdown",
   "metadata": {},
   "source": [
    "# 2.2 Plot customer journeys in 3D PCA food space, inspect further dimensions"
   ]
  },
  {
   "cell_type": "code",
   "execution_count": 2,
   "metadata": {},
   "outputs": [],
   "source": [
    "from game.utils import run_query\n",
    "import numpy as np\n",
    "import pandas as pd\n",
    "import seaborn as sns\n",
    "from sklearn.metrics.pairwise import euclidean_distances\n",
    "from sklearn.preprocessing import MinMaxScaler\n",
    "from sklearn.decomposition import PCA\n",
    "from mpl_toolkits.mplot3d import Axes3D\n",
    "import matplotlib.pyplot as plt\n",
    "import plotly.express as px\n",
    "import nbformat\n",
    "import plotly.graph_objects as go\n",
    "\n",
    "from game.flaskapp_andrius.api import preprocesser\n",
    "from game.src.feature_generator import get_embedding, get_vector_list, get_euc_dist_from_origin\n",
    "from game.src.game_2_builder import get_scaled_pc_by_fg\n",
    "from game.src.ab_test_preprocessor import calc_new_delta, get_last_order_hist, get_all_orders, get_order_hist_from_observed"
   ]
  },
  {
   "cell_type": "code",
   "execution_count": 3,
   "metadata": {},
   "outputs": [
    {
     "output_type": "execute_result",
     "data": {
      "text/plain": "   id      PC_1      PC_2      PC_3      PC_4      PC_5      PC_6      PC_7  \\\n0   1  0.173857  0.670006 -0.116477  0.130757  0.124489 -0.063687 -0.231062   \n\n       PC_8      PC_9  ...     PC_19     PC_20     PC_21     PC_22     PC_23  \\\n0 -0.119998 -0.117414  ... -0.131298  0.046059 -0.014324 -0.084446 -0.006169   \n\n      PC_24                                     title  food_group  \\\n0 -0.192258  Seared beef with spring vegetable medley        Beef   \n\n                            key_ingredient  \\\n0  Grass-fed heritage breed Yorkshire beef   \n\n                                           image_url  \n0  https://mindfulchef-uat.imgix.net/recipes/1/2e...  \n\n[1 rows x 29 columns]",
      "text/html": "<div>\n<style scoped>\n    .dataframe tbody tr th:only-of-type {\n        vertical-align: middle;\n    }\n\n    .dataframe tbody tr th {\n        vertical-align: top;\n    }\n\n    .dataframe thead th {\n        text-align: right;\n    }\n</style>\n<table border=\"1\" class=\"dataframe\">\n  <thead>\n    <tr style=\"text-align: right;\">\n      <th></th>\n      <th>id</th>\n      <th>PC_1</th>\n      <th>PC_2</th>\n      <th>PC_3</th>\n      <th>PC_4</th>\n      <th>PC_5</th>\n      <th>PC_6</th>\n      <th>PC_7</th>\n      <th>PC_8</th>\n      <th>PC_9</th>\n      <th>...</th>\n      <th>PC_19</th>\n      <th>PC_20</th>\n      <th>PC_21</th>\n      <th>PC_22</th>\n      <th>PC_23</th>\n      <th>PC_24</th>\n      <th>title</th>\n      <th>food_group</th>\n      <th>key_ingredient</th>\n      <th>image_url</th>\n    </tr>\n  </thead>\n  <tbody>\n    <tr>\n      <th>0</th>\n      <td>1</td>\n      <td>0.173857</td>\n      <td>0.670006</td>\n      <td>-0.116477</td>\n      <td>0.130757</td>\n      <td>0.124489</td>\n      <td>-0.063687</td>\n      <td>-0.231062</td>\n      <td>-0.119998</td>\n      <td>-0.117414</td>\n      <td>...</td>\n      <td>-0.131298</td>\n      <td>0.046059</td>\n      <td>-0.014324</td>\n      <td>-0.084446</td>\n      <td>-0.006169</td>\n      <td>-0.192258</td>\n      <td>Seared beef with spring vegetable medley</td>\n      <td>Beef</td>\n      <td>Grass-fed heritage breed Yorkshire beef</td>\n      <td>https://mindfulchef-uat.imgix.net/recipes/1/2e...</td>\n    </tr>\n  </tbody>\n</table>\n<p>1 rows × 29 columns</p>\n</div>"
     },
     "metadata": {},
     "execution_count": 3
    }
   ],
   "source": [
    "df_full = pd.read_csv('../data/recipe_pca.csv')\n",
    "df_full.head(1)"
   ]
  },
  {
   "cell_type": "code",
   "execution_count": 4,
   "metadata": {
    "tags": []
   },
   "outputs": [
    {
     "output_type": "stream",
     "name": "stdout",
     "text": "Index(['Beef', 'Chicken', 'Vegan', 'Pork', 'Fish', 'Lamb'], dtype='object')\n"
    }
   ],
   "source": [
    "# Setting categorical variables as numbers for colour scale\n",
    "\n",
    "df_full['fg_code'] = pd.factorize(df_full['food_group'])[0]\n",
    "print(pd.factorize(df_full['food_group'])[1])"
   ]
  },
  {
   "cell_type": "code",
   "execution_count": 5,
   "metadata": {},
   "outputs": [
    {
     "output_type": "execute_result",
     "data": {
      "text/plain": "   delivery_id delivery_date  customer_id allergens calories  carbs  cuisine  \\\n1      8089256    2020-03-28       100043  {Celery}   623.40  75.50  Mexican   \n\n     fat food_group protein  ...   id cooking_time  \\\n1  22.81      Vegan   26.84  ...  570           30   \n\n                                           image_url  \\\n1  https://mindfulchef-uat.imgix.net/recipes/570/...   \n\n                                        instructions  \\\n1  Boil a kettle. Rinse the brown rice and place ...   \n\n                             key_ingredient  \\\n1  Sunflower family organic sunflower mince   \n\n                                           title  \\\n1  Sunflower 'mince' chilli, kidney beans & guac   \n\n                                         description price_1p_pence  \\\n1  It’s all the comfort of chilli con carne, minu...            900   \n\n  price_2p_pence price_4p_pence  \n1           1200           2200  \n\n[1 rows x 22 columns]",
      "text/html": "<div>\n<style scoped>\n    .dataframe tbody tr th:only-of-type {\n        vertical-align: middle;\n    }\n\n    .dataframe tbody tr th {\n        vertical-align: top;\n    }\n\n    .dataframe thead th {\n        text-align: right;\n    }\n</style>\n<table border=\"1\" class=\"dataframe\">\n  <thead>\n    <tr style=\"text-align: right;\">\n      <th></th>\n      <th>delivery_id</th>\n      <th>delivery_date</th>\n      <th>customer_id</th>\n      <th>allergens</th>\n      <th>calories</th>\n      <th>carbs</th>\n      <th>cuisine</th>\n      <th>fat</th>\n      <th>food_group</th>\n      <th>protein</th>\n      <th>...</th>\n      <th>id</th>\n      <th>cooking_time</th>\n      <th>image_url</th>\n      <th>instructions</th>\n      <th>key_ingredient</th>\n      <th>title</th>\n      <th>description</th>\n      <th>price_1p_pence</th>\n      <th>price_2p_pence</th>\n      <th>price_4p_pence</th>\n    </tr>\n  </thead>\n  <tbody>\n    <tr>\n      <th>1</th>\n      <td>8089256</td>\n      <td>2020-03-28</td>\n      <td>100043</td>\n      <td>{Celery}</td>\n      <td>623.40</td>\n      <td>75.50</td>\n      <td>Mexican</td>\n      <td>22.81</td>\n      <td>Vegan</td>\n      <td>26.84</td>\n      <td>...</td>\n      <td>570</td>\n      <td>30</td>\n      <td>https://mindfulchef-uat.imgix.net/recipes/570/...</td>\n      <td>Boil a kettle. Rinse the brown rice and place ...</td>\n      <td>Sunflower family organic sunflower mince</td>\n      <td>Sunflower 'mince' chilli, kidney beans &amp; guac</td>\n      <td>It’s all the comfort of chilli con carne, minu...</td>\n      <td>900</td>\n      <td>1200</td>\n      <td>2200</td>\n    </tr>\n  </tbody>\n</table>\n<p>1 rows × 22 columns</p>\n</div>"
     },
     "metadata": {},
     "execution_count": 5
    }
   ],
   "source": [
    "order_history = pd.read_csv('../data/order_history_g2.csv', sep=',')\n",
    "\n",
    "# Preprocessing order history table\n",
    "order_history = order_history.reset_index()\n",
    "order_history.columns = order_history.iloc[0].tolist()\n",
    "order_history = order_history.drop(0)\n",
    "order_history = order_history.dropna(subset=['id'])\n",
    "order_history['id'] = order_history['id'].astype(int)\n",
    "order_history['delivery_id'] = order_history['delivery_id'].astype(int)\n",
    "order_history['customer_id'] = order_history['customer_id'].astype(int)\n",
    "order_history.head(1)"
   ]
  },
  {
   "source": [
    "# 1 customer journey"
   ],
   "cell_type": "markdown",
   "metadata": {}
  },
  {
   "cell_type": "code",
   "execution_count": 6,
   "metadata": {},
   "outputs": [],
   "source": [
    "g_customers = order_history['customer_id'].unique()\n",
    "g_historical = pd.DataFrame(g_customers, columns=['customer_id'])\n",
    "g_historical['orders'] = g_historical['customer_id'].apply(lambda x: get_all_orders(order_history, x))"
   ]
  },
  {
   "cell_type": "code",
   "execution_count": 7,
   "metadata": {},
   "outputs": [],
   "source": [
    "vegan_cust = g_historical.iloc[15][1]"
   ]
  },
  {
   "cell_type": "code",
   "execution_count": 8,
   "metadata": {},
   "outputs": [],
   "source": [
    "test_list = g_historical.iloc[15][1]"
   ]
  },
  {
   "cell_type": "code",
   "execution_count": 9,
   "metadata": {},
   "outputs": [],
   "source": [
    "df_sample = df_full[df_full['id'].isin(test_list)]"
   ]
  },
  {
   "cell_type": "code",
   "execution_count": 10,
   "metadata": {},
   "outputs": [
    {
     "output_type": "display_data",
     "data": {
      "application/vnd.plotly.v1+json": {
       "config": {
        "plotlyServerURL": "https://plot.ly"
       },
       "data": [
        {
         "hovertemplate": "food_group=Vegan<br>PC_2=%{x}<br>PC_3=%{y}<br>PC_4=%{z}<br>title=%{text}<extra></extra>",
         "legendgroup": "Vegan",
         "marker": {
          "color": "#636efa",
          "size": 3,
          "symbol": "circle"
         },
         "mode": "markers+text",
         "name": "Vegan",
         "scene": "scene",
         "showlegend": true,
         "text": [
          "Black bean burger with sweet potato fries",
          "Sweet potato & ginger rostis",
          "Tamarind chickpea curry & chickpea pancakes",
          "Roasted broccoli & chickpea masala",
          "Tofu Pad Thai with courgette noodles",
          "Rich lentil bolognese with courgetti",
          "Sundried tomato, mushrooms & lentils",
          "Barbecue beans & sweet potato wedges",
          "Thai chickpea burgers with pak choi",
          "Scandi-style lentils, beets & coconut yoghurt",
          "Mushroom and spinach risotto with basil pesto",
          "Sticky tamarind & ginger tofu with mangetout",
          "Pulled barbecue jackfruit & avocado salsa",
          "Herby falafel shakshuka & turmeric drizzle",
          "Jackfruit wrap, spiced black beans & salsa",
          "Chermoula lentils, aubergine & black garlic",
          "Jackfruit burger, crushed avocado & beet slaw",
          "Harissa cauliflower, herby lentils & tahini",
          "Lentil moussaka & creamy coconut bechamel",
          "Sesame maple tempeh with fresh mint & noodles",
          "Jackfruit puttanesca with garlic bean mash",
          "Mexican-style beans with scrambled tofu & avocado",
          "Pestorissa tofu & roasted veg quinoa",
          "Teriyaki tofu with tenderstem & carrot noodles",
          "Butter bean bake with peppers & tapenade",
          "Smoked tofu, Spanish rice & roasted peppers ",
          "Teriyaki tempeh with kimchi fried rice",
          "Red lentil dahl with turmeric cauliflower florets ",
          "Tikka smoked tofu skewers with apple slaw ",
          "Middle Eastern tempeh 'mince' stuffed aubergine"
         ],
         "type": "scatter3d",
         "x": [
          0.03472596912705906,
          -0.034317555207270124,
          -0.016265946071258273,
          0.011590922262986265,
          -0.171097977846894,
          0.08970431914057476,
          0.025230192171768945,
          0.04805672313729967,
          -0.07152052489296205,
          -0.032201172278867186,
          0.015226826258021037,
          -0.12631335590132986,
          0.04112320467970736,
          0.042337377357166736,
          -0.008861544024927842,
          -0.02035461525315242,
          0.09140106470174283,
          0.047668771326888563,
          0.10599561548568733,
          0.0024363632232101127,
          0.12305532044840352,
          0.031660264638973666,
          -0.1709683829844773,
          -0.25631996575475124,
          0.04540564327976628,
          -0.20776480192018654,
          -0.07378008255388828,
          -0.0621374564938496,
          -0.17585827192765435,
          0.10335309386723493
         ],
         "y": [
          0.12416531190069395,
          0.1733294754318816,
          0.6478665391968556,
          0.4582873752193573,
          0.8348103283601187,
          0.023653183033895155,
          -0.060287770177293074,
          0.10566038880127727,
          0.6670007956953389,
          0.051343170525269995,
          -0.04641818884636082,
          0.7017673224105414,
          0.23771673179690975,
          0.3654115262175937,
          0.1732035148452206,
          0.09802405858162076,
          0.14703845120077638,
          -0.013063665563546026,
          0.06936366387483729,
          0.15619444557935802,
          0.12144708759533213,
          0.2846197865128933,
          0.5996729387847621,
          0.8405382804563063,
          -0.03871238082093986,
          0.3948757877908025,
          0.2850156709040759,
          0.17202665185831556,
          0.3877371235248076,
          0.1473990292248024
         ],
         "z": [
          -0.04842163195093074,
          0.04636741486469849,
          -0.8525284585445028,
          -0.7907253807106697,
          0.7244613637706084,
          -0.20314188119866505,
          -0.20649528551915675,
          -0.04352680998110519,
          -0.39154455968779217,
          -0.14046767832602844,
          -0.2479209479440918,
          0.5180692334253019,
          -0.03853249095879796,
          -0.7849660969321817,
          -0.17266814467261996,
          -0.23691742098989965,
          -0.0834805683827264,
          -0.3548037989240981,
          -0.19520935340803225,
          0.14583580183251071,
          -0.17014913827633615,
          0.11268643010643226,
          0.3807528276404059,
          0.7842688655608352,
          -0.23771576982899614,
          0.4039732468453526,
          0.2027674127879778,
          -0.20240141406115875,
          0.3372432798459198,
          -0.14748550300316526
         ]
        }
       ],
       "layout": {
        "legend": {
         "itemsizing": "constant",
         "title": {
          "text": "food_group"
         },
         "tracegroupgap": 0,
         "x": 0.95,
         "xanchor": "right",
         "y": 0.3,
         "yanchor": "bottom"
        },
        "margin": {
         "t": 60
        },
        "scene": {
         "domain": {
          "x": [
           0,
           1
          ],
          "y": [
           0,
           1
          ]
         },
         "xaxis": {
          "title": {
           "text": "2"
          }
         },
         "yaxis": {
          "title": {
           "text": "2"
          }
         },
         "zaxis": {
          "title": {
           "text": "3"
          }
         }
        },
        "template": {
         "data": {
          "bar": [
           {
            "error_x": {
             "color": "#2a3f5f"
            },
            "error_y": {
             "color": "#2a3f5f"
            },
            "marker": {
             "line": {
              "color": "#E5ECF6",
              "width": 0.5
             }
            },
            "type": "bar"
           }
          ],
          "barpolar": [
           {
            "marker": {
             "line": {
              "color": "#E5ECF6",
              "width": 0.5
             }
            },
            "type": "barpolar"
           }
          ],
          "carpet": [
           {
            "aaxis": {
             "endlinecolor": "#2a3f5f",
             "gridcolor": "white",
             "linecolor": "white",
             "minorgridcolor": "white",
             "startlinecolor": "#2a3f5f"
            },
            "baxis": {
             "endlinecolor": "#2a3f5f",
             "gridcolor": "white",
             "linecolor": "white",
             "minorgridcolor": "white",
             "startlinecolor": "#2a3f5f"
            },
            "type": "carpet"
           }
          ],
          "choropleth": [
           {
            "colorbar": {
             "outlinewidth": 0,
             "ticks": ""
            },
            "type": "choropleth"
           }
          ],
          "contour": [
           {
            "colorbar": {
             "outlinewidth": 0,
             "ticks": ""
            },
            "colorscale": [
             [
              0,
              "#0d0887"
             ],
             [
              0.1111111111111111,
              "#46039f"
             ],
             [
              0.2222222222222222,
              "#7201a8"
             ],
             [
              0.3333333333333333,
              "#9c179e"
             ],
             [
              0.4444444444444444,
              "#bd3786"
             ],
             [
              0.5555555555555556,
              "#d8576b"
             ],
             [
              0.6666666666666666,
              "#ed7953"
             ],
             [
              0.7777777777777778,
              "#fb9f3a"
             ],
             [
              0.8888888888888888,
              "#fdca26"
             ],
             [
              1,
              "#f0f921"
             ]
            ],
            "type": "contour"
           }
          ],
          "contourcarpet": [
           {
            "colorbar": {
             "outlinewidth": 0,
             "ticks": ""
            },
            "type": "contourcarpet"
           }
          ],
          "heatmap": [
           {
            "colorbar": {
             "outlinewidth": 0,
             "ticks": ""
            },
            "colorscale": [
             [
              0,
              "#0d0887"
             ],
             [
              0.1111111111111111,
              "#46039f"
             ],
             [
              0.2222222222222222,
              "#7201a8"
             ],
             [
              0.3333333333333333,
              "#9c179e"
             ],
             [
              0.4444444444444444,
              "#bd3786"
             ],
             [
              0.5555555555555556,
              "#d8576b"
             ],
             [
              0.6666666666666666,
              "#ed7953"
             ],
             [
              0.7777777777777778,
              "#fb9f3a"
             ],
             [
              0.8888888888888888,
              "#fdca26"
             ],
             [
              1,
              "#f0f921"
             ]
            ],
            "type": "heatmap"
           }
          ],
          "heatmapgl": [
           {
            "colorbar": {
             "outlinewidth": 0,
             "ticks": ""
            },
            "colorscale": [
             [
              0,
              "#0d0887"
             ],
             [
              0.1111111111111111,
              "#46039f"
             ],
             [
              0.2222222222222222,
              "#7201a8"
             ],
             [
              0.3333333333333333,
              "#9c179e"
             ],
             [
              0.4444444444444444,
              "#bd3786"
             ],
             [
              0.5555555555555556,
              "#d8576b"
             ],
             [
              0.6666666666666666,
              "#ed7953"
             ],
             [
              0.7777777777777778,
              "#fb9f3a"
             ],
             [
              0.8888888888888888,
              "#fdca26"
             ],
             [
              1,
              "#f0f921"
             ]
            ],
            "type": "heatmapgl"
           }
          ],
          "histogram": [
           {
            "marker": {
             "colorbar": {
              "outlinewidth": 0,
              "ticks": ""
             }
            },
            "type": "histogram"
           }
          ],
          "histogram2d": [
           {
            "colorbar": {
             "outlinewidth": 0,
             "ticks": ""
            },
            "colorscale": [
             [
              0,
              "#0d0887"
             ],
             [
              0.1111111111111111,
              "#46039f"
             ],
             [
              0.2222222222222222,
              "#7201a8"
             ],
             [
              0.3333333333333333,
              "#9c179e"
             ],
             [
              0.4444444444444444,
              "#bd3786"
             ],
             [
              0.5555555555555556,
              "#d8576b"
             ],
             [
              0.6666666666666666,
              "#ed7953"
             ],
             [
              0.7777777777777778,
              "#fb9f3a"
             ],
             [
              0.8888888888888888,
              "#fdca26"
             ],
             [
              1,
              "#f0f921"
             ]
            ],
            "type": "histogram2d"
           }
          ],
          "histogram2dcontour": [
           {
            "colorbar": {
             "outlinewidth": 0,
             "ticks": ""
            },
            "colorscale": [
             [
              0,
              "#0d0887"
             ],
             [
              0.1111111111111111,
              "#46039f"
             ],
             [
              0.2222222222222222,
              "#7201a8"
             ],
             [
              0.3333333333333333,
              "#9c179e"
             ],
             [
              0.4444444444444444,
              "#bd3786"
             ],
             [
              0.5555555555555556,
              "#d8576b"
             ],
             [
              0.6666666666666666,
              "#ed7953"
             ],
             [
              0.7777777777777778,
              "#fb9f3a"
             ],
             [
              0.8888888888888888,
              "#fdca26"
             ],
             [
              1,
              "#f0f921"
             ]
            ],
            "type": "histogram2dcontour"
           }
          ],
          "mesh3d": [
           {
            "colorbar": {
             "outlinewidth": 0,
             "ticks": ""
            },
            "type": "mesh3d"
           }
          ],
          "parcoords": [
           {
            "line": {
             "colorbar": {
              "outlinewidth": 0,
              "ticks": ""
             }
            },
            "type": "parcoords"
           }
          ],
          "pie": [
           {
            "automargin": true,
            "type": "pie"
           }
          ],
          "scatter": [
           {
            "marker": {
             "colorbar": {
              "outlinewidth": 0,
              "ticks": ""
             }
            },
            "type": "scatter"
           }
          ],
          "scatter3d": [
           {
            "line": {
             "colorbar": {
              "outlinewidth": 0,
              "ticks": ""
             }
            },
            "marker": {
             "colorbar": {
              "outlinewidth": 0,
              "ticks": ""
             }
            },
            "type": "scatter3d"
           }
          ],
          "scattercarpet": [
           {
            "marker": {
             "colorbar": {
              "outlinewidth": 0,
              "ticks": ""
             }
            },
            "type": "scattercarpet"
           }
          ],
          "scattergeo": [
           {
            "marker": {
             "colorbar": {
              "outlinewidth": 0,
              "ticks": ""
             }
            },
            "type": "scattergeo"
           }
          ],
          "scattergl": [
           {
            "marker": {
             "colorbar": {
              "outlinewidth": 0,
              "ticks": ""
             }
            },
            "type": "scattergl"
           }
          ],
          "scattermapbox": [
           {
            "marker": {
             "colorbar": {
              "outlinewidth": 0,
              "ticks": ""
             }
            },
            "type": "scattermapbox"
           }
          ],
          "scatterpolar": [
           {
            "marker": {
             "colorbar": {
              "outlinewidth": 0,
              "ticks": ""
             }
            },
            "type": "scatterpolar"
           }
          ],
          "scatterpolargl": [
           {
            "marker": {
             "colorbar": {
              "outlinewidth": 0,
              "ticks": ""
             }
            },
            "type": "scatterpolargl"
           }
          ],
          "scatterternary": [
           {
            "marker": {
             "colorbar": {
              "outlinewidth": 0,
              "ticks": ""
             }
            },
            "type": "scatterternary"
           }
          ],
          "surface": [
           {
            "colorbar": {
             "outlinewidth": 0,
             "ticks": ""
            },
            "colorscale": [
             [
              0,
              "#0d0887"
             ],
             [
              0.1111111111111111,
              "#46039f"
             ],
             [
              0.2222222222222222,
              "#7201a8"
             ],
             [
              0.3333333333333333,
              "#9c179e"
             ],
             [
              0.4444444444444444,
              "#bd3786"
             ],
             [
              0.5555555555555556,
              "#d8576b"
             ],
             [
              0.6666666666666666,
              "#ed7953"
             ],
             [
              0.7777777777777778,
              "#fb9f3a"
             ],
             [
              0.8888888888888888,
              "#fdca26"
             ],
             [
              1,
              "#f0f921"
             ]
            ],
            "type": "surface"
           }
          ],
          "table": [
           {
            "cells": {
             "fill": {
              "color": "#EBF0F8"
             },
             "line": {
              "color": "white"
             }
            },
            "header": {
             "fill": {
              "color": "#C8D4E3"
             },
             "line": {
              "color": "white"
             }
            },
            "type": "table"
           }
          ]
         },
         "layout": {
          "annotationdefaults": {
           "arrowcolor": "#2a3f5f",
           "arrowhead": 0,
           "arrowwidth": 1
          },
          "coloraxis": {
           "colorbar": {
            "outlinewidth": 0,
            "ticks": ""
           }
          },
          "colorscale": {
           "diverging": [
            [
             0,
             "#8e0152"
            ],
            [
             0.1,
             "#c51b7d"
            ],
            [
             0.2,
             "#de77ae"
            ],
            [
             0.3,
             "#f1b6da"
            ],
            [
             0.4,
             "#fde0ef"
            ],
            [
             0.5,
             "#f7f7f7"
            ],
            [
             0.6,
             "#e6f5d0"
            ],
            [
             0.7,
             "#b8e186"
            ],
            [
             0.8,
             "#7fbc41"
            ],
            [
             0.9,
             "#4d9221"
            ],
            [
             1,
             "#276419"
            ]
           ],
           "sequential": [
            [
             0,
             "#0d0887"
            ],
            [
             0.1111111111111111,
             "#46039f"
            ],
            [
             0.2222222222222222,
             "#7201a8"
            ],
            [
             0.3333333333333333,
             "#9c179e"
            ],
            [
             0.4444444444444444,
             "#bd3786"
            ],
            [
             0.5555555555555556,
             "#d8576b"
            ],
            [
             0.6666666666666666,
             "#ed7953"
            ],
            [
             0.7777777777777778,
             "#fb9f3a"
            ],
            [
             0.8888888888888888,
             "#fdca26"
            ],
            [
             1,
             "#f0f921"
            ]
           ],
           "sequentialminus": [
            [
             0,
             "#0d0887"
            ],
            [
             0.1111111111111111,
             "#46039f"
            ],
            [
             0.2222222222222222,
             "#7201a8"
            ],
            [
             0.3333333333333333,
             "#9c179e"
            ],
            [
             0.4444444444444444,
             "#bd3786"
            ],
            [
             0.5555555555555556,
             "#d8576b"
            ],
            [
             0.6666666666666666,
             "#ed7953"
            ],
            [
             0.7777777777777778,
             "#fb9f3a"
            ],
            [
             0.8888888888888888,
             "#fdca26"
            ],
            [
             1,
             "#f0f921"
            ]
           ]
          },
          "colorway": [
           "#636efa",
           "#EF553B",
           "#00cc96",
           "#ab63fa",
           "#FFA15A",
           "#19d3f3",
           "#FF6692",
           "#B6E880",
           "#FF97FF",
           "#FECB52"
          ],
          "font": {
           "color": "#2a3f5f"
          },
          "geo": {
           "bgcolor": "white",
           "lakecolor": "white",
           "landcolor": "#E5ECF6",
           "showlakes": true,
           "showland": true,
           "subunitcolor": "white"
          },
          "hoverlabel": {
           "align": "left"
          },
          "hovermode": "closest",
          "mapbox": {
           "style": "light"
          },
          "paper_bgcolor": "white",
          "plot_bgcolor": "#E5ECF6",
          "polar": {
           "angularaxis": {
            "gridcolor": "white",
            "linecolor": "white",
            "ticks": ""
           },
           "bgcolor": "#E5ECF6",
           "radialaxis": {
            "gridcolor": "white",
            "linecolor": "white",
            "ticks": ""
           }
          },
          "scene": {
           "xaxis": {
            "backgroundcolor": "#E5ECF6",
            "gridcolor": "white",
            "gridwidth": 2,
            "linecolor": "white",
            "showbackground": true,
            "ticks": "",
            "zerolinecolor": "white"
           },
           "yaxis": {
            "backgroundcolor": "#E5ECF6",
            "gridcolor": "white",
            "gridwidth": 2,
            "linecolor": "white",
            "showbackground": true,
            "ticks": "",
            "zerolinecolor": "white"
           },
           "zaxis": {
            "backgroundcolor": "#E5ECF6",
            "gridcolor": "white",
            "gridwidth": 2,
            "linecolor": "white",
            "showbackground": true,
            "ticks": "",
            "zerolinecolor": "white"
           }
          },
          "shapedefaults": {
           "line": {
            "color": "#2a3f5f"
           }
          },
          "ternary": {
           "aaxis": {
            "gridcolor": "white",
            "linecolor": "white",
            "ticks": ""
           },
           "baxis": {
            "gridcolor": "white",
            "linecolor": "white",
            "ticks": ""
           },
           "bgcolor": "#E5ECF6",
           "caxis": {
            "gridcolor": "white",
            "linecolor": "white",
            "ticks": ""
           }
          },
          "title": {
           "x": 0.05
          },
          "xaxis": {
           "automargin": true,
           "gridcolor": "white",
           "linecolor": "white",
           "ticks": "",
           "title": {
            "standoff": 15
           },
           "zerolinecolor": "white",
           "zerolinewidth": 2
          },
          "yaxis": {
           "automargin": true,
           "gridcolor": "white",
           "linecolor": "white",
           "ticks": "",
           "title": {
            "standoff": 15
           },
           "zerolinecolor": "white",
           "zerolinewidth": 2
          }
         }
        }
       }
      }
     },
     "metadata": {}
    }
   ],
   "source": [
    "fig = px.scatter_3d(df_sample, x='PC_2', y='PC_3', z='PC_4', color='food_group', text='title')\n",
    "fig.update_traces(marker=dict(size=3))\n",
    "fig.update_layout(scene = dict(xaxis_title='2',yaxis_title='2',zaxis_title='3'))\n",
    "\n",
    "fig.update_layout(legend=dict(\n",
    "    yanchor=\"bottom\",\n",
    "    y=0.3,\n",
    "    xanchor=\"right\",\n",
    "    x=0.95\n",
    "))\n",
    "fig.update_layout(legend= {'itemsizing': 'constant'})\n",
    "\n",
    "fig.show()"
   ]
  },
  {
   "source": [
    "# Different dimensions of whole recipe table"
   ],
   "cell_type": "markdown",
   "metadata": {}
  },
  {
   "source": [
    "**Hypothesis**: Principal components 1/2 differentiate between food groups/key ingredients. Maybe the later PC (3,4,5) describe secondary descriptors beyond food group?\n",
    "\n",
    "- Hard to say. Clustering by food group still present in higher dimensions"
   ],
   "cell_type": "markdown",
   "metadata": {}
  },
  {
   "cell_type": "code",
   "execution_count": 11,
   "metadata": {},
   "outputs": [
    {
     "output_type": "display_data",
     "data": {
      "application/vnd.plotly.v1+json": {
       "config": {
        "plotlyServerURL": "https://plot.ly"
       },
       "data": [
        {
         "hovertemplate": "food_group=Vegan<br>PC_3=%{x}<br>PC_4=%{y}<br>PC_5=%{z}<extra></extra>",
         "legendgroup": "Vegan",
         "marker": {
          "color": "#636efa",
          "size": 3,
          "symbol": "circle"
         },
         "mode": "markers",
         "name": "Vegan",
         "scene": "scene",
         "showlegend": true,
         "type": "scatter3d",
         "x": [
          0.5610607297961128,
          0.11663796766211905,
          0.22996294902502215,
          1.0664455830891917,
          0.12416531190069395,
          -0.013980181673614115,
          -0.11120151440788167,
          -0.05451981785867623,
          0.1733294754318816,
          -0.07471972279842577,
          0.2529018609388465,
          0.16664187554436366,
          0.14801051130455076,
          0.06790279926004955,
          1.1965085531258501,
          0.026466092471717224,
          0.6478665391968556,
          0.41475766624423743,
          -0.09504058397779078,
          0.11724276909970376,
          -0.07144674444251121,
          0.4582873752193573,
          0.17436105502830498,
          -0.022917150778108485,
          -0.020200665324331776,
          0.8686896062778126,
          0.2873477148391153,
          0.8348103283601187,
          -0.029016964978507517,
          0.3733633519145307,
          0.0313438984427209,
          -0.055795604699199364,
          0.2745469742194406,
          0.023653183033895155,
          0.012203795695369769,
          0.3466919090674749,
          -0.0979265904457741,
          0.7506055672108556,
          0.0651522490903392,
          0.3059967044205569,
          -0.035636327985718086,
          0.15369279431412136,
          0.4724226153591791,
          0.8901394405868562,
          0.7747321765467252,
          -0.060287770177293074,
          0.3056070978394178,
          0.07570207433567924,
          -0.0853707103673969,
          0.05360417250590768,
          0.4902577270875056,
          0.17578890683410398,
          0.05534235255272518,
          0.04005012352742302,
          0.9373436487234826,
          -0.07889703400511414,
          0.09625900063029293,
          0.07497596481672265,
          0.7150836602975116,
          -0.09155278710200633,
          0.3534589918959848,
          -0.022717672746475213,
          0.1418336355727647,
          -0.04068346071732661,
          0.10566038880127727,
          -0.006539040449816478,
          0.3629439071293011,
          -0.11138334782869387,
          0.33877454855493483,
          0.08392662435168256,
          -0.11448462307175045,
          0.022655391086550743,
          -0.06314087199202788,
          0.12030455478273028,
          0.25255929717241105,
          0.11538382870238155,
          -0.03658917408946167,
          -0.051033759069947546,
          -0.03663059018265187,
          1.1498805758915838,
          -0.06976317440193078,
          0.5440828280810623,
          0.33896285332094805,
          0.7632210803619456,
          0.032215438403820566,
          -0.06734507528910287,
          0.6580526558912649,
          0.017344673955869198,
          -0.051649568809425145,
          0.4567032318506157,
          0.8499322594188302,
          -0.022127182864690103,
          0.12828881170221587,
          -0.012789993845444506,
          0.4082119709692716,
          0.3360542145392232,
          0.6670007956953389,
          0.013719758622765012,
          0.4492326028326159,
          -0.038085173530696736,
          0.08345283402484574,
          0.07876449585887974,
          0.1041807714234039,
          0.8688999047680701,
          0.034723768152885214,
          0.21080902174577068,
          0.4112457710778709,
          0.4923378514844806,
          -0.011364921003637262,
          0.08045262269072448,
          -0.006595395470152667,
          0.27587731139707056,
          0.3711470034288609,
          0.051343170525269995,
          0.6020637991376152,
          0.16996188886610633,
          0.12220260209519646,
          0.09168213538763977,
          0.09793512571385496,
          0.018301597683885836,
          0.06448317172749138,
          0.3572531174080827,
          0.7547508345046177,
          0.3997060092601633,
          -0.052438453378346864,
          0.6792477845462105,
          -0.10991335374304488,
          0.8873497549838408,
          0.3386998415533695,
          1.0351235463594979,
          0.8645786091433281,
          -0.04641818884636082,
          0.3803645427831352,
          0.009442882386131836,
          0.7017673224105414,
          0.005029185211112903,
          0.8274318114631506,
          -0.10263197810757196,
          0.1427059467372369,
          0.16169582613901878,
          0.06772298898562974,
          0.02204345673987244,
          0.23771673179690975,
          -0.06350151819425523,
          0.7532514340032607,
          0.375730789567572,
          0.3951691173691164,
          0.619174761919582,
          0.05887324880571462,
          0.4914314860979288,
          0.3654115262175937,
          0.7914802329197368,
          0.8123362695869727,
          -0.10318139162168877,
          0.8187273267678344,
          0.1732035148452206,
          0.4137543301471479,
          -0.027570685909350662,
          0.7938218373597551,
          0.09802405858162076,
          0.06741764193938232,
          -0.02381153030484034,
          0.14703845120077638,
          0.822332486394812,
          -0.013063665563546026,
          0.12669339930408846,
          0.06936366387483729,
          0.017082005916620062,
          0.3064689932684202,
          0.27189535240015883,
          0.2285880133361692,
          0.013366902534986685,
          0.06268399977757604,
          0.8061255844167338,
          1.0466879899095372,
          0.07715712911233202,
          0.029170886141463362,
          0.8389064789876667,
          0.7475365635330639,
          0.44535904317298747,
          0.954478466049586,
          -0.06529586077339128,
          0.7634190197422006,
          0.8513839822287591,
          0.1185614980145824,
          0.15619444557935802,
          -0.009109547440130056,
          0.12144708759533213,
          0.5420122923822537,
          0.4022375537347457,
          0.8159444414354068,
          0.17105349884217522,
          0.15074328129856548,
          0.17639223827638315,
          0.2846197865128933,
          0.5996729387847621,
          0.8405382804563063,
          0.10034862413992317,
          0.3036310811333421,
          -0.03871238082093986,
          0.03543098396955118,
          0.7637988449656745,
          0.23067160258349134,
          0.007169407385342014,
          0.3948757877908025,
          0.8061084730957682,
          0.12790827709926508,
          0.6018900288290456,
          0.31345673637881144,
          0.16786368818103328,
          -0.0165109938679801,
          0.0032183414239593273,
          1.0749363419471598,
          0.16140791413432642,
          0.5008343301936456,
          -0.04472006759146062,
          0.5942322906516148,
          0.07089800378744537,
          -0.06405159953757981,
          1.2866379231963825,
          0.16660939081228632,
          -0.030151861870544687,
          0.30472524329156536,
          0.2850156709040759,
          0.3066828703915341,
          0.26632357330112305,
          -0.1852575926745793,
          0.3663877729738721,
          0.5767090549617131,
          0.3473571559007205,
          0.7877589178657081,
          0.11064685727753168,
          0.26541367408680105,
          -0.04623934764668567,
          0.02849294707522373,
          0.5465794114215999,
          0.27436242827710394,
          0.17202665185831556,
          0.1753374281705712,
          0.33585251780004904,
          0.3091311765119049,
          0.07628074494591276,
          -0.0952236586783822,
          -0.021757957650448728,
          0.018894692187041626,
          0.3877371235248076,
          0.14835211972498047,
          1.0221730177020265,
          0.5710438694563433,
          0.5351432231728857,
          0.07692328064942461,
          0.031146055059633918,
          0.7660084480464621,
          0.723166558260789,
          0.057615959051391524,
          0.053330151609586936,
          -0.0036477705082321975,
          0.5974560281019782,
          -0.015817967264659897,
          0.1473990292248024,
          0.7612572993602018,
          0.06492332114713864
         ],
         "y": [
          0.3252245567159421,
          0.03265286736203798,
          -0.04456693146275093,
          1.02226825713929,
          -0.04842163195093074,
          -0.2196714989989068,
          -0.23935500415109004,
          -0.2260505779746102,
          0.04636741486469849,
          -0.22401316562891171,
          -0.7588356607692106,
          -0.06985509289576446,
          -0.08761463962861911,
          -0.12438031622558625,
          0.7700173323109588,
          -0.3069796390412877,
          -0.8525284585445028,
          -0.9628637065573578,
          -0.3200006980326305,
          -0.12641061771832585,
          -0.2886294002696182,
          -0.7907253807106697,
          -0.08320997350495044,
          -0.32452484151193606,
          -0.2441785308054069,
          0.9550348870884652,
          -0.7248971984848093,
          0.7244613637706084,
          -0.26775544631172005,
          -0.9326704909979241,
          -0.1633309938641297,
          -0.2659561847794487,
          -0.8596368808729611,
          -0.20314188119866505,
          -0.23472158369196025,
          -0.8063517479541712,
          -0.2312633545465501,
          -0.4720361082171983,
          -0.2684777265951535,
          -0.9994532002841136,
          -0.2704173695773373,
          0.05460621040912407,
          -0.8918748293779919,
          0.8529292188132305,
          0.5718361472443936,
          -0.20649528551915675,
          -0.7218436782663548,
          -0.06065590016945136,
          -0.20732033187326915,
          -0.023975524495610863,
          -0.7492417918804369,
          -0.109025410748997,
          -0.2549578745922624,
          -0.12405598462271432,
          0.9963320570531448,
          -0.3146058703220969,
          -0.17672937415959167,
          -0.09142425349011102,
          0.4913147721294802,
          -0.2821465191449475,
          -0.9802954256029917,
          -0.2017089766536281,
          0.04149617209934707,
          -0.20370325393911606,
          -0.04352680998110519,
          -0.2747349067331799,
          0.10960573909414628,
          -0.2926783003606657,
          -0.6581997763592489,
          -0.04950496649884584,
          -0.3060635430936504,
          -0.2985090421480883,
          -0.3305008247650267,
          -0.08251978058137481,
          0.019095395900688632,
          -0.01348087989912275,
          -0.286458843359204,
          -0.2846868002597965,
          -0.29164743584868874,
          0.8701897742772849,
          -0.21731021958820254,
          -0.7387961163078036,
          -0.8087097902041592,
          0.6416634971311347,
          -0.13828862839672848,
          -0.3668136254937886,
          0.5070489860568719,
          -0.2669434397759768,
          -0.4195330334608667,
          -0.7242436359272498,
          0.7812266818658452,
          -0.29495913020165604,
          0.08709940735068361,
          -0.15620623159636393,
          -0.7632440455761323,
          -0.8028117152624089,
          -0.39154455968779217,
          -0.2569120275650855,
          0.053266768226548265,
          -0.19758600695991385,
          -0.1990478486639292,
          -0.12795664126715675,
          -0.09263903500966143,
          -0.5886684774077744,
          -0.3774556124879254,
          0.16860757017358646,
          -0.8657477772082884,
          -0.6905150232639128,
          -0.16058003541717766,
          -0.05603267155654594,
          -0.2342894206895133,
          -0.7196023622877574,
          -0.9674633171943988,
          -0.14046767832602844,
          -0.7988151751979571,
          0.13878738144999286,
          0.0036098738449538343,
          0.03892090249437374,
          -0.11525973865567568,
          -0.25655436978104457,
          -0.28757781004644983,
          -0.8365795958310029,
          -0.501545018112877,
          0.2749775532359033,
          -0.2518741223673246,
          -0.7155981999000303,
          -0.219876884161256,
          0.8710386441924037,
          -0.9371486550631528,
          0.6342134674831255,
          0.4615534704900915,
          -0.2479209479440918,
          0.0013689726137596158,
          -0.17939355915698355,
          0.5180692334253019,
          -0.27085068764736864,
          -0.4893107053713388,
          -0.2349830090985733,
          -0.0961285501227461,
          0.07984347409993077,
          -0.189419999089651,
          -0.1486577124128123,
          -0.03853249095879796,
          -0.2433398983698465,
          0.6409095420650371,
          -0.9162120020256296,
          -0.7543774865972537,
          0.5615456436470111,
          -0.09430266177643636,
          -0.8128705304030834,
          -0.7849660969321817,
          0.7889139419209016,
          0.7003891107127916,
          -0.2420812880903511,
          0.6147365857125789,
          -0.17266814467261996,
          -0.9268465567051803,
          -0.2790510965831509,
          0.6081058833826641,
          -0.23691742098989965,
          -0.19824960573211445,
          -0.12769574398080194,
          -0.0834805683827264,
          0.8142800122411052,
          -0.3548037989240981,
          -0.08482236575946167,
          -0.19520935340803225,
          -0.26012724310370056,
          0.34304838230530704,
          -0.7293859238664682,
          -0.16063574670773756,
          -0.19112207987439084,
          -0.1399519021781647,
          0.7728651829731328,
          0.7473643152949978,
          -0.30316805832705235,
          -0.12474173357956425,
          0.6092605752379124,
          0.3148826012827849,
          -0.6948857970131901,
          0.7674642661961719,
          -0.21599020949080694,
          0.6055285139392308,
          0.455051668215852,
          -0.028607052977556963,
          0.14583580183251071,
          -0.2677316887934557,
          -0.17014913827633615,
          -0.49645411680127,
          -0.8761350709952195,
          0.7767833542233524,
          -0.09052081724886886,
          -0.03265991991065643,
          -0.029511177385016144,
          0.11268643010643226,
          0.3807528276404059,
          0.7842688655608352,
          0.06602391769639933,
          0.21642226281496935,
          -0.23771576982899614,
          -0.19739788935766064,
          0.6863735079501662,
          -0.049538860295679936,
          -0.20087495591368967,
          0.4039732468453526,
          -0.5893105077476583,
          -0.07706304237884819,
          0.5158083385280509,
          -0.8887694792361878,
          -0.05194529400134642,
          -0.2697558539901917,
          -0.2774018475790451,
          0.7844256296880666,
          0.08860190776428525,
          -0.8074270574602466,
          -0.33313252591337633,
          0.4033360831026333,
          -0.01784770173855901,
          -0.2253118510319917,
          0.8746491762118174,
          -0.09707949307246018,
          -0.04618672911908537,
          -0.06672636954794431,
          0.2027674127879778,
          -0.7032762443378533,
          -0.8649570011804742,
          -0.1276515430449225,
          0.04227963227894591,
          -0.6737507737569611,
          -0.009646357496776696,
          0.4820055254859393,
          0.05883120695356854,
          0.16451428669897458,
          -0.32049870472472125,
          -0.2904954927825734,
          -0.8989195967492418,
          -0.8107991457265022,
          -0.20240141406115875,
          0.06377162808638931,
          0.4187452926358444,
          0.2285713030659687,
          -0.4172867985584114,
          -0.2004488658598677,
          -0.41562359494225976,
          -0.10998948240996424,
          0.3372432798459198,
          0.001012012648594506,
          0.7280889211029532,
          -0.6036121551277156,
          0.2498109055757169,
          -0.043532735278304105,
          -0.4158463543260707,
          0.6336963454709008,
          0.5756074158250656,
          -0.050251086387225405,
          -0.13084366684016396,
          -0.1196591272665262,
          0.3935868198159611,
          -0.15029874718482086,
          -0.14748550300316526,
          -0.6264004391547979,
          0.02855073609822145
         ],
         "z": [
          -0.4976296803634033,
          -0.0776992190949167,
          0.13239315719331265,
          0.005950317163532593,
          -0.06622641700019782,
          -0.4874515045768473,
          -0.3354287067494082,
          -0.24306844275669698,
          0.11581673060849748,
          -0.8069680160349086,
          0.3091635042391561,
          -0.09912213757170923,
          -0.06158705098384476,
          -0.20826190307047604,
          -0.019969053815705847,
          -0.21444905103498604,
          0.6347589148926168,
          0.5837547812386957,
          -0.6267099481162829,
          -0.2977908021820474,
          -0.4703018830918453,
          0.4186458855555001,
          -0.00583192933955275,
          -0.29021397204198235,
          -0.3027474246949933,
          -0.053207501575815976,
          0.18867706332736708,
          -0.31745467070592903,
          -0.27712650013620715,
          0.3949069571477174,
          -0.2773612207531065,
          -0.5020397750529831,
          0.2631379784546553,
          -0.4460679250648649,
          -0.4949689784496795,
          0.3466511193866045,
          -0.408840256967833,
          0.7684429896207229,
          -0.2282275289029076,
          0.4638592616098219,
          -0.3374432291934949,
          0.02219837239820369,
          0.4596417660419273,
          -0.16222061429665893,
          -0.4167983331360924,
          -0.6184690805327651,
          0.3713610058362935,
          -0.1416814162636886,
          -0.43211387807141705,
          -0.07918153480684738,
          0.5149340221092038,
          -0.08541063028203748,
          -0.26031923782702515,
          -0.20965640845986552,
          -0.03748342679159752,
          -0.5327763894372065,
          -0.09165840833937676,
          -0.13505742122970885,
          -0.38795585984826897,
          -0.4786478933361752,
          0.4387770100791044,
          -0.2150607296238252,
          -0.0076505369319486965,
          -0.21297423559770048,
          -0.07678728098752984,
          -0.3909792058264615,
          0.216534416776958,
          -0.5082769959912206,
          0.4241888884992221,
          -0.1918765479750056,
          -0.5225020458426556,
          -0.16144538813902845,
          -0.4903560468073029,
          -0.0720510395203089,
          0.03326994220168658,
          -0.1828874797730272,
          -0.5009710008976679,
          -0.3679092458784932,
          -0.3881875647087395,
          0.010532255318018735,
          -0.4472683397290876,
          0.4319217892687979,
          0.3013500442144677,
          -0.4102089943894432,
          -0.2275127027291801,
          -0.5387396620241838,
          -0.3834287226754705,
          -0.4202113356500685,
          -0.2137599000181936,
          0.6593949296198078,
          -0.2493320926667901,
          -0.39321049812778497,
          0.024644953066742054,
          -0.17451173491477914,
          0.4456661611561091,
          0.33028679043314324,
          0.6849689950532993,
          -0.2687495012643306,
          0.13759178939610786,
          -0.30857944457607983,
          -0.18608458142614046,
          -0.3933452359926686,
          -0.1699810493292197,
          0.7447034530868142,
          -0.18575641472206467,
          -0.1810546262577661,
          0.4778848697985879,
          0.4965110265402463,
          -0.2701874855535213,
          -0.1987165486002647,
          -0.1653368610016997,
          0.3075137211707662,
          0.4143832981837797,
          -0.11695494455317425,
          0.5436033016543063,
          0.04200316688614982,
          0.030586205063907607,
          -0.031752912011581334,
          -0.06729890645770009,
          -0.4215616089019377,
          -0.1734995822386412,
          0.3109134145197849,
          0.8160067556162021,
          0.01587714525160986,
          -0.3207934167611773,
          0.6528110445696275,
          -0.4973918489497566,
          -0.14576888465555168,
          0.3238799300357039,
          -0.14302643538461118,
          -0.2100468138487276,
          -0.5469181228086496,
          0.044236006793928716,
          -0.23849605687301634,
          -0.3985549473578307,
          -0.3590331964440873,
          0.8943002182721803,
          -0.39113250360047297,
          -0.09390273329528853,
          -0.04072828177299525,
          -0.22132125935192168,
          -0.43505976605825997,
          -0.11889285953314604,
          -0.3167908135609854,
          -0.25563459454124604,
          0.5411206154114719,
          0.37931550565955335,
          -0.7361582677156374,
          -0.2196404356108032,
          0.5075860686552903,
          0.35516026596611305,
          -0.2604896872295009,
          -0.2373842294589449,
          -0.3606153714356001,
          -0.353102300226918,
          -0.06399177684605296,
          0.4388792391265658,
          -0.4418729342216337,
          -0.33343669153986444,
          -0.16302154052585915,
          -0.22352715391984487,
          -0.7082121632680772,
          -0.17394316318328387,
          -0.13793803154213435,
          -0.12947215655516045,
          -0.39635270668871453,
          -0.3183798159835707,
          -0.3228919592954183,
          0.02651137117898892,
          0.2814282591400875,
          -0.028776838205641957,
          -0.17594694638786426,
          -0.2342475319430758,
          -0.2388727850790125,
          -0.12754348005082508,
          -0.1165172925725746,
          -0.31178801438609405,
          -0.1822612698624278,
          -0.44821215326425107,
          0.4640547126733494,
          -0.17009444992287304,
          -0.5766062636562864,
          -0.37563691902777596,
          -0.3073944828769604,
          -0.32804732524036256,
          -0.1907558949375924,
          -0.367579393034579,
          -0.4269500151602924,
          0.5579293896470282,
          0.449584024354759,
          -0.17302485517717475,
          -0.1307639704821833,
          0.1431070494887258,
          0.06599337224999167,
          -0.10931044710047856,
          -0.550759662699369,
          -0.2636895032213579,
          -0.13764357635536673,
          -0.01737189182732507,
          -0.4886642965459405,
          -0.3084193561603559,
          -0.348754038725559,
          -0.06648251265594927,
          -0.4000657508778936,
          -0.10133718740347727,
          0.8937917790464638,
          -0.3175126329837873,
          -0.06478654435658131,
          0.4535244372367648,
          0.02115479434846109,
          -0.5532004438970091,
          -0.4604184064809345,
          -0.21159271334257632,
          0.06352060137587585,
          0.482641865748312,
          -0.3797342607289961,
          -0.6994386482816255,
          -0.318869312558722,
          -0.3227800878088886,
          0.1254187019602431,
          -0.05519995757768579,
          -0.4172976539307567,
          0.10386702623683326,
          -0.11614855731677648,
          0.3313881849849329,
          0.2702608481413038,
          -0.7192776521959172,
          0.2670967848704522,
          0.6492331965774452,
          0.06309895295369955,
          -0.2470089222287601,
          -0.1327599603659472,
          -0.15555797454346676,
          -0.6602759492842722,
          -0.2849216894770221,
          0.6635857710501611,
          0.4081723353720489,
          -0.03887384873936279,
          -0.03538081743747226,
          0.14984679189811131,
          -0.15234215704431014,
          -0.298223260313185,
          -0.6270055823843337,
          -0.24330871457391184,
          -0.1632826433971694,
          -0.021856662728595468,
          -0.4718603941860729,
          -0.2972169338978,
          0.4480854339688472,
          -0.11061094257855172,
          -0.29749437998711303,
          -0.10305680530550257,
          -0.17568873120041362,
          -0.3931194806596067,
          -0.4769882711122635,
          -0.3457398845151407,
          -0.4656878936120994,
          -0.5589096547708281,
          -0.6965395880629077,
          -0.2887454852443241,
          0.7525231816226923,
          -0.6060474691396603
         ]
        }
       ],
       "layout": {
        "legend": {
         "title": {
          "text": "food_group"
         },
         "tracegroupgap": 0
        },
        "margin": {
         "t": 60
        },
        "scene": {
         "domain": {
          "x": [
           0,
           1
          ],
          "y": [
           0,
           1
          ]
         },
         "xaxis": {
          "title": {
           "text": "3"
          }
         },
         "yaxis": {
          "title": {
           "text": "4"
          }
         },
         "zaxis": {
          "title": {
           "text": "5"
          }
         }
        },
        "template": {
         "data": {
          "bar": [
           {
            "error_x": {
             "color": "#2a3f5f"
            },
            "error_y": {
             "color": "#2a3f5f"
            },
            "marker": {
             "line": {
              "color": "#E5ECF6",
              "width": 0.5
             }
            },
            "type": "bar"
           }
          ],
          "barpolar": [
           {
            "marker": {
             "line": {
              "color": "#E5ECF6",
              "width": 0.5
             }
            },
            "type": "barpolar"
           }
          ],
          "carpet": [
           {
            "aaxis": {
             "endlinecolor": "#2a3f5f",
             "gridcolor": "white",
             "linecolor": "white",
             "minorgridcolor": "white",
             "startlinecolor": "#2a3f5f"
            },
            "baxis": {
             "endlinecolor": "#2a3f5f",
             "gridcolor": "white",
             "linecolor": "white",
             "minorgridcolor": "white",
             "startlinecolor": "#2a3f5f"
            },
            "type": "carpet"
           }
          ],
          "choropleth": [
           {
            "colorbar": {
             "outlinewidth": 0,
             "ticks": ""
            },
            "type": "choropleth"
           }
          ],
          "contour": [
           {
            "colorbar": {
             "outlinewidth": 0,
             "ticks": ""
            },
            "colorscale": [
             [
              0,
              "#0d0887"
             ],
             [
              0.1111111111111111,
              "#46039f"
             ],
             [
              0.2222222222222222,
              "#7201a8"
             ],
             [
              0.3333333333333333,
              "#9c179e"
             ],
             [
              0.4444444444444444,
              "#bd3786"
             ],
             [
              0.5555555555555556,
              "#d8576b"
             ],
             [
              0.6666666666666666,
              "#ed7953"
             ],
             [
              0.7777777777777778,
              "#fb9f3a"
             ],
             [
              0.8888888888888888,
              "#fdca26"
             ],
             [
              1,
              "#f0f921"
             ]
            ],
            "type": "contour"
           }
          ],
          "contourcarpet": [
           {
            "colorbar": {
             "outlinewidth": 0,
             "ticks": ""
            },
            "type": "contourcarpet"
           }
          ],
          "heatmap": [
           {
            "colorbar": {
             "outlinewidth": 0,
             "ticks": ""
            },
            "colorscale": [
             [
              0,
              "#0d0887"
             ],
             [
              0.1111111111111111,
              "#46039f"
             ],
             [
              0.2222222222222222,
              "#7201a8"
             ],
             [
              0.3333333333333333,
              "#9c179e"
             ],
             [
              0.4444444444444444,
              "#bd3786"
             ],
             [
              0.5555555555555556,
              "#d8576b"
             ],
             [
              0.6666666666666666,
              "#ed7953"
             ],
             [
              0.7777777777777778,
              "#fb9f3a"
             ],
             [
              0.8888888888888888,
              "#fdca26"
             ],
             [
              1,
              "#f0f921"
             ]
            ],
            "type": "heatmap"
           }
          ],
          "heatmapgl": [
           {
            "colorbar": {
             "outlinewidth": 0,
             "ticks": ""
            },
            "colorscale": [
             [
              0,
              "#0d0887"
             ],
             [
              0.1111111111111111,
              "#46039f"
             ],
             [
              0.2222222222222222,
              "#7201a8"
             ],
             [
              0.3333333333333333,
              "#9c179e"
             ],
             [
              0.4444444444444444,
              "#bd3786"
             ],
             [
              0.5555555555555556,
              "#d8576b"
             ],
             [
              0.6666666666666666,
              "#ed7953"
             ],
             [
              0.7777777777777778,
              "#fb9f3a"
             ],
             [
              0.8888888888888888,
              "#fdca26"
             ],
             [
              1,
              "#f0f921"
             ]
            ],
            "type": "heatmapgl"
           }
          ],
          "histogram": [
           {
            "marker": {
             "colorbar": {
              "outlinewidth": 0,
              "ticks": ""
             }
            },
            "type": "histogram"
           }
          ],
          "histogram2d": [
           {
            "colorbar": {
             "outlinewidth": 0,
             "ticks": ""
            },
            "colorscale": [
             [
              0,
              "#0d0887"
             ],
             [
              0.1111111111111111,
              "#46039f"
             ],
             [
              0.2222222222222222,
              "#7201a8"
             ],
             [
              0.3333333333333333,
              "#9c179e"
             ],
             [
              0.4444444444444444,
              "#bd3786"
             ],
             [
              0.5555555555555556,
              "#d8576b"
             ],
             [
              0.6666666666666666,
              "#ed7953"
             ],
             [
              0.7777777777777778,
              "#fb9f3a"
             ],
             [
              0.8888888888888888,
              "#fdca26"
             ],
             [
              1,
              "#f0f921"
             ]
            ],
            "type": "histogram2d"
           }
          ],
          "histogram2dcontour": [
           {
            "colorbar": {
             "outlinewidth": 0,
             "ticks": ""
            },
            "colorscale": [
             [
              0,
              "#0d0887"
             ],
             [
              0.1111111111111111,
              "#46039f"
             ],
             [
              0.2222222222222222,
              "#7201a8"
             ],
             [
              0.3333333333333333,
              "#9c179e"
             ],
             [
              0.4444444444444444,
              "#bd3786"
             ],
             [
              0.5555555555555556,
              "#d8576b"
             ],
             [
              0.6666666666666666,
              "#ed7953"
             ],
             [
              0.7777777777777778,
              "#fb9f3a"
             ],
             [
              0.8888888888888888,
              "#fdca26"
             ],
             [
              1,
              "#f0f921"
             ]
            ],
            "type": "histogram2dcontour"
           }
          ],
          "mesh3d": [
           {
            "colorbar": {
             "outlinewidth": 0,
             "ticks": ""
            },
            "type": "mesh3d"
           }
          ],
          "parcoords": [
           {
            "line": {
             "colorbar": {
              "outlinewidth": 0,
              "ticks": ""
             }
            },
            "type": "parcoords"
           }
          ],
          "pie": [
           {
            "automargin": true,
            "type": "pie"
           }
          ],
          "scatter": [
           {
            "marker": {
             "colorbar": {
              "outlinewidth": 0,
              "ticks": ""
             }
            },
            "type": "scatter"
           }
          ],
          "scatter3d": [
           {
            "line": {
             "colorbar": {
              "outlinewidth": 0,
              "ticks": ""
             }
            },
            "marker": {
             "colorbar": {
              "outlinewidth": 0,
              "ticks": ""
             }
            },
            "type": "scatter3d"
           }
          ],
          "scattercarpet": [
           {
            "marker": {
             "colorbar": {
              "outlinewidth": 0,
              "ticks": ""
             }
            },
            "type": "scattercarpet"
           }
          ],
          "scattergeo": [
           {
            "marker": {
             "colorbar": {
              "outlinewidth": 0,
              "ticks": ""
             }
            },
            "type": "scattergeo"
           }
          ],
          "scattergl": [
           {
            "marker": {
             "colorbar": {
              "outlinewidth": 0,
              "ticks": ""
             }
            },
            "type": "scattergl"
           }
          ],
          "scattermapbox": [
           {
            "marker": {
             "colorbar": {
              "outlinewidth": 0,
              "ticks": ""
             }
            },
            "type": "scattermapbox"
           }
          ],
          "scatterpolar": [
           {
            "marker": {
             "colorbar": {
              "outlinewidth": 0,
              "ticks": ""
             }
            },
            "type": "scatterpolar"
           }
          ],
          "scatterpolargl": [
           {
            "marker": {
             "colorbar": {
              "outlinewidth": 0,
              "ticks": ""
             }
            },
            "type": "scatterpolargl"
           }
          ],
          "scatterternary": [
           {
            "marker": {
             "colorbar": {
              "outlinewidth": 0,
              "ticks": ""
             }
            },
            "type": "scatterternary"
           }
          ],
          "surface": [
           {
            "colorbar": {
             "outlinewidth": 0,
             "ticks": ""
            },
            "colorscale": [
             [
              0,
              "#0d0887"
             ],
             [
              0.1111111111111111,
              "#46039f"
             ],
             [
              0.2222222222222222,
              "#7201a8"
             ],
             [
              0.3333333333333333,
              "#9c179e"
             ],
             [
              0.4444444444444444,
              "#bd3786"
             ],
             [
              0.5555555555555556,
              "#d8576b"
             ],
             [
              0.6666666666666666,
              "#ed7953"
             ],
             [
              0.7777777777777778,
              "#fb9f3a"
             ],
             [
              0.8888888888888888,
              "#fdca26"
             ],
             [
              1,
              "#f0f921"
             ]
            ],
            "type": "surface"
           }
          ],
          "table": [
           {
            "cells": {
             "fill": {
              "color": "#EBF0F8"
             },
             "line": {
              "color": "white"
             }
            },
            "header": {
             "fill": {
              "color": "#C8D4E3"
             },
             "line": {
              "color": "white"
             }
            },
            "type": "table"
           }
          ]
         },
         "layout": {
          "annotationdefaults": {
           "arrowcolor": "#2a3f5f",
           "arrowhead": 0,
           "arrowwidth": 1
          },
          "coloraxis": {
           "colorbar": {
            "outlinewidth": 0,
            "ticks": ""
           }
          },
          "colorscale": {
           "diverging": [
            [
             0,
             "#8e0152"
            ],
            [
             0.1,
             "#c51b7d"
            ],
            [
             0.2,
             "#de77ae"
            ],
            [
             0.3,
             "#f1b6da"
            ],
            [
             0.4,
             "#fde0ef"
            ],
            [
             0.5,
             "#f7f7f7"
            ],
            [
             0.6,
             "#e6f5d0"
            ],
            [
             0.7,
             "#b8e186"
            ],
            [
             0.8,
             "#7fbc41"
            ],
            [
             0.9,
             "#4d9221"
            ],
            [
             1,
             "#276419"
            ]
           ],
           "sequential": [
            [
             0,
             "#0d0887"
            ],
            [
             0.1111111111111111,
             "#46039f"
            ],
            [
             0.2222222222222222,
             "#7201a8"
            ],
            [
             0.3333333333333333,
             "#9c179e"
            ],
            [
             0.4444444444444444,
             "#bd3786"
            ],
            [
             0.5555555555555556,
             "#d8576b"
            ],
            [
             0.6666666666666666,
             "#ed7953"
            ],
            [
             0.7777777777777778,
             "#fb9f3a"
            ],
            [
             0.8888888888888888,
             "#fdca26"
            ],
            [
             1,
             "#f0f921"
            ]
           ],
           "sequentialminus": [
            [
             0,
             "#0d0887"
            ],
            [
             0.1111111111111111,
             "#46039f"
            ],
            [
             0.2222222222222222,
             "#7201a8"
            ],
            [
             0.3333333333333333,
             "#9c179e"
            ],
            [
             0.4444444444444444,
             "#bd3786"
            ],
            [
             0.5555555555555556,
             "#d8576b"
            ],
            [
             0.6666666666666666,
             "#ed7953"
            ],
            [
             0.7777777777777778,
             "#fb9f3a"
            ],
            [
             0.8888888888888888,
             "#fdca26"
            ],
            [
             1,
             "#f0f921"
            ]
           ]
          },
          "colorway": [
           "#636efa",
           "#EF553B",
           "#00cc96",
           "#ab63fa",
           "#FFA15A",
           "#19d3f3",
           "#FF6692",
           "#B6E880",
           "#FF97FF",
           "#FECB52"
          ],
          "font": {
           "color": "#2a3f5f"
          },
          "geo": {
           "bgcolor": "white",
           "lakecolor": "white",
           "landcolor": "#E5ECF6",
           "showlakes": true,
           "showland": true,
           "subunitcolor": "white"
          },
          "hoverlabel": {
           "align": "left"
          },
          "hovermode": "closest",
          "mapbox": {
           "style": "light"
          },
          "paper_bgcolor": "white",
          "plot_bgcolor": "#E5ECF6",
          "polar": {
           "angularaxis": {
            "gridcolor": "white",
            "linecolor": "white",
            "ticks": ""
           },
           "bgcolor": "#E5ECF6",
           "radialaxis": {
            "gridcolor": "white",
            "linecolor": "white",
            "ticks": ""
           }
          },
          "scene": {
           "xaxis": {
            "backgroundcolor": "#E5ECF6",
            "gridcolor": "white",
            "gridwidth": 2,
            "linecolor": "white",
            "showbackground": true,
            "ticks": "",
            "zerolinecolor": "white"
           },
           "yaxis": {
            "backgroundcolor": "#E5ECF6",
            "gridcolor": "white",
            "gridwidth": 2,
            "linecolor": "white",
            "showbackground": true,
            "ticks": "",
            "zerolinecolor": "white"
           },
           "zaxis": {
            "backgroundcolor": "#E5ECF6",
            "gridcolor": "white",
            "gridwidth": 2,
            "linecolor": "white",
            "showbackground": true,
            "ticks": "",
            "zerolinecolor": "white"
           }
          },
          "shapedefaults": {
           "line": {
            "color": "#2a3f5f"
           }
          },
          "ternary": {
           "aaxis": {
            "gridcolor": "white",
            "linecolor": "white",
            "ticks": ""
           },
           "baxis": {
            "gridcolor": "white",
            "linecolor": "white",
            "ticks": ""
           },
           "bgcolor": "#E5ECF6",
           "caxis": {
            "gridcolor": "white",
            "linecolor": "white",
            "ticks": ""
           }
          },
          "title": {
           "x": 0.05
          },
          "xaxis": {
           "automargin": true,
           "gridcolor": "white",
           "linecolor": "white",
           "ticks": "",
           "title": {
            "standoff": 15
           },
           "zerolinecolor": "white",
           "zerolinewidth": 2
          },
          "yaxis": {
           "automargin": true,
           "gridcolor": "white",
           "linecolor": "white",
           "ticks": "",
           "title": {
            "standoff": 15
           },
           "zerolinecolor": "white",
           "zerolinewidth": 2
          }
         }
        }
       }
      }
     },
     "metadata": {}
    }
   ],
   "source": [
    "fig = px.scatter_3d(df_full[df_full['food_group']=='Vegan'], x='PC_3', y='PC_4', z='PC_5', color='food_group')\n",
    "fig.update_traces(marker=dict(size=3))\n",
    "fig.update_layout(scene = dict(xaxis_title='3',yaxis_title='4',zaxis_title='5'))\n",
    "\n",
    "fig.show()"
   ]
  },
  {
   "cell_type": "code",
   "execution_count": 12,
   "metadata": {},
   "outputs": [
    {
     "output_type": "display_data",
     "data": {
      "application/vnd.plotly.v1+json": {
       "config": {
        "plotlyServerURL": "https://plot.ly"
       },
       "data": [
        {
         "hovertemplate": "food_group=Beef<br>PC_2=%{x}<br>PC_3=%{y}<br>PC_4=%{z}<extra></extra>",
         "legendgroup": "Beef",
         "marker": {
          "color": "#636efa",
          "size": 3,
          "symbol": "circle"
         },
         "mode": "markers",
         "name": "Beef",
         "scene": "scene",
         "showlegend": true,
         "type": "scatter3d",
         "x": [
          0.6700063006977982,
          0.6921118003990812,
          0.7224844688657504,
          0.5344607718855616,
          0.7000921937644659,
          0.6893588226957574,
          0.8485374246728435,
          0.2600427487230453,
          0.6285193798141784,
          0.7302171368600757,
          0.7334382374395029,
          0.7553541314612913,
          0.8353656433852596,
          0.8322564898478757,
          0.5479936782254312,
          0.7706333097328147,
          0.7401674159862673,
          0.8370151043305967,
          0.7994681053958209,
          0.6988172824007277,
          0.7742436687798843,
          0.7850469655228269,
          0.8476165685584373,
          0.5115184043711447,
          0.9109022290775772,
          0.6143624802152043,
          0.7082148612271828,
          0.7943166175919198,
          0.7503861440736105,
          0.7523693284930094,
          0.8300051385499987,
          0.7492326892939608,
          0.7015272214846311,
          0.9617076746635655,
          0.8714522595070601,
          0.8247289879231776,
          0.7231090703068097,
          0.8420024821153865,
          0.6711717011054303,
          0.8319993886492505,
          0.22891827228011785,
          0.6164699397615278,
          0.7955797888646988,
          0.9329613288686678,
          0.7365597277921857,
          0.9219357548961532,
          0.7160952314002936,
          0.7145898085821062,
          0.7392498042619885,
          0.7003810643674891,
          0.7766535061491744,
          0.8934485961505992,
          0.9133798037889784,
          0.8225572533318609,
          0.7594557960291547,
          0.6725391802907817,
          0.8818726570747738,
          0.7678876565046114,
          0.7136949199011563,
          0.9205096530559418,
          0.668248236881672,
          0.7851032199569682,
          0.6359562610976508,
          0.7437975320572681,
          0.7442553785032727,
          0.8975728121519347,
          0.8551655324007108,
          0.1227604709232962,
          0.6946995180642072,
          0.11925256163793455,
          0.7730189209607163,
          0.7293187641214418,
          0.5798730113911189,
          0.7314568552825621,
          0.7858339632643351,
          0.8696655364409065,
          0.7342221932593372,
          0.6293334927135795,
          0.74070094173801,
          0.5878152849502568,
          0.95144096358384,
          0.5691802660960319,
          0.7120963095203746,
          0.8286475775933001,
          0.6829463162579453,
          0.4787310497460409,
          0.8503273173797459,
          0.7009188252901961
         ],
         "y": [
          -0.1164765537106096,
          -0.08822524154693674,
          -0.23887107789024845,
          0.18524911686211767,
          0.03181763808414955,
          -0.16236331688715044,
          -0.1269948821341178,
          0.05555870169028627,
          0.035891227183934636,
          -0.08464074030276032,
          0.23991983151984314,
          -0.058509256836506165,
          -0.05540650983072478,
          -0.21514252986729265,
          -0.1109063905883544,
          -0.022722032026113448,
          -0.053694101175918565,
          -0.1520619491423597,
          -0.13359387944041073,
          -0.07359650402360267,
          -0.2425891664878615,
          -0.1606378220901379,
          0.019040273339704927,
          0.4803138051464513,
          -0.10129685273739032,
          0.003211822452076862,
          -0.1963965209111271,
          -0.1323977125860328,
          -0.08066193336262817,
          -0.15875254312921608,
          -0.12308784079785405,
          -0.0606908060664617,
          0.11243306362570507,
          -0.16181251249249898,
          -0.1307366393681393,
          -0.2553781657708036,
          -0.02231460366268457,
          -0.14673943227431116,
          -0.023057449080402168,
          -0.02757351298656617,
          -0.012271513084496805,
          0.03761162799694588,
          0.009914447768708843,
          -0.09588937289857932,
          -0.061730552916695436,
          -0.02444460137047706,
          -0.05671809912470097,
          -0.2078368428770812,
          -0.06798601679836694,
          -0.0377811226412941,
          -0.053594510576296314,
          -0.16557451404605278,
          -0.09324720671589258,
          -0.0668864243472782,
          0.10002692274130616,
          -0.11878940750077804,
          -0.04932367365622943,
          -0.11422871481609942,
          -0.0045158656962191535,
          -0.144664536906829,
          0.05720966223933757,
          -0.12806364775817985,
          0.01820906208214328,
          -0.037640711232336435,
          -0.2526146539341678,
          -0.1295495399607024,
          -0.16825453005231816,
          0.00641214944375211,
          -0.210035347396846,
          0.06188378915693408,
          -0.09309184268585206,
          -0.07414338219940418,
          0.016307705684658037,
          -0.06666323418705752,
          0.014339996023597354,
          -0.031192347844924383,
          -0.02819876003254926,
          -0.1506963149780402,
          -0.17508946744571052,
          -0.0062815491590515705,
          -0.09570611716970476,
          -0.04308043218312381,
          -0.12522007134930435,
          -0.2062966287147906,
          0.06100515067539152,
          0.32568828996299765,
          0.0560496897745414,
          -0.1240374549191068
         ],
         "z": [
          0.1307569193029608,
          0.14468996845494952,
          0.09244133028564147,
          0.25397478591999856,
          0.21223412833285768,
          0.22779568803337244,
          0.014578979900440459,
          0.003535940130900167,
          0.3344658815268149,
          0.21829669898392187,
          0.6234325777914348,
          0.0829599239553795,
          0.36520369905659006,
          0.12522311974609568,
          0.2597944345111914,
          0.4218157497501275,
          0.3131477819406216,
          -0.00854733989524251,
          0.06273856333370706,
          0.11332877527466005,
          0.08318822801583196,
          0.12692811866951806,
          0.3498592739837454,
          0.5502374553958774,
          0.2069590935448212,
          0.2790855013510236,
          0.10049697737711533,
          -0.020009570116854884,
          0.0067040663444201285,
          0.1262729592266191,
          0.09864054312944158,
          0.18000703749331382,
          0.5160995354974701,
          0.20499244526602806,
          0.16637981604473231,
          0.0517811015455987,
          0.3211751145725568,
          0.20077593510491606,
          0.10093356275086306,
          0.2983024859274755,
          -0.21243300304815926,
          0.4221483389864311,
          0.31824401577748496,
          0.2587883197212253,
          0.05794109363826696,
          0.3202912429346712,
          0.28218536445146664,
          0.12960285683965608,
          -0.04634453771945512,
          -0.019611283159314558,
          0.2945893534028033,
          0.2208049600942644,
          0.36128451212836654,
          0.14730833840587032,
          0.3776899827068809,
          0.1484398728798304,
          0.4284420488596339,
          0.01635839294512286,
          0.39507892724171984,
          0.1908970644625075,
          0.7037424851792335,
          0.1147019970642826,
          0.06091468883200898,
          0.3162109597926018,
          0.19584767385024765,
          0.11232065657290967,
          0.2720883701361943,
          -0.15174676519931085,
          0.1327002145899061,
          -0.1569712575984188,
          0.100276376943513,
          0.013800899834474072,
          0.22346995259824148,
          0.2559612278904331,
          0.3772683268786935,
          0.3689669041953136,
          0.26168976228542423,
          0.23227306348971774,
          0.1828536750303963,
          0.11145994303231968,
          0.3550926532598309,
          0.07913221677501676,
          -0.08356574174960964,
          0.2593152037298497,
          0.4733968717847021,
          0.3373883306976103,
          0.5473607855186037,
          0.2905452091721301
         ]
        },
        {
         "hovertemplate": "food_group=Chicken<br>PC_2=%{x}<br>PC_3=%{y}<br>PC_4=%{z}<extra></extra>",
         "legendgroup": "Chicken",
         "marker": {
          "color": "#EF553B",
          "size": 3,
          "symbol": "circle"
         },
         "mode": "markers",
         "name": "Chicken",
         "scene": "scene",
         "showlegend": true,
         "type": "scatter3d",
         "x": [
          -0.7773569477667781,
          -0.4540753946378635,
          -0.4852713163751782,
          -0.5147690976231364,
          -0.346672922528896,
          -0.5515076193852516,
          -0.5161623369713827,
          -0.5149618222079759,
          -0.4574229412086071,
          -0.3971807713666797,
          -0.18210379242890112,
          -0.4541956315325561,
          -0.4673592234047786,
          -0.6304196685641428,
          -0.4662376462149786,
          -0.31146185882758665,
          -0.4408916503687516,
          -0.5717325687248795,
          -0.5133703089314562,
          -0.4727384296556046,
          -0.3930023119402874,
          -0.5439034156464553,
          -0.3624609765365602,
          -0.2775626605819605,
          -0.4620865457276662,
          -0.40113878484960797,
          -0.4052298214035929,
          -0.5156174345519405,
          -0.39130125668871535,
          -0.3092473627666109,
          -0.3961148642210235,
          -0.5532876378506825,
          -0.3368665624665085,
          -0.2463511195101009,
          -0.7065506305252184,
          -0.3350521324891689,
          -0.3683392156583578,
          -0.2100714860873267,
          -0.4697369393369877,
          -0.36836732441294456,
          -0.09373199779511612,
          -0.336527870817947,
          -0.4811176650720285,
          -0.5036299756753887,
          -0.4088129586671863,
          -0.3763240257877195,
          -0.5692391440796131,
          -0.4891450337839218,
          -0.1878983550520498,
          -0.5539892470303026,
          -0.4597098862003808,
          -0.6730433914583328,
          -0.3867883899829067,
          -0.5299698175098835,
          0.12970246188863666,
          -0.5018662978269529,
          -0.5724009000334039,
          -0.08548824298329928,
          -0.32377945785130874,
          -0.4638018519590747,
          -0.3962928757128436,
          -0.29648491992813936,
          -0.3733350727254938,
          -0.4834379047479538,
          -0.4730215023091844,
          -0.39602946149184204,
          -0.6070716793881934,
          -0.5143910138703391,
          -0.4998048823040081,
          -0.6155276991437183,
          -0.5040026502138432,
          -0.44658401131548203,
          -0.42068426031713024,
          -0.613529560121059,
          -0.5500068199366078,
          -0.3974234483577847,
          -0.4005975796257403,
          -0.5801839826316336,
          -0.5327573078002563,
          -0.280270460823287,
          -0.5145774271106577,
          -0.4763358012500696,
          -0.5372242909806609,
          -0.6455456614260724,
          -0.6290458623617181,
          -0.35539963682444264,
          -0.5229783462105899,
          -0.3181715495305424,
          -0.5852567742665576,
          -0.4372366319299961,
          -0.6397297233040863,
          -0.7206213250296922,
          -0.4983434298908427,
          -0.4861909745788965,
          -0.3737443895162559,
          -0.4269761306587192,
          -0.4813542242963471,
          0.051260385385228965,
          -0.5775540177717169,
          -0.46335515936624,
          -0.6621903700918677,
          -0.06677053786214909,
          -0.6418777467225586,
          -0.5977774663163332,
          -0.5769632621985051,
          -0.5594944122479193,
          -0.5783673091184044,
          -0.5205722965824859,
          -0.6512505326159854,
          -0.4651533682455286,
          -0.07370526247610591,
          0.12805991165151673,
          -0.6174948999137885,
          -0.5550264644114336,
          -0.5607018823401049,
          -0.4426042243837208,
          -0.4684434601235623,
          -0.4564287667826029,
          -0.5606919926351009,
          -0.2899530620851368,
          -0.6353704426385322,
          -0.34187745500202565,
          -0.003775698155400207,
          -0.5007342243301959,
          0.02760850686119502,
          -0.5646294566153179,
          -0.04773933400139701
         ],
         "y": [
          0.3408518896165114,
          -0.1416278962035617,
          0.005960949681486349,
          0.09635973788224453,
          -0.11901295628728135,
          -0.1781293842231901,
          -0.034676235028988645,
          0.0776555568890715,
          -0.10694851773997764,
          -0.006923499349228503,
          0.152324285470875,
          0.08884277816243909,
          -0.013042061484990954,
          0.4863260876515851,
          0.006013041863549929,
          -0.11486607954274612,
          -0.18523675926185826,
          0.30381710878949225,
          -0.04226762471232864,
          0.022562310312256324,
          -0.1111619418602667,
          0.13867080229520073,
          -0.08192694115686297,
          -0.0327999443077154,
          0.10288100925360023,
          -0.18148453859762007,
          -0.15246697337871398,
          0.30124055218533025,
          -0.0923586722804576,
          -0.15115173819924702,
          0.00028561200392578345,
          -0.04245858007344155,
          -0.02009657519985152,
          -0.15168926959737605,
          0.21742390942686932,
          -0.11404041333543052,
          -0.0539267702007508,
          -0.14778299338205295,
          0.02465929316112728,
          -0.13205407312937356,
          -0.07873488673484713,
          0.037412193730601895,
          0.010358763165659124,
          0.04255516944392528,
          -0.06480137730565526,
          -0.0441733948913504,
          0.11965483595894613,
          0.0652307845985741,
          0.12153260892199573,
          -0.2331841238514813,
          0.006236252830878814,
          0.13386268888236402,
          -0.08634675523753665,
          0.005547861853086697,
          -0.06936287742828483,
          -0.17049876239858214,
          0.3225925110506501,
          -0.042737043372829416,
          -0.19369800301785706,
          0.08110290565095274,
          0.07705949673819054,
          -0.1366760112716655,
          -0.1129811920697139,
          -0.04895395673648092,
          -0.037015329294241374,
          -0.05970543249316775,
          -0.031062486395540906,
          -0.19428183223928747,
          0.07525361620963063,
          0.14105140787262696,
          -0.06277336434437482,
          -0.13046337547178696,
          -0.10369536348501092,
          0.17437616693213567,
          0.04045790119337812,
          -0.12815926701713495,
          -0.10924194906936452,
          0.019520052297047008,
          -0.035636611668606766,
          -0.06463294197137526,
          -0.25309821927891524,
          0.1331709330613108,
          0.027807872382833426,
          0.1094650775563646,
          -0.003606877922573176,
          -0.056551279889979725,
          -0.011690863556673004,
          -0.09594178704753073,
          -0.14020043012276115,
          -0.1191288887540368,
          0.269880813806745,
          0.28408234506356433,
          0.016554559609826585,
          -0.11186532558838096,
          -0.07502166065711179,
          -0.03657211251275807,
          -0.024820257311744826,
          -0.14846017353618154,
          0.14385339824809407,
          -0.13904712428278307,
          0.09114183819476544,
          -0.15832813689088884,
          0.048503250673051695,
          0.3170666013412615,
          0.19724228070161545,
          0.09735254005434,
          0.0487907400703162,
          -0.1227503646907916,
          0.31511307702526903,
          0.01744153382177321,
          -0.1258076338026839,
          -0.06872392925592145,
          0.188565005203815,
          -0.017015767752621137,
          -0.022397225258062474,
          0.002552575788661885,
          -0.15321015600823978,
          -0.051444638676827234,
          -0.13137812844675326,
          -0.13846994196765686,
          0.07852319183414774,
          -0.09083286941259132,
          -0.05123947375588303,
          -0.14019155798650096,
          0.03416250368559404,
          -0.03173938534882727,
          -0.042808974091465814
         ],
         "z": [
          -0.010800227712621185,
          -0.20649700586111647,
          0.021782619518043268,
          -0.09189783600285303,
          -0.2627932830077305,
          -0.1183602408419974,
          -0.08085237977822471,
          0.04150011344799323,
          -0.3169979472610444,
          0.0067314053318741395,
          0.05235411073906185,
          0.05153747935905875,
          -0.10412154999324506,
          0.1705037591669831,
          0.0493125538092574,
          -0.16611154273641884,
          -0.3012956365649995,
          0.034918024514342914,
          -0.20268598946509467,
          -0.18260667033954905,
          -0.2514165832871781,
          0.06300014508506911,
          -0.26342867323317365,
          -0.13220725268418754,
          -0.14698642827906885,
          -0.24352499798280305,
          -0.23851643596650096,
          -0.02148618063064775,
          -0.39297211379038943,
          -0.2822575247024099,
          0.017363249678432727,
          -0.06873499112009349,
          -0.251905318203063,
          -0.3055384201937164,
          0.007283023080463124,
          -0.2267242941903533,
          -0.1577291103494339,
          -0.2739914279627235,
          -0.08929616954545964,
          -0.3098346432574503,
          -0.0065021499979549926,
          -0.16865084707069464,
          -0.09223616339656003,
          -0.04620735202294835,
          -0.2918962430554047,
          -0.1481800282570489,
          0.18564218715113864,
          0.1335584289638601,
          0.07001787565506623,
          -0.14378994388832067,
          -0.05761631276912387,
          0.3158377926339929,
          -0.3032894740011348,
          -0.04111136620009607,
          -0.20265566407318664,
          -0.14645105254987414,
          0.013114846294864677,
          0.042904459826332335,
          -0.20423766712111996,
          0.10933561484370456,
          -0.12197842486390414,
          -0.2751689184431076,
          -0.3708445738280213,
          -0.2202256008388924,
          -0.19236219705584698,
          -0.11789396488286752,
          -0.2004276418645976,
          -0.1995770584081897,
          -0.03615967908315983,
          0.02417311463125672,
          -0.3488654756090364,
          -0.08180058899725542,
          -0.2207191583567704,
          0.1645534506198377,
          -0.06310014388201214,
          -0.2374903736309173,
          -0.20625265454339933,
          0.03477177964318188,
          -0.20538145109694747,
          -0.2158036007921624,
          -0.18425836270589815,
          0.1989757296582552,
          0.18130406829853096,
          0.10857335440125844,
          0.05365272725538348,
          -0.18980236248950466,
          -0.08246404132162344,
          -0.20718812457513835,
          0.01371363602826501,
          -0.2671999062059193,
          0.15717364420360058,
          -0.008861021346027877,
          -0.0006512019303945613,
          -0.12161984041549648,
          -0.06956650118364589,
          -0.08913231503057309,
          -0.1218875736669358,
          -0.2829944735893729,
          0.2454524346809185,
          -0.2521037069417342,
          0.25323086405113915,
          -0.04430392643050216,
          -0.05180489394525895,
          0.13630493000774566,
          0.25361879362247913,
          0.11539214877227348,
          0.16328449022771974,
          -0.1367726193612055,
          0.1820114411133924,
          0.04897428582079449,
          -0.011295411003096606,
          -0.2841655338534513,
          0.028479127509242808,
          0.08409087823552801,
          -0.16202755516718315,
          -0.04276376667784845,
          -0.16089695790795652,
          -0.2695523965418946,
          -0.1372104606527404,
          -0.3544107855284003,
          0.14275988074536125,
          -0.19510458061112604,
          -0.1543541119918912,
          -0.15024831752966192,
          0.04577407626458438,
          0.02700570056765111,
          0.15798989691358448
         ]
        },
        {
         "hovertemplate": "food_group=Vegan<br>PC_2=%{x}<br>PC_3=%{y}<br>PC_4=%{z}<extra></extra>",
         "legendgroup": "Vegan",
         "marker": {
          "color": "#00cc96",
          "size": 3,
          "symbol": "circle"
         },
         "mode": "markers",
         "name": "Vegan",
         "scene": "scene",
         "showlegend": true,
         "type": "scatter3d",
         "x": [
          -0.0661226861143723,
          -0.09876379984914874,
          -0.07110959399706236,
          -0.1411696100874332,
          0.03472596912705906,
          0.12654457451969228,
          -0.03476270986859409,
          0.03620710221587056,
          -0.034317555207270124,
          0.09832053825033396,
          0.06080817941600125,
          0.02633622024023066,
          0.01959777674473329,
          -0.0007844218261246232,
          -0.3601225623163885,
          0.02955098858313172,
          -0.016265946071258273,
          0.05133037966369392,
          0.10753569706730168,
          0.049639967644747734,
          0.04497781027137535,
          0.011590922262986265,
          -0.017801500043074906,
          0.10525270693527,
          0.09883845721302124,
          -0.25683208112164124,
          -0.037509947631752034,
          -0.171097977846894,
          0.12355036358578488,
          0.04459563048142919,
          0.0835865185757794,
          0.08575470165665709,
          0.09814442185353782,
          0.08970431914057476,
          0.07495049479509651,
          0.10696594780268044,
          0.17177339547172074,
          -0.10922497497498754,
          0.18361957882136795,
          0.03868203088379089,
          0.12014919469133045,
          0.04071526591921525,
          0.07026896045621345,
          -0.2652679688514813,
          -0.14067632266515293,
          0.025230192171768945,
          0.04301790176300476,
          -0.036604267547882166,
          0.1362916416779852,
          -0.03585860345503178,
          -0.00535980649378218,
          -0.1385157227636068,
          0.08656639354353997,
          -0.07129289507247168,
          -0.1989543827928936,
          0.0571838896833266,
          -0.001555971151697393,
          0.0609249379032644,
          -0.07192271138389587,
          0.07773714209733787,
          0.035752248522653095,
          0.074108869199474,
          -0.13982360731974622,
          0.11779240916937755,
          0.04805672313729967,
          0.06959176931071286,
          -0.018408161329176637,
          0.1709142247509426,
          0.058484833071336284,
          0.021250235957448627,
          0.098589108788565,
          0.03463887705913371,
          0.10561343673085702,
          0.0084452078647704,
          -0.062210357557057235,
          0.07181714895284706,
          0.1032440581105668,
          0.08534222488386015,
          0.1922713195435144,
          -0.3171905800176445,
          0.11911119150424895,
          -0.010874746160557948,
          0.12371098813786588,
          -0.12256810933917593,
          0.052409263555399266,
          0.07578447773626065,
          0.009153681587878769,
          0.037420380135106165,
          0.08835663283153188,
          0.03525023749577121,
          -0.15971711347601938,
          0.13459548677711355,
          -0.02282166664721456,
          0.03150032188849148,
          0.06142926318566917,
          0.05533811418023876,
          -0.07152052489296205,
          0.11303399213936455,
          -0.13969700590525558,
          0.07518013738300001,
          0.06543738983873887,
          0.03045285639953548,
          -0.041437421562382094,
          -0.12926045997261698,
          0.060988286444626526,
          0.08132320117652493,
          0.030853533410712813,
          -0.02091250381390585,
          0.1133758115684077,
          -0.013904678322234305,
          0.06887446081887419,
          0.08370247148080405,
          0.06295893867633318,
          -0.032201172278867186,
          -0.06305156463210887,
          -0.1119883502399732,
          -0.02702761219751422,
          -0.03846400319486841,
          0.02009606250626182,
          0.0971984150155873,
          0.027437910338284327,
          0.05745881632361428,
          -0.16937361567203946,
          -0.13776833518364326,
          0.1401893634443449,
          -0.16782353150028953,
          -0.025869045646525445,
          -0.3159882547760933,
          0.081843940376957,
          -0.2630998363351973,
          -0.16189669883381058,
          0.015226826258021037,
          -0.02474346263140486,
          0.10699525785991458,
          -0.12631335590132986,
          0.09046565259637042,
          -0.20784557629250394,
          0.1063029259009049,
          0.08458537066233628,
          -0.033011522641521324,
          0.035658673374498344,
          -0.035861724399693165,
          0.04112320467970736,
          0.07350261451774681,
          -0.10044791342127106,
          0.11702822630349785,
          -0.004312207379206493,
          -0.152561307115494,
          -0.05053989735449271,
          0.01257195466880132,
          0.042337377357166736,
          -0.11453747825949842,
          -0.12138534281214615,
          0.04312508061509108,
          -0.13061488008581246,
          -0.008861544024927842,
          0.07231935407747539,
          0.05280179498570463,
          -0.03048347086496038,
          -0.02035461525315242,
          0.05462239118864433,
          -0.09697401607142396,
          0.09140106470174283,
          -0.21258425279622328,
          0.047668771326888563,
          0.2091761099425875,
          0.10599561548568733,
          0.061798375893794374,
          -0.0729201903242153,
          0.03688834702777638,
          -0.0070331577175006795,
          0.13015892468618048,
          0.02710743179090845,
          -0.15257391299676593,
          -0.3844924899628493,
          0.05922279879380835,
          0.07882175605294345,
          -0.2305897316980204,
          -0.0770826228774993,
          0.07687882670979942,
          -0.2804505546728252,
          0.007562643106244756,
          -0.20345766467092447,
          -0.17575266188647748,
          0.09078004901620497,
          0.0024363632232101127,
          -0.03695264877464589,
          0.12305532044840352,
          0.06758683932457553,
          0.12308062018762216,
          -0.20582695537743656,
          0.02475519006225773,
          -0.008068440481608891,
          -0.03300803993739916,
          0.031660264638973666,
          -0.1709683829844773,
          -0.25631996575475124,
          0.03476334879219749,
          -0.09923340588037473,
          0.04540564327976628,
          0.11125960908640084,
          -0.1941033146213036,
          -0.0593169580378029,
          0.0565231898075659,
          -0.20776480192018654,
          -0.16116048630691035,
          0.07396882766968117,
          -0.263528916344899,
          0.01622464854222017,
          -0.07487895645782949,
          0.08255146215332701,
          0.051761440977064484,
          -0.3282104442047845,
          0.03390183535059763,
          0.04863492119403167,
          0.17529570367293484,
          -0.0945059238237168,
          0.07416823954805668,
          0.17492783965130562,
          -0.4274124241893533,
          -0.04405915206546894,
          0.0019744181473818393,
          -0.07525619783974652,
          -0.07378008255388828,
          0.05412381717856834,
          0.04221243734134051,
          -0.03774591493517015,
          -0.1361361482486467,
          -0.14213948923070185,
          -0.13576766629046813,
          -0.17752089942230798,
          0.0948392828566498,
          -0.038464186514532615,
          0.12745826889064002,
          -0.012420454966217357,
          -0.05102805927574432,
          0.03657895876643293,
          -0.0621374564938496,
          -0.157192797339696,
          -0.13115124903815187,
          -0.07769808757125228,
          0.1033590068956373,
          -0.03175778117998607,
          0.09315009445968328,
          0.10701603490386703,
          -0.17585827192765435,
          0.041326512964518884,
          -0.33776212340987394,
          -0.14880393605567313,
          -0.17278591345450306,
          0.09793211896071084,
          0.09954918408519836,
          -0.13801959108834658,
          -0.11634789713989925,
          0.018033351045308555,
          0.013216013500984256,
          -0.03688897674046313,
          -0.21616457743312648,
          -0.004051231045562868,
          0.10335309386723493,
          -0.12403978172731472,
          0.004677858184035562
         ],
         "y": [
          0.5610607297961128,
          0.11663796766211905,
          0.22996294902502215,
          1.0664455830891917,
          0.12416531190069395,
          -0.013980181673614115,
          -0.11120151440788167,
          -0.05451981785867623,
          0.1733294754318816,
          -0.07471972279842577,
          0.2529018609388465,
          0.16664187554436366,
          0.14801051130455076,
          0.06790279926004955,
          1.1965085531258501,
          0.026466092471717224,
          0.6478665391968556,
          0.41475766624423743,
          -0.09504058397779078,
          0.11724276909970376,
          -0.07144674444251121,
          0.4582873752193573,
          0.17436105502830498,
          -0.022917150778108485,
          -0.020200665324331776,
          0.8686896062778126,
          0.2873477148391153,
          0.8348103283601187,
          -0.029016964978507517,
          0.3733633519145307,
          0.0313438984427209,
          -0.055795604699199364,
          0.2745469742194406,
          0.023653183033895155,
          0.012203795695369769,
          0.3466919090674749,
          -0.0979265904457741,
          0.7506055672108556,
          0.0651522490903392,
          0.3059967044205569,
          -0.035636327985718086,
          0.15369279431412136,
          0.4724226153591791,
          0.8901394405868562,
          0.7747321765467252,
          -0.060287770177293074,
          0.3056070978394178,
          0.07570207433567924,
          -0.0853707103673969,
          0.05360417250590768,
          0.4902577270875056,
          0.17578890683410398,
          0.05534235255272518,
          0.04005012352742302,
          0.9373436487234826,
          -0.07889703400511414,
          0.09625900063029293,
          0.07497596481672265,
          0.7150836602975116,
          -0.09155278710200633,
          0.3534589918959848,
          -0.022717672746475213,
          0.1418336355727647,
          -0.04068346071732661,
          0.10566038880127727,
          -0.006539040449816478,
          0.3629439071293011,
          -0.11138334782869387,
          0.33877454855493483,
          0.08392662435168256,
          -0.11448462307175045,
          0.022655391086550743,
          -0.06314087199202788,
          0.12030455478273028,
          0.25255929717241105,
          0.11538382870238155,
          -0.03658917408946167,
          -0.051033759069947546,
          -0.03663059018265187,
          1.1498805758915838,
          -0.06976317440193078,
          0.5440828280810623,
          0.33896285332094805,
          0.7632210803619456,
          0.032215438403820566,
          -0.06734507528910287,
          0.6580526558912649,
          0.017344673955869198,
          -0.051649568809425145,
          0.4567032318506157,
          0.8499322594188302,
          -0.022127182864690103,
          0.12828881170221587,
          -0.012789993845444506,
          0.4082119709692716,
          0.3360542145392232,
          0.6670007956953389,
          0.013719758622765012,
          0.4492326028326159,
          -0.038085173530696736,
          0.08345283402484574,
          0.07876449585887974,
          0.1041807714234039,
          0.8688999047680701,
          0.034723768152885214,
          0.21080902174577068,
          0.4112457710778709,
          0.4923378514844806,
          -0.011364921003637262,
          0.08045262269072448,
          -0.006595395470152667,
          0.27587731139707056,
          0.3711470034288609,
          0.051343170525269995,
          0.6020637991376152,
          0.16996188886610633,
          0.12220260209519646,
          0.09168213538763977,
          0.09793512571385496,
          0.018301597683885836,
          0.06448317172749138,
          0.3572531174080827,
          0.7547508345046177,
          0.3997060092601633,
          -0.052438453378346864,
          0.6792477845462105,
          -0.10991335374304488,
          0.8873497549838408,
          0.3386998415533695,
          1.0351235463594979,
          0.8645786091433281,
          -0.04641818884636082,
          0.3803645427831352,
          0.009442882386131836,
          0.7017673224105414,
          0.005029185211112903,
          0.8274318114631506,
          -0.10263197810757196,
          0.1427059467372369,
          0.16169582613901878,
          0.06772298898562974,
          0.02204345673987244,
          0.23771673179690975,
          -0.06350151819425523,
          0.7532514340032607,
          0.375730789567572,
          0.3951691173691164,
          0.619174761919582,
          0.05887324880571462,
          0.4914314860979288,
          0.3654115262175937,
          0.7914802329197368,
          0.8123362695869727,
          -0.10318139162168877,
          0.8187273267678344,
          0.1732035148452206,
          0.4137543301471479,
          -0.027570685909350662,
          0.7938218373597551,
          0.09802405858162076,
          0.06741764193938232,
          -0.02381153030484034,
          0.14703845120077638,
          0.822332486394812,
          -0.013063665563546026,
          0.12669339930408846,
          0.06936366387483729,
          0.017082005916620062,
          0.3064689932684202,
          0.27189535240015883,
          0.2285880133361692,
          0.013366902534986685,
          0.06268399977757604,
          0.8061255844167338,
          1.0466879899095372,
          0.07715712911233202,
          0.029170886141463362,
          0.8389064789876667,
          0.7475365635330639,
          0.44535904317298747,
          0.954478466049586,
          -0.06529586077339128,
          0.7634190197422006,
          0.8513839822287591,
          0.1185614980145824,
          0.15619444557935802,
          -0.009109547440130056,
          0.12144708759533213,
          0.5420122923822537,
          0.4022375537347457,
          0.8159444414354068,
          0.17105349884217522,
          0.15074328129856548,
          0.17639223827638315,
          0.2846197865128933,
          0.5996729387847621,
          0.8405382804563063,
          0.10034862413992317,
          0.3036310811333421,
          -0.03871238082093986,
          0.03543098396955118,
          0.7637988449656745,
          0.23067160258349134,
          0.007169407385342014,
          0.3948757877908025,
          0.8061084730957682,
          0.12790827709926508,
          0.6018900288290456,
          0.31345673637881144,
          0.16786368818103328,
          -0.0165109938679801,
          0.0032183414239593273,
          1.0749363419471598,
          0.16140791413432642,
          0.5008343301936456,
          -0.04472006759146062,
          0.5942322906516148,
          0.07089800378744537,
          -0.06405159953757981,
          1.2866379231963825,
          0.16660939081228632,
          -0.030151861870544687,
          0.30472524329156536,
          0.2850156709040759,
          0.3066828703915341,
          0.26632357330112305,
          -0.1852575926745793,
          0.3663877729738721,
          0.5767090549617131,
          0.3473571559007205,
          0.7877589178657081,
          0.11064685727753168,
          0.26541367408680105,
          -0.04623934764668567,
          0.02849294707522373,
          0.5465794114215999,
          0.27436242827710394,
          0.17202665185831556,
          0.1753374281705712,
          0.33585251780004904,
          0.3091311765119049,
          0.07628074494591276,
          -0.0952236586783822,
          -0.021757957650448728,
          0.018894692187041626,
          0.3877371235248076,
          0.14835211972498047,
          1.0221730177020265,
          0.5710438694563433,
          0.5351432231728857,
          0.07692328064942461,
          0.031146055059633918,
          0.7660084480464621,
          0.723166558260789,
          0.057615959051391524,
          0.053330151609586936,
          -0.0036477705082321975,
          0.5974560281019782,
          -0.015817967264659897,
          0.1473990292248024,
          0.7612572993602018,
          0.06492332114713864
         ],
         "z": [
          0.3252245567159421,
          0.03265286736203798,
          -0.04456693146275093,
          1.02226825713929,
          -0.04842163195093074,
          -0.2196714989989068,
          -0.23935500415109004,
          -0.2260505779746102,
          0.04636741486469849,
          -0.22401316562891171,
          -0.7588356607692106,
          -0.06985509289576446,
          -0.08761463962861911,
          -0.12438031622558625,
          0.7700173323109588,
          -0.3069796390412877,
          -0.8525284585445028,
          -0.9628637065573578,
          -0.3200006980326305,
          -0.12641061771832585,
          -0.2886294002696182,
          -0.7907253807106697,
          -0.08320997350495044,
          -0.32452484151193606,
          -0.2441785308054069,
          0.9550348870884652,
          -0.7248971984848093,
          0.7244613637706084,
          -0.26775544631172005,
          -0.9326704909979241,
          -0.1633309938641297,
          -0.2659561847794487,
          -0.8596368808729611,
          -0.20314188119866505,
          -0.23472158369196025,
          -0.8063517479541712,
          -0.2312633545465501,
          -0.4720361082171983,
          -0.2684777265951535,
          -0.9994532002841136,
          -0.2704173695773373,
          0.05460621040912407,
          -0.8918748293779919,
          0.8529292188132305,
          0.5718361472443936,
          -0.20649528551915675,
          -0.7218436782663548,
          -0.06065590016945136,
          -0.20732033187326915,
          -0.023975524495610863,
          -0.7492417918804369,
          -0.109025410748997,
          -0.2549578745922624,
          -0.12405598462271432,
          0.9963320570531448,
          -0.3146058703220969,
          -0.17672937415959167,
          -0.09142425349011102,
          0.4913147721294802,
          -0.2821465191449475,
          -0.9802954256029917,
          -0.2017089766536281,
          0.04149617209934707,
          -0.20370325393911606,
          -0.04352680998110519,
          -0.2747349067331799,
          0.10960573909414628,
          -0.2926783003606657,
          -0.6581997763592489,
          -0.04950496649884584,
          -0.3060635430936504,
          -0.2985090421480883,
          -0.3305008247650267,
          -0.08251978058137481,
          0.019095395900688632,
          -0.01348087989912275,
          -0.286458843359204,
          -0.2846868002597965,
          -0.29164743584868874,
          0.8701897742772849,
          -0.21731021958820254,
          -0.7387961163078036,
          -0.8087097902041592,
          0.6416634971311347,
          -0.13828862839672848,
          -0.3668136254937886,
          0.5070489860568719,
          -0.2669434397759768,
          -0.4195330334608667,
          -0.7242436359272498,
          0.7812266818658452,
          -0.29495913020165604,
          0.08709940735068361,
          -0.15620623159636393,
          -0.7632440455761323,
          -0.8028117152624089,
          -0.39154455968779217,
          -0.2569120275650855,
          0.053266768226548265,
          -0.19758600695991385,
          -0.1990478486639292,
          -0.12795664126715675,
          -0.09263903500966143,
          -0.5886684774077744,
          -0.3774556124879254,
          0.16860757017358646,
          -0.8657477772082884,
          -0.6905150232639128,
          -0.16058003541717766,
          -0.05603267155654594,
          -0.2342894206895133,
          -0.7196023622877574,
          -0.9674633171943988,
          -0.14046767832602844,
          -0.7988151751979571,
          0.13878738144999286,
          0.0036098738449538343,
          0.03892090249437374,
          -0.11525973865567568,
          -0.25655436978104457,
          -0.28757781004644983,
          -0.8365795958310029,
          -0.501545018112877,
          0.2749775532359033,
          -0.2518741223673246,
          -0.7155981999000303,
          -0.219876884161256,
          0.8710386441924037,
          -0.9371486550631528,
          0.6342134674831255,
          0.4615534704900915,
          -0.2479209479440918,
          0.0013689726137596158,
          -0.17939355915698355,
          0.5180692334253019,
          -0.27085068764736864,
          -0.4893107053713388,
          -0.2349830090985733,
          -0.0961285501227461,
          0.07984347409993077,
          -0.189419999089651,
          -0.1486577124128123,
          -0.03853249095879796,
          -0.2433398983698465,
          0.6409095420650371,
          -0.9162120020256296,
          -0.7543774865972537,
          0.5615456436470111,
          -0.09430266177643636,
          -0.8128705304030834,
          -0.7849660969321817,
          0.7889139419209016,
          0.7003891107127916,
          -0.2420812880903511,
          0.6147365857125789,
          -0.17266814467261996,
          -0.9268465567051803,
          -0.2790510965831509,
          0.6081058833826641,
          -0.23691742098989965,
          -0.19824960573211445,
          -0.12769574398080194,
          -0.0834805683827264,
          0.8142800122411052,
          -0.3548037989240981,
          -0.08482236575946167,
          -0.19520935340803225,
          -0.26012724310370056,
          0.34304838230530704,
          -0.7293859238664682,
          -0.16063574670773756,
          -0.19112207987439084,
          -0.1399519021781647,
          0.7728651829731328,
          0.7473643152949978,
          -0.30316805832705235,
          -0.12474173357956425,
          0.6092605752379124,
          0.3148826012827849,
          -0.6948857970131901,
          0.7674642661961719,
          -0.21599020949080694,
          0.6055285139392308,
          0.455051668215852,
          -0.028607052977556963,
          0.14583580183251071,
          -0.2677316887934557,
          -0.17014913827633615,
          -0.49645411680127,
          -0.8761350709952195,
          0.7767833542233524,
          -0.09052081724886886,
          -0.03265991991065643,
          -0.029511177385016144,
          0.11268643010643226,
          0.3807528276404059,
          0.7842688655608352,
          0.06602391769639933,
          0.21642226281496935,
          -0.23771576982899614,
          -0.19739788935766064,
          0.6863735079501662,
          -0.049538860295679936,
          -0.20087495591368967,
          0.4039732468453526,
          -0.5893105077476583,
          -0.07706304237884819,
          0.5158083385280509,
          -0.8887694792361878,
          -0.05194529400134642,
          -0.2697558539901917,
          -0.2774018475790451,
          0.7844256296880666,
          0.08860190776428525,
          -0.8074270574602466,
          -0.33313252591337633,
          0.4033360831026333,
          -0.01784770173855901,
          -0.2253118510319917,
          0.8746491762118174,
          -0.09707949307246018,
          -0.04618672911908537,
          -0.06672636954794431,
          0.2027674127879778,
          -0.7032762443378533,
          -0.8649570011804742,
          -0.1276515430449225,
          0.04227963227894591,
          -0.6737507737569611,
          -0.009646357496776696,
          0.4820055254859393,
          0.05883120695356854,
          0.16451428669897458,
          -0.32049870472472125,
          -0.2904954927825734,
          -0.8989195967492418,
          -0.8107991457265022,
          -0.20240141406115875,
          0.06377162808638931,
          0.4187452926358444,
          0.2285713030659687,
          -0.4172867985584114,
          -0.2004488658598677,
          -0.41562359494225976,
          -0.10998948240996424,
          0.3372432798459198,
          0.001012012648594506,
          0.7280889211029532,
          -0.6036121551277156,
          0.2498109055757169,
          -0.043532735278304105,
          -0.4158463543260707,
          0.6336963454709008,
          0.5756074158250656,
          -0.050251086387225405,
          -0.13084366684016396,
          -0.1196591272665262,
          0.3935868198159611,
          -0.15029874718482086,
          -0.14748550300316526,
          -0.6264004391547979,
          0.02855073609822145
         ]
        },
        {
         "hovertemplate": "food_group=Pork<br>PC_2=%{x}<br>PC_3=%{y}<br>PC_4=%{z}<extra></extra>",
         "legendgroup": "Pork",
         "marker": {
          "color": "#ab63fa",
          "size": 3,
          "symbol": "circle"
         },
         "mode": "markers",
         "name": "Pork",
         "scene": "scene",
         "showlegend": true,
         "type": "scatter3d",
         "x": [
          0.18862233705544632,
          0.3162633748118641,
          0.3942912756200351,
          0.38962899722979405,
          0.3944490436503677,
          0.45110595734672293,
          0.1905680991964276,
          0.3974787393069496,
          0.3816122812009336,
          0.2958354582935655,
          0.0951526608048818,
          0.27748110630938155,
          0.3963044987746976,
          0.333223676310048,
          0.337502604239335,
          0.39902982414427135,
          0.29383665388544583,
          0.2738630209452801,
          0.3989099589855149,
          0.3815405271307474,
          0.3388243160678321,
          0.3111857544442288,
          0.2575203831899421,
          0.4269957152685312,
          0.3730315965080343,
          0.2689015894221347,
          0.4245328987181805,
          0.3364710612481188,
          0.33619991647173736,
          0.4953875562006382,
          0.4226281367080647,
          0.3158692995289273,
          0.32736954708516625,
          0.2407012847894035,
          0.3953564556716741,
          0.4406149749069887,
          0.3319229602196552,
          0.1711546990617078,
          0.3011763668231353,
          0.3693617344303397,
          0.4132832329602693,
          0.3445433034500059,
          0.3680629549300948,
          0.3757132447472812,
          0.22050840731755736,
          0.4011444150979989,
          0.3595680816294641,
          0.2256887650765001,
          0.41766516796487213,
          0.4348054820097976,
          0.13651717459515642,
          0.1980099080640053,
          0.2907454469961123,
          0.3469483638255897,
          0.3312989166922846
         ],
         "y": [
          0.017877318734456627,
          -0.09328456992547923,
          -0.0023157276471670665,
          -0.19780132792021413,
          -0.1534385147116171,
          -0.2555193867987415,
          0.1158528812510973,
          -0.0901474459006814,
          -0.15602040593396918,
          -0.04061713741827593,
          0.08278516286132273,
          -0.10838917261146198,
          0.00005097569724537382,
          -0.11543269862797732,
          -0.032687953930586065,
          -0.17562856851234887,
          -0.2065351200820056,
          -0.1413669721745676,
          -0.2287830655619276,
          -0.1517157468301857,
          -0.04780550101361365,
          -0.16494495248810795,
          -0.09871677186377384,
          -0.2228612067094172,
          -0.2821997208744513,
          0.024881566795040062,
          -0.14436390290036524,
          -0.19632073342141024,
          -0.14868624473602685,
          -0.06818254830951895,
          -0.13981157077124576,
          0.06987244351417465,
          -0.1439782223442646,
          -0.20306185041455554,
          -0.1599795183666476,
          -0.2417071803273412,
          -0.2109766375532661,
          0.25726782437023604,
          0.04447646818377133,
          -0.17100533648244584,
          -0.17839893717747138,
          -0.1613664064625803,
          -0.1310433283430581,
          -0.2485170576088193,
          -0.0035532425736419368,
          -0.15181829306886013,
          -0.16964907011628874,
          -0.06304143214795281,
          -0.1486939500066437,
          -0.15793230967692928,
          -0.0049269349165539066,
          0.06518730806778422,
          -0.1870477613034225,
          -0.1949851255919417,
          -0.12860177220831892
         ],
         "z": [
          0.25899764094162586,
          0.20783372050588714,
          0.15214956868508253,
          -0.10511206235965533,
          -0.07967738112685224,
          0.003536311611398256,
          0.19568714882121194,
          0.05276302736232511,
          0.05786953362124046,
          0.12116896279960428,
          0.2601034534109346,
          0.07274189682031759,
          0.16038796582844986,
          0.048542614878508236,
          0.2910255207472848,
          -0.0004354994013409951,
          -0.06568406005298473,
          -0.07176135270774353,
          -0.02216229801349696,
          -0.07498434095278894,
          0.08018339803781001,
          0.12718333152971015,
          0.1060648289657405,
          -0.04193198555765435,
          0.04705117077316148,
          0.1278506315404989,
          -0.10792768315062637,
          -0.025657708888485085,
          -0.08523538154754665,
          0.032441468407356934,
          0.07499220114724425,
          0.4881401479446051,
          0.15877034124835745,
          0.07452385244550504,
          0.060508663494219926,
          -0.01991239893140114,
          0.0026262739829307,
          0.3502921158782121,
          0.3864382614007374,
          -0.018583029319017945,
          -0.034548967297264095,
          0.02605286164998865,
          0.020701197898857708,
          -0.06703466812103501,
          0.2647412500484384,
          -0.04909260348637398,
          0.07489844619994819,
          0.3315202302688216,
          0.022630879326271044,
          -0.008021968176396933,
          0.3694184610078832,
          0.3628482222796521,
          -0.07622271290676644,
          -0.07101335775452909,
          0.06287225372814538
         ]
        },
        {
         "hovertemplate": "food_group=Fish<br>PC_2=%{x}<br>PC_3=%{y}<br>PC_4=%{z}<extra></extra>",
         "legendgroup": "Fish",
         "marker": {
          "color": "#FFA15A",
          "size": 3,
          "symbol": "circle"
         },
         "mode": "markers",
         "name": "Fish",
         "scene": "scene",
         "showlegend": true,
         "type": "scatter3d",
         "x": [
          -0.2391372071871967,
          -0.21193688279712655,
          -0.4690995771316322,
          -0.08505148603817078,
          -0.20360972049284268,
          -0.4264613600065321,
          -0.17718062450414593,
          -0.25285877245647104,
          -0.32696147687120397,
          -0.311911848907354,
          -0.09010671823892763,
          -0.15223089538019036,
          -0.3050069430751437,
          -0.29304031803154906,
          -0.10127007500476463,
          -0.0017165496936546471,
          -0.4632096772649446,
          -0.3934827817082013,
          -0.1321137609575031,
          -0.3373749825527874,
          -0.16277345859735298,
          -0.07592198427574402,
          -0.15256958705028054,
          -0.09782561844839983,
          -0.3096143248647211,
          -0.23138855704903386,
          -0.1748465700435172,
          -0.2259970105641025,
          -0.2238891981447744,
          -0.22856573200169697,
          -0.09685145817313284,
          -0.23349365863240226,
          -0.18736793015770786,
          -0.328842143151486,
          -0.4398870825535997,
          -0.1331913302075735,
          -0.3126063737037101,
          -0.2049117261208624,
          -0.0777829848710079,
          -0.4160655926616481,
          0.004536429949195762,
          -0.4722707481190102,
          -0.21814419139673769,
          -0.3223055410159339,
          -0.1040155647791983,
          -0.3175688724425547,
          -0.30339812991796306,
          -0.2037160093575396,
          -0.19709986766465126,
          -0.1854398245538815,
          -0.2980278310827328,
          -0.3813599212147548,
          -0.4619533717433534,
          -0.5044786060901962,
          -0.15877793552677266,
          -0.32677970473924245,
          -0.2592954291012987,
          -0.2798467874461569,
          -0.27932033442613896,
          -0.4182426190292182,
          -0.09255219326406056,
          -0.21046294133165955,
          -0.44413783259736783,
          -0.19799381599636606,
          -0.24316254065295026,
          -0.39646642102869983,
          -0.18001346372058302,
          -0.5760517228139407,
          -0.3770154431273211,
          -0.17572314432939848,
          -0.4409614011322024,
          -0.3172496881206547,
          -0.21513185628020867,
          -0.37116196917442257,
          -0.3388022374293216,
          -0.4251887828066942,
          -0.3112029876128026,
          -0.22447550716853476,
          -0.1749863644540952,
          -0.3452243372954465,
          -0.2600687726984446,
          -0.6072541024311449,
          -0.2155539597318379,
          -0.4867786101249674,
          -0.3510631713131614,
          -0.4755148055789434,
          -0.4187334500418271,
          -0.5867212780019216,
          -0.17931689431429693,
          -0.725730030714147,
          -0.3380678443052132,
          -0.43091559696764825,
          -0.4613757186671695,
          -0.2723596790180375,
          -0.12609331163129556,
          -0.3887811623364919,
          -0.4781079268734104,
          -0.3501123189099765,
          -0.2075621865531815,
          -0.4344314947823608,
          -0.30889148917340997,
          -0.15129114558137352,
          0.019885369126602208,
          -0.09510210508039572,
          -0.5229816375268455,
          -0.2522878022362729,
          -0.5275459447100224,
          -0.3896375844083617,
          -0.4713572405855935,
          -0.3639467691181789,
          -0.5922857562769391,
          -0.5421169980199431,
          -0.5823643650066956,
          -0.3548490259128056,
          -0.31558307301838273
         ],
         "y": [
          -0.3278076968420584,
          -0.5515724377217838,
          0.023168110989311225,
          -0.18955167945394685,
          -0.5652134807736519,
          -0.7694258833224278,
          -0.5697779039745974,
          -0.36195512485721937,
          -0.7068404909153467,
          -0.4427355799187776,
          -0.27058482511416115,
          -0.34806622851284913,
          -0.4885560754059101,
          -0.025256364135087587,
          -0.3097355277055189,
          -0.2277797680135771,
          -0.6010538510952134,
          -0.6663118054841284,
          -0.42406528418604267,
          -0.1776175345152716,
          -0.44965623718443865,
          -0.19148382511919107,
          -0.13904059734035462,
          -0.2557259291886357,
          -0.4287655039138403,
          -0.6468807145487452,
          -0.5996712885996256,
          -0.5725640526386327,
          -0.2617394809864269,
          -0.5862248963634674,
          -0.3807813772385116,
          -0.5713388671141152,
          -0.3857004015774371,
          -0.275201185956883,
          -0.6948853808014737,
          -0.5565108136221403,
          -0.19801397171816396,
          -0.408409237816302,
          -0.4137601330944609,
          -0.622068282490897,
          -0.15729261510282858,
          -0.6256927661584353,
          -0.6632608361280115,
          -0.792191247828721,
          0.2960670568562941,
          -0.7492239162630268,
          -0.055764818725963325,
          -0.6382535213723629,
          -0.6190457614240401,
          -0.3767184395709571,
          -0.3893177552712832,
          -0.7339583553334521,
          -0.5995477987826173,
          -0.651152697951804,
          -0.4040775550718289,
          -0.2478177102494751,
          -0.5127167396694495,
          -0.4496433860198956,
          -0.5082611198582254,
          -0.5634665550511709,
          -0.4190282826296088,
          -0.400161474891798,
          -0.10522714198361632,
          -0.3950226379215222,
          -0.5406948710878695,
          -0.740935006858194,
          -0.6693147399811511,
          -0.5256780682859098,
          -0.3321820396939985,
          -0.4434346378648154,
          -0.6037234124301264,
          -0.7736693146745078,
          -0.30626016478834595,
          -0.7209904600363763,
          -0.4169477736650891,
          -0.5950418400125401,
          -0.7067723855634059,
          -0.5415247220913794,
          -0.330104935896166,
          -0.7430844815355738,
          -0.5583381901262975,
          -0.5366158921377713,
          -0.5347272779313401,
          -0.5521945602401506,
          -0.6765373540306971,
          -0.7752533223888801,
          -0.9192346956894342,
          -0.4835956273768005,
          -0.590668451067089,
          -0.2557178209781237,
          -0.44577263308605103,
          -0.7658087723414108,
          -0.8971458101564401,
          -0.5372816738294327,
          -0.4797463667842966,
          -0.6499643036609908,
          -0.7479807696527823,
          -0.5023419282730857,
          -0.6287408699952127,
          -0.758019999677854,
          -0.3890342443069081,
          -0.5281055628178206,
          -0.2484005311184651,
          -0.5011303869244766,
          0.048561497063234316,
          -0.4581003445320419,
          -0.5751416591246336,
          -0.7468246024413051,
          -0.6829743979854457,
          -0.8051650713445179,
          -0.5137747760626721,
          -0.5719643805462542,
          -0.5403697319418327,
          -0.8415861655828913,
          -0.5065861883792986
         ],
         "z": [
          0.2054930932933355,
          0.06720254147582899,
          0.3274267431800761,
          -0.07235208182094463,
          0.061748798556244815,
          0.25504197870961304,
          0.1472825704719156,
          0.08285567037452797,
          0.3917634142187987,
          0.2430620687988445,
          0.017000998698582515,
          0.06956601361202719,
          0.08520556939074382,
          0.15091382918336346,
          -0.1685882014960841,
          -0.1236849360636632,
          0.4815016905238863,
          0.2645647831477965,
          -0.09052351084736276,
          0.3610767052574859,
          0.04710438560622282,
          -0.027401040253616414,
          0.049037477653274535,
          -0.1183295852035618,
          0.20565256879857385,
          0.039958828964559136,
          0.04763124986877665,
          0.22014525304789248,
          0.11741269667375558,
          0.0410820061726128,
          -0.06860849553073772,
          0.0330008602006758,
          0.22290533947980706,
          0.2066472419956506,
          0.4458243169583575,
          -0.0052144360969153215,
          0.3349048239879928,
          0.26076600520747506,
          0.005264334473707774,
          0.09032683329573883,
          -0.051692954037578766,
          0.4636651903223935,
          0.07084553042147992,
          0.2801145766219288,
          -0.09773315800722196,
          0.14296632361762435,
          0.20818349720541815,
          0.02745493176418276,
          0.057360989050130914,
          0.1510819214698423,
          0.1675156703962349,
          0.1080013070510971,
          0.5521784627068438,
          0.4146810168720514,
          0.022273295124182062,
          0.3781371902322352,
          -0.00419465570501519,
          0.06320756266412032,
          0.020772639545564315,
          0.43133107952165184,
          -0.010456470467325387,
          0.05695002009670476,
          0.19615391974143506,
          0.0695249996132914,
          0.11463859221105027,
          0.2268576434123106,
          0.019809023475960356,
          0.3353772186941539,
          0.323902312080631,
          0.10169403944854387,
          0.44975304617294426,
          0.23470195046815026,
          0.012099170023122028,
          0.134588239275492,
          0.3399378848572775,
          0.25750016170262074,
          0.19266786220090446,
          0.12183135898948608,
          -0.06513115123929676,
          0.16590147036473696,
          0.054038413377333006,
          0.6246098279300487,
          0.12565224692995802,
          0.4868278923196589,
          0.18637773005918565,
          0.2959474810816195,
          0.20958795304511302,
          0.7535476483702976,
          0.1869951344971623,
          0.7366905269375439,
          0.34904326832647,
          0.19070748094411044,
          0.3016114787077505,
          0.1275892435100262,
          0.03480022562564124,
          0.4459191810106473,
          0.2924917979530117,
          0.15179251319091652,
          0.055141300604091774,
          0.20448193876056897,
          0.13139214806094734,
          0.02727726323787712,
          -0.17910013987015785,
          0.01338368957291694,
          0.5220450047883632,
          0.15206211219487828,
          0.4557345247350052,
          0.16970140773792994,
          0.3525523674646136,
          0.16680122604513667,
          0.31304804573974804,
          0.6293675210945426,
          0.5271701019999985,
          0.13515159437540322,
          0.1961091628395641
         ]
        },
        {
         "hovertemplate": "food_group=Lamb<br>PC_2=%{x}<br>PC_3=%{y}<br>PC_4=%{z}<extra></extra>",
         "legendgroup": "Lamb",
         "marker": {
          "color": "#19d3f3",
          "size": 3,
          "symbol": "circle"
         },
         "mode": "markers",
         "name": "Lamb",
         "scene": "scene",
         "showlegend": true,
         "type": "scatter3d",
         "x": [
          0.44207329103106574,
          0.43144761377188795,
          0.3776446613600311,
          0.6056021251217228,
          0.4401453418449613,
          0.3173127934009787,
          0.5328736657988487,
          0.2317315145102573,
          0.3203558462734144,
          0.3536431046904525,
          0.30228357539369594,
          0.3743549990979319,
          0.39136051557494783,
          0.4099553063789457,
          0.3326443728873447,
          0.4780410937884328,
          0.3845108494695168,
          0.539444511256623,
          0.4776912614864264,
          0.2598655895823752,
          0.3557763962769728,
          0.4258028059498363,
          0.2959374057387851,
          0.40197244386296777,
          0.39042997190620793,
          0.4242375049719296,
          0.4382184925457445,
          0.3317867831656446
         ],
         "y": [
          -0.0975052498684233,
          -0.08261409432348737,
          -0.1611114818511681,
          -0.22600250237453315,
          -0.17454247240360382,
          -0.04853357128471959,
          -0.20196275164495173,
          -0.0064783704936557,
          0.030742410138711887,
          -0.15607516790182768,
          0.008889365756787417,
          -0.20414036915145087,
          -0.2574427523152773,
          -0.12739828279438314,
          -0.00017836014187993387,
          -0.14946729330097178,
          -0.104883696187378,
          -0.18497420445509252,
          -0.18943164473271976,
          -0.07957495284449481,
          -0.16414522782121269,
          -0.18124759250029407,
          -0.15234681448445633,
          -0.21446897584405172,
          -0.13139893165406294,
          -0.16971012346552727,
          -0.2070606857167324,
          -0.0587754409171302
         ],
         "z": [
          0.07770026940886142,
          -0.021350537324527536,
          -0.16926411503729089,
          -0.06757331041870318,
          -0.013191491621801095,
          -0.015018395745227153,
          0.017802080033819768,
          -0.019063848523791182,
          -0.0013830549618446607,
          -0.2236072332792841,
          0.10075240319275654,
          -0.0022732181371622985,
          -0.1368560087329167,
          -0.0446321386505405,
          -0.04232845870688067,
          -0.03244644307465697,
          -0.2613302620813202,
          -0.07582136084413423,
          0.11004635068682173,
          0.00839621794066718,
          -0.2011199359357133,
          0.034463628648187986,
          -0.10305033450428512,
          -0.15552243880260855,
          -0.015991886177184042,
          -0.137475017231835,
          -0.1725584627081573,
          -0.10465192925132456
         ]
        }
       ],
       "layout": {
        "legend": {
         "title": {
          "text": "food_group"
         },
         "tracegroupgap": 0
        },
        "margin": {
         "t": 60
        },
        "scene": {
         "domain": {
          "x": [
           0,
           1
          ],
          "y": [
           0,
           1
          ]
         },
         "xaxis": {
          "title": {
           "text": ""
          }
         },
         "yaxis": {
          "title": {
           "text": ""
          }
         },
         "zaxis": {
          "title": {
           "text": ""
          }
         }
        },
        "template": {
         "data": {
          "bar": [
           {
            "error_x": {
             "color": "#2a3f5f"
            },
            "error_y": {
             "color": "#2a3f5f"
            },
            "marker": {
             "line": {
              "color": "#E5ECF6",
              "width": 0.5
             }
            },
            "type": "bar"
           }
          ],
          "barpolar": [
           {
            "marker": {
             "line": {
              "color": "#E5ECF6",
              "width": 0.5
             }
            },
            "type": "barpolar"
           }
          ],
          "carpet": [
           {
            "aaxis": {
             "endlinecolor": "#2a3f5f",
             "gridcolor": "white",
             "linecolor": "white",
             "minorgridcolor": "white",
             "startlinecolor": "#2a3f5f"
            },
            "baxis": {
             "endlinecolor": "#2a3f5f",
             "gridcolor": "white",
             "linecolor": "white",
             "minorgridcolor": "white",
             "startlinecolor": "#2a3f5f"
            },
            "type": "carpet"
           }
          ],
          "choropleth": [
           {
            "colorbar": {
             "outlinewidth": 0,
             "ticks": ""
            },
            "type": "choropleth"
           }
          ],
          "contour": [
           {
            "colorbar": {
             "outlinewidth": 0,
             "ticks": ""
            },
            "colorscale": [
             [
              0,
              "#0d0887"
             ],
             [
              0.1111111111111111,
              "#46039f"
             ],
             [
              0.2222222222222222,
              "#7201a8"
             ],
             [
              0.3333333333333333,
              "#9c179e"
             ],
             [
              0.4444444444444444,
              "#bd3786"
             ],
             [
              0.5555555555555556,
              "#d8576b"
             ],
             [
              0.6666666666666666,
              "#ed7953"
             ],
             [
              0.7777777777777778,
              "#fb9f3a"
             ],
             [
              0.8888888888888888,
              "#fdca26"
             ],
             [
              1,
              "#f0f921"
             ]
            ],
            "type": "contour"
           }
          ],
          "contourcarpet": [
           {
            "colorbar": {
             "outlinewidth": 0,
             "ticks": ""
            },
            "type": "contourcarpet"
           }
          ],
          "heatmap": [
           {
            "colorbar": {
             "outlinewidth": 0,
             "ticks": ""
            },
            "colorscale": [
             [
              0,
              "#0d0887"
             ],
             [
              0.1111111111111111,
              "#46039f"
             ],
             [
              0.2222222222222222,
              "#7201a8"
             ],
             [
              0.3333333333333333,
              "#9c179e"
             ],
             [
              0.4444444444444444,
              "#bd3786"
             ],
             [
              0.5555555555555556,
              "#d8576b"
             ],
             [
              0.6666666666666666,
              "#ed7953"
             ],
             [
              0.7777777777777778,
              "#fb9f3a"
             ],
             [
              0.8888888888888888,
              "#fdca26"
             ],
             [
              1,
              "#f0f921"
             ]
            ],
            "type": "heatmap"
           }
          ],
          "heatmapgl": [
           {
            "colorbar": {
             "outlinewidth": 0,
             "ticks": ""
            },
            "colorscale": [
             [
              0,
              "#0d0887"
             ],
             [
              0.1111111111111111,
              "#46039f"
             ],
             [
              0.2222222222222222,
              "#7201a8"
             ],
             [
              0.3333333333333333,
              "#9c179e"
             ],
             [
              0.4444444444444444,
              "#bd3786"
             ],
             [
              0.5555555555555556,
              "#d8576b"
             ],
             [
              0.6666666666666666,
              "#ed7953"
             ],
             [
              0.7777777777777778,
              "#fb9f3a"
             ],
             [
              0.8888888888888888,
              "#fdca26"
             ],
             [
              1,
              "#f0f921"
             ]
            ],
            "type": "heatmapgl"
           }
          ],
          "histogram": [
           {
            "marker": {
             "colorbar": {
              "outlinewidth": 0,
              "ticks": ""
             }
            },
            "type": "histogram"
           }
          ],
          "histogram2d": [
           {
            "colorbar": {
             "outlinewidth": 0,
             "ticks": ""
            },
            "colorscale": [
             [
              0,
              "#0d0887"
             ],
             [
              0.1111111111111111,
              "#46039f"
             ],
             [
              0.2222222222222222,
              "#7201a8"
             ],
             [
              0.3333333333333333,
              "#9c179e"
             ],
             [
              0.4444444444444444,
              "#bd3786"
             ],
             [
              0.5555555555555556,
              "#d8576b"
             ],
             [
              0.6666666666666666,
              "#ed7953"
             ],
             [
              0.7777777777777778,
              "#fb9f3a"
             ],
             [
              0.8888888888888888,
              "#fdca26"
             ],
             [
              1,
              "#f0f921"
             ]
            ],
            "type": "histogram2d"
           }
          ],
          "histogram2dcontour": [
           {
            "colorbar": {
             "outlinewidth": 0,
             "ticks": ""
            },
            "colorscale": [
             [
              0,
              "#0d0887"
             ],
             [
              0.1111111111111111,
              "#46039f"
             ],
             [
              0.2222222222222222,
              "#7201a8"
             ],
             [
              0.3333333333333333,
              "#9c179e"
             ],
             [
              0.4444444444444444,
              "#bd3786"
             ],
             [
              0.5555555555555556,
              "#d8576b"
             ],
             [
              0.6666666666666666,
              "#ed7953"
             ],
             [
              0.7777777777777778,
              "#fb9f3a"
             ],
             [
              0.8888888888888888,
              "#fdca26"
             ],
             [
              1,
              "#f0f921"
             ]
            ],
            "type": "histogram2dcontour"
           }
          ],
          "mesh3d": [
           {
            "colorbar": {
             "outlinewidth": 0,
             "ticks": ""
            },
            "type": "mesh3d"
           }
          ],
          "parcoords": [
           {
            "line": {
             "colorbar": {
              "outlinewidth": 0,
              "ticks": ""
             }
            },
            "type": "parcoords"
           }
          ],
          "pie": [
           {
            "automargin": true,
            "type": "pie"
           }
          ],
          "scatter": [
           {
            "marker": {
             "colorbar": {
              "outlinewidth": 0,
              "ticks": ""
             }
            },
            "type": "scatter"
           }
          ],
          "scatter3d": [
           {
            "line": {
             "colorbar": {
              "outlinewidth": 0,
              "ticks": ""
             }
            },
            "marker": {
             "colorbar": {
              "outlinewidth": 0,
              "ticks": ""
             }
            },
            "type": "scatter3d"
           }
          ],
          "scattercarpet": [
           {
            "marker": {
             "colorbar": {
              "outlinewidth": 0,
              "ticks": ""
             }
            },
            "type": "scattercarpet"
           }
          ],
          "scattergeo": [
           {
            "marker": {
             "colorbar": {
              "outlinewidth": 0,
              "ticks": ""
             }
            },
            "type": "scattergeo"
           }
          ],
          "scattergl": [
           {
            "marker": {
             "colorbar": {
              "outlinewidth": 0,
              "ticks": ""
             }
            },
            "type": "scattergl"
           }
          ],
          "scattermapbox": [
           {
            "marker": {
             "colorbar": {
              "outlinewidth": 0,
              "ticks": ""
             }
            },
            "type": "scattermapbox"
           }
          ],
          "scatterpolar": [
           {
            "marker": {
             "colorbar": {
              "outlinewidth": 0,
              "ticks": ""
             }
            },
            "type": "scatterpolar"
           }
          ],
          "scatterpolargl": [
           {
            "marker": {
             "colorbar": {
              "outlinewidth": 0,
              "ticks": ""
             }
            },
            "type": "scatterpolargl"
           }
          ],
          "scatterternary": [
           {
            "marker": {
             "colorbar": {
              "outlinewidth": 0,
              "ticks": ""
             }
            },
            "type": "scatterternary"
           }
          ],
          "surface": [
           {
            "colorbar": {
             "outlinewidth": 0,
             "ticks": ""
            },
            "colorscale": [
             [
              0,
              "#0d0887"
             ],
             [
              0.1111111111111111,
              "#46039f"
             ],
             [
              0.2222222222222222,
              "#7201a8"
             ],
             [
              0.3333333333333333,
              "#9c179e"
             ],
             [
              0.4444444444444444,
              "#bd3786"
             ],
             [
              0.5555555555555556,
              "#d8576b"
             ],
             [
              0.6666666666666666,
              "#ed7953"
             ],
             [
              0.7777777777777778,
              "#fb9f3a"
             ],
             [
              0.8888888888888888,
              "#fdca26"
             ],
             [
              1,
              "#f0f921"
             ]
            ],
            "type": "surface"
           }
          ],
          "table": [
           {
            "cells": {
             "fill": {
              "color": "#EBF0F8"
             },
             "line": {
              "color": "white"
             }
            },
            "header": {
             "fill": {
              "color": "#C8D4E3"
             },
             "line": {
              "color": "white"
             }
            },
            "type": "table"
           }
          ]
         },
         "layout": {
          "annotationdefaults": {
           "arrowcolor": "#2a3f5f",
           "arrowhead": 0,
           "arrowwidth": 1
          },
          "coloraxis": {
           "colorbar": {
            "outlinewidth": 0,
            "ticks": ""
           }
          },
          "colorscale": {
           "diverging": [
            [
             0,
             "#8e0152"
            ],
            [
             0.1,
             "#c51b7d"
            ],
            [
             0.2,
             "#de77ae"
            ],
            [
             0.3,
             "#f1b6da"
            ],
            [
             0.4,
             "#fde0ef"
            ],
            [
             0.5,
             "#f7f7f7"
            ],
            [
             0.6,
             "#e6f5d0"
            ],
            [
             0.7,
             "#b8e186"
            ],
            [
             0.8,
             "#7fbc41"
            ],
            [
             0.9,
             "#4d9221"
            ],
            [
             1,
             "#276419"
            ]
           ],
           "sequential": [
            [
             0,
             "#0d0887"
            ],
            [
             0.1111111111111111,
             "#46039f"
            ],
            [
             0.2222222222222222,
             "#7201a8"
            ],
            [
             0.3333333333333333,
             "#9c179e"
            ],
            [
             0.4444444444444444,
             "#bd3786"
            ],
            [
             0.5555555555555556,
             "#d8576b"
            ],
            [
             0.6666666666666666,
             "#ed7953"
            ],
            [
             0.7777777777777778,
             "#fb9f3a"
            ],
            [
             0.8888888888888888,
             "#fdca26"
            ],
            [
             1,
             "#f0f921"
            ]
           ],
           "sequentialminus": [
            [
             0,
             "#0d0887"
            ],
            [
             0.1111111111111111,
             "#46039f"
            ],
            [
             0.2222222222222222,
             "#7201a8"
            ],
            [
             0.3333333333333333,
             "#9c179e"
            ],
            [
             0.4444444444444444,
             "#bd3786"
            ],
            [
             0.5555555555555556,
             "#d8576b"
            ],
            [
             0.6666666666666666,
             "#ed7953"
            ],
            [
             0.7777777777777778,
             "#fb9f3a"
            ],
            [
             0.8888888888888888,
             "#fdca26"
            ],
            [
             1,
             "#f0f921"
            ]
           ]
          },
          "colorway": [
           "#636efa",
           "#EF553B",
           "#00cc96",
           "#ab63fa",
           "#FFA15A",
           "#19d3f3",
           "#FF6692",
           "#B6E880",
           "#FF97FF",
           "#FECB52"
          ],
          "font": {
           "color": "#2a3f5f"
          },
          "geo": {
           "bgcolor": "white",
           "lakecolor": "white",
           "landcolor": "#E5ECF6",
           "showlakes": true,
           "showland": true,
           "subunitcolor": "white"
          },
          "hoverlabel": {
           "align": "left"
          },
          "hovermode": "closest",
          "mapbox": {
           "style": "light"
          },
          "paper_bgcolor": "white",
          "plot_bgcolor": "#E5ECF6",
          "polar": {
           "angularaxis": {
            "gridcolor": "white",
            "linecolor": "white",
            "ticks": ""
           },
           "bgcolor": "#E5ECF6",
           "radialaxis": {
            "gridcolor": "white",
            "linecolor": "white",
            "ticks": ""
           }
          },
          "scene": {
           "xaxis": {
            "backgroundcolor": "#E5ECF6",
            "gridcolor": "white",
            "gridwidth": 2,
            "linecolor": "white",
            "showbackground": true,
            "ticks": "",
            "zerolinecolor": "white"
           },
           "yaxis": {
            "backgroundcolor": "#E5ECF6",
            "gridcolor": "white",
            "gridwidth": 2,
            "linecolor": "white",
            "showbackground": true,
            "ticks": "",
            "zerolinecolor": "white"
           },
           "zaxis": {
            "backgroundcolor": "#E5ECF6",
            "gridcolor": "white",
            "gridwidth": 2,
            "linecolor": "white",
            "showbackground": true,
            "ticks": "",
            "zerolinecolor": "white"
           }
          },
          "shapedefaults": {
           "line": {
            "color": "#2a3f5f"
           }
          },
          "ternary": {
           "aaxis": {
            "gridcolor": "white",
            "linecolor": "white",
            "ticks": ""
           },
           "baxis": {
            "gridcolor": "white",
            "linecolor": "white",
            "ticks": ""
           },
           "bgcolor": "#E5ECF6",
           "caxis": {
            "gridcolor": "white",
            "linecolor": "white",
            "ticks": ""
           }
          },
          "title": {
           "x": 0.05
          },
          "xaxis": {
           "automargin": true,
           "gridcolor": "white",
           "linecolor": "white",
           "ticks": "",
           "title": {
            "standoff": 15
           },
           "zerolinecolor": "white",
           "zerolinewidth": 2
          },
          "yaxis": {
           "automargin": true,
           "gridcolor": "white",
           "linecolor": "white",
           "ticks": "",
           "title": {
            "standoff": 15
           },
           "zerolinecolor": "white",
           "zerolinewidth": 2
          }
         }
        }
       }
      }
     },
     "metadata": {}
    }
   ],
   "source": [
    "fig = px.scatter_3d(df_full, x='PC_2', y='PC_3', z='PC_4', color='food_group')\n",
    "fig.update_traces(marker=dict(size=3))\n",
    "fig.update_layout(scene = dict(xaxis_title='',yaxis_title='',zaxis_title=''))\n",
    "\n",
    "fig.show()"
   ]
  },
  {
   "cell_type": "code",
   "execution_count": null,
   "metadata": {},
   "outputs": [],
   "source": []
  }
 ]
}