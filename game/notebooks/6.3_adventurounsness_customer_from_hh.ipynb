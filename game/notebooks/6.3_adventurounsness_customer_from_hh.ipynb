{
 "cells": [
  {
   "cell_type": "markdown",
   "metadata": {},
   "source": [
    "# Adventurousness_customer_from_hh"
   ]
  },
  {
   "cell_type": "markdown",
   "metadata": {},
   "source": [
    "This notebook outputs the adventrousness of a customer. \n",
    "\n",
    "<ul>\n",
    "<li>The input file is a test file with three order histories from three customers.</li>\n",
    "<li>The embedding of \"key_ingredients\", \"title\" and \"description\" is associated to a recipe id.</li>\n",
    "<li>The embedding uses the function recipe2vec found in: /game/flaskapp_andrius/api/preprocesser.py</li>\n",
    "<li>This will output the embedding associated to an order.</li>\n",
    "<li>The adventurousness is calculated by doing:</li>\n",
    "    <ul>\n",
    "    <li>embedding1 - embedding2, embedding2 - embedding3 and so on down to the first order in time.</li>\n",
    "    <li>This means calculating the difference from one embedding and the adjacent, then an average is taken.</li>\n",
    "    </ul>\n",
    "<li>Finally, an average over time of all the differences is made.</li>\n",
    "</ul>\n",
    "\n",
    "__[Link to stackoverflow to understand how differece is calculated](https://stackoverflow.com/questions/13114512/calculating-difference-between-two-rows-in-python-pandas)__ \n",
    "\n",
    "__[Link to recipe2vec function](https://github.com/S2DSLondon/Aug20_MindfulChef/blob/master/game/flaskapp_andrius/api/preprocesser.py)__ \n",
    "\n",
    "    "
   ]
  },
  {
   "cell_type": "code",
   "execution_count": 7,
   "metadata": {},
   "outputs": [
    {
     "name": "stderr",
     "output_type": "stream",
     "text": [
      "2020-09-20 10:01:40.094 | INFO     | __main__:<module>:21 - this is the a simpler shape of the dataframe:            delivery_id           id\n",
      "customer_id                         \n",
      "94967           8018891  690,430,642\n",
      "94967           8018892  942,910,219\n",
      "94967           8018893  587,361,958\n",
      "94967           8018894   24,242,133\n",
      "94967           8018895  294,915,131\n"
     ]
    },
    {
     "data": {
      "text/html": [
       "<div>\n",
       "<style scoped>\n",
       "    .dataframe tbody tr th:only-of-type {\n",
       "        vertical-align: middle;\n",
       "    }\n",
       "\n",
       "    .dataframe tbody tr th {\n",
       "        vertical-align: top;\n",
       "    }\n",
       "\n",
       "    .dataframe thead th {\n",
       "        text-align: right;\n",
       "    }\n",
       "</style>\n",
       "<table border=\"1\" class=\"dataframe\">\n",
       "  <thead>\n",
       "    <tr style=\"text-align: right;\">\n",
       "      <th></th>\n",
       "      <th>adventurousness</th>\n",
       "    </tr>\n",
       "  </thead>\n",
       "  <tbody>\n",
       "    <tr>\n",
       "      <th>94967</th>\n",
       "      <td>0.001371</td>\n",
       "    </tr>\n",
       "    <tr>\n",
       "      <th>94968</th>\n",
       "      <td>-0.004472</td>\n",
       "    </tr>\n",
       "    <tr>\n",
       "      <th>94969</th>\n",
       "      <td>-0.002028</td>\n",
       "    </tr>\n",
       "  </tbody>\n",
       "</table>\n",
       "</div>"
      ],
      "text/plain": [
       "       adventurousness\n",
       "94967         0.001371\n",
       "94968        -0.004472\n",
       "94969        -0.002028"
      ]
     },
     "execution_count": 7,
     "metadata": {},
     "output_type": "execute_result"
    }
   ],
   "source": [
    "import pandas as pd\n",
    "from loguru import logger\n",
    "\n",
    "df = pd.read_csv('../data/test_order_history_3_customers.csv', sep = \";\")\n",
    "\n",
    "def replace_reciped_id_with_embedding(recipes, replacements):\n",
    "    for index, item in enumerate(recipes):\n",
    "        recipes[index] = replacements[int(item)]\n",
    "    return recipes\n",
    "        \n",
    "\n",
    "df['delivery_date'] = pd.to_datetime(df['delivery_date'])\n",
    "df = df.sort_values(['customer_id', 'delivery_date'])\n",
    "df = df.astype('str')\n",
    "\n",
    "#collapse all rows in one according to customer and delivery id\n",
    "df_grp = df.groupby(['customer_id','delivery_id'])['id'].aggregate(\n",
    "    lambda x: ','.join(tuple(x))).reset_index()\n",
    "\n",
    "df_grp = df_grp.set_index('customer_id')\n",
    "logger.info(f'this is the a simpler shape of the dataframe:{df_grp.head()}' )\n",
    "\n",
    "#loading the embedding calculated previously by recipe2vec function \n",
    "df_emb = pd.read_csv('../data/embedding.csv')\n",
    "dict_emb = df_emb.set_index('id').to_dict()\n",
    "\n",
    "#creating the order history with the embedding\n",
    "df_grp['order_history'] = df_grp['id'].apply(lambda x: x.split(','))\n",
    "df_grp['emb_history'] = df_grp['order_history'].apply(\n",
    "    lambda x: replace_reciped_id_with_embedding(x, dict_emb['embedding']))\n",
    "\n",
    "#associating the mean of the embedding to one order\n",
    "df_grp['mean_emb_for_one_order'] = df_grp['order_history'].apply(lambda x: sum(x)/len(x))\n",
    "df_mean_emb_for_one_order = df_grp[['mean_emb_for_one_order']]\n",
    "df_mean_emb_for_one_order = df_mean_emb_for_one_order.reset_index()\n",
    "\n",
    "#dictionary: keys are customers_id, values are dataframe with order history\n",
    "#for that particular customer id\n",
    "dict_df ={customer: group for \n",
    "          customer, group in df_mean_emb_for_one_order.groupby(['customer_id'])\n",
    "         }\n",
    "#dictionary: keys are the customer id, values are the adventutousnesses:\n",
    "dict_cust_adv = {keys :dict_df[keys]['mean_emb_for_one_order'].astype(float).diff().drop(\n",
    "    dict_df[keys].index[0]).mean() for keys in dict_df.keys() }\n",
    "\n",
    "df_adv = pd.DataFrame( pd.Series(dict_cust_adv, dtype = 'float'), columns = ['adventurousness'] )\n",
    "\n",
    "df_adv.head()"
   ]
  },
  {
   "cell_type": "code",
   "execution_count": null,
   "metadata": {},
   "outputs": [],
   "source": []
  }
 ],
 "metadata": {
  "kernelspec": {
   "display_name": "Python 3",
   "language": "python",
   "name": "python3"
  },
  "language_info": {
   "codemirror_mode": {
    "name": "ipython",
    "version": 3
   },
   "file_extension": ".py",
   "mimetype": "text/x-python",
   "name": "python",
   "nbconvert_exporter": "python",
   "pygments_lexer": "ipython3",
   "version": "3.8.5"
  }
 },
 "nbformat": 4,
 "nbformat_minor": 4
}
