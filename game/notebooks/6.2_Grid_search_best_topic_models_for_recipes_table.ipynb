{
 "cells": [
  {
   "cell_type": "markdown",
   "metadata": {},
   "source": [
    "# Grid_search_best_topic_models_for_recipes_table\n",
    "\n",
    "This notebook apply grid search to find the optimal number of topics (n_components).\n",
    "The followings articles have been used as a reference:\n",
    "\n",
    "1. __[LDA in Python – How to grid search best topic models?](https://www.machinelearningplus.com/nlp/topic-modeling-python-sklearn-examples/)__\n",
    "2. __[Topic Modeling using NMF and LDA using sklearn](https://shravan-kuchkula.github.io/topic-modeling/#interactive-plot-showing-results-of-k-means-clustering-lda-topic-modeling-and-sentiment-analysis)__\n",
    "\n",
    "To understand the changes in the newest version of Latent Dirichlet Allocation (LDA) , please follow this link:\n",
    "__[LDA in sklearn](https://scikit-learn.org/stable/modules/generated/sklearn.decomposition.LatentDirichletAllocation.html)__"
   ]
  },
  {
   "cell_type": "code",
   "execution_count": 1,
   "metadata": {},
   "outputs": [
    {
     "name": "stderr",
     "output_type": "stream",
     "text": [
      "[nltk_data] Downloading package stopwords to C:\\Users\\g.decillis.SS-\n",
      "[nltk_data]     GDC\\AppData\\Roaming\\nltk_data...\n",
      "[nltk_data]   Package stopwords is already up-to-date!\n"
     ]
    }
   ],
   "source": [
    "import numpy as np\n",
    "import pandas as pd\n",
    "import re, nltk, spacy, gensim\n",
    "\n",
    "# Sklearn\n",
    "from sklearn.cluster import KMeans\n",
    "from sklearn.preprocessing import MinMaxScaler\n",
    "from sklearn import decomposition\n",
    "from sklearn.decomposition import LatentDirichletAllocation, TruncatedSVD\n",
    "from sklearn.cluster import KMeans\n",
    "\n",
    "from sklearn.feature_extraction.text import CountVectorizer, TfidfVectorizer\n",
    "from sklearn.model_selection import GridSearchCV\n",
    "\n",
    "from scipy.spatial.distance import cdist\n",
    "\n",
    "from pprint import pprint\n",
    "\n",
    "# Plotting tools\n",
    "import pyLDAvis\n",
    "import pyLDAvis.sklearn\n",
    "import matplotlib.pyplot as plt\n",
    "%matplotlib inline\n",
    "import seaborn as sns\n",
    "\n",
    "from game import clustering_utils"
   ]
  },
  {
   "cell_type": "code",
   "execution_count": 2,
   "metadata": {},
   "outputs": [
    {
     "name": "stderr",
     "output_type": "stream",
     "text": [
      "c:\\users\\g.decillis.ss-gdc\\appdata\\local\\programs\\python\\python38\\lib\\site-packages\\ipykernel\\ipkernel.py:287: DeprecationWarning: `should_run_async` will not call `transform_cell` automatically in the future. Please pass the result to `transformed_cell` argument and any exception that happen during thetransform in `preprocessing_exc_tuple` in IPython 7.17 and above.\n",
      "  and should_run_async(code)\n"
     ]
    },
    {
     "data": {
      "text/html": [
       "<div>\n",
       "<style scoped>\n",
       "    .dataframe tbody tr th:only-of-type {\n",
       "        vertical-align: middle;\n",
       "    }\n",
       "\n",
       "    .dataframe tbody tr th {\n",
       "        vertical-align: top;\n",
       "    }\n",
       "\n",
       "    .dataframe thead th {\n",
       "        text-align: right;\n",
       "    }\n",
       "</style>\n",
       "<table border=\"1\" class=\"dataframe\">\n",
       "  <thead>\n",
       "    <tr style=\"text-align: right;\">\n",
       "      <th></th>\n",
       "      <th>allergens</th>\n",
       "      <th>calories</th>\n",
       "      <th>carbs</th>\n",
       "      <th>cuisine</th>\n",
       "      <th>fat</th>\n",
       "      <th>food_group</th>\n",
       "      <th>protein</th>\n",
       "      <th>season</th>\n",
       "      <th>special</th>\n",
       "      <th>id</th>\n",
       "      <th>cooking_time</th>\n",
       "      <th>image_url</th>\n",
       "      <th>instructions</th>\n",
       "      <th>key_ingredient</th>\n",
       "      <th>title</th>\n",
       "      <th>description</th>\n",
       "      <th>price_1p_pence</th>\n",
       "      <th>price_2p_pence</th>\n",
       "      <th>price_4p_pence</th>\n",
       "    </tr>\n",
       "  </thead>\n",
       "  <tbody>\n",
       "    <tr>\n",
       "      <th>1</th>\n",
       "      <td>{Mustard,Nuts}</td>\n",
       "      <td>505.84</td>\n",
       "      <td>26.63</td>\n",
       "      <td>British</td>\n",
       "      <td>26.52</td>\n",
       "      <td>Beef</td>\n",
       "      <td>45.71</td>\n",
       "      <td>Spring</td>\n",
       "      <td>NaN</td>\n",
       "      <td>1</td>\n",
       "      <td>25</td>\n",
       "      <td>https://mindfulchef-uat.imgix.net/recipes/1/2e...</td>\n",
       "      <td>Preheat the oven to 180C / gas mark 4., Trim t...</td>\n",
       "      <td>Grass-fed heritage breed Yorkshire beef</td>\n",
       "      <td>Seared beef with spring vegetable medley</td>\n",
       "      <td>We've paired a succulent seared steak with a m...</td>\n",
       "      <td>900</td>\n",
       "      <td>1400</td>\n",
       "      <td>2400</td>\n",
       "    </tr>\n",
       "  </tbody>\n",
       "</table>\n",
       "</div>"
      ],
      "text/plain": [
       "        allergens calories  carbs  cuisine    fat food_group protein  season  \\\n",
       "1  {Mustard,Nuts}   505.84  26.63  British  26.52       Beef   45.71  Spring   \n",
       "\n",
       "  special id cooking_time                                          image_url  \\\n",
       "1     NaN  1           25  https://mindfulchef-uat.imgix.net/recipes/1/2e...   \n",
       "\n",
       "                                        instructions  \\\n",
       "1  Preheat the oven to 180C / gas mark 4., Trim t...   \n",
       "\n",
       "                            key_ingredient  \\\n",
       "1  Grass-fed heritage breed Yorkshire beef   \n",
       "\n",
       "                                      title  \\\n",
       "1  Seared beef with spring vegetable medley   \n",
       "\n",
       "                                         description price_1p_pence  \\\n",
       "1  We've paired a succulent seared steak with a m...            900   \n",
       "\n",
       "  price_2p_pence price_4p_pence  \n",
       "1           1400           2400  "
      ]
     },
     "execution_count": 2,
     "metadata": {},
     "output_type": "execute_result"
    }
   ],
   "source": [
    "data = pd.read_csv('../data/recipe_table_updated_UAT.csv', sep = \",\")\n",
    "data = data.reset_index()\n",
    "data.columns = data.iloc[0][:].tolist()\n",
    "data = data.drop(0)\n",
    "data.head(1)"
   ]
  },
  {
   "cell_type": "code",
   "execution_count": 3,
   "metadata": {},
   "outputs": [
    {
     "name": "stderr",
     "output_type": "stream",
     "text": [
      "c:\\users\\g.decillis.ss-gdc\\appdata\\local\\programs\\python\\python38\\lib\\site-packages\\ipykernel\\ipkernel.py:287: DeprecationWarning: `should_run_async` will not call `transform_cell` automatically in the future. Please pass the result to `transformed_cell` argument and any exception that happen during thetransform in `preprocessing_exc_tuple` in IPython 7.17 and above.\n",
      "  and should_run_async(code)\n",
      "2020-09-20 10:34:51.209 | INFO     | game.clustering_utils:drop_columns:187 - Dropping columns: ['special', 'image_url', 'instructions']\n"
     ]
    }
   ],
   "source": [
    "data = clustering_utils.drop_columns(df=data, columns=[\n",
    "    \"special\", \n",
    "    \"image_url\",\n",
    "    \"instructions\"\n",
    "    ])"
   ]
  },
  {
   "cell_type": "code",
   "execution_count": 4,
   "metadata": {},
   "outputs": [
    {
     "name": "stderr",
     "output_type": "stream",
     "text": [
      "c:\\users\\g.decillis.ss-gdc\\appdata\\local\\programs\\python\\python38\\lib\\site-packages\\ipykernel\\ipkernel.py:287: DeprecationWarning: `should_run_async` will not call `transform_cell` automatically in the future. Please pass the result to `transformed_cell` argument and any exception that happen during thetransform in `preprocessing_exc_tuple` in IPython 7.17 and above.\n",
      "  and should_run_async(code)\n"
     ]
    },
    {
     "data": {
      "text/plain": [
       "allergens         object\n",
       "calories          object\n",
       "carbs             object\n",
       "cuisine           object\n",
       "fat               object\n",
       "food_group        object\n",
       "protein           object\n",
       "season            object\n",
       "id                object\n",
       "cooking_time      object\n",
       "key_ingredient    object\n",
       "title             object\n",
       "description       object\n",
       "price_1p_pence    object\n",
       "price_2p_pence    object\n",
       "price_4p_pence    object\n",
       "dtype: object"
      ]
     },
     "execution_count": 4,
     "metadata": {},
     "output_type": "execute_result"
    }
   ],
   "source": [
    "data.dtypes"
   ]
  },
  {
   "cell_type": "code",
   "execution_count": 5,
   "metadata": {
    "scrolled": true
   },
   "outputs": [
    {
     "name": "stderr",
     "output_type": "stream",
     "text": [
      "c:\\users\\g.decillis.ss-gdc\\appdata\\local\\programs\\python\\python38\\lib\\site-packages\\ipykernel\\ipkernel.py:287: DeprecationWarning: `should_run_async` will not call `transform_cell` automatically in the future. Please pass the result to `transformed_cell` argument and any exception that happen during thetransform in `preprocessing_exc_tuple` in IPython 7.17 and above.\n",
      "  and should_run_async(code)\n",
      "2020-09-20 10:34:51.433 | INFO     | game.clustering_utils:fill_missing_values:193 - Filling nan values of column food_group with other\n",
      "2020-09-20 10:34:51.441 | INFO     | game.clustering_utils:fill_missing_values:193 - Filling nan values of column cuisine with other\n",
      "2020-09-20 10:34:51.441 | INFO     | game.clustering_utils:fill_missing_values:193 - Filling nan values of column season with other\n"
     ]
    },
    {
     "data": {
      "text/html": [
       "<div>\n",
       "<style scoped>\n",
       "    .dataframe tbody tr th:only-of-type {\n",
       "        vertical-align: middle;\n",
       "    }\n",
       "\n",
       "    .dataframe tbody tr th {\n",
       "        vertical-align: top;\n",
       "    }\n",
       "\n",
       "    .dataframe thead th {\n",
       "        text-align: right;\n",
       "    }\n",
       "</style>\n",
       "<table border=\"1\" class=\"dataframe\">\n",
       "  <thead>\n",
       "    <tr style=\"text-align: right;\">\n",
       "      <th></th>\n",
       "      <th>allergens</th>\n",
       "      <th>calories</th>\n",
       "      <th>carbs</th>\n",
       "      <th>cuisine</th>\n",
       "      <th>fat</th>\n",
       "      <th>food_group</th>\n",
       "      <th>protein</th>\n",
       "      <th>season</th>\n",
       "      <th>id</th>\n",
       "      <th>cooking_time</th>\n",
       "      <th>key_ingredient</th>\n",
       "      <th>title</th>\n",
       "      <th>description</th>\n",
       "      <th>price</th>\n",
       "    </tr>\n",
       "  </thead>\n",
       "  <tbody>\n",
       "    <tr>\n",
       "      <th>1</th>\n",
       "      <td>{Mustard,Nuts}</td>\n",
       "      <td>505.84</td>\n",
       "      <td>26.63</td>\n",
       "      <td>British</td>\n",
       "      <td>26.52</td>\n",
       "      <td>Beef</td>\n",
       "      <td>45.71</td>\n",
       "      <td>Spring</td>\n",
       "      <td>1</td>\n",
       "      <td>25</td>\n",
       "      <td>Grass-fed heritage breed Yorkshire beef</td>\n",
       "      <td>Seared beef with spring vegetable medley</td>\n",
       "      <td>We've paired a succulent seared steak with a m...</td>\n",
       "      <td>1400</td>\n",
       "    </tr>\n",
       "    <tr>\n",
       "      <th>2</th>\n",
       "      <td>{Sulphites}</td>\n",
       "      <td>679.78</td>\n",
       "      <td>65.16</td>\n",
       "      <td>Indian</td>\n",
       "      <td>24.40</td>\n",
       "      <td>Chicken</td>\n",
       "      <td>49.20</td>\n",
       "      <td>Spring</td>\n",
       "      <td>2</td>\n",
       "      <td>30</td>\n",
       "      <td>Free-range Norfolk chicken breast</td>\n",
       "      <td>Goan chicken curry with black rice</td>\n",
       "      <td>This Goan inspired chicken curry is made with ...</td>\n",
       "      <td>1400</td>\n",
       "    </tr>\n",
       "  </tbody>\n",
       "</table>\n",
       "</div>"
      ],
      "text/plain": [
       "        allergens calories  carbs  cuisine    fat food_group protein  season  \\\n",
       "1  {Mustard,Nuts}   505.84  26.63  British  26.52       Beef   45.71  Spring   \n",
       "2     {Sulphites}   679.78  65.16   Indian  24.40    Chicken   49.20  Spring   \n",
       "\n",
       "  id cooking_time                           key_ingredient  \\\n",
       "1  1           25  Grass-fed heritage breed Yorkshire beef   \n",
       "2  2           30        Free-range Norfolk chicken breast   \n",
       "\n",
       "                                      title  \\\n",
       "1  Seared beef with spring vegetable medley   \n",
       "2        Goan chicken curry with black rice   \n",
       "\n",
       "                                         description price  \n",
       "1  We've paired a succulent seared steak with a m...  1400  \n",
       "2  This Goan inspired chicken curry is made with ...  1400  "
      ]
     },
     "execution_count": 5,
     "metadata": {},
     "output_type": "execute_result"
    }
   ],
   "source": [
    "data = clustering_utils.fill_missing_values(df=data, column= \"food_group\", name='other')\n",
    "data = clustering_utils.fill_missing_values(df=data, column= \"cuisine\", name='other')\n",
    "data = clustering_utils.fill_missing_values(df=data, column=\"season\", name='other')\n",
    "\n",
    "data['price'] = data['price_2p_pence']\n",
    "data = data.drop(['price_1p_pence', 'price_2p_pence', 'price_4p_pence'], axis = 1)\n",
    "data['price'] = data['price'].fillna(data['price'].mode()[0])\n",
    "data.head(2)"
   ]
  },
  {
   "cell_type": "code",
   "execution_count": 6,
   "metadata": {},
   "outputs": [
    {
     "name": "stderr",
     "output_type": "stream",
     "text": [
      "c:\\users\\g.decillis.ss-gdc\\appdata\\local\\programs\\python\\python38\\lib\\site-packages\\ipykernel\\ipkernel.py:287: DeprecationWarning: `should_run_async` will not call `transform_cell` automatically in the future. Please pass the result to `transformed_cell` argument and any exception that happen during thetransform in `preprocessing_exc_tuple` in IPython 7.17 and above.\n",
      "  and should_run_async(code)\n"
     ]
    }
   ],
   "source": [
    "data['ktd'] = data[['key_ingredient','title', 'description' ]].apply(\n",
    "    lambda x: ','.join(x.dropna().astype(str)),\n",
    "    axis=1)"
   ]
  },
  {
   "cell_type": "code",
   "execution_count": 7,
   "metadata": {
    "scrolled": true
   },
   "outputs": [
    {
     "name": "stderr",
     "output_type": "stream",
     "text": [
      "c:\\users\\g.decillis.ss-gdc\\appdata\\local\\programs\\python\\python38\\lib\\site-packages\\ipykernel\\ipkernel.py:287: DeprecationWarning: `should_run_async` will not call `transform_cell` automatically in the future. Please pass the result to `transformed_cell` argument and any exception that happen during thetransform in `preprocessing_exc_tuple` in IPython 7.17 and above.\n",
      "  and should_run_async(code)\n"
     ]
    }
   ],
   "source": [
    "data = data.drop(['key_ingredient','title', 'description' ], axis = 1)"
   ]
  },
  {
   "cell_type": "code",
   "execution_count": 8,
   "metadata": {},
   "outputs": [
    {
     "name": "stderr",
     "output_type": "stream",
     "text": [
      "c:\\users\\g.decillis.ss-gdc\\appdata\\local\\programs\\python\\python38\\lib\\site-packages\\ipykernel\\ipkernel.py:287: DeprecationWarning: `should_run_async` will not call `transform_cell` automatically in the future. Please pass the result to `transformed_cell` argument and any exception that happen during thetransform in `preprocessing_exc_tuple` in IPython 7.17 and above.\n",
      "  and should_run_async(code)\n"
     ]
    },
    {
     "data": {
      "text/plain": [
       "allergens       object\n",
       "calories        object\n",
       "carbs           object\n",
       "cuisine         object\n",
       "fat             object\n",
       "food_group      object\n",
       "protein         object\n",
       "season          object\n",
       "id              object\n",
       "cooking_time    object\n",
       "price           object\n",
       "ktd             object\n",
       "dtype: object"
      ]
     },
     "execution_count": 8,
     "metadata": {},
     "output_type": "execute_result"
    }
   ],
   "source": [
    "data.dtypes"
   ]
  },
  {
   "cell_type": "code",
   "execution_count": 9,
   "metadata": {},
   "outputs": [
    {
     "name": "stderr",
     "output_type": "stream",
     "text": [
      "c:\\users\\g.decillis.ss-gdc\\appdata\\local\\programs\\python\\python38\\lib\\site-packages\\ipykernel\\ipkernel.py:287: DeprecationWarning: `should_run_async` will not call `transform_cell` automatically in the future. Please pass the result to `transformed_cell` argument and any exception that happen during thetransform in `preprocessing_exc_tuple` in IPython 7.17 and above.\n",
      "  and should_run_async(code)\n",
      "2020-09-20 10:34:52.201 | INFO     | game.clustering_utils:count_allergens:141 - Replacing allergens with count\n",
      "2020-09-20 10:34:52.209 | INFO     | game.clustering_utils:label_encoding:200 - Label encoding for column: cuisine\n",
      "2020-09-20 10:34:52.217 | INFO     | game.clustering_utils:label_encoding:204 - unique classes: ['Asian' 'Australian' 'British' 'Caribbean' 'Chinese' 'European' 'French'\n",
      " 'Indian' 'Italian' 'Japanese' 'Mediterranean' 'Mexican' 'Middle Eastern'\n",
      " 'North African' 'South American' 'West African']\n",
      "2020-09-20 10:34:52.217 | INFO     | game.clustering_utils:hot_encoding:210 - Hot encoding for columns: ['season']\n",
      "2020-09-20 10:34:52.233 | INFO     | game.clustering_utils:count_encoding:216 - Count encoding for column: food_group\n"
     ]
    }
   ],
   "source": [
    "### Encoding allergens\n",
    "# How does it treat nan values (71 rows)?\n",
    "#data = clustering_utils.get_allergens_encoding(df=data)\n",
    "data = clustering_utils.count_allergens(df=data, column=\"allergens\")\n",
    "\n",
    "### Label encoding: cuisine\n",
    "data = clustering_utils.label_encoding(df=data, column=\"cuisine\")\n",
    "\n",
    "### Hot encoding: season\n",
    "data = clustering_utils.hot_encoding(df=data, columns=[\"season\"])\n",
    "\n",
    "### Count encoding: food group\n",
    "data = clustering_utils.count_encoding(df=data, column=\"food_group\")"
   ]
  },
  {
   "cell_type": "code",
   "execution_count": 10,
   "metadata": {},
   "outputs": [
    {
     "name": "stderr",
     "output_type": "stream",
     "text": [
      "c:\\users\\g.decillis.ss-gdc\\appdata\\local\\programs\\python\\python38\\lib\\site-packages\\ipykernel\\ipkernel.py:287: DeprecationWarning: `should_run_async` will not call `transform_cell` automatically in the future. Please pass the result to `transformed_cell` argument and any exception that happen during thetransform in `preprocessing_exc_tuple` in IPython 7.17 and above.\n",
      "  and should_run_async(code)\n"
     ]
    },
    {
     "data": {
      "text/plain": [
       "1      Grass-fed heritage breed Yorkshire beef,Seared...\n",
       "2      Free-range Norfolk chicken breast,Goan chicken...\n",
       "3      Free-range heritage breed pork,Pork, smoked pa...\n",
       "4      Fresh, sustainably caught Cornish ling,Za’atar...\n",
       "5      Dragonfly organic extra-firm tofu,Vietnamese '...\n",
       "                             ...                        \n",
       "741    Free-range Norfolk chicken breast,Chicken & ca...\n",
       "742    Grass-fed heritage breed Yorkshire beef,Massam...\n",
       "743    Fresh, sustainably caught cod fillet,Cod with ...\n",
       "744    Plant Power organic tempeh,Satay tempeh skewer...\n",
       "745    Fresh, sustainably caught pollack fillet,Baked...\n",
       "Name: ktd, Length: 745, dtype: object"
      ]
     },
     "execution_count": 10,
     "metadata": {},
     "output_type": "execute_result"
    }
   ],
   "source": [
    "data['ktd']"
   ]
  },
  {
   "cell_type": "code",
   "execution_count": 11,
   "metadata": {},
   "outputs": [
    {
     "name": "stderr",
     "output_type": "stream",
     "text": [
      "c:\\users\\g.decillis.ss-gdc\\appdata\\local\\programs\\python\\python38\\lib\\site-packages\\ipykernel\\ipkernel.py:287: DeprecationWarning: `should_run_async` will not call `transform_cell` automatically in the future. Please pass the result to `transformed_cell` argument and any exception that happen during thetransform in `preprocessing_exc_tuple` in IPython 7.17 and above.\n",
      "  and should_run_async(code)\n",
      "2020-09-20 10:34:52.537 | INFO     | game.clustering_utils:preprocess_text_columns:118 - Preprocessing text columns\n",
      "2020-09-20 10:34:52.545 | INFO     | game.clustering_utils:preprocess_text_columns:122 - Stripping punctuation and symbol for ktd\n",
      "2020-09-20 10:34:52.569 | INFO     | game.clustering_utils:preprocess_text_columns:125 - Stripping digits and stopwords for ktd\n"
     ]
    }
   ],
   "source": [
    "data = clustering_utils.preprocess_text_columns(df=data, columns=[\"ktd\"])"
   ]
  },
  {
   "cell_type": "code",
   "execution_count": 12,
   "metadata": {},
   "outputs": [
    {
     "name": "stderr",
     "output_type": "stream",
     "text": [
      "c:\\users\\g.decillis.ss-gdc\\appdata\\local\\programs\\python\\python38\\lib\\site-packages\\ipykernel\\ipkernel.py:287: DeprecationWarning: `should_run_async` will not call `transform_cell` automatically in the future. Please pass the result to `transformed_cell` argument and any exception that happen during thetransform in `preprocessing_exc_tuple` in IPython 7.17 and above.\n",
      "  and should_run_async(code)\n"
     ]
    }
   ],
   "source": [
    "ktd_list = data['ktd'].values.tolist()"
   ]
  },
  {
   "cell_type": "code",
   "execution_count": 13,
   "metadata": {},
   "outputs": [
    {
     "name": "stderr",
     "output_type": "stream",
     "text": [
      "c:\\users\\g.decillis.ss-gdc\\appdata\\local\\programs\\python\\python38\\lib\\site-packages\\ipykernel\\ipkernel.py:287: DeprecationWarning: `should_run_async` will not call `transform_cell` automatically in the future. Please pass the result to `transformed_cell` argument and any exception that happen during thetransform in `preprocessing_exc_tuple` in IPython 7.17 and above.\n",
      "  and should_run_async(code)\n"
     ]
    }
   ],
   "source": [
    "def sent_to_words(sentences):\n",
    "    for sentence in sentences:\n",
    "        yield(gensim.utils.simple_preprocess(str(sentence), deacc=True))  # deacc=True removes punctuations\n",
    "\n",
    "data_words = list(sent_to_words(ktd_list))"
   ]
  },
  {
   "cell_type": "code",
   "execution_count": 14,
   "metadata": {},
   "outputs": [
    {
     "name": "stdout",
     "output_type": "stream",
     "text": [
      "[['grassfed', 'heritage', 'breed', 'yorkshire', 'beefseared', 'beef', 'spring', 'vegetable', 'medleyweve', 'paired', 'succulent', 'seared', 'steak', 'medley', 'spring', 'vegetables', 'including', 'sweet', 'carrots', 'crisp', 'sugar', 'snap', 'peas', 'bright', 'radishes']]\n"
     ]
    },
    {
     "name": "stderr",
     "output_type": "stream",
     "text": [
      "c:\\users\\g.decillis.ss-gdc\\appdata\\local\\programs\\python\\python38\\lib\\site-packages\\ipykernel\\ipkernel.py:287: DeprecationWarning: `should_run_async` will not call `transform_cell` automatically in the future. Please pass the result to `transformed_cell` argument and any exception that happen during thetransform in `preprocessing_exc_tuple` in IPython 7.17 and above.\n",
      "  and should_run_async(code)\n"
     ]
    }
   ],
   "source": [
    "print(data_words[:1])"
   ]
  },
  {
   "cell_type": "code",
   "execution_count": 15,
   "metadata": {},
   "outputs": [
    {
     "name": "stderr",
     "output_type": "stream",
     "text": [
      "c:\\users\\g.decillis.ss-gdc\\appdata\\local\\programs\\python\\python38\\lib\\site-packages\\ipykernel\\ipkernel.py:287: DeprecationWarning: `should_run_async` will not call `transform_cell` automatically in the future. Please pass the result to `transformed_cell` argument and any exception that happen during thetransform in `preprocessing_exc_tuple` in IPython 7.17 and above.\n",
      "  and should_run_async(code)\n"
     ]
    },
    {
     "name": "stdout",
     "output_type": "stream",
     "text": [
      "['breed yorkshire vegetable medleyweve pair succulent spring vegetable include sweet carrot sugar snap pea bright radish', 'inspire chicken curry creamy coconut milk spinach cherry tomatoe nutty black rice']\n"
     ]
    }
   ],
   "source": [
    "def lemmatization(texts, allowed_postags=['NOUN', 'ADJ', 'VERB', 'ADV']):\n",
    "    \"\"\"https://spacy.io/api/annotation\"\"\"\n",
    "    texts_out = []\n",
    "    for sent in texts:\n",
    "        doc = nlp(\" \".join(sent)) \n",
    "        texts_out.append(\" \".join([token.lemma_ if token.lemma_ not in ['-PRON-'] else '' for token in doc if token.pos_ in allowed_postags]))\n",
    "    return texts_out\n",
    "\n",
    "# Initialize spacy 'en' model, keeping only tagger component (for efficiency)\n",
    "# Run in terminal: python3 -m spacy download en\n",
    "nlp = spacy.load('en', disable=['parser', 'ner'])\n",
    "\n",
    "# Do lemmatization keeping only Noun, Adj, Verb, Adverb\n",
    "data_lemmatized = lemmatization(data_words, allowed_postags=['NOUN', 'ADJ', 'VERB', 'ADV'])\n",
    "\n",
    "print(data_lemmatized[:2])"
   ]
  },
  {
   "cell_type": "code",
   "execution_count": 16,
   "metadata": {},
   "outputs": [
    {
     "name": "stderr",
     "output_type": "stream",
     "text": [
      "c:\\users\\g.decillis.ss-gdc\\appdata\\local\\programs\\python\\python38\\lib\\site-packages\\ipykernel\\ipkernel.py:287: DeprecationWarning: `should_run_async` will not call `transform_cell` automatically in the future. Please pass the result to `transformed_cell` argument and any exception that happen during thetransform in `preprocessing_exc_tuple` in IPython 7.17 and above.\n",
      "  and should_run_async(code)\n"
     ]
    }
   ],
   "source": [
    "vectorizer = CountVectorizer(analyzer='word',       \n",
    "                             min_df=10,                        # minimum reqd occurences of a word \n",
    "                             stop_words='english',             # remove stop words\n",
    "                             lowercase=True,                   # convert all words to lowercase\n",
    "                             token_pattern='[a-zA-Z0-9]{3,}',  # num chars > 3\n",
    "                             # max_features=50000,             # max number of uniq words\n",
    "                            )\n",
    "\n",
    "data_vectorized = vectorizer.fit_transform(data_lemmatized)"
   ]
  },
  {
   "cell_type": "code",
   "execution_count": 17,
   "metadata": {},
   "outputs": [
    {
     "name": "stdout",
     "output_type": "stream",
     "text": [
      "Sparsicity:  3.6600438567346667 %\n"
     ]
    },
    {
     "name": "stderr",
     "output_type": "stream",
     "text": [
      "c:\\users\\g.decillis.ss-gdc\\appdata\\local\\programs\\python\\python38\\lib\\site-packages\\ipykernel\\ipkernel.py:287: DeprecationWarning: `should_run_async` will not call `transform_cell` automatically in the future. Please pass the result to `transformed_cell` argument and any exception that happen during thetransform in `preprocessing_exc_tuple` in IPython 7.17 and above.\n",
      "  and should_run_async(code)\n"
     ]
    }
   ],
   "source": [
    "# Materialize the sparse data\n",
    "data_dense = data_vectorized.todense()\n",
    "\n",
    "# Compute Sparsicity = Percentage of Non-Zero cells\n",
    "print(\"Sparsicity: \", ((data_dense > 0).sum()/data_dense.size)*100, \"%\")"
   ]
  },
  {
   "cell_type": "markdown",
   "metadata": {},
   "source": [
    "### Build LDA Model\n",
    "number of topic is not set to 5, optimal number will be addressed later"
   ]
  },
  {
   "cell_type": "code",
   "execution_count": 18,
   "metadata": {},
   "outputs": [
    {
     "name": "stderr",
     "output_type": "stream",
     "text": [
      "c:\\users\\g.decillis.ss-gdc\\appdata\\local\\programs\\python\\python38\\lib\\site-packages\\ipykernel\\ipkernel.py:287: DeprecationWarning: `should_run_async` will not call `transform_cell` automatically in the future. Please pass the result to `transformed_cell` argument and any exception that happen during thetransform in `preprocessing_exc_tuple` in IPython 7.17 and above.\n",
      "  and should_run_async(code)\n"
     ]
    },
    {
     "name": "stdout",
     "output_type": "stream",
     "text": [
      "LatentDirichletAllocation(learning_method='online', n_components=20, n_jobs=-1,\n",
      "                          random_state=100)\n"
     ]
    }
   ],
   "source": [
    "lda_model = LatentDirichletAllocation(n_components=5,           # Number of topics\n",
    "                                      max_iter=10,               # Max learning iterations\n",
    "                                      learning_method='online',   \n",
    "                                      random_state=100,          # Random state\n",
    "                                      batch_size=128,            # n docs in each learning iter\n",
    "                                      evaluate_every = -1,       # compute perplexity every n iters, default: Don't\n",
    "                                      n_jobs = -1,               # Use all available CPUs\n",
    "                                     )\n",
    "\n",
    "lda_output = lda_model.fit_transform(data_vectorized)\n",
    "\n",
    "print(lda_model)  # Model attributes"
   ]
  },
  {
   "cell_type": "code",
   "execution_count": 19,
   "metadata": {
    "scrolled": true
   },
   "outputs": [
    {
     "name": "stdout",
     "output_type": "stream",
     "text": [
      "Log Likelihood:  -32742.958449948823\n"
     ]
    },
    {
     "name": "stderr",
     "output_type": "stream",
     "text": [
      "c:\\users\\g.decillis.ss-gdc\\appdata\\local\\programs\\python\\python38\\lib\\site-packages\\ipykernel\\ipkernel.py:287: DeprecationWarning: `should_run_async` will not call `transform_cell` automatically in the future. Please pass the result to `transformed_cell` argument and any exception that happen during thetransform in `preprocessing_exc_tuple` in IPython 7.17 and above.\n",
      "  and should_run_async(code)\n"
     ]
    },
    {
     "name": "stdout",
     "output_type": "stream",
     "text": [
      "Perplexity:  234.004721980969\n",
      "{'batch_size': 128,\n",
      " 'doc_topic_prior': None,\n",
      " 'evaluate_every': -1,\n",
      " 'learning_decay': 0.7,\n",
      " 'learning_method': 'online',\n",
      " 'learning_offset': 10.0,\n",
      " 'max_doc_update_iter': 100,\n",
      " 'max_iter': 10,\n",
      " 'mean_change_tol': 0.001,\n",
      " 'n_components': 20,\n",
      " 'n_jobs': -1,\n",
      " 'perp_tol': 0.1,\n",
      " 'random_state': 100,\n",
      " 'topic_word_prior': None,\n",
      " 'total_samples': 1000000.0,\n",
      " 'verbose': 0}\n"
     ]
    }
   ],
   "source": [
    "# Log Likelyhood: Higher the better\n",
    "print(\"Log Likelihood: \", lda_model.score(data_vectorized))\n",
    "\n",
    "# Perplexity: Lower the better. Perplexity = exp(-1. * log-likelihood per word)\n",
    "print(\"Perplexity: \", lda_model.perplexity(data_vectorized))\n",
    "\n",
    "# See model parameters\n",
    "pprint(lda_model.get_params())"
   ]
  },
  {
   "cell_type": "markdown",
   "metadata": {},
   "source": [
    "### Grid Search of optimal number of topics"
   ]
  },
  {
   "cell_type": "code",
   "execution_count": 20,
   "metadata": {},
   "outputs": [
    {
     "name": "stderr",
     "output_type": "stream",
     "text": [
      "c:\\users\\g.decillis.ss-gdc\\appdata\\local\\programs\\python\\python38\\lib\\site-packages\\ipykernel\\ipkernel.py:287: DeprecationWarning: `should_run_async` will not call `transform_cell` automatically in the future. Please pass the result to `transformed_cell` argument and any exception that happen during thetransform in `preprocessing_exc_tuple` in IPython 7.17 and above.\n",
      "  and should_run_async(code)\n"
     ]
    },
    {
     "data": {
      "text/plain": [
       "GridSearchCV(estimator=LatentDirichletAllocation(),\n",
       "             param_grid={'learning_decay': [0.5, 0.7, 0.9],\n",
       "                         'n_components': [3, 4, 5]})"
      ]
     },
     "execution_count": 20,
     "metadata": {},
     "output_type": "execute_result"
    }
   ],
   "source": [
    "# Define Search Param\n",
    "search_params = {'n_components': [3, 4, 5], 'learning_decay': [.5, .7, .9]}\n",
    "\n",
    "# Init the Model\n",
    "lda = LatentDirichletAllocation()\n",
    "\n",
    "# Init Grid Search Class\n",
    "model = GridSearchCV(lda, param_grid=search_params)\n",
    "\n",
    "# Do the Grid Search\n",
    "model.fit(data_vectorized)"
   ]
  },
  {
   "cell_type": "code",
   "execution_count": 21,
   "metadata": {
    "scrolled": true
   },
   "outputs": [
    {
     "name": "stderr",
     "output_type": "stream",
     "text": [
      "c:\\users\\g.decillis.ss-gdc\\appdata\\local\\programs\\python\\python38\\lib\\site-packages\\ipykernel\\ipkernel.py:287: DeprecationWarning: `should_run_async` will not call `transform_cell` automatically in the future. Please pass the result to `transformed_cell` argument and any exception that happen during thetransform in `preprocessing_exc_tuple` in IPython 7.17 and above.\n",
      "  and should_run_async(code)\n"
     ]
    },
    {
     "name": "stdout",
     "output_type": "stream",
     "text": [
      "Best Model's Params:  {'learning_decay': 0.9, 'n_components': 3}\n",
      "Best Log Likelihood Score:  -6974.146586530551\n",
      "Model Perplexity:  176.05765576916878\n"
     ]
    }
   ],
   "source": [
    "# Best Model\n",
    "best_lda_model = model.best_estimator_\n",
    "\n",
    "# Model Parameters\n",
    "print(\"Best Model's Params: \", model.best_params_)\n",
    "\n",
    "# Log Likelihood Score\n",
    "print(\"Best Log Likelihood Score: \", model.best_score_)\n",
    "\n",
    "# Perplexity\n",
    "print(\"Model Perplexity: \", best_lda_model.perplexity(data_vectorized))"
   ]
  },
  {
   "cell_type": "code",
   "execution_count": 22,
   "metadata": {},
   "outputs": [
    {
     "name": "stderr",
     "output_type": "stream",
     "text": [
      "c:\\users\\g.decillis.ss-gdc\\appdata\\local\\programs\\python\\python38\\lib\\site-packages\\ipykernel\\ipkernel.py:287: DeprecationWarning: `should_run_async` will not call `transform_cell` automatically in the future. Please pass the result to `transformed_cell` argument and any exception that happen during thetransform in `preprocessing_exc_tuple` in IPython 7.17 and above.\n",
      "  and should_run_async(code)\n"
     ]
    }
   ],
   "source": [
    "df_cv_results = pd.DataFrame(model.cv_results_)\n",
    "df_cv_results.to_csv(\"LDAGridSearchResults.csv\", header=True, index=False, encoding='utf-8')"
   ]
  },
  {
   "cell_type": "code",
   "execution_count": 23,
   "metadata": {},
   "outputs": [
    {
     "name": "stderr",
     "output_type": "stream",
     "text": [
      "c:\\users\\g.decillis.ss-gdc\\appdata\\local\\programs\\python\\python38\\lib\\site-packages\\ipykernel\\ipkernel.py:287: DeprecationWarning: `should_run_async` will not call `transform_cell` automatically in the future. Please pass the result to `transformed_cell` argument and any exception that happen during thetransform in `preprocessing_exc_tuple` in IPython 7.17 and above.\n",
      "  and should_run_async(code)\n"
     ]
    },
    {
     "data": {
      "text/plain": [
       "<matplotlib.axes._subplots.AxesSubplot at 0x256ef809df0>"
      ]
     },
     "execution_count": 23,
     "metadata": {},
     "output_type": "execute_result"
    },
    {
     "data": {
      "image/png": "[encoded data removed]",
      "text/plain": [
       "<Figure size 432x288 with 1 Axes>"
      ]
     },
     "metadata": {
      "needs_background": "light"
     },
     "output_type": "display_data"
    }
   ],
   "source": [
    "sns.pointplot(x=\"param_n_components\", y=\"mean_test_score\", hue=\"param_learning_decay\", data=df_cv_results)"
   ]
  },
  {
   "cell_type": "code",
   "execution_count": 24,
   "metadata": {},
   "outputs": [
    {
     "name": "stderr",
     "output_type": "stream",
     "text": [
      "c:\\users\\g.decillis.ss-gdc\\appdata\\local\\programs\\python\\python38\\lib\\site-packages\\ipykernel\\ipkernel.py:287: DeprecationWarning: `should_run_async` will not call `transform_cell` automatically in the future. Please pass the result to `transformed_cell` argument and any exception that happen during thetransform in `preprocessing_exc_tuple` in IPython 7.17 and above.\n",
      "  and should_run_async(code)\n"
     ]
    },
    {
     "data": {
      "text/html": [
       "<style  type=\"text/css\" >\n",
       "#T_d28905eb_fb24_11ea_a202_5ce0c54410aarow0_col0,#T_d28905eb_fb24_11ea_a202_5ce0c54410aarow0_col1,#T_d28905eb_fb24_11ea_a202_5ce0c54410aarow1_col1,#T_d28905eb_fb24_11ea_a202_5ce0c54410aarow1_col2,#T_d28905eb_fb24_11ea_a202_5ce0c54410aarow1_col3,#T_d28905eb_fb24_11ea_a202_5ce0c54410aarow2_col0,#T_d28905eb_fb24_11ea_a202_5ce0c54410aarow3_col2,#T_d28905eb_fb24_11ea_a202_5ce0c54410aarow3_col3,#T_d28905eb_fb24_11ea_a202_5ce0c54410aarow4_col0,#T_d28905eb_fb24_11ea_a202_5ce0c54410aarow4_col1,#T_d28905eb_fb24_11ea_a202_5ce0c54410aarow5_col1,#T_d28905eb_fb24_11ea_a202_5ce0c54410aarow5_col2,#T_d28905eb_fb24_11ea_a202_5ce0c54410aarow5_col3,#T_d28905eb_fb24_11ea_a202_5ce0c54410aarow6_col2,#T_d28905eb_fb24_11ea_a202_5ce0c54410aarow6_col3,#T_d28905eb_fb24_11ea_a202_5ce0c54410aarow7_col0,#T_d28905eb_fb24_11ea_a202_5ce0c54410aarow7_col1,#T_d28905eb_fb24_11ea_a202_5ce0c54410aarow7_col3,#T_d28905eb_fb24_11ea_a202_5ce0c54410aarow8_col0,#T_d28905eb_fb24_11ea_a202_5ce0c54410aarow8_col2,#T_d28905eb_fb24_11ea_a202_5ce0c54410aarow8_col3,#T_d28905eb_fb24_11ea_a202_5ce0c54410aarow9_col0,#T_d28905eb_fb24_11ea_a202_5ce0c54410aarow9_col2,#T_d28905eb_fb24_11ea_a202_5ce0c54410aarow10_col1,#T_d28905eb_fb24_11ea_a202_5ce0c54410aarow10_col2,#T_d28905eb_fb24_11ea_a202_5ce0c54410aarow10_col3,#T_d28905eb_fb24_11ea_a202_5ce0c54410aarow11_col0,#T_d28905eb_fb24_11ea_a202_5ce0c54410aarow11_col2,#T_d28905eb_fb24_11ea_a202_5ce0c54410aarow12_col1,#T_d28905eb_fb24_11ea_a202_5ce0c54410aarow12_col2,#T_d28905eb_fb24_11ea_a202_5ce0c54410aarow12_col3,#T_d28905eb_fb24_11ea_a202_5ce0c54410aarow13_col1,#T_d28905eb_fb24_11ea_a202_5ce0c54410aarow13_col3,#T_d28905eb_fb24_11ea_a202_5ce0c54410aarow14_col1,#T_d28905eb_fb24_11ea_a202_5ce0c54410aarow14_col2,#T_d28905eb_fb24_11ea_a202_5ce0c54410aarow14_col3{\n",
       "            color:  green;\n",
       "            font-weight:  700;\n",
       "        }#T_d28905eb_fb24_11ea_a202_5ce0c54410aarow0_col2,#T_d28905eb_fb24_11ea_a202_5ce0c54410aarow0_col3,#T_d28905eb_fb24_11ea_a202_5ce0c54410aarow1_col0,#T_d28905eb_fb24_11ea_a202_5ce0c54410aarow2_col1,#T_d28905eb_fb24_11ea_a202_5ce0c54410aarow2_col2,#T_d28905eb_fb24_11ea_a202_5ce0c54410aarow2_col3,#T_d28905eb_fb24_11ea_a202_5ce0c54410aarow3_col0,#T_d28905eb_fb24_11ea_a202_5ce0c54410aarow3_col1,#T_d28905eb_fb24_11ea_a202_5ce0c54410aarow4_col2,#T_d28905eb_fb24_11ea_a202_5ce0c54410aarow4_col3,#T_d28905eb_fb24_11ea_a202_5ce0c54410aarow5_col0,#T_d28905eb_fb24_11ea_a202_5ce0c54410aarow6_col0,#T_d28905eb_fb24_11ea_a202_5ce0c54410aarow6_col1,#T_d28905eb_fb24_11ea_a202_5ce0c54410aarow7_col2,#T_d28905eb_fb24_11ea_a202_5ce0c54410aarow8_col1,#T_d28905eb_fb24_11ea_a202_5ce0c54410aarow9_col1,#T_d28905eb_fb24_11ea_a202_5ce0c54410aarow9_col3,#T_d28905eb_fb24_11ea_a202_5ce0c54410aarow10_col0,#T_d28905eb_fb24_11ea_a202_5ce0c54410aarow11_col1,#T_d28905eb_fb24_11ea_a202_5ce0c54410aarow11_col3,#T_d28905eb_fb24_11ea_a202_5ce0c54410aarow12_col0,#T_d28905eb_fb24_11ea_a202_5ce0c54410aarow13_col0,#T_d28905eb_fb24_11ea_a202_5ce0c54410aarow13_col2,#T_d28905eb_fb24_11ea_a202_5ce0c54410aarow14_col0{\n",
       "            color:  black;\n",
       "            font-weight:  400;\n",
       "        }</style><table id=\"T_d28905eb_fb24_11ea_a202_5ce0c54410aa\" ><thead>    <tr>        <th class=\"blank level0\" ></th>        <th class=\"col_heading level0 col0\" >Topic0</th>        <th class=\"col_heading level0 col1\" >Topic1</th>        <th class=\"col_heading level0 col2\" >Topic2</th>        <th class=\"col_heading level0 col3\" >dominant_topic</th>    </tr></thead><tbody>\n",
       "                <tr>\n",
       "                        <th id=\"T_d28905eb_fb24_11ea_a202_5ce0c54410aalevel0_row0\" class=\"row_heading level0 row0\" >Doc0</th>\n",
       "                        <td id=\"T_d28905eb_fb24_11ea_a202_5ce0c54410aarow0_col0\" class=\"data row0 col0\" >0.530000</td>\n",
       "                        <td id=\"T_d28905eb_fb24_11ea_a202_5ce0c54410aarow0_col1\" class=\"data row0 col1\" >0.440000</td>\n",
       "                        <td id=\"T_d28905eb_fb24_11ea_a202_5ce0c54410aarow0_col2\" class=\"data row0 col2\" >0.030000</td>\n",
       "                        <td id=\"T_d28905eb_fb24_11ea_a202_5ce0c54410aarow0_col3\" class=\"data row0 col3\" >0</td>\n",
       "            </tr>\n",
       "            <tr>\n",
       "                        <th id=\"T_d28905eb_fb24_11ea_a202_5ce0c54410aalevel0_row1\" class=\"row_heading level0 row1\" >Doc1</th>\n",
       "                        <td id=\"T_d28905eb_fb24_11ea_a202_5ce0c54410aarow1_col0\" class=\"data row1 col0\" >0.030000</td>\n",
       "                        <td id=\"T_d28905eb_fb24_11ea_a202_5ce0c54410aarow1_col1\" class=\"data row1 col1\" >0.470000</td>\n",
       "                        <td id=\"T_d28905eb_fb24_11ea_a202_5ce0c54410aarow1_col2\" class=\"data row1 col2\" >0.500000</td>\n",
       "                        <td id=\"T_d28905eb_fb24_11ea_a202_5ce0c54410aarow1_col3\" class=\"data row1 col3\" >2</td>\n",
       "            </tr>\n",
       "            <tr>\n",
       "                        <th id=\"T_d28905eb_fb24_11ea_a202_5ce0c54410aalevel0_row2\" class=\"row_heading level0 row2\" >Doc2</th>\n",
       "                        <td id=\"T_d28905eb_fb24_11ea_a202_5ce0c54410aarow2_col0\" class=\"data row2 col0\" >0.900000</td>\n",
       "                        <td id=\"T_d28905eb_fb24_11ea_a202_5ce0c54410aarow2_col1\" class=\"data row2 col1\" >0.050000</td>\n",
       "                        <td id=\"T_d28905eb_fb24_11ea_a202_5ce0c54410aarow2_col2\" class=\"data row2 col2\" >0.050000</td>\n",
       "                        <td id=\"T_d28905eb_fb24_11ea_a202_5ce0c54410aarow2_col3\" class=\"data row2 col3\" >0</td>\n",
       "            </tr>\n",
       "            <tr>\n",
       "                        <th id=\"T_d28905eb_fb24_11ea_a202_5ce0c54410aalevel0_row3\" class=\"row_heading level0 row3\" >Doc3</th>\n",
       "                        <td id=\"T_d28905eb_fb24_11ea_a202_5ce0c54410aarow3_col0\" class=\"data row3 col0\" >0.060000</td>\n",
       "                        <td id=\"T_d28905eb_fb24_11ea_a202_5ce0c54410aarow3_col1\" class=\"data row3 col1\" >0.080000</td>\n",
       "                        <td id=\"T_d28905eb_fb24_11ea_a202_5ce0c54410aarow3_col2\" class=\"data row3 col2\" >0.860000</td>\n",
       "                        <td id=\"T_d28905eb_fb24_11ea_a202_5ce0c54410aarow3_col3\" class=\"data row3 col3\" >2</td>\n",
       "            </tr>\n",
       "            <tr>\n",
       "                        <th id=\"T_d28905eb_fb24_11ea_a202_5ce0c54410aalevel0_row4\" class=\"row_heading level0 row4\" >Doc4</th>\n",
       "                        <td id=\"T_d28905eb_fb24_11ea_a202_5ce0c54410aarow4_col0\" class=\"data row4 col0\" >0.760000</td>\n",
       "                        <td id=\"T_d28905eb_fb24_11ea_a202_5ce0c54410aarow4_col1\" class=\"data row4 col1\" >0.180000</td>\n",
       "                        <td id=\"T_d28905eb_fb24_11ea_a202_5ce0c54410aarow4_col2\" class=\"data row4 col2\" >0.050000</td>\n",
       "                        <td id=\"T_d28905eb_fb24_11ea_a202_5ce0c54410aarow4_col3\" class=\"data row4 col3\" >0</td>\n",
       "            </tr>\n",
       "            <tr>\n",
       "                        <th id=\"T_d28905eb_fb24_11ea_a202_5ce0c54410aalevel0_row5\" class=\"row_heading level0 row5\" >Doc5</th>\n",
       "                        <td id=\"T_d28905eb_fb24_11ea_a202_5ce0c54410aarow5_col0\" class=\"data row5 col0\" >0.060000</td>\n",
       "                        <td id=\"T_d28905eb_fb24_11ea_a202_5ce0c54410aarow5_col1\" class=\"data row5 col1\" >0.450000</td>\n",
       "                        <td id=\"T_d28905eb_fb24_11ea_a202_5ce0c54410aarow5_col2\" class=\"data row5 col2\" >0.490000</td>\n",
       "                        <td id=\"T_d28905eb_fb24_11ea_a202_5ce0c54410aarow5_col3\" class=\"data row5 col3\" >2</td>\n",
       "            </tr>\n",
       "            <tr>\n",
       "                        <th id=\"T_d28905eb_fb24_11ea_a202_5ce0c54410aalevel0_row6\" class=\"row_heading level0 row6\" >Doc6</th>\n",
       "                        <td id=\"T_d28905eb_fb24_11ea_a202_5ce0c54410aarow6_col0\" class=\"data row6 col0\" >0.060000</td>\n",
       "                        <td id=\"T_d28905eb_fb24_11ea_a202_5ce0c54410aarow6_col1\" class=\"data row6 col1\" >0.050000</td>\n",
       "                        <td id=\"T_d28905eb_fb24_11ea_a202_5ce0c54410aarow6_col2\" class=\"data row6 col2\" >0.890000</td>\n",
       "                        <td id=\"T_d28905eb_fb24_11ea_a202_5ce0c54410aarow6_col3\" class=\"data row6 col3\" >2</td>\n",
       "            </tr>\n",
       "            <tr>\n",
       "                        <th id=\"T_d28905eb_fb24_11ea_a202_5ce0c54410aalevel0_row7\" class=\"row_heading level0 row7\" >Doc7</th>\n",
       "                        <td id=\"T_d28905eb_fb24_11ea_a202_5ce0c54410aarow7_col0\" class=\"data row7 col0\" >0.460000</td>\n",
       "                        <td id=\"T_d28905eb_fb24_11ea_a202_5ce0c54410aarow7_col1\" class=\"data row7 col1\" >0.510000</td>\n",
       "                        <td id=\"T_d28905eb_fb24_11ea_a202_5ce0c54410aarow7_col2\" class=\"data row7 col2\" >0.030000</td>\n",
       "                        <td id=\"T_d28905eb_fb24_11ea_a202_5ce0c54410aarow7_col3\" class=\"data row7 col3\" >1</td>\n",
       "            </tr>\n",
       "            <tr>\n",
       "                        <th id=\"T_d28905eb_fb24_11ea_a202_5ce0c54410aalevel0_row8\" class=\"row_heading level0 row8\" >Doc8</th>\n",
       "                        <td id=\"T_d28905eb_fb24_11ea_a202_5ce0c54410aarow8_col0\" class=\"data row8 col0\" >0.400000</td>\n",
       "                        <td id=\"T_d28905eb_fb24_11ea_a202_5ce0c54410aarow8_col1\" class=\"data row8 col1\" >0.060000</td>\n",
       "                        <td id=\"T_d28905eb_fb24_11ea_a202_5ce0c54410aarow8_col2\" class=\"data row8 col2\" >0.540000</td>\n",
       "                        <td id=\"T_d28905eb_fb24_11ea_a202_5ce0c54410aarow8_col3\" class=\"data row8 col3\" >2</td>\n",
       "            </tr>\n",
       "            <tr>\n",
       "                        <th id=\"T_d28905eb_fb24_11ea_a202_5ce0c54410aalevel0_row9\" class=\"row_heading level0 row9\" >Doc9</th>\n",
       "                        <td id=\"T_d28905eb_fb24_11ea_a202_5ce0c54410aarow9_col0\" class=\"data row9 col0\" >0.660000</td>\n",
       "                        <td id=\"T_d28905eb_fb24_11ea_a202_5ce0c54410aarow9_col1\" class=\"data row9 col1\" >0.030000</td>\n",
       "                        <td id=\"T_d28905eb_fb24_11ea_a202_5ce0c54410aarow9_col2\" class=\"data row9 col2\" >0.310000</td>\n",
       "                        <td id=\"T_d28905eb_fb24_11ea_a202_5ce0c54410aarow9_col3\" class=\"data row9 col3\" >0</td>\n",
       "            </tr>\n",
       "            <tr>\n",
       "                        <th id=\"T_d28905eb_fb24_11ea_a202_5ce0c54410aalevel0_row10\" class=\"row_heading level0 row10\" >Doc10</th>\n",
       "                        <td id=\"T_d28905eb_fb24_11ea_a202_5ce0c54410aarow10_col0\" class=\"data row10 col0\" >0.060000</td>\n",
       "                        <td id=\"T_d28905eb_fb24_11ea_a202_5ce0c54410aarow10_col1\" class=\"data row10 col1\" >0.560000</td>\n",
       "                        <td id=\"T_d28905eb_fb24_11ea_a202_5ce0c54410aarow10_col2\" class=\"data row10 col2\" >0.380000</td>\n",
       "                        <td id=\"T_d28905eb_fb24_11ea_a202_5ce0c54410aarow10_col3\" class=\"data row10 col3\" >1</td>\n",
       "            </tr>\n",
       "            <tr>\n",
       "                        <th id=\"T_d28905eb_fb24_11ea_a202_5ce0c54410aalevel0_row11\" class=\"row_heading level0 row11\" >Doc11</th>\n",
       "                        <td id=\"T_d28905eb_fb24_11ea_a202_5ce0c54410aarow11_col0\" class=\"data row11 col0\" >0.700000</td>\n",
       "                        <td id=\"T_d28905eb_fb24_11ea_a202_5ce0c54410aarow11_col1\" class=\"data row11 col1\" >0.060000</td>\n",
       "                        <td id=\"T_d28905eb_fb24_11ea_a202_5ce0c54410aarow11_col2\" class=\"data row11 col2\" >0.240000</td>\n",
       "                        <td id=\"T_d28905eb_fb24_11ea_a202_5ce0c54410aarow11_col3\" class=\"data row11 col3\" >0</td>\n",
       "            </tr>\n",
       "            <tr>\n",
       "                        <th id=\"T_d28905eb_fb24_11ea_a202_5ce0c54410aalevel0_row12\" class=\"row_heading level0 row12\" >Doc12</th>\n",
       "                        <td id=\"T_d28905eb_fb24_11ea_a202_5ce0c54410aarow12_col0\" class=\"data row12 col0\" >0.030000</td>\n",
       "                        <td id=\"T_d28905eb_fb24_11ea_a202_5ce0c54410aarow12_col1\" class=\"data row12 col1\" >0.280000</td>\n",
       "                        <td id=\"T_d28905eb_fb24_11ea_a202_5ce0c54410aarow12_col2\" class=\"data row12 col2\" >0.700000</td>\n",
       "                        <td id=\"T_d28905eb_fb24_11ea_a202_5ce0c54410aarow12_col3\" class=\"data row12 col3\" >2</td>\n",
       "            </tr>\n",
       "            <tr>\n",
       "                        <th id=\"T_d28905eb_fb24_11ea_a202_5ce0c54410aalevel0_row13\" class=\"row_heading level0 row13\" >Doc13</th>\n",
       "                        <td id=\"T_d28905eb_fb24_11ea_a202_5ce0c54410aarow13_col0\" class=\"data row13 col0\" >0.060000</td>\n",
       "                        <td id=\"T_d28905eb_fb24_11ea_a202_5ce0c54410aarow13_col1\" class=\"data row13 col1\" >0.880000</td>\n",
       "                        <td id=\"T_d28905eb_fb24_11ea_a202_5ce0c54410aarow13_col2\" class=\"data row13 col2\" >0.070000</td>\n",
       "                        <td id=\"T_d28905eb_fb24_11ea_a202_5ce0c54410aarow13_col3\" class=\"data row13 col3\" >1</td>\n",
       "            </tr>\n",
       "            <tr>\n",
       "                        <th id=\"T_d28905eb_fb24_11ea_a202_5ce0c54410aalevel0_row14\" class=\"row_heading level0 row14\" >Doc14</th>\n",
       "                        <td id=\"T_d28905eb_fb24_11ea_a202_5ce0c54410aarow14_col0\" class=\"data row14 col0\" >0.030000</td>\n",
       "                        <td id=\"T_d28905eb_fb24_11ea_a202_5ce0c54410aarow14_col1\" class=\"data row14 col1\" >0.140000</td>\n",
       "                        <td id=\"T_d28905eb_fb24_11ea_a202_5ce0c54410aarow14_col2\" class=\"data row14 col2\" >0.820000</td>\n",
       "                        <td id=\"T_d28905eb_fb24_11ea_a202_5ce0c54410aarow14_col3\" class=\"data row14 col3\" >2</td>\n",
       "            </tr>\n",
       "    </tbody></table>"
      ],
      "text/plain": [
       "<pandas.io.formats.style.Styler at 0x256f1ba5bb0>"
      ]
     },
     "execution_count": 24,
     "metadata": {},
     "output_type": "execute_result"
    }
   ],
   "source": [
    "# Create Document - Topic Matrix\n",
    "lda_output = best_lda_model.transform(data_vectorized)\n",
    "\n",
    "# column names\n",
    "topicnames = [\"Topic\" + str(i) for i in range(best_lda_model.n_components)]\n",
    "\n",
    "# index names\n",
    "docnames = [\"Doc\" + str(i) for i in range(len(data))]\n",
    "\n",
    "# Make the pandas dataframe\n",
    "df_document_topic = pd.DataFrame(np.round(lda_output, 2), columns=topicnames, index=docnames)\n",
    "\n",
    "# Get dominant topic for each document\n",
    "dominant_topic = np.argmax(df_document_topic.values, axis=1)\n",
    "df_document_topic['dominant_topic'] = dominant_topic\n",
    "\n",
    "# Styling\n",
    "def color_green(val):\n",
    "    color = 'green' if val > .1 else 'black'\n",
    "    return 'color: {col}'.format(col=color)\n",
    "\n",
    "def make_bold(val):\n",
    "    weight = 700 if val > .1 else 400\n",
    "    return 'font-weight: {weight}'.format(weight=weight)\n",
    "\n",
    "# Apply Style\n",
    "df_document_topics = df_document_topic.head(15).style.applymap(color_green).applymap(make_bold)\n",
    "df_document_topics"
   ]
  },
  {
   "cell_type": "code",
   "execution_count": 25,
   "metadata": {},
   "outputs": [
    {
     "name": "stderr",
     "output_type": "stream",
     "text": [
      "c:\\users\\g.decillis.ss-gdc\\appdata\\local\\programs\\python\\python38\\lib\\site-packages\\ipykernel\\ipkernel.py:287: DeprecationWarning: `should_run_async` will not call `transform_cell` automatically in the future. Please pass the result to `transformed_cell` argument and any exception that happen during thetransform in `preprocessing_exc_tuple` in IPython 7.17 and above.\n",
      "  and should_run_async(code)\n"
     ]
    },
    {
     "data": {
      "text/html": [
       "<div>\n",
       "<style scoped>\n",
       "    .dataframe tbody tr th:only-of-type {\n",
       "        vertical-align: middle;\n",
       "    }\n",
       "\n",
       "    .dataframe tbody tr th {\n",
       "        vertical-align: top;\n",
       "    }\n",
       "\n",
       "    .dataframe thead th {\n",
       "        text-align: right;\n",
       "    }\n",
       "</style>\n",
       "<table border=\"1\" class=\"dataframe\">\n",
       "  <thead>\n",
       "    <tr style=\"text-align: right;\">\n",
       "      <th></th>\n",
       "      <th>Topic Num</th>\n",
       "      <th>Num Documents</th>\n",
       "    </tr>\n",
       "  </thead>\n",
       "  <tbody>\n",
       "    <tr>\n",
       "      <th>0</th>\n",
       "      <td>2</td>\n",
       "      <td>296</td>\n",
       "    </tr>\n",
       "    <tr>\n",
       "      <th>1</th>\n",
       "      <td>0</td>\n",
       "      <td>235</td>\n",
       "    </tr>\n",
       "    <tr>\n",
       "      <th>2</th>\n",
       "      <td>1</td>\n",
       "      <td>214</td>\n",
       "    </tr>\n",
       "  </tbody>\n",
       "</table>\n",
       "</div>"
      ],
      "text/plain": [
       "   Topic Num  Num Documents\n",
       "0          2            296\n",
       "1          0            235\n",
       "2          1            214"
      ]
     },
     "execution_count": 25,
     "metadata": {},
     "output_type": "execute_result"
    }
   ],
   "source": [
    "df_topic_distribution = df_document_topic['dominant_topic'].value_counts().reset_index(name=\"Num Documents\")\n",
    "df_topic_distribution.columns = ['Topic Num', 'Num Documents']\n",
    "df_topic_distribution"
   ]
  },
  {
   "cell_type": "code",
   "execution_count": 26,
   "metadata": {},
   "outputs": [
    {
     "name": "stderr",
     "output_type": "stream",
     "text": [
      "c:\\users\\g.decillis.ss-gdc\\appdata\\local\\programs\\python\\python38\\lib\\site-packages\\ipykernel\\ipkernel.py:287: DeprecationWarning: `should_run_async` will not call `transform_cell` automatically in the future. Please pass the result to `transformed_cell` argument and any exception that happen during thetransform in `preprocessing_exc_tuple` in IPython 7.17 and above.\n",
      "  and should_run_async(code)\n"
     ]
    },
    {
     "data": {
      "text/html": [
       "\n",
       "<link rel=\"stylesheet\" type=\"text/css\" href=\"https://cdn.rawgit.com/bmabey/pyLDAvis/files/ldavis.v1.0.0.css\">\n",
       "\n",
       "\n",
       "<div id=\"ldavis_el948025724486683526860547977\"></div>\n",
       "<script type=\"text/javascript\">\n",
       "\n",
       "var ldavis_el948025724486683526860547977_data = {\"mdsDat\": {\"x\": [-1015.7005615234375, -387.9960021972656, -2184.74560546875], \"y\": [1338.981201171875, -373.316162109375, -60.565799713134766], \"topics\": [1, 2, 3], \"cluster\": [1, 1, 1], \"Freq\": [39.58722993979642, 30.306648230747278, 30.106121829456296]}, \"tinfo\": {\"Term\": [\"potato\", \"breed\", \"pork\", \"rice\", \"mushroom\", \"beef\", \"smoke\", \"cod\", \"yorkshire\", \"ginger\", \"meatball\", \"freerange\", \"noodle\", \"sprinkle\", \"use\", \"black\", \"onion\", \"bean\", \"steak\", \"bake\", \"tomato\", \"buckwheat\", \"chicken\", \"skewer\", \"spring\", \"olive\", \"salmon\", \"peanut\", \"lettuce\", \"bree\", \"cod\", \"potato\", \"freerange\", \"olive\", \"cherry\", \"stuff\", \"butter\", \"bake\", \"crust\", \"stud\", \"cashew\", \"brighten\", \"protein\", \"turmeric\", \"coriander\", \"golden\", \"tomato\", \"breastchicken\", \"think\", \"nut\", \"load\", \"pine\", \"spin\", \"spoon\", \"italian\", \"spicy\", \"delicate\", \"crisp\", \"coconut\", \"garlic\", \"chicken\", \"fish\", \"sweet\", \"lentil\", \"bean\", \"sundrie\", \"roast\", \"salad\", \"pepper\", \"vitamin\", \"green\", \"source\", \"spinach\", \"black\", \"crunchy\", \"spice\", \"flavour\", \"sauce\", \"ginger\", \"sprinkle\", \"buckwheat\", \"skewer\", \"peanut\", \"lettuce\", \"brown\", \"glaze\", \"sugar\", \"tofu\", \"marinate\", \"snap\", \"lime\", \"cook\", \"seaweed\", \"nutty\", \"layer\", \"soon\", \"colourful\", \"vinegar\", \"sauteed\", \"come\", \"dressing\", \"cucumber\", \"noodle\", \"rice\", \"ribbon\", \"tahini\", \"cabbage\", \"finish\", \"vegetable\", \"breast\", \"black\", \"salmon\", \"flavour\", \"delicious\", \"warm\", \"crunchy\", \"sauce\", \"vitamin\", \"pack\", \"creamy\", \"source\", \"bean\", \"rich\", \"sweet\", \"seed\", \"green\", \"roast\", \"spice\", \"pepper\", \"pork\", \"breed\", \"beef\", \"yorkshire\", \"meatball\", \"steak\", \"mushroom\", \"spring\", \"bree\", \"hot\", \"heritage\", \"cauliflower\", \"porkpork\", \"dry\", \"traditionally\", \"traditional\", \"apricot\", \"balsamic\", \"flat\", \"grassfe\", \"chestnut\", \"smoke\", \"use\", \"favourite\", \"squash\", \"love\", \"soft\", \"twist\", \"onion\", \"grate\", \"crush\", \"mindful\", \"infuse\", \"spice\", \"sauce\", \"light\", \"rich\", \"fry\", \"chickpea\", \"salmon\", \"spinach\", \"sweet\", \"roast\", \"salad\", \"pepper\", \"pack\", \"flavour\", \"slice\"], \"Freq\": [135.0, 86.0, 84.0, 120.0, 55.0, 46.0, 66.0, 58.0, 42.0, 38.0, 37.0, 48.0, 48.0, 33.0, 49.0, 78.0, 58.0, 95.0, 29.0, 43.0, 64.0, 28.0, 74.0, 26.0, 26.0, 34.0, 55.0, 25.0, 23.0, 22.0, 58.05204989974679, 133.9909269027874, 47.36861869978398, 33.96357562232856, 28.185385708554023, 27.20670310067349, 23.36062322300203, 41.65871344920336, 16.646583852386854, 19.185381351126455, 10.862805293027673, 10.823410551310403, 15.287534631385828, 12.989448655633845, 21.28115524795309, 22.706765989941573, 55.44920508070685, 14.727997362060815, 9.773511715654509, 13.58798717397264, 11.175901268063017, 12.656484651229986, 15.602282371187439, 10.052310492316957, 10.817007426822316, 17.669373478447934, 15.977069466481549, 19.71735964231823, 24.938057015241668, 13.484210739658932, 57.11547532927198, 35.81729951691608, 143.2941990025352, 30.81377868120763, 64.67765494795455, 31.069158592140564, 62.079328023284305, 46.35539631274106, 48.77733757991464, 41.975027916772234, 33.180815932852454, 38.559501305022316, 26.652116007360867, 32.01945790885547, 27.978382840770802, 34.898458797565226, 27.077097110648722, 21.29066468997608, 38.151882785444975, 33.163791912407426, 27.46386085215918, 25.538725308488004, 24.577203603114867, 22.58135711756253, 18.72865152471944, 16.765775871885435, 15.821870725707075, 14.872676302027347, 14.861110321568098, 14.83296352371593, 14.80406016867721, 20.348735762339953, 12.901643638886226, 11.940063340685203, 15.590513265227143, 10.008963304800334, 9.995844371235943, 9.90057813636589, 9.828368844980583, 17.653338307786886, 25.063604954362827, 10.308000794312898, 42.77855970930395, 104.24950500996566, 12.446190465201669, 15.544962325020022, 11.957107835241036, 14.003985380098833, 14.670977180065888, 21.429975252818366, 46.00977053917063, 32.639366355662496, 45.002993644895106, 22.624404966918803, 22.9020394929201, 30.556706725429464, 47.87351627376587, 31.48279902733799, 25.44189897167051, 24.564012831314063, 27.147518338089814, 30.430251390348253, 28.31743734751693, 37.29212453746425, 20.728056112386803, 22.184965849572112, 25.767490945070225, 23.523899893417294, 22.16781916375887, 83.76017108388719, 85.64969457217573, 45.90625978486888, 42.0169877654062, 37.18913237323805, 28.439467118428567, 53.997955493131435, 25.432456610418487, 21.651015757751036, 15.824340231005346, 15.821411387522101, 17.678873685826233, 14.857732597715568, 14.854044937423305, 14.832380648922012, 12.894195597665387, 11.955189079517963, 11.92680413138066, 11.911280828835865, 10.98519723714161, 9.962125013671596, 56.24981602759559, 41.439716415246366, 8.764419317076385, 11.653056842188327, 11.487598748479156, 9.77335766567245, 15.049822022604282, 41.21886866914322, 9.942655885399049, 14.341403306814879, 22.264561649150195, 21.185611271247684, 53.874676630081275, 56.84956190173272, 21.078215516045958, 32.07993751614419, 23.152364853020384, 20.32003769090776, 22.344705360506474, 19.156557816044607, 32.706073687994525, 22.28122734024018, 20.927435745337092, 19.88309216882622, 18.26306364248642, 18.945339039216414, 16.288352683834365], \"Total\": [135.0, 86.0, 84.0, 120.0, 55.0, 46.0, 66.0, 58.0, 42.0, 38.0, 37.0, 48.0, 48.0, 33.0, 49.0, 78.0, 58.0, 95.0, 29.0, 43.0, 64.0, 28.0, 74.0, 26.0, 26.0, 34.0, 55.0, 25.0, 23.0, 22.0, 58.71030697355593, 135.70881335407523, 48.12510549903997, 34.6513007340047, 28.877106821422235, 27.91488049730279, 24.065373429673762, 43.32138054400731, 17.32857670346214, 20.21883846490801, 11.55445033655801, 11.554805160775537, 16.369568532296675, 14.447966118387141, 24.0833163611044, 26.01231216530205, 64.55523919803817, 17.34573671357405, 11.563631829357686, 16.383908172878265, 13.49377110056436, 15.4212842073499, 19.280219996264186, 12.53177265200143, 13.495803436692572, 22.17243024424491, 20.247144793210317, 25.067661720249998, 31.81966277199954, 17.355272058395222, 74.25621362027317, 48.22976164856616, 213.29239722799397, 41.47281540353852, 95.55160602823594, 45.35113718392331, 110.1280463085947, 84.05192251699481, 90.82824891249973, 76.33400459302008, 56.0221675898583, 69.56671749659898, 46.35903468292113, 78.36794271786427, 59.95319047706695, 112.29703532106379, 91.02542979476024, 126.01374286547468, 38.84013574473662, 33.98389957550257, 28.158304257860593, 26.216214885377177, 25.24513270431714, 23.302665907469866, 19.418579188770995, 17.47638612342292, 16.505238462815665, 15.534248029696077, 15.534221355931079, 15.534042014178533, 15.533800374101842, 21.36041006909976, 13.591980456033337, 12.620777966370072, 16.50479297478546, 10.67881009158686, 10.678766209979493, 10.678003500249925, 10.678481354500502, 19.413816922543948, 28.155167741723766, 11.644643041339615, 48.54809899149947, 120.3440148056957, 15.524768579283194, 19.407422995583666, 15.532001255292114, 18.4135692939732, 19.382007772473024, 30.028705309422, 78.36794271786427, 55.335163963438205, 91.02542979476024, 34.91557427395437, 35.82321334574306, 59.95319047706695, 126.01374286547468, 76.33400459302008, 56.19875341308024, 53.246302097028085, 69.56671749659898, 95.55160602823594, 80.39945987096435, 213.29239722799397, 43.5547654804876, 56.0221675898583, 110.1280463085947, 112.29703532106379, 90.82824891249973, 84.43023427347397, 86.37085708133606, 46.58093689258705, 42.698972847483326, 37.84663347070863, 29.11214795230439, 55.309983508162496, 26.200644673065856, 22.318737252697762, 16.49579104423777, 16.495766325494294, 18.436452030752594, 15.52526377640003, 15.525232988086776, 15.525307300147968, 13.584138223300464, 12.613874835637807, 12.613692648523042, 12.613455886564406, 11.643343516630246, 10.6723955490696, 66.9674465251038, 49.49685818767476, 10.66247529055791, 14.55601276457884, 14.556056729407826, 12.614701848266233, 20.37908300413877, 58.23671034088544, 14.522928796936798, 21.295261669967616, 33.872472774772895, 33.86352277026683, 112.29703532106379, 126.01374286547468, 35.818133067044855, 80.39945987096435, 49.36645564524335, 40.6126670426548, 55.335163963438205, 46.35903468292113, 213.29239722799397, 110.1280463085947, 84.05192251699481, 90.82824891249973, 56.19875341308024, 91.02542979476024, 45.467314373432544], \"Category\": [\"Default\", \"Default\", \"Default\", \"Default\", \"Default\", \"Default\", \"Default\", \"Default\", \"Default\", \"Default\", \"Default\", \"Default\", \"Default\", \"Default\", \"Default\", \"Default\", \"Default\", \"Default\", \"Default\", \"Default\", \"Default\", \"Default\", \"Default\", \"Default\", \"Default\", \"Default\", \"Default\", \"Default\", \"Default\", \"Default\", \"Topic1\", \"Topic1\", \"Topic1\", \"Topic1\", \"Topic1\", \"Topic1\", \"Topic1\", \"Topic1\", \"Topic1\", \"Topic1\", \"Topic1\", \"Topic1\", \"Topic1\", \"Topic1\", \"Topic1\", \"Topic1\", \"Topic1\", \"Topic1\", \"Topic1\", \"Topic1\", \"Topic1\", \"Topic1\", \"Topic1\", \"Topic1\", \"Topic1\", \"Topic1\", \"Topic1\", \"Topic1\", \"Topic1\", \"Topic1\", \"Topic1\", \"Topic1\", \"Topic1\", \"Topic1\", \"Topic1\", \"Topic1\", \"Topic1\", \"Topic1\", \"Topic1\", \"Topic1\", \"Topic1\", \"Topic1\", \"Topic1\", \"Topic1\", \"Topic1\", \"Topic1\", \"Topic1\", \"Topic1\", \"Topic2\", \"Topic2\", \"Topic2\", \"Topic2\", \"Topic2\", \"Topic2\", \"Topic2\", \"Topic2\", \"Topic2\", \"Topic2\", \"Topic2\", \"Topic2\", \"Topic2\", \"Topic2\", \"Topic2\", \"Topic2\", \"Topic2\", \"Topic2\", \"Topic2\", \"Topic2\", \"Topic2\", \"Topic2\", \"Topic2\", \"Topic2\", \"Topic2\", \"Topic2\", \"Topic2\", \"Topic2\", \"Topic2\", \"Topic2\", \"Topic2\", \"Topic2\", \"Topic2\", \"Topic2\", \"Topic2\", \"Topic2\", \"Topic2\", \"Topic2\", \"Topic2\", \"Topic2\", \"Topic2\", \"Topic2\", \"Topic2\", \"Topic2\", \"Topic2\", \"Topic2\", \"Topic2\", \"Topic2\", \"Topic2\", \"Topic2\", \"Topic2\", \"Topic3\", \"Topic3\", \"Topic3\", \"Topic3\", \"Topic3\", \"Topic3\", \"Topic3\", \"Topic3\", \"Topic3\", \"Topic3\", \"Topic3\", \"Topic3\", \"Topic3\", \"Topic3\", \"Topic3\", \"Topic3\", \"Topic3\", \"Topic3\", \"Topic3\", \"Topic3\", \"Topic3\", \"Topic3\", \"Topic3\", \"Topic3\", \"Topic3\", \"Topic3\", \"Topic3\", \"Topic3\", \"Topic3\", \"Topic3\", \"Topic3\", \"Topic3\", \"Topic3\", \"Topic3\", \"Topic3\", \"Topic3\", \"Topic3\", \"Topic3\", \"Topic3\", \"Topic3\", \"Topic3\", \"Topic3\", \"Topic3\", \"Topic3\", \"Topic3\", \"Topic3\", \"Topic3\", \"Topic3\"], \"logprob\": [30.0, 29.0, 28.0, 27.0, 26.0, 25.0, 24.0, 23.0, 22.0, 21.0, 20.0, 19.0, 18.0, 17.0, 16.0, 15.0, 14.0, 13.0, 12.0, 11.0, 10.0, 9.0, 8.0, 7.0, 6.0, 5.0, 4.0, 3.0, 2.0, 1.0, -3.7118, -2.8754, -3.9152, -4.2479, -4.4344, -4.4697, -4.6221, -4.0437, -4.961, -4.819, -5.3878, -5.3915, -5.0461, -5.209, -4.7154, -4.6505, -3.7577, -5.0834, -5.4935, -5.164, -5.3594, -5.235, -5.0258, -5.4654, -5.3921, -4.9014, -5.002, -4.7917, -4.5568, -5.1717, -3.7281, -4.1948, -2.8083, -4.3452, -3.6038, -4.337, -3.6448, -3.9368, -3.8859, -4.0361, -4.2712, -4.121, -4.4903, -4.3068, -4.4418, -4.2207, -4.4745, -4.7149, -3.8645, -4.0046, -4.1932, -4.2658, -4.3042, -4.3889, -4.576, -4.6867, -4.7447, -4.8065, -4.8073, -4.8092, -4.8111, -4.493, -4.9487, -5.0261, -4.7594, -5.2026, -5.2039, -5.2135, -5.2208, -4.6351, -4.2846, -5.1731, -3.75, -2.8593, -4.9846, -4.7623, -5.0247, -4.8667, -4.8202, -4.4413, -3.6772, -4.0205, -3.6993, -4.387, -4.3748, -4.0865, -3.6375, -4.0566, -4.2696, -4.3048, -4.2048, -4.0906, -4.1626, -3.8873, -4.4746, -4.4066, -4.2569, -4.348, -4.4074, -3.0714, -3.0491, -3.6728, -3.7613, -3.8834, -4.1516, -3.5105, -4.2634, -4.4244, -4.7379, -4.738, -4.627, -4.8009, -4.8011, -4.8026, -4.9426, -5.0182, -5.0206, -5.0219, -5.1029, -5.2006, -3.4696, -3.7752, -5.3287, -5.0438, -5.0581, -5.2197, -4.788, -3.7805, -5.2026, -4.8363, -4.3964, -4.4461, -3.5127, -3.459, -4.4512, -4.0312, -4.3573, -4.4878, -4.3928, -4.5468, -4.0118, -4.3957, -4.4583, -4.5095, -4.5945, -4.5578, -4.709], \"loglift\": [30.0, 29.0, 28.0, 27.0, 26.0, 25.0, 24.0, 23.0, 22.0, 21.0, 20.0, 19.0, 18.0, 17.0, 16.0, 15.0, 14.0, 13.0, 12.0, 11.0, 10.0, 9.0, 8.0, 7.0, 6.0, 5.0, 4.0, 3.0, 2.0, 1.0, 0.9154, 0.9139, 0.9108, 0.9066, 0.9024, 0.901, 0.8969, 0.8875, 0.8865, 0.8742, 0.8649, 0.8613, 0.8583, 0.8202, 0.803, 0.7908, 0.7746, 0.7631, 0.7585, 0.7396, 0.7382, 0.7291, 0.715, 0.7062, 0.7054, 0.6996, 0.6898, 0.6866, 0.683, 0.6743, 0.6642, 0.6291, 0.5289, 0.6296, 0.5364, 0.5484, 0.3534, 0.3316, 0.305, 0.3286, 0.4029, 0.3366, 0.3731, 0.0316, 0.1645, -0.242, -0.2858, -0.8515, 1.1759, 1.1694, 1.1688, 1.1676, 1.167, 1.1624, 1.1576, 1.1523, 1.1515, 1.1503, 1.1495, 1.1476, 1.1457, 1.1453, 1.1417, 1.1384, 1.1368, 1.129, 1.1277, 1.1182, 1.1108, 1.0987, 1.0775, 1.0719, 1.0673, 1.0502, 0.9728, 0.9719, 0.9322, 0.9201, 0.9153, 0.8564, 0.6612, 0.6659, 0.4894, 0.7599, 0.7464, 0.5198, 0.226, 0.3081, 0.4013, 0.4202, 0.2528, 0.0496, 0.1503, -0.5501, 0.4513, 0.2675, -0.2587, -0.3693, -0.2165, 1.1925, 1.1921, 1.1859, 1.1843, 1.1829, 1.1771, 1.1764, 1.1707, 1.1701, 1.1589, 1.1587, 1.1585, 1.1565, 1.1562, 1.1548, 1.1483, 1.1468, 1.1444, 1.1432, 1.1423, 1.1316, 1.026, 1.0228, 1.0044, 0.978, 0.9637, 0.9452, 0.8973, 0.8548, 0.8215, 0.8051, 0.7808, 0.7314, 0.466, 0.4045, 0.6702, 0.2817, 0.4433, 0.508, 0.2936, 0.3167, -0.6747, -0.3975, -0.1899, -0.3187, 0.0764, -0.3691, 0.1739]}, \"token.table\": {\"Topic\": [3, 1, 2, 3, 1, 2, 3, 1, 2, 1, 2, 1, 2, 3, 3, 3, 1, 2, 2, 1, 2, 3, 1, 3, 1, 3, 1, 2, 1, 2, 3, 1, 2, 3, 1, 2, 1, 2, 3, 2, 3, 1, 2, 3, 1, 2, 3, 1, 2, 3, 1, 2, 3, 1, 3, 1, 1, 2, 1, 2, 3, 1, 2, 3, 1, 2, 3, 3, 1, 3, 1, 2, 1, 2, 3, 1, 2, 3, 1, 1, 2, 3, 1, 3, 2, 2, 1, 2, 3, 3, 1, 3, 1, 2, 3, 3, 3, 1, 3, 1, 3, 2, 3, 1, 2, 3, 2, 1, 2, 3, 2, 1, 2, 2, 3, 2, 3, 1, 3, 1, 3, 2, 3, 1, 3, 2, 1, 2, 3, 1, 2, 3, 2, 1, 2, 3, 1, 3, 3, 3, 1, 3, 1, 3, 1, 2, 3, 1, 2, 3, 1, 2, 3, 1, 2, 3, 1, 2, 3, 2, 3, 1, 2, 3, 2, 2, 1, 2, 3, 2, 1, 2, 3, 2, 3, 2, 2, 3, 2, 1, 2, 3, 1, 2, 3, 1, 3, 1, 2, 1, 2, 3, 1, 3, 3, 2, 2, 3, 3, 1, 2, 1, 2, 1, 3, 1, 2, 3, 1, 2, 3, 1, 3, 2, 1, 3, 3, 3, 1, 3, 1, 2, 3, 2, 3, 1, 2, 2, 1, 2, 3, 1, 2, 3, 3], \"Freq\": [0.9513333655489085, 0.9694981894063831, 0.0230832902239615, 0.9513471062262723, 0.6802606748524164, 0.3139664653164999, 0.9875284412177743, 0.40833022904792265, 0.5869747042563889, 0.2664117522739107, 0.6993308497190155, 0.8647658065893291, 0.11530210754524388, 0.05765105377262194, 0.9857188491853752, 0.9957062243693284, 0.951984896927652, 0.9784443967448946, 0.9588645591988287, 0.9557300270952743, 0.7725984438683535, 0.19314961096708838, 0.9520141313166806, 0.9763266798826272, 0.9696262223620145, 0.9369967552291277, 0.767612529928917, 0.22893707032967703, 0.4432114734325353, 0.07386857890542255, 0.492457192702817, 0.7856777169241196, 0.1885626520617887, 0.031427108676964785, 0.9879014944705388, 0.9364377684994007, 0.05150970589605014, 0.9271747061289025, 0.05150970589605014, 0.9363116127125412, 0.04681558063562706, 0.871972932843913, 0.041522520611614905, 0.08304504122322981, 0.31927099780604007, 0.46951617324417655, 0.2065871162274377, 0.7978406691136943, 0.07978406691136944, 0.11967610036705414, 0.46703102499124627, 0.5170700633831655, 0.01667967946397308, 0.32871162179105756, 0.6574232435821151, 0.9810384482762227, 0.08587639796685075, 0.8587639796685075, 0.7902348782217157, 0.1481690396665717, 0.09877935977771446, 0.11456205670899823, 0.6587318260767397, 0.22912411341799646, 0.03551745843510205, 0.8879364608775513, 0.10655237530530616, 0.9661690753053555, 0.1875737054951103, 0.8440816747279962, 0.21723110474345722, 0.7603088666021003, 0.7464270767564587, 0.24880902558548623, 0.9513649635689576, 0.29662040663667616, 0.49436734439446023, 0.20873287874432767, 0.9766212356861761, 0.3241067196514778, 0.20256669978217362, 0.46590340949899933, 0.7490519282128766, 0.23047751637319278, 0.9783693921602612, 0.9727411536882652, 0.8841966778593335, 0.038443333819971025, 0.07688666763994205, 0.9447458098516671, 0.27542653798892736, 0.6885663449723184, 0.5890525379452471, 0.3927016919634981, 0.01785007690743173, 0.9699458445450888, 0.9699443910929657, 0.35436360479708723, 0.6201363083949026, 0.8150681840914378, 0.1481942152893523, 0.9694153707013086, 0.060588460668831785, 0.7474775873874007, 0.07233654071490975, 0.192897441906426, 0.9870115329863248, 0.30710701697964143, 0.11167527890168778, 0.5862952142338609, 0.965636202265622, 0.8151909438822436, 0.148216535251317, 0.2060997738445917, 0.7556991707635029, 0.965610033249133, 0.9776298869128246, 0.32474747483426836, 0.6494949496685367, 0.018079918607323806, 0.9763156047954856, 0.8857195419233426, 0.102990644409691, 0.8544969766844421, 0.12207099666920602, 0.9508130189736143, 0.9812041476017218, 0.2919120929134118, 0.7040232829088167, 0.21352786799016443, 0.4448497249795092, 0.32029180198524665, 0.9902899023273813, 0.5394797388112659, 0.2422153929356704, 0.22019581175970035, 0.8429907538961056, 0.12969088521478547, 0.9949042629435277, 0.9661671592853396, 0.9874082359734677, 0.007368718178906475, 0.9163344757930206, 0.06108896505286804, 0.06441319848944066, 0.7729583818732879, 0.12882639697888132, 0.05816658195508947, 0.8641892176184721, 0.07478560537082932, 0.2487578900666576, 0.34826104609332065, 0.39801262410665217, 0.5629810214399612, 0.23608881544256438, 0.1997674592206314, 0.5472807595888014, 0.20225593289151356, 0.249845564160105, 0.5963658121950123, 0.3975772081300082, 0.16664849025568934, 0.38091083487014704, 0.45233161640829966, 0.936462748589756, 0.9564463429043144, 0.34439400222967453, 0.48215160312154437, 0.1607172010405148, 0.9917526276648817, 0.3958887884197919, 0.24193203736765062, 0.35190114526203725, 0.14932628491742392, 0.836227195537574, 0.9656211812938904, 0.15854516611305247, 0.7927258305652624, 0.9364339204681943, 0.5606129109355584, 0.3881166306476943, 0.05749876009595471, 0.31167341061082293, 0.21371891013313574, 0.4808675477995554, 0.8118189933046285, 0.18040422073436188, 0.8298660494071243, 0.15559988426383578, 0.5824107465711946, 0.02157076839152573, 0.4098445994389888, 0.7979717058147329, 0.15959434116294657, 0.9541749950030767, 0.9710480672379395, 0.2061003963461969, 0.8244015853847876, 0.9617978050219287, 0.9397176812593148, 0.04945882532943762, 0.9672260643425936, 0.9693892054965515, 0.683555075461025, 0.3087022921436887, 0.6704411496071445, 0.17347078696128915, 0.1547171883708795, 0.05152667617063631, 0.824426818730181, 0.10305335234127262, 0.8647802133073845, 0.08647802133073845, 0.9656083752058818, 0.8519835211403175, 0.1394154852775065, 0.9569985071045207, 0.9661644507260116, 0.8997806261087231, 0.06921389431605562, 0.04906992134027379, 0.24534960670136896, 0.7360488201041069, 0.16162642019957713, 0.8283354035228327, 0.20637696811168005, 0.7739136304188001, 0.9365046564899463, 0.550213502146597, 0.4061099658701073, 0.03930096443904264, 0.3349783249253373, 0.6420417894402298, 0.027914860410444775, 0.9836302186944873], \"Term\": [\"apricot\", \"bake\", \"bake\", \"balsamic\", \"bean\", \"bean\", \"beef\", \"black\", \"black\", \"breast\", \"breast\", \"breastchicken\", \"breastchicken\", \"breastchicken\", \"bree\", \"breed\", \"brighten\", \"brown\", \"buckwheat\", \"butter\", \"cabbage\", \"cabbage\", \"cashew\", \"cauliflower\", \"cherry\", \"chestnut\", \"chicken\", \"chicken\", \"chickpea\", \"chickpea\", \"chickpea\", \"coconut\", \"coconut\", \"coconut\", \"cod\", \"colourful\", \"come\", \"come\", \"come\", \"cook\", \"cook\", \"coriander\", \"coriander\", \"coriander\", \"creamy\", \"creamy\", \"creamy\", \"crisp\", \"crisp\", \"crisp\", \"crunchy\", \"crunchy\", \"crunchy\", \"crush\", \"crush\", \"crust\", \"cucumber\", \"cucumber\", \"delicate\", \"delicate\", \"delicate\", \"delicious\", \"delicious\", \"delicious\", \"dressing\", \"dressing\", \"dressing\", \"dry\", \"favourite\", \"favourite\", \"finish\", \"finish\", \"fish\", \"fish\", \"flat\", \"flavour\", \"flavour\", \"flavour\", \"freerange\", \"fry\", \"fry\", \"fry\", \"garlic\", \"garlic\", \"ginger\", \"glaze\", \"golden\", \"golden\", \"golden\", \"grassfe\", \"grate\", \"grate\", \"green\", \"green\", \"green\", \"heritage\", \"hot\", \"infuse\", \"infuse\", \"italian\", \"italian\", \"layer\", \"layer\", \"lentil\", \"lentil\", \"lentil\", \"lettuce\", \"light\", \"light\", \"light\", \"lime\", \"load\", \"load\", \"love\", \"love\", \"marinate\", \"meatball\", \"mindful\", \"mindful\", \"mushroom\", \"mushroom\", \"noodle\", \"noodle\", \"nut\", \"nut\", \"nutty\", \"olive\", \"onion\", \"onion\", \"pack\", \"pack\", \"pack\", \"peanut\", \"pepper\", \"pepper\", \"pepper\", \"pine\", \"pine\", \"pork\", \"porkpork\", \"potato\", \"potato\", \"protein\", \"protein\", \"ribbon\", \"ribbon\", \"ribbon\", \"rice\", \"rice\", \"rice\", \"rich\", \"rich\", \"rich\", \"roast\", \"roast\", \"roast\", \"salad\", \"salad\", \"salad\", \"salmon\", \"salmon\", \"sauce\", \"sauce\", \"sauce\", \"sauteed\", \"seaweed\", \"seed\", \"seed\", \"seed\", \"skewer\", \"slice\", \"slice\", \"slice\", \"smoke\", \"smoke\", \"snap\", \"soft\", \"soft\", \"soon\", \"source\", \"source\", \"source\", \"spice\", \"spice\", \"spice\", \"spicy\", \"spicy\", \"spin\", \"spin\", \"spinach\", \"spinach\", \"spinach\", \"spoon\", \"spoon\", \"spring\", \"sprinkle\", \"squash\", \"squash\", \"steak\", \"stud\", \"stud\", \"stuff\", \"sugar\", \"sundrie\", \"sundrie\", \"sweet\", \"sweet\", \"sweet\", \"tahini\", \"tahini\", \"tahini\", \"think\", \"think\", \"tofu\", \"tomato\", \"tomato\", \"traditional\", \"traditionally\", \"turmeric\", \"turmeric\", \"twist\", \"twist\", \"twist\", \"use\", \"use\", \"vegetable\", \"vegetable\", \"vinegar\", \"vitamin\", \"vitamin\", \"vitamin\", \"warm\", \"warm\", \"warm\", \"yorkshire\"]}, \"R\": 30, \"lambda.step\": 0.01, \"plot.opts\": {\"xlab\": \"PC1\", \"ylab\": \"PC2\"}, \"topic.order\": [3, 2, 1]};\n",
       "\n",
       "function LDAvis_load_lib(url, callback){\n",
       "  var s = document.createElement('script');\n",
       "  s.src = url;\n",
       "  s.async = true;\n",
       "  s.onreadystatechange = s.onload = callback;\n",
       "  s.onerror = function(){console.warn(\"failed to load library \" + url);};\n",
       "  document.getElementsByTagName(\"head\")[0].appendChild(s);\n",
       "}\n",
       "\n",
       "if(typeof(LDAvis) !== \"undefined\"){\n",
       "   // already loaded: just create the visualization\n",
       "   !function(LDAvis){\n",
       "       new LDAvis(\"#\" + \"ldavis_el948025724486683526860547977\", ldavis_el948025724486683526860547977_data);\n",
       "   }(LDAvis);\n",
       "}else if(typeof define === \"function\" && define.amd){\n",
       "   // require.js is available: use it to load d3/LDAvis\n",
       "   require.config({paths: {d3: \"https://cdnjs.cloudflare.com/ajax/libs/d3/3.5.5/d3.min\"}});\n",
       "   require([\"d3\"], function(d3){\n",
       "      window.d3 = d3;\n",
       "      LDAvis_load_lib(\"https://cdn.rawgit.com/bmabey/pyLDAvis/files/ldavis.v1.0.0.js\", function(){\n",
       "        new LDAvis(\"#\" + \"ldavis_el948025724486683526860547977\", ldavis_el948025724486683526860547977_data);\n",
       "      });\n",
       "    });\n",
       "}else{\n",
       "    // require.js not available: dynamically load d3 & LDAvis\n",
       "    LDAvis_load_lib(\"https://cdnjs.cloudflare.com/ajax/libs/d3/3.5.5/d3.min.js\", function(){\n",
       "         LDAvis_load_lib(\"https://cdn.rawgit.com/bmabey/pyLDAvis/files/ldavis.v1.0.0.js\", function(){\n",
       "                 new LDAvis(\"#\" + \"ldavis_el948025724486683526860547977\", ldavis_el948025724486683526860547977_data);\n",
       "            })\n",
       "         });\n",
       "}\n",
       "</script>"
      ],
      "text/plain": [
       "PreparedData(topic_coordinates=                 x            y  topics  cluster       Freq\n",
       "topic                                                      \n",
       "2     -1015.700562  1338.981201       1        1  39.587230\n",
       "1      -387.996002  -373.316162       2        1  30.306648\n",
       "0     -2184.745605   -60.565800       3        1  30.106122, topic_info=         Term        Freq       Total Category  logprob  loglift\n",
       "132    potato  135.000000  135.000000  Default  30.0000  30.0000\n",
       "19      breed   86.000000   86.000000  Default  29.0000  29.0000\n",
       "130      pork   84.000000   84.000000  Default  28.0000  28.0000\n",
       "136      rice  120.000000  120.000000  Default  27.0000  27.0000\n",
       "111  mushroom   55.000000   55.000000  Default  26.0000  26.0000\n",
       "..        ...         ...         ...      ...      ...      ...\n",
       "141     salad   20.927436   84.051923   Topic3  -4.4583  -0.1899\n",
       "127    pepper   19.883092   90.828249   Topic3  -4.5095  -0.3187\n",
       "120      pack   18.263064   56.198753   Topic3  -4.5945   0.0764\n",
       "70    flavour   18.945339   91.025430   Topic3  -4.5578  -0.3691\n",
       "150     slice   16.288353   45.467314   Topic3  -4.7090   0.1739\n",
       "\n",
       "[177 rows x 6 columns], token_table=      Topic      Freq       Term\n",
       "term                            \n",
       "4         3  0.951333    apricot\n",
       "6         1  0.969498       bake\n",
       "6         2  0.023083       bake\n",
       "7         3  0.951347   balsamic\n",
       "9         1  0.680261       bean\n",
       "...     ...       ...        ...\n",
       "197       3  0.039301    vitamin\n",
       "198       1  0.334978       warm\n",
       "198       2  0.642042       warm\n",
       "198       3  0.027915       warm\n",
       "201       3  0.983630  yorkshire\n",
       "\n",
       "[235 rows x 3 columns], R=30, lambda_step=0.01, plot_opts={'xlab': 'PC1', 'ylab': 'PC2'}, topic_order=[3, 2, 1])"
      ]
     },
     "execution_count": 26,
     "metadata": {},
     "output_type": "execute_result"
    }
   ],
   "source": [
    "pyLDAvis.enable_notebook()\n",
    "panel = pyLDAvis.sklearn.prepare(best_lda_model, data_vectorized, vectorizer, mds='tsne')\n",
    "panel"
   ]
  },
  {
   "cell_type": "code",
   "execution_count": 27,
   "metadata": {},
   "outputs": [
    {
     "name": "stderr",
     "output_type": "stream",
     "text": [
      "c:\\users\\g.decillis.ss-gdc\\appdata\\local\\programs\\python\\python38\\lib\\site-packages\\ipykernel\\ipkernel.py:287: DeprecationWarning: `should_run_async` will not call `transform_cell` automatically in the future. Please pass the result to `transformed_cell` argument and any exception that happen during thetransform in `preprocessing_exc_tuple` in IPython 7.17 and above.\n",
      "  and should_run_async(code)\n"
     ]
    },
    {
     "data": {
      "text/html": [
       "<div>\n",
       "<style scoped>\n",
       "    .dataframe tbody tr th:only-of-type {\n",
       "        vertical-align: middle;\n",
       "    }\n",
       "\n",
       "    .dataframe tbody tr th {\n",
       "        vertical-align: top;\n",
       "    }\n",
       "\n",
       "    .dataframe thead th {\n",
       "        text-align: right;\n",
       "    }\n",
       "</style>\n",
       "<table border=\"1\" class=\"dataframe\">\n",
       "  <thead>\n",
       "    <tr style=\"text-align: right;\">\n",
       "      <th></th>\n",
       "      <th>add</th>\n",
       "      <th>african</th>\n",
       "      <th>almond</th>\n",
       "      <th>alternative</th>\n",
       "      <th>apricot</th>\n",
       "      <th>aubergine</th>\n",
       "      <th>bake</th>\n",
       "      <th>balsamic</th>\n",
       "      <th>base</th>\n",
       "      <th>bean</th>\n",
       "      <th>...</th>\n",
       "      <th>use</th>\n",
       "      <th>vegetable</th>\n",
       "      <th>version</th>\n",
       "      <th>vibrant</th>\n",
       "      <th>vinegar</th>\n",
       "      <th>vitamin</th>\n",
       "      <th>warm</th>\n",
       "      <th>white</th>\n",
       "      <th>wild</th>\n",
       "      <th>yorkshire</th>\n",
       "    </tr>\n",
       "  </thead>\n",
       "  <tbody>\n",
       "    <tr>\n",
       "      <th>Topic0</th>\n",
       "      <td>4.634720</td>\n",
       "      <td>6.118199</td>\n",
       "      <td>7.534441</td>\n",
       "      <td>5.715126</td>\n",
       "      <td>12.318688</td>\n",
       "      <td>8.047617</td>\n",
       "      <td>0.365761</td>\n",
       "      <td>12.289440</td>\n",
       "      <td>7.683160</td>\n",
       "      <td>0.457190</td>\n",
       "      <td>...</td>\n",
       "      <td>42.699696</td>\n",
       "      <td>0.353899</td>\n",
       "      <td>7.482474</td>\n",
       "      <td>3.122941</td>\n",
       "      <td>0.373734</td>\n",
       "      <td>2.963628</td>\n",
       "      <td>1.216395</td>\n",
       "      <td>0.411351</td>\n",
       "      <td>0.381722</td>\n",
       "      <td>43.294520</td>\n",
       "    </tr>\n",
       "    <tr>\n",
       "      <th>Topic1</th>\n",
       "      <td>19.630304</td>\n",
       "      <td>0.350026</td>\n",
       "      <td>0.359120</td>\n",
       "      <td>0.732927</td>\n",
       "      <td>0.345382</td>\n",
       "      <td>1.275824</td>\n",
       "      <td>1.346630</td>\n",
       "      <td>0.351731</td>\n",
       "      <td>10.740698</td>\n",
       "      <td>31.336198</td>\n",
       "      <td>...</td>\n",
       "      <td>7.933796</td>\n",
       "      <td>15.107750</td>\n",
       "      <td>0.340479</td>\n",
       "      <td>2.514537</td>\n",
       "      <td>10.195331</td>\n",
       "      <td>32.420081</td>\n",
       "      <td>23.583862</td>\n",
       "      <td>7.575229</td>\n",
       "      <td>9.380324</td>\n",
       "      <td>0.350014</td>\n",
       "    </tr>\n",
       "    <tr>\n",
       "      <th>Topic2</th>\n",
       "      <td>12.734976</td>\n",
       "      <td>4.531775</td>\n",
       "      <td>18.106439</td>\n",
       "      <td>5.551946</td>\n",
       "      <td>0.335929</td>\n",
       "      <td>19.676559</td>\n",
       "      <td>43.287608</td>\n",
       "      <td>0.358829</td>\n",
       "      <td>0.576141</td>\n",
       "      <td>67.206612</td>\n",
       "      <td>...</td>\n",
       "      <td>0.366507</td>\n",
       "      <td>4.538351</td>\n",
       "      <td>3.177046</td>\n",
       "      <td>10.362522</td>\n",
       "      <td>0.430936</td>\n",
       "      <td>43.616291</td>\n",
       "      <td>12.199744</td>\n",
       "      <td>6.013420</td>\n",
       "      <td>7.237954</td>\n",
       "      <td>0.355466</td>\n",
       "    </tr>\n",
       "  </tbody>\n",
       "</table>\n",
       "<p>3 rows × 202 columns</p>\n",
       "</div>"
      ],
      "text/plain": [
       "              add   african     almond  alternative    apricot  aubergine  \\\n",
       "Topic0   4.634720  6.118199   7.534441     5.715126  12.318688   8.047617   \n",
       "Topic1  19.630304  0.350026   0.359120     0.732927   0.345382   1.275824   \n",
       "Topic2  12.734976  4.531775  18.106439     5.551946   0.335929  19.676559   \n",
       "\n",
       "             bake   balsamic       base       bean  ...        use  vegetable  \\\n",
       "Topic0   0.365761  12.289440   7.683160   0.457190  ...  42.699696   0.353899   \n",
       "Topic1   1.346630   0.351731  10.740698  31.336198  ...   7.933796  15.107750   \n",
       "Topic2  43.287608   0.358829   0.576141  67.206612  ...   0.366507   4.538351   \n",
       "\n",
       "         version    vibrant    vinegar    vitamin       warm     white  \\\n",
       "Topic0  7.482474   3.122941   0.373734   2.963628   1.216395  0.411351   \n",
       "Topic1  0.340479   2.514537  10.195331  32.420081  23.583862  7.575229   \n",
       "Topic2  3.177046  10.362522   0.430936  43.616291  12.199744  6.013420   \n",
       "\n",
       "            wild  yorkshire  \n",
       "Topic0  0.381722  43.294520  \n",
       "Topic1  9.380324   0.350014  \n",
       "Topic2  7.237954   0.355466  \n",
       "\n",
       "[3 rows x 202 columns]"
      ]
     },
     "execution_count": 27,
     "metadata": {},
     "output_type": "execute_result"
    }
   ],
   "source": [
    "# Topic-Keyword Matrix\n",
    "df_topic_keywords = pd.DataFrame(best_lda_model.components_)\n",
    "\n",
    "# Assign Column and Index\n",
    "df_topic_keywords.columns = vectorizer.get_feature_names()\n",
    "df_topic_keywords.index = topicnames\n",
    "\n",
    "# View\n",
    "df_topic_keywords.head()"
   ]
  },
  {
   "cell_type": "code",
   "execution_count": 28,
   "metadata": {},
   "outputs": [
    {
     "name": "stderr",
     "output_type": "stream",
     "text": [
      "c:\\users\\g.decillis.ss-gdc\\appdata\\local\\programs\\python\\python38\\lib\\site-packages\\ipykernel\\ipkernel.py:287: DeprecationWarning: `should_run_async` will not call `transform_cell` automatically in the future. Please pass the result to `transformed_cell` argument and any exception that happen during thetransform in `preprocessing_exc_tuple` in IPython 7.17 and above.\n",
      "  and should_run_async(code)\n"
     ]
    },
    {
     "data": {
      "text/html": [
       "<div>\n",
       "<style scoped>\n",
       "    .dataframe tbody tr th:only-of-type {\n",
       "        vertical-align: middle;\n",
       "    }\n",
       "\n",
       "    .dataframe tbody tr th {\n",
       "        vertical-align: top;\n",
       "    }\n",
       "\n",
       "    .dataframe thead th {\n",
       "        text-align: right;\n",
       "    }\n",
       "</style>\n",
       "<table border=\"1\" class=\"dataframe\">\n",
       "  <thead>\n",
       "    <tr style=\"text-align: right;\">\n",
       "      <th></th>\n",
       "      <th>Word 0</th>\n",
       "      <th>Word 1</th>\n",
       "      <th>Word 2</th>\n",
       "      <th>Word 3</th>\n",
       "      <th>Word 4</th>\n",
       "      <th>Word 5</th>\n",
       "      <th>Word 6</th>\n",
       "      <th>Word 7</th>\n",
       "      <th>Word 8</th>\n",
       "      <th>Word 9</th>\n",
       "      <th>Word 10</th>\n",
       "      <th>Word 11</th>\n",
       "      <th>Word 12</th>\n",
       "      <th>Word 13</th>\n",
       "      <th>Word 14</th>\n",
       "    </tr>\n",
       "  </thead>\n",
       "  <tbody>\n",
       "    <tr>\n",
       "      <th>Topic 0</th>\n",
       "      <td>breed</td>\n",
       "      <td>pork</td>\n",
       "      <td>sauce</td>\n",
       "      <td>smoke</td>\n",
       "      <td>mushroom</td>\n",
       "      <td>spice</td>\n",
       "      <td>beef</td>\n",
       "      <td>yorkshire</td>\n",
       "      <td>use</td>\n",
       "      <td>onion</td>\n",
       "      <td>meatball</td>\n",
       "      <td>sweet</td>\n",
       "      <td>rich</td>\n",
       "      <td>steak</td>\n",
       "      <td>spring</td>\n",
       "    </tr>\n",
       "    <tr>\n",
       "      <th>Topic 1</th>\n",
       "      <td>rice</td>\n",
       "      <td>sauce</td>\n",
       "      <td>black</td>\n",
       "      <td>flavour</td>\n",
       "      <td>noodle</td>\n",
       "      <td>ginger</td>\n",
       "      <td>sweet</td>\n",
       "      <td>sprinkle</td>\n",
       "      <td>salmon</td>\n",
       "      <td>vitamin</td>\n",
       "      <td>crunchy</td>\n",
       "      <td>bean</td>\n",
       "      <td>rich</td>\n",
       "      <td>buckwheat</td>\n",
       "      <td>source</td>\n",
       "    </tr>\n",
       "    <tr>\n",
       "      <th>Topic 2</th>\n",
       "      <td>sweet</td>\n",
       "      <td>potato</td>\n",
       "      <td>bean</td>\n",
       "      <td>roast</td>\n",
       "      <td>cod</td>\n",
       "      <td>chicken</td>\n",
       "      <td>tomato</td>\n",
       "      <td>pepper</td>\n",
       "      <td>freerange</td>\n",
       "      <td>salad</td>\n",
       "      <td>vitamin</td>\n",
       "      <td>bake</td>\n",
       "      <td>source</td>\n",
       "      <td>fish</td>\n",
       "      <td>spice</td>\n",
       "    </tr>\n",
       "  </tbody>\n",
       "</table>\n",
       "</div>"
      ],
      "text/plain": [
       "        Word 0  Word 1 Word 2   Word 3    Word 4   Word 5  Word 6     Word 7  \\\n",
       "Topic 0  breed    pork  sauce    smoke  mushroom    spice    beef  yorkshire   \n",
       "Topic 1   rice   sauce  black  flavour    noodle   ginger   sweet   sprinkle   \n",
       "Topic 2  sweet  potato   bean    roast       cod  chicken  tomato     pepper   \n",
       "\n",
       "            Word 8   Word 9   Word 10 Word 11 Word 12    Word 13 Word 14  \n",
       "Topic 0        use    onion  meatball   sweet    rich      steak  spring  \n",
       "Topic 1     salmon  vitamin   crunchy    bean    rich  buckwheat  source  \n",
       "Topic 2  freerange    salad   vitamin    bake  source       fish   spice  "
      ]
     },
     "execution_count": 28,
     "metadata": {},
     "output_type": "execute_result"
    }
   ],
   "source": [
    "# Show top n keywords for each topic\n",
    "def show_topics(vectorizer=vectorizer, lda_model=lda_model, n_words=20):\n",
    "    keywords = np.array(vectorizer.get_feature_names())\n",
    "    topic_keywords = []\n",
    "    for topic_weights in lda_model.components_:\n",
    "        top_keyword_locs = (-topic_weights).argsort()[:n_words]\n",
    "        topic_keywords.append(keywords.take(top_keyword_locs))\n",
    "    return topic_keywords\n",
    "\n",
    "topic_keywords = show_topics(vectorizer=vectorizer, lda_model=best_lda_model, n_words=15)        \n",
    "\n",
    "# Topic - Keywords Dataframe\n",
    "df_topic_keywords = pd.DataFrame(topic_keywords)\n",
    "df_topic_keywords.columns = ['Word '+str(i) for i in range(df_topic_keywords.shape[1])]\n",
    "df_topic_keywords.index = ['Topic '+str(i) for i in range(df_topic_keywords.shape[0])]\n",
    "df_topic_keywords"
   ]
  },
  {
   "cell_type": "code",
   "execution_count": 29,
   "metadata": {},
   "outputs": [
    {
     "name": "stderr",
     "output_type": "stream",
     "text": [
      "c:\\users\\g.decillis.ss-gdc\\appdata\\local\\programs\\python\\python38\\lib\\site-packages\\ipykernel\\ipkernel.py:287: DeprecationWarning: `should_run_async` will not call `transform_cell` automatically in the future. Please pass the result to `transformed_cell` argument and any exception that happen during thetransform in `preprocessing_exc_tuple` in IPython 7.17 and above.\n",
      "  and should_run_async(code)\n"
     ]
    },
    {
     "data": {
      "text/plain": [
       "(745, 3)"
      ]
     },
     "execution_count": 29,
     "metadata": {},
     "output_type": "execute_result"
    }
   ],
   "source": [
    "lda_output.shape"
   ]
  },
  {
   "cell_type": "code",
   "execution_count": 30,
   "metadata": {},
   "outputs": [
    {
     "name": "stderr",
     "output_type": "stream",
     "text": [
      "c:\\users\\g.decillis.ss-gdc\\appdata\\local\\programs\\python\\python38\\lib\\site-packages\\ipykernel\\ipkernel.py:287: DeprecationWarning: `should_run_async` will not call `transform_cell` automatically in the future. Please pass the result to `transformed_cell` argument and any exception that happen during thetransform in `preprocessing_exc_tuple` in IPython 7.17 and above.\n",
      "  and should_run_async(code)\n"
     ]
    }
   ],
   "source": [
    "data = data.set_index('id')"
   ]
  },
  {
   "cell_type": "code",
   "execution_count": 31,
   "metadata": {},
   "outputs": [
    {
     "name": "stderr",
     "output_type": "stream",
     "text": [
      "c:\\users\\g.decillis.ss-gdc\\appdata\\local\\programs\\python\\python38\\lib\\site-packages\\ipykernel\\ipkernel.py:287: DeprecationWarning: `should_run_async` will not call `transform_cell` automatically in the future. Please pass the result to `transformed_cell` argument and any exception that happen during thetransform in `preprocessing_exc_tuple` in IPython 7.17 and above.\n",
      "  and should_run_async(code)\n"
     ]
    }
   ],
   "source": [
    "data = data.drop('ktd', axis = 1)"
   ]
  },
  {
   "cell_type": "code",
   "execution_count": 32,
   "metadata": {},
   "outputs": [
    {
     "name": "stderr",
     "output_type": "stream",
     "text": [
      "c:\\users\\g.decillis.ss-gdc\\appdata\\local\\programs\\python\\python38\\lib\\site-packages\\ipykernel\\ipkernel.py:287: DeprecationWarning: `should_run_async` will not call `transform_cell` automatically in the future. Please pass the result to `transformed_cell` argument and any exception that happen during thetransform in `preprocessing_exc_tuple` in IPython 7.17 and above.\n",
      "  and should_run_async(code)\n"
     ]
    }
   ],
   "source": [
    "X  = pd.DataFrame(data = lda_output, index = data.index, columns = ['C1','C2', 'C3'])"
   ]
  },
  {
   "cell_type": "code",
   "execution_count": 33,
   "metadata": {},
   "outputs": [
    {
     "name": "stderr",
     "output_type": "stream",
     "text": [
      "c:\\users\\g.decillis.ss-gdc\\appdata\\local\\programs\\python\\python38\\lib\\site-packages\\ipykernel\\ipkernel.py:287: DeprecationWarning: `should_run_async` will not call `transform_cell` automatically in the future. Please pass the result to `transformed_cell` argument and any exception that happen during thetransform in `preprocessing_exc_tuple` in IPython 7.17 and above.\n",
      "  and should_run_async(code)\n"
     ]
    }
   ],
   "source": [
    "final_data = data.merge(X, left_index= True, right_index = True)"
   ]
  },
  {
   "cell_type": "markdown",
   "metadata": {},
   "source": [
    "### PCA"
   ]
  },
  {
   "cell_type": "code",
   "execution_count": 34,
   "metadata": {},
   "outputs": [
    {
     "name": "stderr",
     "output_type": "stream",
     "text": [
      "c:\\users\\g.decillis.ss-gdc\\appdata\\local\\programs\\python\\python38\\lib\\site-packages\\ipykernel\\ipkernel.py:287: DeprecationWarning: `should_run_async` will not call `transform_cell` automatically in the future. Please pass the result to `transformed_cell` argument and any exception that happen during thetransform in `preprocessing_exc_tuple` in IPython 7.17 and above.\n",
      "  and should_run_async(code)\n"
     ]
    }
   ],
   "source": [
    "pca = decomposition.PCA(n_components  = 2)\n",
    "pca.fit(final_data)\n",
    "final_data = pca.transform(final_data)"
   ]
  },
  {
   "cell_type": "code",
   "execution_count": 35,
   "metadata": {},
   "outputs": [
    {
     "name": "stderr",
     "output_type": "stream",
     "text": [
      "c:\\users\\g.decillis.ss-gdc\\appdata\\local\\programs\\python\\python38\\lib\\site-packages\\ipykernel\\ipkernel.py:287: DeprecationWarning: `should_run_async` will not call `transform_cell` automatically in the future. Please pass the result to `transformed_cell` argument and any exception that happen during thetransform in `preprocessing_exc_tuple` in IPython 7.17 and above.\n",
      "  and should_run_async(code)\n"
     ]
    }
   ],
   "source": [
    "#scaler = MinMaxScaler()\n",
    "#final_data_sc = scaler.fit_transform(final_data)"
   ]
  },
  {
   "cell_type": "markdown",
   "metadata": {},
   "source": [
    "### kmeans clustering"
   ]
  },
  {
   "cell_type": "code",
   "execution_count": 36,
   "metadata": {},
   "outputs": [
    {
     "name": "stderr",
     "output_type": "stream",
     "text": [
      "c:\\users\\g.decillis.ss-gdc\\appdata\\local\\programs\\python\\python38\\lib\\site-packages\\ipykernel\\ipkernel.py:287: DeprecationWarning: `should_run_async` will not call `transform_cell` automatically in the future. Please pass the result to `transformed_cell` argument and any exception that happen during thetransform in `preprocessing_exc_tuple` in IPython 7.17 and above.\n",
      "  and should_run_async(code)\n"
     ]
    },
    {
     "data": {
      "image/png": "[encoded data removed]",
      "text/plain": [
       "<Figure size 432x288 with 1 Axes>"
      ]
     },
     "metadata": {
      "needs_background": "light"
     },
     "output_type": "display_data"
    }
   ],
   "source": [
    "# Using the elbow method to find the optimal number of clusters\n",
    "k = 10\n",
    "distortions = []\n",
    "for i in range(1, k):\n",
    "    kmean_model = KMeans(n_clusters = i, init = 'k-means++', random_state = 42)\n",
    "    kmean_model.fit(final_data)\n",
    "    distortions.append(sum(np.min(cdist(final_data, kmean_model.cluster_centers_, 'euclidean'), axis=1)) / final_data.shape[0])\n",
    "    \n",
    "plt.plot(range(1, k), distortions)\n",
    "plt.title('Elbow plot')\n",
    "plt.xlabel('Number of clusters')\n",
    "plt.ylabel('Distortions')\n",
    "plt.show()"
   ]
  },
  {
   "cell_type": "code",
   "execution_count": 37,
   "metadata": {},
   "outputs": [
    {
     "name": "stderr",
     "output_type": "stream",
     "text": [
      "c:\\users\\g.decillis.ss-gdc\\appdata\\local\\programs\\python\\python38\\lib\\site-packages\\ipykernel\\ipkernel.py:287: DeprecationWarning: `should_run_async` will not call `transform_cell` automatically in the future. Please pass the result to `transformed_cell` argument and any exception that happen during thetransform in `preprocessing_exc_tuple` in IPython 7.17 and above.\n",
      "  and should_run_async(code)\n"
     ]
    }
   ],
   "source": [
    "# Construct the k-means clusters\n",
    "from sklearn.cluster import KMeans\n",
    "kmeans = KMeans(n_clusters=4, random_state=100)\n",
    "y_kmeans = kmeans.fit_predict(final_data)\n"
   ]
  },
  {
   "cell_type": "code",
   "execution_count": 38,
   "metadata": {},
   "outputs": [
    {
     "name": "stderr",
     "output_type": "stream",
     "text": [
      "c:\\users\\g.decillis.ss-gdc\\appdata\\local\\programs\\python\\python38\\lib\\site-packages\\ipykernel\\ipkernel.py:287: DeprecationWarning: `should_run_async` will not call `transform_cell` automatically in the future. Please pass the result to `transformed_cell` argument and any exception that happen during thetransform in `preprocessing_exc_tuple` in IPython 7.17 and above.\n",
      "  and should_run_async(code)\n"
     ]
    }
   ],
   "source": [
    "final_data = pd.DataFrame(final_data, index = data.index, columns =['PCA1', 'PCA2'])"
   ]
  },
  {
   "cell_type": "code",
   "execution_count": 39,
   "metadata": {},
   "outputs": [
    {
     "name": "stderr",
     "output_type": "stream",
     "text": [
      "c:\\users\\g.decillis.ss-gdc\\appdata\\local\\programs\\python\\python38\\lib\\site-packages\\ipykernel\\ipkernel.py:287: DeprecationWarning: `should_run_async` will not call `transform_cell` automatically in the future. Please pass the result to `transformed_cell` argument and any exception that happen during thetransform in `preprocessing_exc_tuple` in IPython 7.17 and above.\n",
      "  and should_run_async(code)\n"
     ]
    },
    {
     "data": {
      "text/plain": [
       "<matplotlib.axes._subplots.AxesSubplot at 0x256f1e5e0d0>"
      ]
     },
     "execution_count": 39,
     "metadata": {},
     "output_type": "execute_result"
    },
    {
     "data": {
      "image/png": "[encoded data removed]",
      "text/plain": [
       "<Figure size 432x288 with 1 Axes>"
      ]
     },
     "metadata": {
      "needs_background": "light"
     },
     "output_type": "display_data"
    }
   ],
   "source": [
    "sns.scatterplot(x ='PCA1', y ='PCA2', data = final_data)"
   ]
  },
  {
   "cell_type": "code",
   "execution_count": 40,
   "metadata": {},
   "outputs": [
    {
     "name": "stderr",
     "output_type": "stream",
     "text": [
      "c:\\users\\g.decillis.ss-gdc\\appdata\\local\\programs\\python\\python38\\lib\\site-packages\\ipykernel\\ipkernel.py:287: DeprecationWarning: `should_run_async` will not call `transform_cell` automatically in the future. Please pass the result to `transformed_cell` argument and any exception that happen during thetransform in `preprocessing_exc_tuple` in IPython 7.17 and above.\n",
      "  and should_run_async(code)\n"
     ]
    },
    {
     "data": {
      "image/png": "[encoded data removed]",
      "text/plain": [
       "<Figure size 720x576 with 1 Axes>"
      ]
     },
     "metadata": {
      "needs_background": "light"
     },
     "output_type": "display_data"
    }
   ],
   "source": [
    "# Visualising the clusters\n",
    "fig, ax = plt.subplots(figsize=(10,8))\n",
    "x = final_data['PCA1'].values\n",
    "y = final_data['PCA2'].values\n",
    "\n",
    "plt.scatter(final_data.values[y_kmeans == 0, 0], final_data.values[y_kmeans == 0, 1])\n",
    "plt.scatter(final_data.values[y_kmeans == 1, 0], final_data.values[y_kmeans == 1, 1])          \n",
    "plt.scatter(final_data.values[y_kmeans == 2, 0], final_data.values[y_kmeans == 2, 1])\n",
    "plt.scatter(final_data.values[y_kmeans == 3, 0], final_data.values[y_kmeans == 3, 1])\n",
    "\n",
    "#Plot the centroid. This time we're going to use the cluster centres  #attribute that returns here the coordinates of the centroid.\n",
    "plt.scatter(kmeans.cluster_centers_[:, 0], kmeans.cluster_centers_[:, 1], s=200, c='black', label = 'Centroids', marker = '*')\n",
    "plt.title('Clusters of Recipes')\n",
    "plt.xlabel(\"X_pca1\")\n",
    "plt.ylabel(\"X_pca2\")\n",
    "plt.show()"
   ]
  },
  {
   "cell_type": "code",
   "execution_count": null,
   "metadata": {},
   "outputs": [],
   "source": []
  }
 ],
 "metadata": {
  "kernelspec": {
   "display_name": "Python 3",
   "language": "python",
   "name": "python3"
  },
  "language_info": {
   "codemirror_mode": {
    "name": "ipython",
    "version": 3
   },
   "file_extension": ".py",
   "mimetype": "text/x-python",
   "name": "python",
   "nbconvert_exporter": "python",
   "pygments_lexer": "ipython3",
   "version": "3.8.5"
  }
 },
 "nbformat": 4,
 "nbformat_minor": 4
}
